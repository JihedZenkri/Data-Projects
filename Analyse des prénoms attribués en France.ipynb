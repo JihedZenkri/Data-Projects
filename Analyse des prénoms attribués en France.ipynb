{
  "cells": [
    {
      "cell_type": "raw",
      "metadata": {
        "id": "69-I-ybMMxGY"
      },
      "source": [
        "---\n",
        "title: \"Homework 1 (2023): Data Wrangling and Visualization\"\n",
        "subtitle: \"Due date : 2023-02-24 23:55 (this is a hard deadline)\"\n",
        "author: \"Lagarde et Michard\"\n",
        "date: \"2023-02-24\"\n",
        "format:\n",
        "    html:\n",
        "        code-fold: true\n",
        "---"
      ]
    },
    {
      "cell_type": "raw",
      "metadata": {
        "id": "trh2RuehMxGZ",
        "nteract": {
          "transient": {
            "deleting": false
          }
        }
      },
      "source": [
        "# Homework 1\n",
        "\n",
        "Due date : **2023-02-24 @23h55** (this is a **hard deadline**)"
      ]
    },
    {
      "cell_type": "markdown",
      "metadata": {
        "id": "typBg-MlMxGZ",
        "nteract": {
          "transient": {
            "deleting": false
          }
        }
      },
      "source": [
        "## Fill this cell with your names\n",
        "\n",
        "- Zenkri,Jihed, Informatique\n",
        "- El Fasci,Aaron, Informatique"
      ]
    },
    {
      "cell_type": "markdown",
      "metadata": {
        "id": "frffIqbdMxGa",
        "nteract": {
          "transient": {
            "deleting": false
          }
        }
      },
      "source": [
        "## Carefully follow instructions\n",
        "\n",
        "**If you don't: no evaluation!**\n",
        "\n",
        "Write in English or French\n",
        "\n",
        "The deliverable is a file\n",
        "\n",
        "- `xxx_yyy.ipynb` file (jupyter notebook) or\n",
        "- `xxx_yyy.py` file (if you are using `jupytext`) or\n",
        "- `xxx_yyy.qmd` file (if you are using `quarto`)\n",
        "\n",
        "where `xxx` and `yyy` are your names, for example `lagarde_michard.ipynb`.\n",
        "\n",
        "The deliverable is not meant to contain cell outputs.  \n",
        "\n",
        "The data files used to execute cells are meant to sit in the same directory as the deliverable. Use relative filepaths or urls to denote the data files.   \n",
        "\n",
        "We **will** execute the code in your notebook: make sure that running all the cells works well.\n",
        "\n"
      ]
    },
    {
      "cell_type": "markdown",
      "metadata": {
        "id": "vw0tMBNYMxGa",
        "nteract": {
          "transient": {
            "deleting": false
          }
        }
      },
      "source": [
        "## Grading <i class=\"fa graduation-cap\"></i>\n",
        "\n",
        "Here is the way we'll assess your work\n",
        "\n",
        "| Criterion | Points | Details |\n",
        "|:----------|:-------:|:----|\n",
        "|Spelling and syntax | 3 | English/French  |\n",
        "|Plots correction | 3 |  Clarity / answers the question  |\n",
        "|Plot style and cleanliness | 3 | Titles, legends, labels, breaks ... |\n",
        "|Table wrangling | 4 | ETL, SQL like manipulations |\n",
        "|Computing Statistics | 5 | SQL `goup by`  and aggregation  |\n",
        "|DRY compliance | 2 | DRY principle at [Wikipedia](https://en.wikipedia.org/wiki/Don%27t_repeat_yourself)|\n",
        "\n",
        "If we see a single (or more) `for` loop in your code: **-5 points**.  Everything can be done using high-level `pandas` methods"
      ]
    },
    {
      "cell_type": "markdown",
      "metadata": {
        "id": "08DIMNHBMxGb",
        "nteract": {
          "transient": {
            "deleting": false
          }
        }
      },
      "source": [
        "# Preliminaries\n",
        "\n",
        "## Notebooks: Modus operandi\n",
        "\n",
        "- This is a [Jupyter Notebook](https://jupyter.org).\n",
        "- When you execute code within the notebook, the results appear beneath the code.\n",
        "- [Jupytext](https://github.com/mwouts/jupytext)\n",
        "- [Quarto](https://quarto.org)\n",
        "\n",
        "## Packages\n",
        "\n",
        "- Base `Python` can do a lot. But the full power of `Python` comes from a fast growing collection of `packages`/`modules`.\n",
        "\n",
        "- Packages are first installed (that is using `pip install` or `conda install`), and if\n",
        "needed, imported during a session.\n",
        "\n",
        "- The `docker` image you are supposed to use already offers a lot of packages. You should not need to install new packages.\n",
        "\n",
        "- Once a package has been installed on your drive, if you want all objects exported by the package to be available in your session, you should import the package, using `from pkg import *`.\n",
        "\n",
        "- If you just want to pick some subjects from the package,\n",
        "you can use qualified names like `pkg.object_name` to access the object (function, dataset, class...)\n"
      ]
    },
    {
      "cell_type": "code",
      "execution_count": null,
      "metadata": {
        "ExecuteTime": {
          "end_time": "2021-02-03T09:49:19.662376Z",
          "start_time": "2021-02-03T09:49:19.659057Z"
        },
        "id": "luw8oaL5MxGc",
        "jupyter": {
          "outputs_hidden": false,
          "source_hidden": false
        },
        "nteract": {
          "transient": {
            "deleting": false
          }
        },
        "scrolled": true
      },
      "outputs": [],
      "source": [
        "# importing basic tools\n",
        "import sys\n",
        "import numpy as np\n",
        "import pandas as pd\n",
        "\n",
        "from pandas.api.types import CategoricalDtype\n",
        "\n",
        "import os            # file operations\n",
        "import requests      # networking\n",
        "import zipfile\n",
        "import io\n",
        "from pathlib import Path\n",
        "\n",
        "from datetime import date  # if needed\n",
        "\n",
        "\n"
      ]
    },
    {
      "cell_type": "code",
      "execution_count": null,
      "metadata": {
        "ExecuteTime": {
          "end_time": "2021-02-03T09:49:21.139505Z",
          "start_time": "2021-02-03T09:49:21.136745Z"
        },
        "id": "xBFnUc7ZMxGc",
        "jupyter": {
          "outputs_hidden": false,
          "source_hidden": false
        },
        "nteract": {
          "transient": {
            "deleting": false
          }
        }
      },
      "outputs": [],
      "source": [
        "# importing plotting packages\n",
        "import plotly.graph_objects as go\n",
        "import plotly.express as px\n",
        "import plotly.io as pio"
      ]
    },
    {
      "cell_type": "code",
      "execution_count": null,
      "metadata": {
        "ExecuteTime": {
          "end_time": "2021-02-03T09:56:45.103619Z",
          "start_time": "2021-02-03T09:56:45.099259Z"
        },
        "id": "TPoTNYDDMxGc",
        "jupyter": {
          "outputs_hidden": false,
          "source_hidden": false
        },
        "nteract": {
          "transient": {
            "deleting": false
          }
        }
      },
      "outputs": [],
      "source": [
        "# make pandas plotly-friendly\n",
        "np.set_printoptions(precision=2, suppress=True)\n",
        "%matplotlib inline\n",
        "pd.options.plotting.backend = \"plotly\""
      ]
    },
    {
      "cell_type": "markdown",
      "metadata": {
        "id": "tOebu-7AMxGd",
        "nteract": {
          "transient": {
            "deleting": false
          }
        }
      },
      "source": [
        "# Getting the data\n",
        "\n",
        "## French data\n",
        "\n",
        "The French data are built and made available by [INSEE](https://www.insee.fr/fr/accueil)  (French Governement Statistics Institute)\n",
        "\n",
        "Prénoms:\n",
        "- [https://www.insee.fr/fr/statistiques/fichier/2540004/nat2021_csv.zip](https://www.insee.fr/fr/statistiques/fichier/2540004/nat2021_csv.zip)\n",
        "\n",
        "This dataset has been growing for a while. It has been considered by\n",
        "social scientists for decades.  Given names are meant to give insights into a variety\n",
        "of phenomena, including religious observance.\n",
        "\n",
        "- A glimpse at the body of work can be found in [_L'archipel français_ by Jérome Fourquet, Le Seuil, 2019 ](https://www.seuil.com/ouvrage/l-archipel-francais-jerome-fourquet/9782021406023)\n",
        "\n",
        "- Read the [File documentation](https://www.insee.fr/fr/statistiques/2540004?sommaire=4767262#documentation)\n",
        "\n",
        "## US data\n",
        "\n",
        "US data may be gathered from\n",
        "\n",
        "[Baby Names USA from 1910 to 2021 (SSA)](https://www.kaggle.com/datasets/donkea/ssa-names-1910-2021?resource=download)\n",
        "\n",
        "See [https://www.ssa.gov/oact/babynames/background.html](https://www.ssa.gov/oact/babynames/background.html)\n",
        "\n",
        "\n",
        "## British data\n",
        "\n",
        "English and Welsh data can be gathered from\n",
        "\n",
        "[https://www.ons.gov.uk/](https://www.ons.gov.uk/peoplepopulationandcommunity/birthsdeathsandmarriages/livebirths/datasets/babynamesinenglandandwalesfrom1996?utm_source=pocket_saves)\n",
        "\n",
        "\n",
        "\n",
        "\n",
        "## Download the French data\n",
        "\n",
        "**QUESTION:** Download the data into a file which relative path is `'./nat2021_csv.zip'`\n",
        "\n",
        "__Hints:__\n",
        "\n",
        "- Have a look at  package [`requests`](https://requests.readthedocs.io/en/master/).\n",
        "- Use magic commands to navigate across the file hierarchy and create subdirectories when needed"
      ]
    },
    {
      "cell_type": "code",
      "execution_count": null,
      "metadata": {
        "ExecuteTime": {
          "end_time": "2021-02-03T09:56:54.136172Z",
          "start_time": "2021-02-03T09:56:54.132800Z"
        },
        "id": "HYb9GhGGMxGd",
        "jupyter": {
          "outputs_hidden": false,
          "source_hidden": false
        },
        "nteract": {
          "transient": {
            "deleting": false
          }
        }
      },
      "outputs": [],
      "source": [
        "# for French data\n",
        "params = dict(\n",
        "    url = 'https://www.insee.fr/fr/statistiques/fichier/2540004/nat2021_csv.zip',\n",
        "    dirpath = './',\n",
        "    timecourse = '',\n",
        "    datafile = 'nat2021.hdf',\n",
        "    fpath = 'nat2021_csv.zip'\n",
        ")"
      ]
    },
    {
      "cell_type": "code",
      "execution_count": null,
      "metadata": {
        "ExecuteTime": {
          "end_time": "2021-02-03T09:56:54.282784Z",
          "start_time": "2021-02-03T09:56:54.280062Z"
        },
        "id": "GAJx28olMxGd",
        "jupyter": {
          "outputs_hidden": false,
          "source_hidden": false
        },
        "nteract": {
          "transient": {
            "deleting": false
          }
        }
      },
      "outputs": [],
      "source": [
        "# modify location  make sure you are in the right directory\n",
        "# %cd\n",
        "# %pwd  #\n",
        "# %ls\n",
        "# %mkdir # if needed\n",
        "\n",
        "#first_data is directory who contains the downloaded files for the three countries\n",
        "if not os.path.isdir(\"downloaded_files\"):\n",
        "        os.makedirs(\"downloaded_files\")\n",
        "\n",
        "#hdf_files is directory wherewe store the hdf files\n",
        "if not os.path.isdir(\"hdf_files\"):\n",
        "        os.makedirs(\"hdf_files\")\n",
        "\n",
        "#zip_files is a directory where we store zip files\n",
        "if not os.path.isdir(\"zip_files\"):\n",
        "        os.makedirs(\"zip_files\")\n",
        "\n",
        "my_directory= !(pwd)\n",
        "\n",
        "#Get the path of downloaded_files using cd and pwd\n",
        "path_dw_files=my_directory[0]+\"/downloaded_files/\"\n",
        "\n",
        "#Get the path of zip_files\n",
        "path_zip_files=my_directory[0]+\"/zip_files/\"\n",
        "\n",
        "#Get the path of hdf_files\n",
        "path_hdf_files=my_directory[0]+\"/hdf_files/\"\n",
        "\n"
      ]
    },
    {
      "cell_type": "markdown",
      "metadata": {
        "ExecuteTime": {
          "end_time": "2021-02-03T09:56:54.409700Z",
          "start_time": "2021-02-03T09:56:54.406560Z"
        },
        "id": "MraBar00MxGe",
        "jupyter": {
          "outputs_hidden": false,
          "source_hidden": false
        },
        "nteract": {
          "transient": {
            "deleting": false
          }
        }
      },
      "source": [
        "url = params['url']      # 'https://www.insee.fr/fr/statistiques/fichier/2540004/nat2021_csv.zip'\n",
        "fpath = params['fpath']  # './nat2021_csv.zip'"
      ]
    },
    {
      "cell_type": "code",
      "execution_count": null,
      "metadata": {
        "id": "7-EEY3q6MxGe"
      },
      "outputs": [],
      "source": [
        "\n",
        "if not Path(params['fpath']).exists():\n",
        "    r = requests.get(params['url'])                # What is the type of `r` ? --> The type of r is a Response object from the requests library.\n",
        "    z = zipfile.ZipFile((io.BytesIO(r.content)))   # What is the type of `z` ? -->The type of z is a ZipFile object from the zipfile library.\n",
        "    z.extractall(path='./downloaded_files')\n",
        "\n",
        "\n"
      ]
    },
    {
      "cell_type": "markdown",
      "metadata": {
        "id": "DGJVp-llMxGe"
      },
      "source": [
        "## Download US and British data\n",
        "\n"
      ]
    },
    {
      "cell_type": "code",
      "execution_count": null,
      "metadata": {
        "id": "lXmX3LnRMxGe",
        "scrolled": true
      },
      "outputs": [],
      "source": [
        "#British Data\n",
        "url = \"https://www.ons.gov.uk/file?uri=/peoplepopulationandcommunity/birthsdeathsandmarriages/livebirths/datasets/babynamesinenglandandwalesfrom1996/1996tocurrent/babynames1996to2021.xlsx\"\n",
        "response = requests.get(url)\n",
        "with open(path_dw_files+\"Babies_ew.xlsx\", \"wb\") as f:\n",
        "    f.write(response.content)\n",
        "\n",
        "#Us Data\n",
        "url = 'https://www.ssa.gov/oact/babynames/names.zip'\n",
        "zip_file = path_dw_files+'names.zip'\n",
        "\n",
        "response = requests.get(url)\n",
        "open(zip_file, 'wb').write(response.content)\n",
        "\n",
        "# Extract the contents of the zip file into a directory named 'US_data'\n",
        "with zipfile.ZipFile(zip_file, 'r') as zip_ref:\n",
        "    zip_ref.extractall(path_dw_files+'US_data')\n",
        "\n"
      ]
    },
    {
      "cell_type": "markdown",
      "metadata": {
        "id": "qk6Ht8WNMxGe",
        "nteract": {
          "transient": {
            "deleting": false
          }
        }
      },
      "source": [
        "## Load the French data in memory\n",
        "\n",
        "**QUESTION:** Load the data in a `pandas` `DataFrame` called `data`\n",
        "\n",
        "__Hints:__\n",
        "\n",
        "- You should obtain a `Pandas dataframe` with 4 columns.\n",
        "- Mind the conventions used to build the `csv` file.\n",
        "- Package `pandas` provides the convenient tools.\n",
        "- The dataset, though not too large, is already demanding.\n",
        "- Don't hesitate to test your methods on a sample of rows method `sample()` from class `DataFrame` can be helpful."
      ]
    },
    {
      "cell_type": "code",
      "execution_count": null,
      "metadata": {
        "ExecuteTime": {
          "end_time": "2021-02-03T09:57:18.980873Z",
          "start_time": "2021-02-03T09:57:18.978008Z"
        },
        "colab": {
          "base_uri": "https://localhost:8080/",
          "height": 206
        },
        "id": "kbAmoIbWMxGf",
        "jupyter": {
          "outputs_hidden": false,
          "source_hidden": false
        },
        "nteract": {
          "transient": {
            "deleting": false
          }
        },
        "outputId": "af011bf5-fdc0-4959-9b88-fcb7e018fb63",
        "scrolled": false
      },
      "outputs": [
        {
          "output_type": "execute_result",
          "data": {
            "text/plain": [
              "   sexe        preusuel annais  nombre\n",
              "0     1  _PRENOMS_RARES   1900    1249\n",
              "1     1  _PRENOMS_RARES   1901    1342\n",
              "2     1  _PRENOMS_RARES   1902    1330\n",
              "3     1  _PRENOMS_RARES   1903    1286\n",
              "4     1  _PRENOMS_RARES   1904    1430"
            ],
            "text/html": [
              "\n",
              "  <div id=\"df-616a04d9-83ac-44f6-bf9f-191a56c63cc8\">\n",
              "    <div class=\"colab-df-container\">\n",
              "      <div>\n",
              "<style scoped>\n",
              "    .dataframe tbody tr th:only-of-type {\n",
              "        vertical-align: middle;\n",
              "    }\n",
              "\n",
              "    .dataframe tbody tr th {\n",
              "        vertical-align: top;\n",
              "    }\n",
              "\n",
              "    .dataframe thead th {\n",
              "        text-align: right;\n",
              "    }\n",
              "</style>\n",
              "<table border=\"1\" class=\"dataframe\">\n",
              "  <thead>\n",
              "    <tr style=\"text-align: right;\">\n",
              "      <th></th>\n",
              "      <th>sexe</th>\n",
              "      <th>preusuel</th>\n",
              "      <th>annais</th>\n",
              "      <th>nombre</th>\n",
              "    </tr>\n",
              "  </thead>\n",
              "  <tbody>\n",
              "    <tr>\n",
              "      <th>0</th>\n",
              "      <td>1</td>\n",
              "      <td>_PRENOMS_RARES</td>\n",
              "      <td>1900</td>\n",
              "      <td>1249</td>\n",
              "    </tr>\n",
              "    <tr>\n",
              "      <th>1</th>\n",
              "      <td>1</td>\n",
              "      <td>_PRENOMS_RARES</td>\n",
              "      <td>1901</td>\n",
              "      <td>1342</td>\n",
              "    </tr>\n",
              "    <tr>\n",
              "      <th>2</th>\n",
              "      <td>1</td>\n",
              "      <td>_PRENOMS_RARES</td>\n",
              "      <td>1902</td>\n",
              "      <td>1330</td>\n",
              "    </tr>\n",
              "    <tr>\n",
              "      <th>3</th>\n",
              "      <td>1</td>\n",
              "      <td>_PRENOMS_RARES</td>\n",
              "      <td>1903</td>\n",
              "      <td>1286</td>\n",
              "    </tr>\n",
              "    <tr>\n",
              "      <th>4</th>\n",
              "      <td>1</td>\n",
              "      <td>_PRENOMS_RARES</td>\n",
              "      <td>1904</td>\n",
              "      <td>1430</td>\n",
              "    </tr>\n",
              "  </tbody>\n",
              "</table>\n",
              "</div>\n",
              "      <button class=\"colab-df-convert\" onclick=\"convertToInteractive('df-616a04d9-83ac-44f6-bf9f-191a56c63cc8')\"\n",
              "              title=\"Convert this dataframe to an interactive table.\"\n",
              "              style=\"display:none;\">\n",
              "        \n",
              "  <svg xmlns=\"http://www.w3.org/2000/svg\" height=\"24px\"viewBox=\"0 0 24 24\"\n",
              "       width=\"24px\">\n",
              "    <path d=\"M0 0h24v24H0V0z\" fill=\"none\"/>\n",
              "    <path d=\"M18.56 5.44l.94 2.06.94-2.06 2.06-.94-2.06-.94-.94-2.06-.94 2.06-2.06.94zm-11 1L8.5 8.5l.94-2.06 2.06-.94-2.06-.94L8.5 2.5l-.94 2.06-2.06.94zm10 10l.94 2.06.94-2.06 2.06-.94-2.06-.94-.94-2.06-.94 2.06-2.06.94z\"/><path d=\"M17.41 7.96l-1.37-1.37c-.4-.4-.92-.59-1.43-.59-.52 0-1.04.2-1.43.59L10.3 9.45l-7.72 7.72c-.78.78-.78 2.05 0 2.83L4 21.41c.39.39.9.59 1.41.59.51 0 1.02-.2 1.41-.59l7.78-7.78 2.81-2.81c.8-.78.8-2.07 0-2.86zM5.41 20L4 18.59l7.72-7.72 1.47 1.35L5.41 20z\"/>\n",
              "  </svg>\n",
              "      </button>\n",
              "      \n",
              "  <style>\n",
              "    .colab-df-container {\n",
              "      display:flex;\n",
              "      flex-wrap:wrap;\n",
              "      gap: 12px;\n",
              "    }\n",
              "\n",
              "    .colab-df-convert {\n",
              "      background-color: #E8F0FE;\n",
              "      border: none;\n",
              "      border-radius: 50%;\n",
              "      cursor: pointer;\n",
              "      display: none;\n",
              "      fill: #1967D2;\n",
              "      height: 32px;\n",
              "      padding: 0 0 0 0;\n",
              "      width: 32px;\n",
              "    }\n",
              "\n",
              "    .colab-df-convert:hover {\n",
              "      background-color: #E2EBFA;\n",
              "      box-shadow: 0px 1px 2px rgba(60, 64, 67, 0.3), 0px 1px 3px 1px rgba(60, 64, 67, 0.15);\n",
              "      fill: #174EA6;\n",
              "    }\n",
              "\n",
              "    [theme=dark] .colab-df-convert {\n",
              "      background-color: #3B4455;\n",
              "      fill: #D2E3FC;\n",
              "    }\n",
              "\n",
              "    [theme=dark] .colab-df-convert:hover {\n",
              "      background-color: #434B5C;\n",
              "      box-shadow: 0px 1px 3px 1px rgba(0, 0, 0, 0.15);\n",
              "      filter: drop-shadow(0px 1px 2px rgba(0, 0, 0, 0.3));\n",
              "      fill: #FFFFFF;\n",
              "    }\n",
              "  </style>\n",
              "\n",
              "      <script>\n",
              "        const buttonEl =\n",
              "          document.querySelector('#df-616a04d9-83ac-44f6-bf9f-191a56c63cc8 button.colab-df-convert');\n",
              "        buttonEl.style.display =\n",
              "          google.colab.kernel.accessAllowed ? 'block' : 'none';\n",
              "\n",
              "        async function convertToInteractive(key) {\n",
              "          const element = document.querySelector('#df-616a04d9-83ac-44f6-bf9f-191a56c63cc8');\n",
              "          const dataTable =\n",
              "            await google.colab.kernel.invokeFunction('convertToInteractive',\n",
              "                                                     [key], {});\n",
              "          if (!dataTable) return;\n",
              "\n",
              "          const docLinkHtml = 'Like what you see? Visit the ' +\n",
              "            '<a target=\"_blank\" href=https://colab.research.google.com/notebooks/data_table.ipynb>data table notebook</a>'\n",
              "            + ' to learn more about interactive tables.';\n",
              "          element.innerHTML = '';\n",
              "          dataTable['output_type'] = 'display_data';\n",
              "          await google.colab.output.renderOutput(dataTable, element);\n",
              "          const docLink = document.createElement('div');\n",
              "          docLink.innerHTML = docLinkHtml;\n",
              "          element.appendChild(docLink);\n",
              "        }\n",
              "      </script>\n",
              "    </div>\n",
              "  </div>\n",
              "  "
            ]
          },
          "metadata": {},
          "execution_count": 8
        }
      ],
      "source": [
        "# your code here\n",
        "#Frensh Data\n",
        "fpath = path_dw_files+\"nat2021.csv\"\n",
        "\n",
        "data_fr = pd.read_csv(fpath,delimiter=';')\n",
        "data_fr.head(n=5)\n",
        "\n",
        "\n"
      ]
    },
    {
      "cell_type": "markdown",
      "metadata": {
        "id": "wr6gnFteMxGf"
      },
      "source": [
        "## Load US and British data in memory"
      ]
    },
    {
      "cell_type": "code",
      "execution_count": null,
      "metadata": {
        "id": "qDh4xGNAMxGg",
        "scrolled": true
      },
      "outputs": [],
      "source": [
        "\n",
        "#British data\n",
        "#data_ew1 for boys , data_ew2 for girls\n",
        "path=path_dw_files+'Babies_ew.xlsx'\n",
        "data_ew1 = pd.read_excel(path, sheet_name='1' , header=7)\n",
        "data_ew2 = pd.read_excel(path, sheet_name='2' , header=7)\n",
        "\n",
        "#Function to reshape the data to have a dataframe with columns [data_name,Count,Year] and add a new column 'gender'\n",
        "\n",
        "def convert_data(data_name,gender):\n",
        "    #Replace any value =[x] with 0\n",
        "    data_name = data_name.replace(\"[x]\", 0)\n",
        "\n",
        "    #Reshape the first data to have a dataframe with columns [data_name,Count,Year]\n",
        "    column_list1 = list(data_name.columns)\n",
        "    data_name = data_name.melt(id_vars='Name', value_vars=column_list1, var_name='Year_Count', value_name='Count')\n",
        "    data_name['Year'] = data_name['Year_Count'].str.extract('(\\d+)').astype(int)\n",
        "    data_name['Rank_Count'] = data_name['Year_Count'].str.extract('(Rank|Count)')\n",
        "    data_name['Count'] = data_name['Count'].astype(int)\n",
        "    data_name.drop('Year_Count', axis=1, inplace=True)\n",
        "    data_name.drop('Rank_Count', axis=1, inplace=True)\n",
        "    #Add a new column Gender\n",
        "    data_name['Gender'] = gender\n",
        "    return data_name\n",
        "\n",
        "data_ew1=convert_data(data_ew1,'Male')\n",
        "data_ew2=convert_data(data_ew2,'Female')\n",
        "\n",
        "#Concatenate the two dataframes\n",
        "frames = [data_ew1,data_ew2]\n",
        "data_ew=pd.concat(frames)\n",
        "\n",
        "#Rename the columns and change their type to get the same format of french data\n",
        "def rename_columns(data):\n",
        "    data=data.rename(columns={'Name': 'firstname' ,'Gender':'gender','Year':'year','Count':'count'})\n",
        "    data['gender'] = data['gender'].astype('category')\n",
        "    data['firstname'] = data['firstname'].astype('object')\n",
        "    data['count'] = data['count'].astype('int64')\n",
        "    data['year'] = data['year'].astype('float64')\n",
        "    return data\n",
        "data_ew=rename_columns(data_ew)\n",
        "\n",
        "\n",
        "#data_ew.head(5)\n",
        "\n"
      ]
    },
    {
      "cell_type": "code",
      "execution_count": null,
      "metadata": {
        "id": "wkARp8tWMxGg"
      },
      "outputs": [],
      "source": [
        "#US Data\n",
        "\n",
        "# Get a list of all the .txt files in the directory\n",
        "txt_files = [file for file in os.listdir(path_dw_files+'US_data') if file.endswith('.txt')]\n",
        "# Loop through each .txt file and create a pandas data frame\n",
        "data_frames = []\n",
        "for file in txt_files:\n",
        "    year = file.split('yob')[1].split('.txt')[0]\n",
        "    df = pd.read_csv(os.path.join(path_dw_files+'US_data', file), header=None, names=['Name', 'Gender', 'Count'])\n",
        "    df['Year'] = year\n",
        "    data_frames.append(df)\n",
        "\n",
        "\n",
        "# Concatenate all the data frames into a single data frame\n",
        "data_us = pd.concat(data_frames, ignore_index=True)\n",
        "\n",
        "#Rename the columns and change their type to get the same format of french data\n",
        "data_us=rename_columns(data_us)\n",
        "data_us = data_us.replace(['F','M'], ['Female','Male'])\n",
        "\n",
        "\n",
        "\n",
        "#data_us.head(5)"
      ]
    },
    {
      "cell_type": "markdown",
      "metadata": {
        "id": "I2_zR7cOMxGh",
        "nteract": {
          "transient": {
            "deleting": false
          }
        }
      },
      "source": [
        "## Explore the data"
      ]
    },
    {
      "cell_type": "markdown",
      "metadata": {
        "id": "i1f7mWMUMxGh",
        "nteract": {
          "transient": {
            "deleting": false
          }
        }
      },
      "source": [
        "**QUESTION:** Look at the data, Use the attributes `columns`, `dtypes` and the methods `head`, `describe`, to get a feeling of the data.\n",
        "\n",
        "- This dataset is supposed to report all given names used\n",
        "for either sex during a year in France since 1900\n",
        "\n",
        "- The file is made of `652 056` lines and  4 columns.\n",
        "\n",
        "```\n",
        "|-- preusuel : object\n",
        "|-- nombre: int64\n",
        "|-- sexe: int64\n",
        "|-- annais: object\n",
        "```\n",
        "\n",
        "Each row indicates for a given `preusuel` (prénom usuel, given name), `sexe` (sex), and `annais` (année naissance, birthyear) the `nombre` (number) of babies of the given sex who were given that name during the given year.\n",
        "\n",
        "|sexe    |preusuel     | annais|   nombre|\n",
        "|:------|:--------|----:|---:|\n",
        "|2     |SYLVETTE | 1953| 577|\n",
        "|1   |BOUBOU   | 1979|   4|\n",
        "|1   |NILS     | 1959|   3|\n",
        "|2   |NICOLE   | 2003|  36|\n",
        "|1   |JOSÉLITO | 2013|   4|\n",
        "\n",
        "\n",
        "**QUESTION:** Compare memory usage and disk space used by data\n",
        "\n",
        "**Hints:**\n",
        "\n",
        "- The method `info`  prints a concise summary of a `DataFrame`.\n",
        "- With optional parameter `memory_usage`, you can get an estimate\n",
        "of the amount of memory used by the `DataFrame`.\n",
        "- Beware that the resulting estimate depends on the argument fed."
      ]
    },
    {
      "cell_type": "code",
      "execution_count": null,
      "metadata": {
        "ExecuteTime": {
          "end_time": "2021-02-03T09:42:59.360455Z",
          "start_time": "2021-02-03T09:42:59.357825Z"
        },
        "colab": {
          "base_uri": "https://localhost:8080/"
        },
        "id": "Su8wS2a4MxGh",
        "jupyter": {
          "outputs_hidden": false,
          "source_hidden": false
        },
        "nteract": {
          "transient": {
            "deleting": false
          }
        },
        "outputId": "ddf34c50-52fc-4eac-d907-3557c00ab087"
      },
      "outputs": [
        {
          "output_type": "stream",
          "name": "stdout",
          "text": [
            "memory_usage of data_fr : 93.2921895980835 MB\n",
            "dik usage of data_fr 11.908041000366211 MB\n"
          ]
        }
      ],
      "source": [
        "\n",
        "\n",
        "dtypes = {\n",
        "    \"sexe\": \"int64\",\n",
        "    \"nombre\": \"int64\",\n",
        "     \"preusuel\" :\"object\" ,\n",
        "    \"annais\": \"object\"\n",
        "}\n",
        "\n",
        "\n",
        "data_fr = pd.read_csv(path_dw_files+\"nat2021.csv\", dtype=dtypes,delimiter=';')\n",
        "\n",
        "data_fr.head(n=5)\n",
        "\n",
        "\n",
        "# memory usage(MB)\n",
        "memory_usage = data_fr.memory_usage(deep=True).sum()/ (1024 ** 2)\n",
        "print(\"memory_usage of data_fr :\",memory_usage ,\"MB\")\n",
        "\n",
        "# disk space used(MB)\n",
        "disk_usage = os.path.getsize(path_dw_files+'nat2021.csv')/ (1024 ** 2)\n",
        "print(\"dik usage of data_fr\",disk_usage,\"MB\")\n",
        "\n",
        "# -----> Memory usage is greater then disk usage\n"
      ]
    },
    {
      "cell_type": "markdown",
      "metadata": {
        "id": "uj4xMRkuMxGh",
        "nteract": {
          "transient": {
            "deleting": false
          }
        }
      },
      "source": [
        "**QUESTION:** Display the output of `.describe()` with style."
      ]
    },
    {
      "cell_type": "code",
      "execution_count": null,
      "metadata": {
        "ExecuteTime": {
          "end_time": "2021-02-03T09:43:01.043175Z",
          "start_time": "2021-02-03T09:43:01.040595Z"
        },
        "colab": {
          "base_uri": "https://localhost:8080/",
          "height": 300
        },
        "id": "Vp7nyXIbMxGh",
        "jupyter": {
          "outputs_hidden": false,
          "source_hidden": false
        },
        "nteract": {
          "transient": {
            "deleting": false
          }
        },
        "outputId": "bff4d124-4a51-4822-9114-c94088fb0642"
      },
      "outputs": [
        {
          "output_type": "execute_result",
          "data": {
            "text/plain": [
              "<pandas.io.formats.style.Styler at 0x7f794af624c0>"
            ],
            "text/html": [
              "<style type=\"text/css\">\n",
              "</style>\n",
              "<table id=\"T_507b0_\" class=\"dataframe\">\n",
              "  <thead>\n",
              "    <tr>\n",
              "      <th class=\"blank level0\" >&nbsp;</th>\n",
              "      <th class=\"col_heading level0 col0\" >sexe</th>\n",
              "      <th class=\"col_heading level0 col1\" >nombre</th>\n",
              "    </tr>\n",
              "  </thead>\n",
              "  <tbody>\n",
              "    <tr>\n",
              "      <th id=\"T_507b0_level0_row0\" class=\"row_heading level0 row0\" >count</th>\n",
              "      <td id=\"T_507b0_row0_col0\" class=\"data row0 col0\" >68653800.00%</td>\n",
              "      <td id=\"T_507b0_row0_col1\" class=\"data row0 col1\" >68653800.00%</td>\n",
              "    </tr>\n",
              "    <tr>\n",
              "      <th id=\"T_507b0_level0_row1\" class=\"row_heading level0 row1\" >mean</th>\n",
              "      <td id=\"T_507b0_row1_col0\" class=\"data row1 col0\" >154.34%</td>\n",
              "      <td id=\"T_507b0_row1_col1\" class=\"data row1 col1\" >12734.02%</td>\n",
              "    </tr>\n",
              "    <tr>\n",
              "      <th id=\"T_507b0_level0_row2\" class=\"row_heading level0 row2\" >std</th>\n",
              "      <td id=\"T_507b0_row2_col0\" class=\"data row2 col0\" >49.81%</td>\n",
              "      <td id=\"T_507b0_row2_col1\" class=\"data row2 col1\" >87490.80%</td>\n",
              "    </tr>\n",
              "    <tr>\n",
              "      <th id=\"T_507b0_level0_row3\" class=\"row_heading level0 row3\" >min</th>\n",
              "      <td id=\"T_507b0_row3_col0\" class=\"data row3 col0\" >100.00%</td>\n",
              "      <td id=\"T_507b0_row3_col1\" class=\"data row3 col1\" >100.00%</td>\n",
              "    </tr>\n",
              "    <tr>\n",
              "      <th id=\"T_507b0_level0_row4\" class=\"row_heading level0 row4\" >25%</th>\n",
              "      <td id=\"T_507b0_row4_col0\" class=\"data row4 col0\" >100.00%</td>\n",
              "      <td id=\"T_507b0_row4_col1\" class=\"data row4 col1\" >400.00%</td>\n",
              "    </tr>\n",
              "    <tr>\n",
              "      <th id=\"T_507b0_level0_row5\" class=\"row_heading level0 row5\" >50%</th>\n",
              "      <td id=\"T_507b0_row5_col0\" class=\"data row5 col0\" >200.00%</td>\n",
              "      <td id=\"T_507b0_row5_col1\" class=\"data row5 col1\" >800.00%</td>\n",
              "    </tr>\n",
              "    <tr>\n",
              "      <th id=\"T_507b0_level0_row6\" class=\"row_heading level0 row6\" >75%</th>\n",
              "      <td id=\"T_507b0_row6_col0\" class=\"data row6 col0\" >200.00%</td>\n",
              "      <td id=\"T_507b0_row6_col1\" class=\"data row6 col1\" >2500.00%</td>\n",
              "    </tr>\n",
              "    <tr>\n",
              "      <th id=\"T_507b0_level0_row7\" class=\"row_heading level0 row7\" >max</th>\n",
              "      <td id=\"T_507b0_row7_col0\" class=\"data row7 col0\" >200.00%</td>\n",
              "      <td id=\"T_507b0_row7_col1\" class=\"data row7 col1\" >5354700.00%</td>\n",
              "    </tr>\n",
              "  </tbody>\n",
              "</table>\n"
            ]
          },
          "metadata": {},
          "execution_count": 12
        }
      ],
      "source": [
        "data_fr.describe().style.format(\"{:.2%}\")\n",
        "\n",
        "\n",
        ""
      ]
    },
    {
      "cell_type": "markdown",
      "metadata": {
        "id": "3fw-Chw0MxGi",
        "nteract": {
          "transient": {
            "deleting": false
          }
        }
      },
      "source": [
        "**QUESTION:** For each column compute the number of distinct values"
      ]
    },
    {
      "cell_type": "code",
      "execution_count": null,
      "metadata": {
        "ExecuteTime": {
          "end_time": "2021-02-03T09:43:01.392240Z",
          "start_time": "2021-02-03T09:43:01.389193Z"
        },
        "colab": {
          "base_uri": "https://localhost:8080/"
        },
        "id": "eZcNru-YMxGi",
        "jupyter": {
          "outputs_hidden": false,
          "source_hidden": false
        },
        "nteract": {
          "transient": {
            "deleting": false
          }
        },
        "outputId": "dbaf1840-648c-4c8f-dc0e-92606e162089"
      },
      "outputs": [
        {
          "output_type": "execute_result",
          "data": {
            "text/plain": [
              "sexe            2\n",
              "preusuel    36170\n",
              "annais        123\n",
              "nombre       7281\n",
              "dtype: int64"
            ]
          },
          "metadata": {},
          "execution_count": 13
        }
      ],
      "source": [
        "distinct_counts = data_fr.nunique()\n",
        "\n",
        "distinct_counts\n"
      ]
    },
    {
      "cell_type": "markdown",
      "metadata": {
        "id": "i-kNDZ_YMxGi",
        "nteract": {
          "transient": {
            "deleting": false
          }
        }
      },
      "source": [
        "# Transformations\n",
        "\n",
        "## Improving the data types\n",
        "\n",
        "**QUESTION:** Make `sexe` a category with two levels `Female` and `Male`. Call the new column `gender`. Do you see any reason why this factor should be ordered?\n",
        "\n",
        "__Hint:__ Read [Pandas and categorical variables](https://pandas.pydata.org/pandas-docs/stable/user_guide/categorical.html?highlight=category)"
      ]
    },
    {
      "cell_type": "code",
      "execution_count": null,
      "metadata": {
        "ExecuteTime": {
          "end_time": "2021-02-03T09:43:02.947929Z",
          "start_time": "2021-02-03T09:43:02.945259Z"
        },
        "id": "_tB5LAMpMxGi",
        "jupyter": {
          "outputs_hidden": false,
          "source_hidden": false
        },
        "nteract": {
          "transient": {
            "deleting": false
          }
        },
        "colab": {
          "base_uri": "https://localhost:8080/"
        },
        "outputId": "ae72bb95-0c92-4224-a40b-d2c322d8843d"
      },
      "outputs": [
        {
          "output_type": "stream",
          "name": "stdout",
          "text": [
            "<class 'pandas.core.frame.DataFrame'>\n",
            "RangeIndex: 686538 entries, 0 to 686537\n",
            "Data columns (total 5 columns):\n",
            " #   Column    Non-Null Count   Dtype   \n",
            "---  ------    --------------   -----   \n",
            " 0   sexe      686538 non-null  int64   \n",
            " 1   preusuel  686536 non-null  object  \n",
            " 2   annais    686538 non-null  object  \n",
            " 3   nombre    686538 non-null  int64   \n",
            " 4   gender    686538 non-null  category\n",
            "dtypes: category(1), int64(2), object(2)\n",
            "memory usage: 21.6+ MB\n"
          ]
        }
      ],
      "source": [
        "data_fr['gender'] = data_fr['sexe'].astype('category')\n",
        "data_fr['gender'] = data_fr['gender'].cat.rename_categories(['Male','Female'])\n",
        "\n",
        "data_fr.info()\n"
      ]
    },
    {
      "cell_type": "markdown",
      "metadata": {
        "id": "SEmNWc3xMxGj",
        "nteract": {
          "transient": {
            "deleting": false
          }
        }
      },
      "source": [
        "**QUESTION:** Compare memory usage of columns `sexe` and `gender`"
      ]
    },
    {
      "cell_type": "code",
      "execution_count": null,
      "metadata": {
        "colab": {
          "base_uri": "https://localhost:8080/"
        },
        "id": "Fvz_CvG3MxGj",
        "jupyter": {
          "outputs_hidden": false,
          "source_hidden": false
        },
        "nteract": {
          "transient": {
            "deleting": false
          }
        },
        "outputId": "6d543bf5-4daf-424a-b948-22eecb3f71aa"
      },
      "outputs": [
        {
          "output_type": "stream",
          "name": "stdout",
          "text": [
            "Memory usage of 'gender': 0.6550769805908203 MB\n",
            "dik usage of 'sexe':  11.908041000366211 MB\n"
          ]
        }
      ],
      "source": [
        "\n",
        "# memory usage of gender(MB)\n",
        "\n",
        "gender_memory = data_fr.gender.memory_usage(deep=True)/ (1024 ** 2)\n",
        "print(\"Memory usage of 'gender':\", gender_memory, \"MB\")\n",
        "\n",
        "# memory usage of sexe(MB)\n",
        "\n",
        "sexe_memory = data_fr.sexe.memory_usage(deep=True)/ (1024 ** 2)\n",
        "print(\"dik usage of 'sexe': \",disk_usage,\"MB\")\n",
        "\n",
        "#------> sexe_memory is greater then gender_memory"
      ]
    },
    {
      "cell_type": "markdown",
      "metadata": {
        "id": "CIBbpGgRMxGj",
        "nteract": {
          "transient": {
            "deleting": false
          }
        }
      },
      "source": [
        "**QUESTION:** Would it be more memory-efficient to recode `sexe` using modalities `F` and `M` instead of `Male` and `Female` ?"
      ]
    },
    {
      "cell_type": "markdown",
      "metadata": {
        "id": "Qy3tCPEEMxGj",
        "nteract": {
          "transient": {
            "deleting": false
          }
        }
      },
      "source": [
        "_Insert your answer here_\n",
        "\n",
        "> ...When you convert a variable,  'sexe', into a categorical variable with levels 'Female' and 'Male', the mapping from the original string values to integer codes is retained in memory. As a result, the memory usage can be affected by the length of the string values. Specifically, longer strings like 'Female' and 'Male' will consume more memory in comparison to shorter strings like 'F' and 'M'."
      ]
    },
    {
      "cell_type": "markdown",
      "metadata": {
        "id": "G26eOwwUMxGj",
        "nteract": {
          "transient": {
            "deleting": false
          }
        }
      },
      "source": [
        "## Dealing with missing values\n",
        "\n",
        "**QUESTION:** Variable `annais` class is `object`. Make `annais` of type `float`. Note that missing years are encoded as \"XXXX\", find a way to deal with that.\n",
        "\n",
        "__Hint:__  As of releasing this Homework (2023-01-18), `Pandas` is not very good at managing missing values,\n",
        "see [roadmap](https://pandas.pydata.org/docs/development/roadmap.html). Don't try to convert `annais` into an integer column."
      ]
    },
    {
      "cell_type": "code",
      "execution_count": null,
      "metadata": {
        "colab": {
          "base_uri": "https://localhost:8080/"
        },
        "id": "A8hjf4P7MxGk",
        "jupyter": {
          "outputs_hidden": false,
          "source_hidden": false
        },
        "nteract": {
          "transient": {
            "deleting": false
          }
        },
        "outputId": "7430f213-0513-46e4-db1b-93474d71706a"
      },
      "outputs": [
        {
          "output_type": "stream",
          "name": "stdout",
          "text": [
            "<class 'pandas.core.frame.DataFrame'>\n",
            "RangeIndex: 686538 entries, 0 to 686537\n",
            "Data columns (total 5 columns):\n",
            " #   Column    Non-Null Count   Dtype   \n",
            "---  ------    --------------   -----   \n",
            " 0   sexe      686538 non-null  int64   \n",
            " 1   preusuel  686536 non-null  object  \n",
            " 2   annais    648614 non-null  float64 \n",
            " 3   nombre    686538 non-null  int64   \n",
            " 4   gender    686538 non-null  category\n",
            "dtypes: category(1), float64(1), int64(2), object(1)\n",
            "memory usage: 21.6+ MB\n"
          ]
        }
      ],
      "source": [
        "#Replace missing years with Nan\n",
        "\n",
        "data_fr['annais'] = data_fr['annais'].replace(\"XXXX\", np.nan)\n",
        "data_fr['annais'] = data_fr['annais'].astype(float)\n",
        "\n",
        "data_fr.info()"
      ]
    },
    {
      "cell_type": "markdown",
      "metadata": {
        "id": "CgoXC0fzMxGk",
        "nteract": {
          "transient": {
            "deleting": false
          }
        }
      },
      "source": [
        "## Rename and remove columns"
      ]
    },
    {
      "cell_type": "markdown",
      "metadata": {
        "id": "khGDM5LCMxGk",
        "nteract": {
          "transient": {
            "deleting": false
          }
        }
      },
      "source": [
        "**QUESTION:** Remove useless columns (now that you've created new ones, and rename them). You should end up with a dataframe with columns called `\"gender\"`, `\"year\"`, `\"count\"`, `\"firstname`\" with the following dtypes:\n",
        "\n",
        "```python\n",
        "gender        category\n",
        "firstname     object\n",
        "count         int64\n",
        "year          float64\n",
        "```"
      ]
    },
    {
      "cell_type": "code",
      "execution_count": null,
      "metadata": {
        "colab": {
          "base_uri": "https://localhost:8080/"
        },
        "id": "3F6ZQSzkMxGk",
        "jupyter": {
          "outputs_hidden": false,
          "source_hidden": false
        },
        "nteract": {
          "transient": {
            "deleting": false
          }
        },
        "outputId": "07bc4bbe-ba2e-4a7c-98ac-7a34a1122440"
      },
      "outputs": [
        {
          "output_type": "stream",
          "name": "stdout",
          "text": [
            "<class 'pandas.core.frame.DataFrame'>\n",
            "RangeIndex: 686538 entries, 0 to 686537\n",
            "Data columns (total 4 columns):\n",
            " #   Column     Non-Null Count   Dtype   \n",
            "---  ------     --------------   -----   \n",
            " 0   gender     686538 non-null  category\n",
            " 1   firstname  686536 non-null  object  \n",
            " 2   year       648614 non-null  float64 \n",
            " 3   count      686538 non-null  int64   \n",
            "dtypes: category(1), float64(1), int64(1), object(1)\n",
            "memory usage: 16.4+ MB\n"
          ]
        }
      ],
      "source": [
        "data_fr = data_fr.drop(columns=[ 'sexe'])\n",
        "data_fr = data_fr.rename(columns={'annais':'year', 'nombre':'count',\"preusuel\":\"firstname\"})\n",
        "first_column = data_fr.pop('gender')\n",
        "data_fr.insert(0, 'gender', first_column)\n",
        "\n",
        "data_fr.info()"
      ]
    },
    {
      "cell_type": "markdown",
      "metadata": {
        "id": "uyMCmWVFMxGk"
      },
      "source": [
        "**Question:** Do the same thing for British and US data. You should eventually obtain dataframes with the same schema.  "
      ]
    },
    {
      "cell_type": "markdown",
      "metadata": {
        "id": "xVbhasDhMxGk",
        "nteract": {
          "transient": {
            "deleting": false
          }
        }
      },
      "source": [
        "**QUESTION:** How many missing values (NA) have been introduced? How many births are concerned?"
      ]
    },
    {
      "cell_type": "code",
      "execution_count": null,
      "metadata": {
        "ExecuteTime": {
          "end_time": "2021-02-03T09:58:42.294646Z",
          "start_time": "2021-02-03T09:58:42.289319Z"
        },
        "colab": {
          "base_uri": "https://localhost:8080/"
        },
        "id": "6YLgSMqWMxGl",
        "jupyter": {
          "outputs_hidden": false,
          "source_hidden": false
        },
        "nteract": {
          "transient": {
            "deleting": false
          }
        },
        "outputId": "089aeba8-1fbf-4c98-efb5-164015df9dea"
      },
      "outputs": [
        {
          "output_type": "execute_result",
          "data": {
            "text/plain": [
              "37924"
            ]
          },
          "metadata": {},
          "execution_count": 18
        }
      ],
      "source": [
        "#To count missing values(NA)\n",
        "nan_count = data_fr.isna().sum()\n",
        "nan_count\n",
        "\n",
        "#To count number of births with missing years\n",
        "births_with_missing_years = data_fr[data_fr['year'].isna()].shape[0]\n",
        "births_with_missing_years\n"
      ]
    },
    {
      "cell_type": "markdown",
      "metadata": {
        "id": "kZQ8bEeyMxGl",
        "nteract": {
          "transient": {
            "deleting": false
          }
        }
      },
      "source": [
        "**QUESTION:** Read the documentation and describe the origin of rows containing the missing values."
      ]
    },
    {
      "cell_type": "code",
      "execution_count": null,
      "metadata": {
        "ExecuteTime": {
          "end_time": "2021-02-03T09:58:42.780105Z",
          "start_time": "2021-02-03T09:58:42.777162Z"
        },
        "id": "KVeYZBj1MxGl",
        "jupyter": {
          "outputs_hidden": false,
          "source_hidden": false
        },
        "nteract": {
          "transient": {
            "deleting": false
          }
        }
      },
      "outputs": [],
      "source": [
        "#The numbers of first names fulfilling condition 2 but not condition 3 are grouped together\n",
        "# (for each sex and each first name) in a record whose year of birth field (ANNAIS)\n",
        "#takes the value “XXXX”\n",
        "\n",
        "#These are condition 2 and 3 :\n",
        "#(2) Over the period from 1946 to 2021, the first name was attributed at least 20 times to persons of gender\n",
        "#female and/or at least 20 times to males\n",
        "#(3) For a given year of birth, the first name has been attributed at least 3 times to persons of\n",
        "#female or male"
      ]
    },
    {
      "cell_type": "markdown",
      "metadata": {
        "id": "Dz0a1ieNMxGl",
        "nteract": {
          "transient": {
            "deleting": false
          }
        }
      },
      "source": [
        "## Checkpointing: save your transformed dataframes"
      ]
    },
    {
      "cell_type": "markdown",
      "metadata": {
        "id": "mchR-vrjMxGl",
        "nteract": {
          "transient": {
            "deleting": false
          }
        }
      },
      "source": [
        "**QUESTION:** Save the transformed dataframe (retyped and renamed) to `./nat2021_csv.zip`. Try several compression methods."
      ]
    },
    {
      "cell_type": "code",
      "execution_count": null,
      "metadata": {
        "ExecuteTime": {
          "end_time": "2021-02-03T09:58:44.434007Z",
          "start_time": "2021-02-03T09:58:44.431292Z"
        },
        "id": "hN_hm3WCMxGl",
        "jupyter": {
          "outputs_hidden": false,
          "source_hidden": false
        },
        "nteract": {
          "transient": {
            "deleting": false
          }
        }
      },
      "outputs": [],
      "source": [
        "import gzip\n",
        "import shutil\n",
        "\n",
        "# Write the result to a single .csv file and compress it in a zip file\n",
        "def data_to_csv_zip(data,name):\n",
        "      data.to_csv(path_zip_files+name,\n",
        "               index=False,\n",
        "               compression=\"zip\")\n",
        "\n",
        "data_to_csv_zip(data_fr,'nat2021_csv.zip')\n",
        "data_to_csv_zip(data_ew,'data_ew_csv.zip')\n",
        "data_to_csv_zip(data_us,'data_us_csv.zip')\n",
        "\n",
        "#Other method to compress  the csv file of data_fr (tar file)\n",
        "data_fr.to_csv(path_zip_files+\"nat2021_csv.bz2\",\n",
        "               index=False,\n",
        "               compression=\"bz2\")\n"
      ]
    },
    {
      "cell_type": "markdown",
      "metadata": {
        "id": "as4IXDJnMxGm",
        "nteract": {
          "transient": {
            "deleting": false
          }
        }
      },
      "source": [
        "**QUESTION:** Save the transformed dataframes (retyped and renamed) to `./nat2021.hdf` using `.hdf` format"
      ]
    },
    {
      "cell_type": "code",
      "execution_count": null,
      "metadata": {
        "ExecuteTime": {
          "end_time": "2021-02-03T09:58:45.572214Z",
          "start_time": "2021-02-03T09:58:45.569040Z"
        },
        "colab": {
          "base_uri": "https://localhost:8080/"
        },
        "id": "bMOdkMxYMxGm",
        "jupyter": {
          "outputs_hidden": false,
          "source_hidden": false
        },
        "nteract": {
          "transient": {
            "deleting": false
          }
        },
        "outputId": "2c753464-a6be-4da0-d075-5e98e54d910e"
      },
      "outputs": [
        {
          "output_type": "stream",
          "name": "stdout",
          "text": [
            "Looking in indexes: https://pypi.org/simple, https://us-python.pkg.dev/colab-wheels/public/simple/\n",
            "Requirement already satisfied: tables in /usr/local/lib/python3.8/dist-packages (3.7.0)\n",
            "Requirement already satisfied: packaging in /usr/local/lib/python3.8/dist-packages (from tables) (23.0)\n",
            "Requirement already satisfied: numpy>=1.19.0 in /usr/local/lib/python3.8/dist-packages (from tables) (1.22.4)\n",
            "Requirement already satisfied: numexpr>=2.6.2 in /usr/local/lib/python3.8/dist-packages (from tables) (2.8.4)\n"
          ]
        }
      ],
      "source": [
        "%pip install  tables\n",
        "#Data to hdf\n",
        "def data_to_hdf (data,name):\n",
        "       data.to_hdf(path_hdf_files+name, key='hdf', mode='w', format=\"table\")\n",
        "\n",
        "data_fr_hdf=data_to_hdf (data_fr,\"nat2021\")\n",
        "data_us_hdf=data_to_hdf (data_us,\"data_us\")\n",
        "data_ew_hdf=data_to_hdf (data_ew,\"data_ew\")\n"
      ]
    },
    {
      "cell_type": "markdown",
      "metadata": {
        "id": "2zkLIUrUMxGm",
        "nteract": {
          "transient": {
            "deleting": false
          }
        }
      },
      "source": [
        "At that point your working directory should look like:\n",
        "\n",
        "```\n",
        "├── homework01.py      # if you use `jupytext`\n",
        "|── homework01.qmd     # if you use `quarto`\n",
        "├── homework01.ipynb   # if you use `jupyter` `notebook`\n",
        "├── babies-fr.hdf\n",
        "├── babies-fr.zip\n",
        "├── babies-us.hdf\n",
        "├── babies-us.zip\n",
        "├── babies-ew.hdf\n",
        "├── babies-ew.zip\n",
        "├── births-fr.csv\n",
        "├── births-fr.hdf\n",
        "```\n",
        "\n",
        "**QUESTION:** Reload the data using `read_hdf(...)` so that the resulting dataframes  are properly typed with meaningful and homogeneous column names.\n",
        "\n",
        "__Hint:__ use `try: ... except` to handle exceptions such as `FileNotFoundError`"
      ]
    },
    {
      "cell_type": "code",
      "execution_count": null,
      "metadata": {
        "ExecuteTime": {
          "end_time": "2021-02-03T09:58:49.413972Z",
          "start_time": "2021-02-03T09:58:49.410965Z"
        },
        "id": "L5j7O8NAMxGm",
        "jupyter": {
          "outputs_hidden": false,
          "source_hidden": false
        },
        "nteract": {
          "transient": {
            "deleting": false
          }
        }
      },
      "outputs": [],
      "source": [
        "\n",
        "def read_hdf(data_hdf,name) :\n",
        "    try:\n",
        "        data_hdf = pd.read_hdf(path_hdf_files+name)\n",
        "    except (FileNotFoundError, IOError):\n",
        "        print(\"Wrong file or file path\")\n",
        "\n",
        "data_fr_hdf = read_hdf(data_fr,'nat2021')\n",
        "data_us_hdf = read_hdf(data_us,'data_us')\n",
        "data_ew_hdf = read_hdf(data_ew,'data_ew')\n",
        "\n"
      ]
    },
    {
      "cell_type": "markdown",
      "metadata": {
        "id": "-yFkXQCoMxGm",
        "nteract": {
          "transient": {
            "deleting": false
          }
        }
      },
      "source": [
        "## Some data \"analytics\" and visualization\n",
        "\n",
        "**QUESTION**: For each year, compute the total number of Female and Male births and the proportion of Female  births among total births\n",
        "\n",
        "__Hints:__\n",
        "\n",
        "- Groupby operations using several columns for the groups return a dataframe with a `MultiIndex` index see [Pandas advanced](https://pandas.pydata.org/pandas-docs/stable/user_guide/advanced.html)\n",
        "\n",
        "- Have a look at `MultiIndex`, `reset_index`, `pivot`, `columns.droplevel`"
      ]
    },
    {
      "cell_type": "code",
      "execution_count": null,
      "metadata": {
        "ExecuteTime": {
          "end_time": "2021-02-03T09:58:52.268127Z",
          "start_time": "2021-02-03T09:58:52.265556Z"
        },
        "id": "9MSUvsEbMxGn",
        "jupyter": {
          "outputs_hidden": false,
          "source_hidden": false
        },
        "nteract": {
          "transient": {
            "deleting": false
          }
        },
        "colab": {
          "base_uri": "https://localhost:8080/",
          "height": 206
        },
        "outputId": "5b688155-e066-4210-d9be-b362f93e4d5d"
      },
      "outputs": [
        {
          "output_type": "execute_result",
          "data": {
            "text/plain": [
              "     year  Female    Male  proportion_female\n",
              "0  1900.0  177387  237653           0.427397\n",
              "1  1901.0  195964  257492           0.432157\n",
              "2  1902.0  204354  261437           0.438725\n",
              "3  1903.0  207360  261450           0.442311\n",
              "4  1904.0  214140  264822           0.447092"
            ],
            "text/html": [
              "\n",
              "  <div id=\"df-191c7a1c-efbc-4702-8ffb-f381258fc389\">\n",
              "    <div class=\"colab-df-container\">\n",
              "      <div>\n",
              "<style scoped>\n",
              "    .dataframe tbody tr th:only-of-type {\n",
              "        vertical-align: middle;\n",
              "    }\n",
              "\n",
              "    .dataframe tbody tr th {\n",
              "        vertical-align: top;\n",
              "    }\n",
              "\n",
              "    .dataframe thead th {\n",
              "        text-align: right;\n",
              "    }\n",
              "</style>\n",
              "<table border=\"1\" class=\"dataframe\">\n",
              "  <thead>\n",
              "    <tr style=\"text-align: right;\">\n",
              "      <th></th>\n",
              "      <th>year</th>\n",
              "      <th>Female</th>\n",
              "      <th>Male</th>\n",
              "      <th>proportion_female</th>\n",
              "    </tr>\n",
              "  </thead>\n",
              "  <tbody>\n",
              "    <tr>\n",
              "      <th>0</th>\n",
              "      <td>1900.0</td>\n",
              "      <td>177387</td>\n",
              "      <td>237653</td>\n",
              "      <td>0.427397</td>\n",
              "    </tr>\n",
              "    <tr>\n",
              "      <th>1</th>\n",
              "      <td>1901.0</td>\n",
              "      <td>195964</td>\n",
              "      <td>257492</td>\n",
              "      <td>0.432157</td>\n",
              "    </tr>\n",
              "    <tr>\n",
              "      <th>2</th>\n",
              "      <td>1902.0</td>\n",
              "      <td>204354</td>\n",
              "      <td>261437</td>\n",
              "      <td>0.438725</td>\n",
              "    </tr>\n",
              "    <tr>\n",
              "      <th>3</th>\n",
              "      <td>1903.0</td>\n",
              "      <td>207360</td>\n",
              "      <td>261450</td>\n",
              "      <td>0.442311</td>\n",
              "    </tr>\n",
              "    <tr>\n",
              "      <th>4</th>\n",
              "      <td>1904.0</td>\n",
              "      <td>214140</td>\n",
              "      <td>264822</td>\n",
              "      <td>0.447092</td>\n",
              "    </tr>\n",
              "  </tbody>\n",
              "</table>\n",
              "</div>\n",
              "      <button class=\"colab-df-convert\" onclick=\"convertToInteractive('df-191c7a1c-efbc-4702-8ffb-f381258fc389')\"\n",
              "              title=\"Convert this dataframe to an interactive table.\"\n",
              "              style=\"display:none;\">\n",
              "        \n",
              "  <svg xmlns=\"http://www.w3.org/2000/svg\" height=\"24px\"viewBox=\"0 0 24 24\"\n",
              "       width=\"24px\">\n",
              "    <path d=\"M0 0h24v24H0V0z\" fill=\"none\"/>\n",
              "    <path d=\"M18.56 5.44l.94 2.06.94-2.06 2.06-.94-2.06-.94-.94-2.06-.94 2.06-2.06.94zm-11 1L8.5 8.5l.94-2.06 2.06-.94-2.06-.94L8.5 2.5l-.94 2.06-2.06.94zm10 10l.94 2.06.94-2.06 2.06-.94-2.06-.94-.94-2.06-.94 2.06-2.06.94z\"/><path d=\"M17.41 7.96l-1.37-1.37c-.4-.4-.92-.59-1.43-.59-.52 0-1.04.2-1.43.59L10.3 9.45l-7.72 7.72c-.78.78-.78 2.05 0 2.83L4 21.41c.39.39.9.59 1.41.59.51 0 1.02-.2 1.41-.59l7.78-7.78 2.81-2.81c.8-.78.8-2.07 0-2.86zM5.41 20L4 18.59l7.72-7.72 1.47 1.35L5.41 20z\"/>\n",
              "  </svg>\n",
              "      </button>\n",
              "      \n",
              "  <style>\n",
              "    .colab-df-container {\n",
              "      display:flex;\n",
              "      flex-wrap:wrap;\n",
              "      gap: 12px;\n",
              "    }\n",
              "\n",
              "    .colab-df-convert {\n",
              "      background-color: #E8F0FE;\n",
              "      border: none;\n",
              "      border-radius: 50%;\n",
              "      cursor: pointer;\n",
              "      display: none;\n",
              "      fill: #1967D2;\n",
              "      height: 32px;\n",
              "      padding: 0 0 0 0;\n",
              "      width: 32px;\n",
              "    }\n",
              "\n",
              "    .colab-df-convert:hover {\n",
              "      background-color: #E2EBFA;\n",
              "      box-shadow: 0px 1px 2px rgba(60, 64, 67, 0.3), 0px 1px 3px 1px rgba(60, 64, 67, 0.15);\n",
              "      fill: #174EA6;\n",
              "    }\n",
              "\n",
              "    [theme=dark] .colab-df-convert {\n",
              "      background-color: #3B4455;\n",
              "      fill: #D2E3FC;\n",
              "    }\n",
              "\n",
              "    [theme=dark] .colab-df-convert:hover {\n",
              "      background-color: #434B5C;\n",
              "      box-shadow: 0px 1px 3px 1px rgba(0, 0, 0, 0.15);\n",
              "      filter: drop-shadow(0px 1px 2px rgba(0, 0, 0, 0.3));\n",
              "      fill: #FFFFFF;\n",
              "    }\n",
              "  </style>\n",
              "\n",
              "      <script>\n",
              "        const buttonEl =\n",
              "          document.querySelector('#df-191c7a1c-efbc-4702-8ffb-f381258fc389 button.colab-df-convert');\n",
              "        buttonEl.style.display =\n",
              "          google.colab.kernel.accessAllowed ? 'block' : 'none';\n",
              "\n",
              "        async function convertToInteractive(key) {\n",
              "          const element = document.querySelector('#df-191c7a1c-efbc-4702-8ffb-f381258fc389');\n",
              "          const dataTable =\n",
              "            await google.colab.kernel.invokeFunction('convertToInteractive',\n",
              "                                                     [key], {});\n",
              "          if (!dataTable) return;\n",
              "\n",
              "          const docLinkHtml = 'Like what you see? Visit the ' +\n",
              "            '<a target=\"_blank\" href=https://colab.research.google.com/notebooks/data_table.ipynb>data table notebook</a>'\n",
              "            + ' to learn more about interactive tables.';\n",
              "          element.innerHTML = '';\n",
              "          dataTable['output_type'] = 'display_data';\n",
              "          await google.colab.output.renderOutput(dataTable, element);\n",
              "          const docLink = document.createElement('div');\n",
              "          docLink.innerHTML = docLinkHtml;\n",
              "          element.appendChild(docLink);\n",
              "        }\n",
              "      </script>\n",
              "    </div>\n",
              "  </div>\n",
              "  "
            ]
          },
          "metadata": {},
          "execution_count": 23
        }
      ],
      "source": [
        "#Gender count for each country\n",
        "def gender_counts(data):\n",
        "    gender_count = data.groupby(['year', 'gender'])['count'].sum()\n",
        "    gender_count = gender_count.unstack()\n",
        "    gender_count.columns = ['Female', 'Male']\n",
        "    gender_count = gender_count.reset_index()\n",
        "    gender_count['proportion_female'] = gender_count['Female'] / (gender_count['Female'] + gender_count['Male'])\n",
        "    return gender_count\n",
        "\n",
        "\n",
        "gender_counts_fr=gender_counts(data_fr)\n",
        "gender_counts_us=gender_counts(data_us)\n",
        "gender_counts_ew=gender_counts(data_ew)\n",
        "\n",
        "gender_counts_fr.head(5)\n",
        "\n",
        "\n"
      ]
    },
    {
      "cell_type": "markdown",
      "metadata": {
        "id": "saUMdKWbMxGn",
        "nteract": {
          "transient": {
            "deleting": false
          }
        }
      },
      "source": [
        "**QUESTION:** Plot the proportion of female births as a function of year and French, US, en British babynames data. Compare with what you get from `births-fr.hdf`.\n",
        "\n",
        "Don't forget: title, axes labels, ticks, scales, etc.\n",
        "\n",
        "Because of what we did before, the `plot` method of a `DataFrame` with be rendered using `plotly`, so you can use this. But you can use also `seaborn` or any other available plotting library that you want.\n",
        "\n",
        "__Hint:__ Mind the missing values in the `year` column"
      ]
    },
    {
      "cell_type": "code",
      "source": [
        "import matplotlib.pyplot as plt\n",
        "#A fucntion to create a plot with the specified title, x-axis label, and y-axis label\n",
        "def plot(title,xlabel,ylabel):\n",
        "    plt.title(title)\n",
        "    plt.xlabel(xlabel)\n",
        "    plt.ylabel(ylabel)\n",
        "    plt.show()"
      ],
      "metadata": {
        "id": "o51D6FBXQTf9"
      },
      "execution_count": null,
      "outputs": []
    },
    {
      "cell_type": "code",
      "execution_count": null,
      "metadata": {
        "id": "PpxHsv3NMxGn",
        "jupyter": {
          "outputs_hidden": false,
          "source_hidden": false
        },
        "nteract": {
          "transient": {
            "deleting": false
          }
        },
        "colab": {
          "base_uri": "https://localhost:8080/",
          "height": 295
        },
        "outputId": "8a344b17-7866-4863-fd14-37c44b776a78"
      },
      "outputs": [
        {
          "output_type": "display_data",
          "data": {
            "text/plain": [
              "<Figure size 432x288 with 1 Axes>"
            ],
            "image/png": "[encoded data removed]"
          },
          "metadata": {
            "needs_background": "light"
          }
        }
      ],
      "source": [
        "plt.plot(gender_counts_fr['year'], gender_counts_fr['proportion_female'], label='FR')\n",
        "plt.plot(gender_counts_us['year'], gender_counts_us['proportion_female'], label='US')\n",
        "plt.plot(gender_counts_ew['year'], gender_counts_ew['proportion_female'], label='EW')\n",
        "plt.legend()\n",
        "plot('Proportion of Female Births by Year','Year','Proportion Female')\n",
        "\n",
        "\n",
        "\n"
      ]
    },
    {
      "cell_type": "markdown",
      "metadata": {
        "id": "SrMPn3wVMxGn",
        "nteract": {
          "transient": {
            "deleting": false
          }
        }
      },
      "source": [
        "**QUESTION:** Make any sensible comment about these plots.\n",
        "\n",
        "_Insert your answer here_\n",
        "\n",
        ">Description of the plot :\n",
        "On one hand , The proportion of female births by year for US is increasing till 1900 then decreases till 1920and remains constant . In the other hand , French names increases at 1900 till 1940 then remains constant .\n"
      ]
    },
    {
      "cell_type": "markdown",
      "metadata": {
        "id": "bPFY21iMMxGn"
      },
      "source": []
    },
    {
      "cell_type": "markdown",
      "metadata": {
        "id": "jlW3SDVUMxGn",
        "nteract": {
          "transient": {
            "deleting": false
          }
        }
      },
      "source": [
        "**QUESTION:** Explore the fluctuations of sex ratio around its mean value since 1945  in the US, in France and in the Great Britain.\n",
        "\n",
        "Plot deviations of sex ratio around its mean since 1945 as a function of time."
      ]
    },
    {
      "cell_type": "code",
      "execution_count": null,
      "metadata": {
        "ExecuteTime": {
          "end_time": "2021-02-03T09:59:30.923060Z",
          "start_time": "2021-02-03T09:59:30.920458Z"
        },
        "id": "bh7y_zYcMxGo",
        "jupyter": {
          "outputs_hidden": false,
          "source_hidden": false
        },
        "nteract": {
          "transient": {
            "deleting": false
          }
        },
        "colab": {
          "base_uri": "https://localhost:8080/",
          "height": 295
        },
        "outputId": "53e316d3-e2e9-4237-8674-274baa98b61e"
      },
      "outputs": [
        {
          "output_type": "display_data",
          "data": {
            "text/plain": [
              "<Figure size 432x288 with 1 Axes>"
            ],
            "image/png": "[encoded data removed]"
          },
          "metadata": {
            "needs_background": "light"
          }
        }
      ],
      "source": [
        "\n",
        "def sex_ratio(data):\n",
        "    male_count = data[data['gender'] == 'Male']['count'].sum()\n",
        "    female_count = data[data['gender'] == 'Female']['count'].sum()\n",
        "    return male_count / female_count\n",
        "\n",
        "# Sex_ration by all years\n",
        "def sex_ratio_years(data_since_1945):\n",
        "    return  data_since_1945.groupby('year').apply(sex_ratio)\n",
        "\n",
        "\n",
        "# Deviation of each year's sex ratio from the mean sex ratio\n",
        "def deviation (data) :\n",
        "    data_since_1945 = data[data['year'] >= 1945]\n",
        "    sex_ratio_year=sex_ratio_years(data_since_1945)\n",
        "    mean_sex_ratio=sex_ratio_years(data_since_1945).mean()\n",
        "    deviation = sex_ratio_year-mean_sex_ratio\n",
        "    return deviation\n",
        "\n",
        "\n",
        "\n",
        "\n",
        "deviation_fr=deviation(data_fr)\n",
        "deviation_us=deviation(data_us)\n",
        "deviation_ew=deviation(data_ew)\n",
        "\n",
        "#Plot the deviation\n",
        "_,ax = plt.subplots()\n",
        "\n",
        "ax.plot(deviation_fr.index, deviation_fr.values,label='FR')\n",
        "ax.plot(deviation_us.index, deviation_us.values,label='Us')\n",
        "ax.plot(deviation_ew.index, deviation_ew.values,label='EW' )\n",
        "ax.legend()\n",
        "\n",
        "plot('Deviations of sex ratio around mean since 1945','Year','Deviation')\n",
        "\n",
        "\n",
        "\n",
        "\n"
      ]
    },
    {
      "cell_type": "code",
      "source": [
        "data_fr.info()"
      ],
      "metadata": {
        "colab": {
          "base_uri": "https://localhost:8080/"
        },
        "id": "SeyEF0MTiiV9",
        "outputId": "f35e4f1a-2ef8-4eba-bc60-090ac9084fd4"
      },
      "execution_count": null,
      "outputs": [
        {
          "output_type": "stream",
          "name": "stdout",
          "text": [
            "<class 'pandas.core.frame.DataFrame'>\n",
            "RangeIndex: 686538 entries, 0 to 686537\n",
            "Data columns (total 4 columns):\n",
            " #   Column     Non-Null Count   Dtype   \n",
            "---  ------     --------------   -----   \n",
            " 0   gender     686538 non-null  category\n",
            " 1   firstname  686536 non-null  object  \n",
            " 2   year       648614 non-null  float64 \n",
            " 3   count      686538 non-null  int64   \n",
            "dtypes: category(1), float64(1), int64(1), object(1)\n",
            "memory usage: 16.4+ MB\n"
          ]
        }
      ]
    },
    {
      "cell_type": "markdown",
      "metadata": {
        "id": "5Xa3diHiMxGo"
      },
      "source": [
        "**QUESTION:**  Assume that baby gender is chosen at random according to a Bernoulli distribution with success probability $.48$, that baby genders are i.i.d. Perform simulations for sex ratios for French and US data since 1945.\n",
        "\n",
        "Plot the results, compare with your plots above.  "
      ]
    },
    {
      "cell_type": "markdown",
      "metadata": {
        "id": "CtUrMlF_MxGo",
        "nteract": {
          "transient": {
            "deleting": false
          }
        }
      },
      "source": [
        "# The rise, decline and fall of firstnames"
      ]
    },
    {
      "cell_type": "markdown",
      "metadata": {
        "id": "Oa0RnEUQMxGo"
      },
      "source": [
        "**Question:** For each year, country, gender and firstname, compute the popularity rank of the firstname among the names given to babies with that gender, in that country, in that year. The most popular name should be given rank $1$.  "
      ]
    },
    {
      "cell_type": "code",
      "execution_count": null,
      "metadata": {
        "id": "MgLSpm3HMxGo",
        "colab": {
          "base_uri": "https://localhost:8080/",
          "height": 206
        },
        "outputId": "7915697f-facc-4770-fb63-5e9944dd0467"
      },
      "outputs": [
        {
          "output_type": "execute_result",
          "data": {
            "text/plain": [
              "         year  gender firstname  count  rank\n",
              "31834  1996.0  Female    Sophie   7088     1\n",
              "7103   1996.0  Female     Chloe   6826     2\n",
              "15978  1996.0  Female   Jessica   6714     3\n",
              "10338  1996.0  Female     Emily   6419     4\n",
              "19448  1996.0  Female    Lauren   6304     5"
            ],
            "text/html": [
              "\n",
              "  <div id=\"df-4755baff-1dac-4b90-91f1-861284fe618b\">\n",
              "    <div class=\"colab-df-container\">\n",
              "      <div>\n",
              "<style scoped>\n",
              "    .dataframe tbody tr th:only-of-type {\n",
              "        vertical-align: middle;\n",
              "    }\n",
              "\n",
              "    .dataframe tbody tr th {\n",
              "        vertical-align: top;\n",
              "    }\n",
              "\n",
              "    .dataframe thead th {\n",
              "        text-align: right;\n",
              "    }\n",
              "</style>\n",
              "<table border=\"1\" class=\"dataframe\">\n",
              "  <thead>\n",
              "    <tr style=\"text-align: right;\">\n",
              "      <th></th>\n",
              "      <th>year</th>\n",
              "      <th>gender</th>\n",
              "      <th>firstname</th>\n",
              "      <th>count</th>\n",
              "      <th>rank</th>\n",
              "    </tr>\n",
              "  </thead>\n",
              "  <tbody>\n",
              "    <tr>\n",
              "      <th>31834</th>\n",
              "      <td>1996.0</td>\n",
              "      <td>Female</td>\n",
              "      <td>Sophie</td>\n",
              "      <td>7088</td>\n",
              "      <td>1</td>\n",
              "    </tr>\n",
              "    <tr>\n",
              "      <th>7103</th>\n",
              "      <td>1996.0</td>\n",
              "      <td>Female</td>\n",
              "      <td>Chloe</td>\n",
              "      <td>6826</td>\n",
              "      <td>2</td>\n",
              "    </tr>\n",
              "    <tr>\n",
              "      <th>15978</th>\n",
              "      <td>1996.0</td>\n",
              "      <td>Female</td>\n",
              "      <td>Jessica</td>\n",
              "      <td>6714</td>\n",
              "      <td>3</td>\n",
              "    </tr>\n",
              "    <tr>\n",
              "      <th>10338</th>\n",
              "      <td>1996.0</td>\n",
              "      <td>Female</td>\n",
              "      <td>Emily</td>\n",
              "      <td>6419</td>\n",
              "      <td>4</td>\n",
              "    </tr>\n",
              "    <tr>\n",
              "      <th>19448</th>\n",
              "      <td>1996.0</td>\n",
              "      <td>Female</td>\n",
              "      <td>Lauren</td>\n",
              "      <td>6304</td>\n",
              "      <td>5</td>\n",
              "    </tr>\n",
              "  </tbody>\n",
              "</table>\n",
              "</div>\n",
              "      <button class=\"colab-df-convert\" onclick=\"convertToInteractive('df-4755baff-1dac-4b90-91f1-861284fe618b')\"\n",
              "              title=\"Convert this dataframe to an interactive table.\"\n",
              "              style=\"display:none;\">\n",
              "        \n",
              "  <svg xmlns=\"http://www.w3.org/2000/svg\" height=\"24px\"viewBox=\"0 0 24 24\"\n",
              "       width=\"24px\">\n",
              "    <path d=\"M0 0h24v24H0V0z\" fill=\"none\"/>\n",
              "    <path d=\"M18.56 5.44l.94 2.06.94-2.06 2.06-.94-2.06-.94-.94-2.06-.94 2.06-2.06.94zm-11 1L8.5 8.5l.94-2.06 2.06-.94-2.06-.94L8.5 2.5l-.94 2.06-2.06.94zm10 10l.94 2.06.94-2.06 2.06-.94-2.06-.94-.94-2.06-.94 2.06-2.06.94z\"/><path d=\"M17.41 7.96l-1.37-1.37c-.4-.4-.92-.59-1.43-.59-.52 0-1.04.2-1.43.59L10.3 9.45l-7.72 7.72c-.78.78-.78 2.05 0 2.83L4 21.41c.39.39.9.59 1.41.59.51 0 1.02-.2 1.41-.59l7.78-7.78 2.81-2.81c.8-.78.8-2.07 0-2.86zM5.41 20L4 18.59l7.72-7.72 1.47 1.35L5.41 20z\"/>\n",
              "  </svg>\n",
              "      </button>\n",
              "      \n",
              "  <style>\n",
              "    .colab-df-container {\n",
              "      display:flex;\n",
              "      flex-wrap:wrap;\n",
              "      gap: 12px;\n",
              "    }\n",
              "\n",
              "    .colab-df-convert {\n",
              "      background-color: #E8F0FE;\n",
              "      border: none;\n",
              "      border-radius: 50%;\n",
              "      cursor: pointer;\n",
              "      display: none;\n",
              "      fill: #1967D2;\n",
              "      height: 32px;\n",
              "      padding: 0 0 0 0;\n",
              "      width: 32px;\n",
              "    }\n",
              "\n",
              "    .colab-df-convert:hover {\n",
              "      background-color: #E2EBFA;\n",
              "      box-shadow: 0px 1px 2px rgba(60, 64, 67, 0.3), 0px 1px 3px 1px rgba(60, 64, 67, 0.15);\n",
              "      fill: #174EA6;\n",
              "    }\n",
              "\n",
              "    [theme=dark] .colab-df-convert {\n",
              "      background-color: #3B4455;\n",
              "      fill: #D2E3FC;\n",
              "    }\n",
              "\n",
              "    [theme=dark] .colab-df-convert:hover {\n",
              "      background-color: #434B5C;\n",
              "      box-shadow: 0px 1px 3px 1px rgba(0, 0, 0, 0.15);\n",
              "      filter: drop-shadow(0px 1px 2px rgba(0, 0, 0, 0.3));\n",
              "      fill: #FFFFFF;\n",
              "    }\n",
              "  </style>\n",
              "\n",
              "      <script>\n",
              "        const buttonEl =\n",
              "          document.querySelector('#df-4755baff-1dac-4b90-91f1-861284fe618b button.colab-df-convert');\n",
              "        buttonEl.style.display =\n",
              "          google.colab.kernel.accessAllowed ? 'block' : 'none';\n",
              "\n",
              "        async function convertToInteractive(key) {\n",
              "          const element = document.querySelector('#df-4755baff-1dac-4b90-91f1-861284fe618b');\n",
              "          const dataTable =\n",
              "            await google.colab.kernel.invokeFunction('convertToInteractive',\n",
              "                                                     [key], {});\n",
              "          if (!dataTable) return;\n",
              "\n",
              "          const docLinkHtml = 'Like what you see? Visit the ' +\n",
              "            '<a target=\"_blank\" href=https://colab.research.google.com/notebooks/data_table.ipynb>data table notebook</a>'\n",
              "            + ' to learn more about interactive tables.';\n",
              "          element.innerHTML = '';\n",
              "          dataTable['output_type'] = 'display_data';\n",
              "          await google.colab.output.renderOutput(dataTable, element);\n",
              "          const docLink = document.createElement('div');\n",
              "          docLink.innerHTML = docLinkHtml;\n",
              "          element.appendChild(docLink);\n",
              "        }\n",
              "      </script>\n",
              "    </div>\n",
              "  </div>\n",
              "  "
            ]
          },
          "metadata": {},
          "execution_count": 58
        }
      ],
      "source": [
        "\n",
        "\n",
        "\n",
        "\n",
        "def name_rank(df):\n",
        "  #If we have missing values (if i froget to remove them )\n",
        "  df =df.dropna(subset=['year', 'gender', 'firstname', 'count'])\n",
        "\n",
        "  #Group the data frame by year, gender, country, and firstname, and compute the sum of the count column for each group\n",
        "  popularity = df.groupby(['year', 'gender', 'firstname'])['count'].sum().reset_index()\n",
        "\n",
        "  #Descending order\n",
        "  popularity = popularity.sort_values(by=['year', 'gender',  'count'], ascending=[True, True, False])\n",
        "\n",
        "  #Add a new column 'rank'\n",
        "  popularity['rank'] = popularity.groupby(['year', 'gender'])['count'].rank(method='min', ascending=False).astype(int)\n",
        "  return popularity\n",
        "\n",
        "#For franch data , we compute the popularity rank of the firstname without considering '_PRENOMS_RARES'\n",
        "npr=data_fr[data_fr['firstname'] != '_PRENOMS_RARES']\n",
        "pop_fr=name_rank(npr)\n",
        "\n",
        "#For US and EW\n",
        "pop_us=name_rank(data_us)\n",
        "pop_fr=name_rank(data_ew)\n",
        "\n",
        "\n",
        "\n"
      ]
    },
    {
      "cell_type": "markdown",
      "metadata": {
        "id": "8h0hCDfiMxGo"
      },
      "source": [
        "\n",
        "**QUESTION:** For each firstname and sex (some names may be given to girls and boys), compute the total number of times this firstname has been given during `1900-2019`. Print the top 20 firstnames given and style your result dataframe using `background_gradient` for instance."
      ]
    },
    {
      "cell_type": "code",
      "execution_count": null,
      "metadata": {
        "id": "C9W2nQCRMxGp",
        "jupyter": {
          "outputs_hidden": false,
          "source_hidden": false
        },
        "nteract": {
          "transient": {
            "deleting": false
          }
        },
        "colab": {
          "base_uri": "https://localhost:8080/",
          "height": 676
        },
        "outputId": "42cd997c-5ed5-4b7f-de16-47d1713a5ee0"
      },
      "outputs": [
        {
          "output_type": "execute_result",
          "data": {
            "text/plain": [
              "<pandas.io.formats.style.Styler at 0x7f794694be80>"
            ],
            "text/html": [
              "<style type=\"text/css\">\n",
              "#T_5a656_row0_col2 {\n",
              "  background-color: #023858;\n",
              "  color: #f1f1f1;\n",
              "}\n",
              "#T_5a656_row1_col2 {\n",
              "  background-color: #04629a;\n",
              "  color: #f1f1f1;\n",
              "}\n",
              "#T_5a656_row2_col2 {\n",
              "  background-color: #cccfe5;\n",
              "  color: #000000;\n",
              "}\n",
              "#T_5a656_row3_col2 {\n",
              "  background-color: #cdd0e5;\n",
              "  color: #000000;\n",
              "}\n",
              "#T_5a656_row4_col2 {\n",
              "  background-color: #d4d4e8;\n",
              "  color: #000000;\n",
              "}\n",
              "#T_5a656_row5_col2 {\n",
              "  background-color: #d6d6e9;\n",
              "  color: #000000;\n",
              "}\n",
              "#T_5a656_row6_col2 {\n",
              "  background-color: #e3e0ee;\n",
              "  color: #000000;\n",
              "}\n",
              "#T_5a656_row7_col2 {\n",
              "  background-color: #f3edf5;\n",
              "  color: #000000;\n",
              "}\n",
              "#T_5a656_row8_col2 {\n",
              "  background-color: #f5eef6;\n",
              "  color: #000000;\n",
              "}\n",
              "#T_5a656_row9_col2 {\n",
              "  background-color: #f5eff6;\n",
              "  color: #000000;\n",
              "}\n",
              "#T_5a656_row10_col2, #T_5a656_row11_col2 {\n",
              "  background-color: #f7f0f7;\n",
              "  color: #000000;\n",
              "}\n",
              "#T_5a656_row12_col2 {\n",
              "  background-color: #f9f2f8;\n",
              "  color: #000000;\n",
              "}\n",
              "#T_5a656_row13_col2, #T_5a656_row14_col2 {\n",
              "  background-color: #faf3f9;\n",
              "  color: #000000;\n",
              "}\n",
              "#T_5a656_row15_col2 {\n",
              "  background-color: #fdf5fa;\n",
              "  color: #000000;\n",
              "}\n",
              "#T_5a656_row16_col2, #T_5a656_row17_col2, #T_5a656_row18_col2 {\n",
              "  background-color: #fef6fb;\n",
              "  color: #000000;\n",
              "}\n",
              "#T_5a656_row19_col2 {\n",
              "  background-color: #fff7fb;\n",
              "  color: #000000;\n",
              "}\n",
              "</style>\n",
              "<table id=\"T_5a656_\" class=\"dataframe\">\n",
              "  <thead>\n",
              "    <tr>\n",
              "      <th class=\"blank level0\" >&nbsp;</th>\n",
              "      <th class=\"col_heading level0 col0\" >firstname</th>\n",
              "      <th class=\"col_heading level0 col1\" >gender</th>\n",
              "      <th class=\"col_heading level0 col2\" >count</th>\n",
              "    </tr>\n",
              "  </thead>\n",
              "  <tbody>\n",
              "    <tr>\n",
              "      <th id=\"T_5a656_level0_row0\" class=\"row_heading level0 row0\" >42863</th>\n",
              "      <td id=\"T_5a656_row0_col0\" class=\"data row0 col0\" >MARIE</td>\n",
              "      <td id=\"T_5a656_row0_col1\" class=\"data row0 col1\" >Female</td>\n",
              "      <td id=\"T_5a656_row0_col2\" class=\"data row0 col2\" >2232235</td>\n",
              "    </tr>\n",
              "    <tr>\n",
              "      <th id=\"T_5a656_level0_row1\" class=\"row_heading level0 row1\" >29474</th>\n",
              "      <td id=\"T_5a656_row1_col0\" class=\"data row1 col0\" >JEAN</td>\n",
              "      <td id=\"T_5a656_row1_col1\" class=\"data row1 col1\" >Male</td>\n",
              "      <td id=\"T_5a656_row1_col2\" class=\"data row1 col2\" >1913420</td>\n",
              "    </tr>\n",
              "    <tr>\n",
              "      <th id=\"T_5a656_level0_row2\" class=\"row_heading level0 row2\" >54986</th>\n",
              "      <td id=\"T_5a656_row2_col0\" class=\"data row2 col0\" >PIERRE</td>\n",
              "      <td id=\"T_5a656_row2_col1\" class=\"data row2 col1\" >Male</td>\n",
              "      <td id=\"T_5a656_row2_col2\" class=\"data row2 col2\" >891947</td>\n",
              "    </tr>\n",
              "    <tr>\n",
              "      <th id=\"T_5a656_level0_row3\" class=\"row_heading level0 row3\" >71929</th>\n",
              "      <td id=\"T_5a656_row3_col0\" class=\"data row3 col0\" >_PRENOMS_RARES</td>\n",
              "      <td id=\"T_5a656_row3_col1\" class=\"data row3 col1\" >Female</td>\n",
              "      <td id=\"T_5a656_row3_col2\" class=\"data row3 col2\" >886692</td>\n",
              "    </tr>\n",
              "    <tr>\n",
              "      <th id=\"T_5a656_level0_row4\" class=\"row_heading level0 row4\" >71928</th>\n",
              "      <td id=\"T_5a656_row4_col0\" class=\"data row4 col0\" >_PRENOMS_RARES</td>\n",
              "      <td id=\"T_5a656_row4_col1\" class=\"data row4 col1\" >Male</td>\n",
              "      <td id=\"T_5a656_row4_col2\" class=\"data row4 col2\" >831985</td>\n",
              "    </tr>\n",
              "    <tr>\n",
              "      <th id=\"T_5a656_level0_row5\" class=\"row_heading level0 row5\" >46960</th>\n",
              "      <td id=\"T_5a656_row5_col0\" class=\"data row5 col0\" >MICHEL</td>\n",
              "      <td id=\"T_5a656_row5_col1\" class=\"data row5 col1\" >Male</td>\n",
              "      <td id=\"T_5a656_row5_col2\" class=\"data row5 col2\" >820429</td>\n",
              "    </tr>\n",
              "    <tr>\n",
              "      <th id=\"T_5a656_level0_row6\" class=\"row_heading level0 row6\" >4400</th>\n",
              "      <td id=\"T_5a656_row6_col0\" class=\"data row6 col0\" >ANDRÉ</td>\n",
              "      <td id=\"T_5a656_row6_col1\" class=\"data row6 col1\" >Male</td>\n",
              "      <td id=\"T_5a656_row6_col2\" class=\"data row6 col2\" >712048</td>\n",
              "    </tr>\n",
              "    <tr>\n",
              "      <th id=\"T_5a656_level0_row7\" class=\"row_heading level0 row7\" >30001</th>\n",
              "      <td id=\"T_5a656_row7_col0\" class=\"data row7 col0\" >JEANNE</td>\n",
              "      <td id=\"T_5a656_row7_col1\" class=\"data row7 col1\" >Female</td>\n",
              "      <td id=\"T_5a656_row7_col2\" class=\"data row7 col2\" >561059</td>\n",
              "    </tr>\n",
              "    <tr>\n",
              "      <th id=\"T_5a656_level0_row8\" class=\"row_heading level0 row8\" >54860</th>\n",
              "      <td id=\"T_5a656_row8_col0\" class=\"data row8 col0\" >PHILIPPE</td>\n",
              "      <td id=\"T_5a656_row8_col1\" class=\"data row8 col1\" >Male</td>\n",
              "      <td id=\"T_5a656_row8_col2\" class=\"data row8 col2\" >538593</td>\n",
              "    </tr>\n",
              "    <tr>\n",
              "      <th id=\"T_5a656_level0_row9\" class=\"row_heading level0 row9\" >38788</th>\n",
              "      <td id=\"T_5a656_row9_col0\" class=\"data row9 col0\" >LOUIS</td>\n",
              "      <td id=\"T_5a656_row9_col1\" class=\"data row9 col1\" >Male</td>\n",
              "      <td id=\"T_5a656_row9_col2\" class=\"data row9 col2\" >528949</td>\n",
              "    </tr>\n",
              "    <tr>\n",
              "      <th id=\"T_5a656_level0_row10\" class=\"row_heading level0 row10\" >56948</th>\n",
              "      <td id=\"T_5a656_row10_col0\" class=\"data row10 col0\" >RENÉ</td>\n",
              "      <td id=\"T_5a656_row10_col1\" class=\"data row10 col1\" >Male</td>\n",
              "      <td id=\"T_5a656_row10_col2\" class=\"data row10 col2\" >516233</td>\n",
              "    </tr>\n",
              "    <tr>\n",
              "      <th id=\"T_5a656_level0_row11\" class=\"row_heading level0 row11\" >2210</th>\n",
              "      <td id=\"T_5a656_row11_col0\" class=\"data row11 col0\" >ALAIN</td>\n",
              "      <td id=\"T_5a656_row11_col1\" class=\"data row11 col1\" >Male</td>\n",
              "      <td id=\"T_5a656_row11_col2\" class=\"data row11 col2\" >506937</td>\n",
              "    </tr>\n",
              "    <tr>\n",
              "      <th id=\"T_5a656_level0_row12\" class=\"row_heading level0 row12\" >28636</th>\n",
              "      <td id=\"T_5a656_row12_col0\" class=\"data row12 col0\" >JACQUES</td>\n",
              "      <td id=\"T_5a656_row12_col1\" class=\"data row12 col1\" >Male</td>\n",
              "      <td id=\"T_5a656_row12_col2\" class=\"data row12 col2\" >482928</td>\n",
              "    </tr>\n",
              "    <tr>\n",
              "      <th id=\"T_5a656_level0_row13\" class=\"row_heading level0 row13\" >8986</th>\n",
              "      <td id=\"T_5a656_row13_col0\" class=\"data row13 col0\" >BERNARD</td>\n",
              "      <td id=\"T_5a656_row13_col1\" class=\"data row13 col1\" >Male</td>\n",
              "      <td id=\"T_5a656_row13_col2\" class=\"data row13 col2\" >469266</td>\n",
              "    </tr>\n",
              "    <tr>\n",
              "      <th id=\"T_5a656_level0_row14\" class=\"row_heading level0 row14\" >42452</th>\n",
              "      <td id=\"T_5a656_row14_col0\" class=\"data row14 col0\" >MARCEL</td>\n",
              "      <td id=\"T_5a656_row14_col1\" class=\"data row14 col1\" >Male</td>\n",
              "      <td id=\"T_5a656_row14_col2\" class=\"data row14 col2\" >469085</td>\n",
              "    </tr>\n",
              "    <tr>\n",
              "      <th id=\"T_5a656_level0_row15\" class=\"row_heading level0 row15\" >13890</th>\n",
              "      <td id=\"T_5a656_row15_col0\" class=\"data row15 col0\" >DANIEL</td>\n",
              "      <td id=\"T_5a656_row15_col1\" class=\"data row15 col1\" >Male</td>\n",
              "      <td id=\"T_5a656_row15_col2\" class=\"data row15 col2\" >436268</td>\n",
              "    </tr>\n",
              "    <tr>\n",
              "      <th id=\"T_5a656_level0_row16\" class=\"row_heading level0 row16\" >54406</th>\n",
              "      <td id=\"T_5a656_row16_col0\" class=\"data row16 col0\" >PAUL</td>\n",
              "      <td id=\"T_5a656_row16_col1\" class=\"data row16 col1\" >Male</td>\n",
              "      <td id=\"T_5a656_row16_col2\" class=\"data row16 col2\" >423779</td>\n",
              "    </tr>\n",
              "    <tr>\n",
              "      <th id=\"T_5a656_level0_row17\" class=\"row_heading level0 row17\" >57672</th>\n",
              "      <td id=\"T_5a656_row17_col0\" class=\"data row17 col0\" >ROGER</td>\n",
              "      <td id=\"T_5a656_row17_col1\" class=\"data row17 col1\" >Male</td>\n",
              "      <td id=\"T_5a656_row17_col2\" class=\"data row17 col2\" >423599</td>\n",
              "    </tr>\n",
              "    <tr>\n",
              "      <th id=\"T_5a656_level0_row18\" class=\"row_heading level0 row18\" >57546</th>\n",
              "      <td id=\"T_5a656_row18_col0\" class=\"data row18 col0\" >ROBERT</td>\n",
              "      <td id=\"T_5a656_row18_col1\" class=\"data row18 col1\" >Male</td>\n",
              "      <td id=\"T_5a656_row18_col2\" class=\"data row18 col2\" >419159</td>\n",
              "    </tr>\n",
              "    <tr>\n",
              "      <th id=\"T_5a656_level0_row19\" class=\"row_heading level0 row19\" >12608</th>\n",
              "      <td id=\"T_5a656_row19_col0\" class=\"data row19 col0\" >CLAUDE</td>\n",
              "      <td id=\"T_5a656_row19_col1\" class=\"data row19 col1\" >Male</td>\n",
              "      <td id=\"T_5a656_row19_col2\" class=\"data row19 col2\" >411753</td>\n",
              "    </tr>\n",
              "  </tbody>\n",
              "</table>\n"
            ]
          },
          "metadata": {},
          "execution_count": 33
        }
      ],
      "source": [
        "names = data_fr.groupby([\"firstname\", \"gender\"]).agg({\"count\": \"sum\"}).reset_index().sort_values(\"count\", ascending=False).head(20).style.background_gradient()\n",
        "names\n"
      ]
    },
    {
      "cell_type": "markdown",
      "metadata": {
        "id": "wFMCpV4uMxGp",
        "nteract": {
          "transient": {
            "deleting": false
          }
        }
      },
      "source": [
        "## Rare firstnames\n",
        "\n",
        "**QUESTION:** In the French data, for each sex, plot the proportion of births given `_PRENOMS_RARES` as a function of the year."
      ]
    },
    {
      "cell_type": "code",
      "execution_count": null,
      "metadata": {
        "id": "zIA8LRNMMxGp",
        "colab": {
          "base_uri": "https://localhost:8080/",
          "height": 295
        },
        "outputId": "3b50444b-051a-404b-dd16-696988f5f725"
      },
      "outputs": [
        {
          "output_type": "display_data",
          "data": {
            "text/plain": [
              "<Figure size 432x288 with 1 Axes>"
            ],
            "image/png": "[encoded data removed]"
          },
          "metadata": {
            "needs_background": "light"
          }
        }
      ],
      "source": [
        "# Create a DataFrame of total births by year and sex\n",
        "total_births = data_fr.groupby(['year', 'gender'])['count'].sum().reset_index()\n",
        "\n",
        "# Create a DataFrame of rare name births by year and sex\n",
        "rare_births = data_fr[data_fr['firstname'] == '_PRENOMS_RARES'].groupby(['year', 'gender'])['count'].sum().reset_index()\n",
        "\n",
        "# Calculate the proportion of rare name births\n",
        "prop_rare_births = rare_births.merge(total_births, on=['year', 'gender'])\n",
        "prop_rare_births['proportion'] = prop_rare_births['count_x'] / prop_rare_births['count_y']\n",
        "\n",
        "\n",
        "_,ax = plt.subplots()\n",
        "\n",
        "M = prop_rare_births[prop_rare_births['gender'] == 'Male']\n",
        "F = prop_rare_births[prop_rare_births['gender'] == 'Female']\n",
        "\n",
        "ax.plot(M['year'], M['proportion'], label='Male')\n",
        "ax.plot(F['year'], F['proportion'], label='Female')\n",
        "\n",
        "ax.set_xlabel('Year')\n",
        "ax.set_ylabel('Proportion of births given rare names')\n",
        "ax.set_title('Proportion of births given rare names by year and sex')\n",
        "ax.legend()\n",
        "plt.show()"
      ]
    },
    {
      "cell_type": "markdown",
      "metadata": {
        "id": "IwRUA-XPMxGp",
        "nteract": {
          "transient": {
            "deleting": false
          }
        }
      },
      "source": [
        "# A study of the \"Marie\" firstname\n",
        "\n",
        "**QUESTION:** Plot the proportion of female births given name `'MARIE'` or `'MARIE-...'` (compounded names) as a function of the year.\n",
        "Proceed in such a way that the reader can see the share of compounded names. We are expecting an _area plot_.\n",
        "\n",
        "__Hints:__\n",
        "\n",
        "- Have a look at the `.str` accessor (to apply a string method over a whole column containing string)\n",
        "- Have a look at [r-graph-gallery: stacked area](https://www.r-graph-gallery.com/stacked-area-graph.html)  and\n",
        "at [ggplot documentation](https://ggplot2.tidyverse.org/reference/geom_ribbon.html). Pay attention on the way you stack the area corresponding to names matching pattern 'MARIE-.*' over or under the are corresponding to babies named 'MARIE'\n",
        "- See Graphique 3, page 48, de _L'archipel français_  de J. Fourquet. Le Seuil. Essais. Vol. 898.\n",
        "\n",
        "- Add annotation, 1st World War, Front Populaire, 2nd World War, 1968"
      ]
    },
    {
      "cell_type": "code",
      "execution_count": null,
      "metadata": {
        "ExecuteTime": {
          "end_time": "2021-02-03T10:00:15.046715Z",
          "start_time": "2021-02-03T10:00:15.043807Z"
        },
        "id": "qH3sGAaLMxGp",
        "jupyter": {
          "outputs_hidden": false,
          "source_hidden": false
        },
        "nteract": {
          "transient": {
            "deleting": false
          }
        },
        "colab": {
          "base_uri": "https://localhost:8080/",
          "height": 404
        },
        "outputId": "4094802a-bfb9-4c41-daa0-af5c3a7d5371"
      },
      "outputs": [
        {
          "output_type": "display_data",
          "data": {
            "text/plain": [
              "<Figure size 720x432 with 1 Axes>"
            ],
            "image/png": "[encoded data removed]"
          },
          "metadata": {
            "needs_background": "light"
          }
        }
      ],
      "source": [
        "# Filter for female names starting with \"Marie\" or \"Marie-\"\n",
        "female_marie_names = data_fr[(data_fr[\"gender\"] == \"Female\") & (data_fr[\"firstname\"].str.startswith(\"MARIE\") | data_fr[\"firstname\"].str.startswith(\"MARIE-\"))]\n",
        "\n",
        "# Group by year and sum the counts for Marie names and all female names\n",
        "marie_counts_by_year = female_marie_names.groupby(\"year\")[\"count\"].sum()\n",
        "all_female_counts_by_year = data_fr[data_fr[\"gender\"] == \"Female\"].groupby(\"year\")[\"count\"].sum()\n",
        "\n",
        "# Calculate the proportion of female births with Marie names for each year\n",
        "proportions_by_year = marie_counts_by_year / all_female_counts_by_year\n",
        "\n",
        "# Plot the proportions as an area plot\n",
        "fig, ax = plt.subplots(figsize=(10, 6))\n",
        "ax.fill_between(proportions_by_year.index, proportions_by_year.values, color=\"lightblue\")\n",
        "\n",
        "# Add annotation, 1st World War, Front Populaire, 2nd World War, 1968\n",
        "ax.axvline(x=1914, color=\"gray\", linestyle=\"--\")\n",
        "ax.text(1914, 0.02, \"1st World War\", rotation=90)\n",
        "\n",
        "ax.axvline(x=1936, color=\"gray\", linestyle=\"--\")\n",
        "ax.text(1936, 0.08, \"Front Populaire\", rotation=90)\n",
        "\n",
        "ax.axvline(x=1939, color=\"gray\", linestyle=\"--\")\n",
        "ax.text(1939, 0.02, \"2nd World War\", rotation=90)\n",
        "\n",
        "ax.axvline(x=1968, color=\"gray\", linestyle=\"--\")\n",
        "ax.text(1968, 0.035, \"1968\", rotation=90)\n",
        "\n",
        "# Set the title and axis labels, and set the y-axis limits\n",
        "ax.set_title(\"Proportion of Female Births Given Name 'MARIE' or 'MARIE-...'\")\n",
        "ax.set_xlabel(\"Year\")\n",
        "ax.set_ylabel(\"Proportion\")\n",
        "plt.show()\n"
      ]
    },
    {
      "cell_type": "markdown",
      "metadata": {
        "id": "Rd2xOeajMxGq",
        "nteract": {
          "transient": {
            "deleting": false
          }
        }
      },
      "source": [
        "# Top 10 firstnames of year 2000\n",
        "\n",
        "**QUESTION:** For each sex, select the ten most popular names in year 2000, and plot the proportion\n",
        "of newborns given that name over time. Take into account that some names might have\n",
        "zero occurrence during certain years.\n",
        "\n",
        "__Hint:__ Leave aside the rows with '_PRENOMS_RARES'."
      ]
    },
    {
      "cell_type": "code",
      "execution_count": null,
      "metadata": {
        "ExecuteTime": {
          "end_time": "2021-02-03T10:00:21.360489Z",
          "start_time": "2021-02-03T10:00:21.357427Z"
        },
        "id": "-nz38lfEMxGq",
        "jupyter": {
          "outputs_hidden": false,
          "source_hidden": false
        },
        "nteract": {
          "transient": {
            "deleting": false
          }
        },
        "colab": {
          "base_uri": "https://localhost:8080/",
          "height": 331
        },
        "outputId": "7047bf0d-e900-4831-f452-3f04e549808b"
      },
      "outputs": [
        {
          "output_type": "display_data",
          "data": {
            "text/plain": [
              "<Figure size 432x288 with 1 Axes>"
            ],
            "image/png": "[encoded data removed]"
          },
          "metadata": {
            "needs_background": "light"
          }
        },
        {
          "output_type": "execute_result",
          "data": {
            "text/plain": [
              "\"\\nax.plot( prop_top_female,alpha=0.8)\\nax.set_title('Top 10 female names in 2000')\\nax.set_xlabel('Year')\\nax.set_ylabel('Proportion')\\nax.legend(labels=prop_top_female.columns, loc='best')\\nplt.show()\\n\""
            ],
            "application/vnd.google.colaboratory.intrinsic+json": {
              "type": "string"
            }
          },
          "metadata": {},
          "execution_count": 32
        }
      ],
      "source": [
        "# Leave aside the rows with '_PRENOMS_RARES'.\n",
        "Not_PRENOMS_RARES = data_fr[data_fr['firstname'] != '_PRENOMS_RARES']\n",
        "\n",
        "# Select 10 most popular names in year 2000 for each sex\n",
        "top_names_male = Not_PRENOMS_RARES[(Not_PRENOMS_RARES['year'] == 2000) & (Not_PRENOMS_RARES['gender'] == 'Male')].sort_values(by='count', ascending=False).head(10)['firstname'].tolist()\n",
        "top_names_female = Not_PRENOMS_RARES[(Not_PRENOMS_RARES['year'] == 2000) & (Not_PRENOMS_RARES['gender'] == 'Female')].sort_values(by='count', ascending=False).head(10)['firstname'].tolist()\n",
        "\n",
        "# Filter by top names\n",
        "data_top_male = Not_PRENOMS_RARES[(Not_PRENOMS_RARES['gender'] == 'Male') & (Not_PRENOMS_RARES['firstname'].isin(top_names_male))]\n",
        "data_top_female = Not_PRENOMS_RARES[(Not_PRENOMS_RARES['gender'] == 'Female') & (Not_PRENOMS_RARES['firstname'].isin(top_names_female))]\n",
        "\n",
        "# Compute proportion of newborns for each name over time\n",
        "prop_top_male = data_top_male.groupby(['year', 'firstname'])['count'].sum() / Not_PRENOMS_RARES[(Not_PRENOMS_RARES['gender'] == 'Male') & (Not_PRENOMS_RARES['year'] == 2000)]['count'].sum()\n",
        "prop_top_female = data_top_female.groupby(['year', 'firstname'])['count'].sum() / Not_PRENOMS_RARES[(Not_PRENOMS_RARES['gender'] == 'Female') & (Not_PRENOMS_RARES['year'] == 2000)]['count'].sum()\n",
        "\n",
        "# Reshape data to wide format and fill missing values with 0\n",
        "prop_top_male = prop_top_male.unstack()\n",
        "prop_top_male = prop_top_male.reindex(range(1900, 2020)).fillna(0)\n",
        "\n",
        "prop_top_female = prop_top_female.unstack()\n",
        "prop_top_female = prop_top_female.reindex(range(1900, 2020)).fillna(0)\n",
        "\n",
        "_,ax = plt.subplots()\n",
        "\n",
        "\n",
        "\n",
        "# Plot proportion of newborns given each name over time for male\n",
        "ax.plot( prop_top_male)\n",
        "ax.set_title('Top 10 male names in 2000')\n",
        "ax.set_xlabel('Year')\n",
        "ax.set_ylabel('Proportion')\n",
        "ax.legend(labels=prop_top_male.columns, loc='best')\n",
        "plt.show()\n",
        "\n",
        "# Plot proportion of newborns given each name over time for female\n",
        "#Uncomment the code to test\n",
        "\"\"\"\n",
        "ax.plot( prop_top_female,alpha=0.8)\n",
        "ax.set_title('Top 10 female names in 2000')\n",
        "ax.set_xlabel('Year')\n",
        "ax.set_ylabel('Proportion')\n",
        "ax.legend(labels=prop_top_female.columns, loc='best')\n",
        "plt.show()\n",
        "\"\"\"\n"
      ]
    },
    {
      "cell_type": "markdown",
      "metadata": {
        "id": "jOF-iAdJMxGq"
      },
      "source": [
        "# Picturing concentration of babynames distributions"
      ]
    },
    {
      "cell_type": "markdown",
      "metadata": {
        "id": "J9rVDuXvMxGq"
      },
      "source": [
        "\n",
        "Every year, the name counts define a discrete probability distribution over the set of names (the universe).\n",
        "\n",
        "This distribution, just as an income or wealth distribution, is (usually) far from being uniform. We want to assess how uneven it is.\n",
        "\n",
        "We use the tools developed in econometrics.\n",
        "\n",
        "Without loss of generality, we assume that we handle a distribution over positive integers $1, \\ldots, n$ where $n$ is the number of distinct names given during a year.\n",
        "\n",
        "We assume that frequencies $p_1, p_2, \\ldots, p_n$ are given in ascending order, ties are broken arbitrarily.\n",
        "\n",
        "The `Lorenz function` ([Lorenz](https://en.wikipedia.org/wiki/Lorenz_curve) not `Lorentz`) maps $[0, 1] \\to [0, 1]$.\n",
        "\n",
        "$$L(x) = \\sum_{i=1}^{\\lfloor nx \\rfloor} p_i .$$\n",
        "\n",
        "Note that this is a piecewise constant function.\n",
        "\n",
        "\n",
        "**Question:** Compute and plot the Lorenz fucntion for a given `sex`, `year` and `country`"
      ]
    },
    {
      "cell_type": "code",
      "execution_count": null,
      "metadata": {
        "id": "Llt6HbDiMxGq"
      },
      "outputs": [],
      "source": []
    },
    {
      "cell_type": "markdown",
      "metadata": {
        "id": "txsg_Iq4MxGq"
      },
      "source": [
        "**Question:** Design an animated plot that shows the evolution of the Lorenz curve of babynames distribution through the years for a given sex and country.\n"
      ]
    },
    {
      "cell_type": "code",
      "execution_count": null,
      "metadata": {
        "id": "2iT5DbEWMxGr"
      },
      "outputs": [],
      "source": []
    },
    {
      "cell_type": "markdown",
      "metadata": {
        "id": "-3eDYH_fMxGr"
      },
      "source": [
        "The Lorenz curve summarizes how far a discrete probability distribution is from the uniform distribution. This is a very rich summary and it is difficult to communicate this message to a wide audience. People tend to favor numerical indices (they don't really understand, but they get used to it): Gini, Atkinson, Theil, ...\n",
        "\n",
        "The [Gini index](https://en.wikipedia.org/wiki/Gini_coefficient) is twice the surface of the area comprised between curves $y=x$ and $y=L(x)$.\n",
        "\n",
        "$$G = 2 \\times \\int_0^1 (x -L(x)) \\mathrm{d}x$$\n",
        "\n",
        "The next formula  allows us to compute it efficiently.\n",
        "\n",
        "$$G={\\frac {2\\sum _{i=1}^{n}i p_{i}}{n\\sum _{i=1}^{n}p_{i}}}-{\\frac {n+1}{n}}.$$\n",
        "\n",
        "\n",
        "**Question:** Compute and plot Gini index of names distribution over time for sex and countries\n"
      ]
    },
    {
      "cell_type": "markdown",
      "metadata": {
        "id": "-fhlDEw0MxGr"
      },
      "source": []
    },
    {
      "cell_type": "markdown",
      "metadata": {
        "id": "ImepwhDQMxGr"
      },
      "source": []
    },
    {
      "cell_type": "markdown",
      "metadata": {
        "id": "M3hIbHeSMxGr"
      },
      "source": [
        "# Picturing surges of popularity\n",
        "\n",
        "In the sequel, the *popularity* of a gendered name in a population during a given year is the proportion of babies of that gender born during that year in that country,  that are given this name.\n",
        "\n",
        "**Question:** Prepare a data frame that contains for each hype name the 20 years before and 30 years after the maximum popularity is achieved, and, for each such year, the rank and popularity of the hype name. Do this for US and French data.\n"
      ]
    },
    {
      "cell_type": "code",
      "execution_count": null,
      "metadata": {
        "id": "rMYySSqVMxGr"
      },
      "outputs": [],
      "source": []
    },
    {
      "cell_type": "markdown",
      "metadata": {
        "id": "j306XqedMxGr"
      },
      "source": [
        "**Question:** Plot offseted popularity (share of given names within year, country, gender) curves of hype names. Facet by sex and country."
      ]
    },
    {
      "cell_type": "markdown",
      "metadata": {
        "id": "3E1ztlkiMxGr"
      },
      "source": []
    },
    {
      "cell_type": "markdown",
      "metadata": {
        "id": "bxa1jszoMxGs"
      },
      "source": [
        "**Question:** Rescale popularity curves so that all of them have maximum $1$."
      ]
    },
    {
      "cell_type": "code",
      "execution_count": null,
      "metadata": {
        "id": "gpViA6y7MxGs"
      },
      "outputs": [],
      "source": []
    },
    {
      "cell_type": "markdown",
      "metadata": {
        "id": "5TvP52qIMxGs",
        "nteract": {
          "transient": {
            "deleting": false
          }
        }
      },
      "source": [
        "# Getting help\n",
        "\n",
        "- [pandas](https://pandas.pydata.org/pandas-docs/stable/reference/)\n",
        "\n",
        "- [plotly](https://plotly.com/python/) for animated plots\n",
        "\n",
        "- [stackoverflow](https://stackoverflow.com)\n",
        "\n",
        "- [stackoverflow: pandas](https://stackoverflow.com/questions/tagged/pandas)\n",
        "\n",
        "- [stackoverflow: plotly+python](https://stackoverflow.com/questions/tagged/plotly+python)\n",
        "\n",
        "- The US `babynames` analogue of the INSEE file has been a playground for data scientists,\n",
        " see [https://github.com/hadley/babynames](https://github.com/hadley/babynames)\n",
        "\n",
        "- Don't Repeat Yourself (DRY) principle  at [Wikipedia](https://en.wikipedia.org/wiki/Don%27t_repeat_yourself)"
      ]
    }
  ],
  "metadata": {
    "colab": {
      "provenance": []
    },
    "kernelspec": {
      "display_name": "Python 3 (ipykernel)",
      "language": "python",
      "name": "python3"
    },
    "language_info": {
      "codemirror_mode": {
        "name": "ipython",
        "version": 3
      },
      "file_extension": ".py",
      "mimetype": "text/x-python",
      "name": "python",
      "nbconvert_exporter": "python",
      "pygments_lexer": "ipython3",
      "version": "3.8.10"
    },
    "toc": {
      "base_numbering": 1,
      "nav_menu": {},
      "number_sections": true,
      "sideBar": true,
      "skip_h1_title": false,
      "title_cell": "Table of Contents",
      "title_sidebar": "Contents",
      "toc_cell": false,
      "toc_position": {},
      "toc_section_display": true,
      "toc_window_display": true
    },
    "vscode": {
      "interpreter": {
        "hash": "6795c53a464863a7af04e484d197ab81636f962540f300a02661ac97b978f019"
      }
    }
  },
  "nbformat": 4,
  "nbformat_minor": 0
}