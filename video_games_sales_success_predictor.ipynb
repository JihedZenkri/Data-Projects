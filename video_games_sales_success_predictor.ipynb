{
  "metadata": {
    "colab": {
      "provenance": []
    },
    "kernelspec": {
      "name": "python3",
      "display_name": "Python 3"
    },
    "language_info": {
      "name": "python",
      "version": "3.10.12",
      "mimetype": "text/x-python",
      "codemirror_mode": {
        "name": "ipython",
        "version": 3
      },
      "pygments_lexer": "ipython3",
      "nbconvert_exporter": "python",
      "file_extension": ".py"
    },
    "kaggle": {
      "accelerator": "none",
      "dataSources": [
        {
          "sourceId": 1146,
          "sourceType": "datasetVersion",
          "datasetId": 576
        }
      ],
      "dockerImageVersionId": 30616,
      "isInternetEnabled": false,
      "language": "python",
      "sourceType": "notebook",
      "isGpuEnabled": false
    }
  },
  "nbformat_minor": 0,
  "nbformat": 4,
  "cells": [
    {
      "cell_type": "markdown",
      "source": [
        "# Importing required libraries"
      ],
      "metadata": {
        "id": "dLk3NtvyYH3n"
      }
    },
    {
      "cell_type": "code",
      "source": [
        "import numpy as np\n",
        "import pandas as pd\n",
        "import math\n",
        "from sklearn.model_selection import train_test_split\n",
        "from sklearn.ensemble import RandomForestClassifier\n",
        "from sklearn.linear_model import LogisticRegression\n",
        "from sklearn.neighbors import KNeighborsClassifier\n",
        "from sklearn.svm import SVC\n",
        "from sklearn.metrics import  accuracy_score\n",
        "from sklearn.model_selection import cross_val_score, KFold\n",
        "from sklearn.preprocessing import StandardScaler\n",
        "import plotly.graph_objects as go\n"
      ],
      "metadata": {
        "execution": {
          "iopub.status.busy": "2023-12-14T15:04:59.627528Z",
          "iopub.execute_input": "2023-12-14T15:04:59.627923Z",
          "iopub.status.idle": "2023-12-14T15:04:59.634412Z",
          "shell.execute_reply.started": "2023-12-14T15:04:59.627892Z",
          "shell.execute_reply": "2023-12-14T15:04:59.633387Z"
        },
        "trusted": true,
        "id": "jnn_i7XQYH3t"
      },
      "execution_count": null,
      "outputs": []
    },
    {
      "cell_type": "markdown",
      "source": [
        "# **Importing Data**"
      ],
      "metadata": {
        "id": "8u-SIFA4VTpY"
      }
    },
    {
      "cell_type": "code",
      "source": [
        "original_data = pd.read_csv(\"Video_Games_Sales_as_at_22_Dec_2016.csv\")\n"
      ],
      "metadata": {
        "id": "X5fynajuwv3-",
        "execution": {
          "iopub.status.busy": "2023-12-14T15:05:01.908771Z",
          "iopub.execute_input": "2023-12-14T15:05:01.909466Z",
          "iopub.status.idle": "2023-12-14T15:05:01.979046Z",
          "shell.execute_reply.started": "2023-12-14T15:05:01.909428Z",
          "shell.execute_reply": "2023-12-14T15:05:01.978006Z"
        },
        "trusted": true
      },
      "execution_count": null,
      "outputs": []
    },
    {
      "cell_type": "code",
      "source": [
        "original_data.head(5)"
      ],
      "metadata": {
        "id": "D6rveXwNxLQ6",
        "outputId": "0c9db7f0-b643-4ee8-8407-721e2069cd3f",
        "execution": {
          "iopub.status.busy": "2023-12-14T15:05:01.982241Z",
          "iopub.execute_input": "2023-12-14T15:05:01.982646Z",
          "iopub.status.idle": "2023-12-14T15:05:02.010786Z",
          "shell.execute_reply.started": "2023-12-14T15:05:01.982605Z",
          "shell.execute_reply": "2023-12-14T15:05:02.009571Z"
        },
        "trusted": true,
        "colab": {
          "base_uri": "https://localhost:8080/",
          "height": 276
        }
      },
      "execution_count": null,
      "outputs": [
        {
          "output_type": "execute_result",
          "data": {
            "text/plain": [
              "                       Name Platform  Year_of_Release         Genre Publisher  \\\n",
              "0                Wii Sports      Wii           2006.0        Sports  Nintendo   \n",
              "1         Super Mario Bros.      NES           1985.0      Platform  Nintendo   \n",
              "2            Mario Kart Wii      Wii           2008.0        Racing  Nintendo   \n",
              "3         Wii Sports Resort      Wii           2009.0        Sports  Nintendo   \n",
              "4  Pokemon Red/Pokemon Blue       GB           1996.0  Role-Playing  Nintendo   \n",
              "\n",
              "   NA_Sales  EU_Sales  JP_Sales  Other_Sales  Global_Sales  Critic_Score  \\\n",
              "0     41.36     28.96      3.77         8.45         82.53          76.0   \n",
              "1     29.08      3.58      6.81         0.77         40.24           NaN   \n",
              "2     15.68     12.76      3.79         3.29         35.52          82.0   \n",
              "3     15.61     10.93      3.28         2.95         32.77          80.0   \n",
              "4     11.27      8.89     10.22         1.00         31.37           NaN   \n",
              "\n",
              "   Critic_Count User_Score  User_Count Developer Rating  \n",
              "0          51.0          8       322.0  Nintendo      E  \n",
              "1           NaN        NaN         NaN       NaN    NaN  \n",
              "2          73.0        8.3       709.0  Nintendo      E  \n",
              "3          73.0          8       192.0  Nintendo      E  \n",
              "4           NaN        NaN         NaN       NaN    NaN  "
            ],
            "text/html": [
              "\n",
              "  <div id=\"df-b8eb154a-ff7f-4abe-a46e-dc93b5ad07cc\" class=\"colab-df-container\">\n",
              "    <div>\n",
              "<style scoped>\n",
              "    .dataframe tbody tr th:only-of-type {\n",
              "        vertical-align: middle;\n",
              "    }\n",
              "\n",
              "    .dataframe tbody tr th {\n",
              "        vertical-align: top;\n",
              "    }\n",
              "\n",
              "    .dataframe thead th {\n",
              "        text-align: right;\n",
              "    }\n",
              "</style>\n",
              "<table border=\"1\" class=\"dataframe\">\n",
              "  <thead>\n",
              "    <tr style=\"text-align: right;\">\n",
              "      <th></th>\n",
              "      <th>Name</th>\n",
              "      <th>Platform</th>\n",
              "      <th>Year_of_Release</th>\n",
              "      <th>Genre</th>\n",
              "      <th>Publisher</th>\n",
              "      <th>NA_Sales</th>\n",
              "      <th>EU_Sales</th>\n",
              "      <th>JP_Sales</th>\n",
              "      <th>Other_Sales</th>\n",
              "      <th>Global_Sales</th>\n",
              "      <th>Critic_Score</th>\n",
              "      <th>Critic_Count</th>\n",
              "      <th>User_Score</th>\n",
              "      <th>User_Count</th>\n",
              "      <th>Developer</th>\n",
              "      <th>Rating</th>\n",
              "    </tr>\n",
              "  </thead>\n",
              "  <tbody>\n",
              "    <tr>\n",
              "      <th>0</th>\n",
              "      <td>Wii Sports</td>\n",
              "      <td>Wii</td>\n",
              "      <td>2006.0</td>\n",
              "      <td>Sports</td>\n",
              "      <td>Nintendo</td>\n",
              "      <td>41.36</td>\n",
              "      <td>28.96</td>\n",
              "      <td>3.77</td>\n",
              "      <td>8.45</td>\n",
              "      <td>82.53</td>\n",
              "      <td>76.0</td>\n",
              "      <td>51.0</td>\n",
              "      <td>8</td>\n",
              "      <td>322.0</td>\n",
              "      <td>Nintendo</td>\n",
              "      <td>E</td>\n",
              "    </tr>\n",
              "    <tr>\n",
              "      <th>1</th>\n",
              "      <td>Super Mario Bros.</td>\n",
              "      <td>NES</td>\n",
              "      <td>1985.0</td>\n",
              "      <td>Platform</td>\n",
              "      <td>Nintendo</td>\n",
              "      <td>29.08</td>\n",
              "      <td>3.58</td>\n",
              "      <td>6.81</td>\n",
              "      <td>0.77</td>\n",
              "      <td>40.24</td>\n",
              "      <td>NaN</td>\n",
              "      <td>NaN</td>\n",
              "      <td>NaN</td>\n",
              "      <td>NaN</td>\n",
              "      <td>NaN</td>\n",
              "      <td>NaN</td>\n",
              "    </tr>\n",
              "    <tr>\n",
              "      <th>2</th>\n",
              "      <td>Mario Kart Wii</td>\n",
              "      <td>Wii</td>\n",
              "      <td>2008.0</td>\n",
              "      <td>Racing</td>\n",
              "      <td>Nintendo</td>\n",
              "      <td>15.68</td>\n",
              "      <td>12.76</td>\n",
              "      <td>3.79</td>\n",
              "      <td>3.29</td>\n",
              "      <td>35.52</td>\n",
              "      <td>82.0</td>\n",
              "      <td>73.0</td>\n",
              "      <td>8.3</td>\n",
              "      <td>709.0</td>\n",
              "      <td>Nintendo</td>\n",
              "      <td>E</td>\n",
              "    </tr>\n",
              "    <tr>\n",
              "      <th>3</th>\n",
              "      <td>Wii Sports Resort</td>\n",
              "      <td>Wii</td>\n",
              "      <td>2009.0</td>\n",
              "      <td>Sports</td>\n",
              "      <td>Nintendo</td>\n",
              "      <td>15.61</td>\n",
              "      <td>10.93</td>\n",
              "      <td>3.28</td>\n",
              "      <td>2.95</td>\n",
              "      <td>32.77</td>\n",
              "      <td>80.0</td>\n",
              "      <td>73.0</td>\n",
              "      <td>8</td>\n",
              "      <td>192.0</td>\n",
              "      <td>Nintendo</td>\n",
              "      <td>E</td>\n",
              "    </tr>\n",
              "    <tr>\n",
              "      <th>4</th>\n",
              "      <td>Pokemon Red/Pokemon Blue</td>\n",
              "      <td>GB</td>\n",
              "      <td>1996.0</td>\n",
              "      <td>Role-Playing</td>\n",
              "      <td>Nintendo</td>\n",
              "      <td>11.27</td>\n",
              "      <td>8.89</td>\n",
              "      <td>10.22</td>\n",
              "      <td>1.00</td>\n",
              "      <td>31.37</td>\n",
              "      <td>NaN</td>\n",
              "      <td>NaN</td>\n",
              "      <td>NaN</td>\n",
              "      <td>NaN</td>\n",
              "      <td>NaN</td>\n",
              "      <td>NaN</td>\n",
              "    </tr>\n",
              "  </tbody>\n",
              "</table>\n",
              "</div>\n",
              "    <div class=\"colab-df-buttons\">\n",
              "\n",
              "  <div class=\"colab-df-container\">\n",
              "    <button class=\"colab-df-convert\" onclick=\"convertToInteractive('df-b8eb154a-ff7f-4abe-a46e-dc93b5ad07cc')\"\n",
              "            title=\"Convert this dataframe to an interactive table.\"\n",
              "            style=\"display:none;\">\n",
              "\n",
              "  <svg xmlns=\"http://www.w3.org/2000/svg\" height=\"24px\" viewBox=\"0 -960 960 960\">\n",
              "    <path d=\"M120-120v-720h720v720H120Zm60-500h600v-160H180v160Zm220 220h160v-160H400v160Zm0 220h160v-160H400v160ZM180-400h160v-160H180v160Zm440 0h160v-160H620v160ZM180-180h160v-160H180v160Zm440 0h160v-160H620v160Z\"/>\n",
              "  </svg>\n",
              "    </button>\n",
              "\n",
              "  <style>\n",
              "    .colab-df-container {\n",
              "      display:flex;\n",
              "      gap: 12px;\n",
              "    }\n",
              "\n",
              "    .colab-df-convert {\n",
              "      background-color: #E8F0FE;\n",
              "      border: none;\n",
              "      border-radius: 50%;\n",
              "      cursor: pointer;\n",
              "      display: none;\n",
              "      fill: #1967D2;\n",
              "      height: 32px;\n",
              "      padding: 0 0 0 0;\n",
              "      width: 32px;\n",
              "    }\n",
              "\n",
              "    .colab-df-convert:hover {\n",
              "      background-color: #E2EBFA;\n",
              "      box-shadow: 0px 1px 2px rgba(60, 64, 67, 0.3), 0px 1px 3px 1px rgba(60, 64, 67, 0.15);\n",
              "      fill: #174EA6;\n",
              "    }\n",
              "\n",
              "    .colab-df-buttons div {\n",
              "      margin-bottom: 4px;\n",
              "    }\n",
              "\n",
              "    [theme=dark] .colab-df-convert {\n",
              "      background-color: #3B4455;\n",
              "      fill: #D2E3FC;\n",
              "    }\n",
              "\n",
              "    [theme=dark] .colab-df-convert:hover {\n",
              "      background-color: #434B5C;\n",
              "      box-shadow: 0px 1px 3px 1px rgba(0, 0, 0, 0.15);\n",
              "      filter: drop-shadow(0px 1px 2px rgba(0, 0, 0, 0.3));\n",
              "      fill: #FFFFFF;\n",
              "    }\n",
              "  </style>\n",
              "\n",
              "    <script>\n",
              "      const buttonEl =\n",
              "        document.querySelector('#df-b8eb154a-ff7f-4abe-a46e-dc93b5ad07cc button.colab-df-convert');\n",
              "      buttonEl.style.display =\n",
              "        google.colab.kernel.accessAllowed ? 'block' : 'none';\n",
              "\n",
              "      async function convertToInteractive(key) {\n",
              "        const element = document.querySelector('#df-b8eb154a-ff7f-4abe-a46e-dc93b5ad07cc');\n",
              "        const dataTable =\n",
              "          await google.colab.kernel.invokeFunction('convertToInteractive',\n",
              "                                                    [key], {});\n",
              "        if (!dataTable) return;\n",
              "\n",
              "        const docLinkHtml = 'Like what you see? Visit the ' +\n",
              "          '<a target=\"_blank\" href=https://colab.research.google.com/notebooks/data_table.ipynb>data table notebook</a>'\n",
              "          + ' to learn more about interactive tables.';\n",
              "        element.innerHTML = '';\n",
              "        dataTable['output_type'] = 'display_data';\n",
              "        await google.colab.output.renderOutput(dataTable, element);\n",
              "        const docLink = document.createElement('div');\n",
              "        docLink.innerHTML = docLinkHtml;\n",
              "        element.appendChild(docLink);\n",
              "      }\n",
              "    </script>\n",
              "  </div>\n",
              "\n",
              "\n",
              "<div id=\"df-db537280-55de-475d-9a66-4bb29a3d8bee\">\n",
              "  <button class=\"colab-df-quickchart\" onclick=\"quickchart('df-db537280-55de-475d-9a66-4bb29a3d8bee')\"\n",
              "            title=\"Suggest charts\"\n",
              "            style=\"display:none;\">\n",
              "\n",
              "<svg xmlns=\"http://www.w3.org/2000/svg\" height=\"24px\"viewBox=\"0 0 24 24\"\n",
              "     width=\"24px\">\n",
              "    <g>\n",
              "        <path d=\"M19 3H5c-1.1 0-2 .9-2 2v14c0 1.1.9 2 2 2h14c1.1 0 2-.9 2-2V5c0-1.1-.9-2-2-2zM9 17H7v-7h2v7zm4 0h-2V7h2v10zm4 0h-2v-4h2v4z\"/>\n",
              "    </g>\n",
              "</svg>\n",
              "  </button>\n",
              "\n",
              "<style>\n",
              "  .colab-df-quickchart {\n",
              "      --bg-color: #E8F0FE;\n",
              "      --fill-color: #1967D2;\n",
              "      --hover-bg-color: #E2EBFA;\n",
              "      --hover-fill-color: #174EA6;\n",
              "      --disabled-fill-color: #AAA;\n",
              "      --disabled-bg-color: #DDD;\n",
              "  }\n",
              "\n",
              "  [theme=dark] .colab-df-quickchart {\n",
              "      --bg-color: #3B4455;\n",
              "      --fill-color: #D2E3FC;\n",
              "      --hover-bg-color: #434B5C;\n",
              "      --hover-fill-color: #FFFFFF;\n",
              "      --disabled-bg-color: #3B4455;\n",
              "      --disabled-fill-color: #666;\n",
              "  }\n",
              "\n",
              "  .colab-df-quickchart {\n",
              "    background-color: var(--bg-color);\n",
              "    border: none;\n",
              "    border-radius: 50%;\n",
              "    cursor: pointer;\n",
              "    display: none;\n",
              "    fill: var(--fill-color);\n",
              "    height: 32px;\n",
              "    padding: 0;\n",
              "    width: 32px;\n",
              "  }\n",
              "\n",
              "  .colab-df-quickchart:hover {\n",
              "    background-color: var(--hover-bg-color);\n",
              "    box-shadow: 0 1px 2px rgba(60, 64, 67, 0.3), 0 1px 3px 1px rgba(60, 64, 67, 0.15);\n",
              "    fill: var(--button-hover-fill-color);\n",
              "  }\n",
              "\n",
              "  .colab-df-quickchart-complete:disabled,\n",
              "  .colab-df-quickchart-complete:disabled:hover {\n",
              "    background-color: var(--disabled-bg-color);\n",
              "    fill: var(--disabled-fill-color);\n",
              "    box-shadow: none;\n",
              "  }\n",
              "\n",
              "  .colab-df-spinner {\n",
              "    border: 2px solid var(--fill-color);\n",
              "    border-color: transparent;\n",
              "    border-bottom-color: var(--fill-color);\n",
              "    animation:\n",
              "      spin 1s steps(1) infinite;\n",
              "  }\n",
              "\n",
              "  @keyframes spin {\n",
              "    0% {\n",
              "      border-color: transparent;\n",
              "      border-bottom-color: var(--fill-color);\n",
              "      border-left-color: var(--fill-color);\n",
              "    }\n",
              "    20% {\n",
              "      border-color: transparent;\n",
              "      border-left-color: var(--fill-color);\n",
              "      border-top-color: var(--fill-color);\n",
              "    }\n",
              "    30% {\n",
              "      border-color: transparent;\n",
              "      border-left-color: var(--fill-color);\n",
              "      border-top-color: var(--fill-color);\n",
              "      border-right-color: var(--fill-color);\n",
              "    }\n",
              "    40% {\n",
              "      border-color: transparent;\n",
              "      border-right-color: var(--fill-color);\n",
              "      border-top-color: var(--fill-color);\n",
              "    }\n",
              "    60% {\n",
              "      border-color: transparent;\n",
              "      border-right-color: var(--fill-color);\n",
              "    }\n",
              "    80% {\n",
              "      border-color: transparent;\n",
              "      border-right-color: var(--fill-color);\n",
              "      border-bottom-color: var(--fill-color);\n",
              "    }\n",
              "    90% {\n",
              "      border-color: transparent;\n",
              "      border-bottom-color: var(--fill-color);\n",
              "    }\n",
              "  }\n",
              "</style>\n",
              "\n",
              "  <script>\n",
              "    async function quickchart(key) {\n",
              "      const quickchartButtonEl =\n",
              "        document.querySelector('#' + key + ' button');\n",
              "      quickchartButtonEl.disabled = true;  // To prevent multiple clicks.\n",
              "      quickchartButtonEl.classList.add('colab-df-spinner');\n",
              "      try {\n",
              "        const charts = await google.colab.kernel.invokeFunction(\n",
              "            'suggestCharts', [key], {});\n",
              "      } catch (error) {\n",
              "        console.error('Error during call to suggestCharts:', error);\n",
              "      }\n",
              "      quickchartButtonEl.classList.remove('colab-df-spinner');\n",
              "      quickchartButtonEl.classList.add('colab-df-quickchart-complete');\n",
              "    }\n",
              "    (() => {\n",
              "      let quickchartButtonEl =\n",
              "        document.querySelector('#df-db537280-55de-475d-9a66-4bb29a3d8bee button');\n",
              "      quickchartButtonEl.style.display =\n",
              "        google.colab.kernel.accessAllowed ? 'block' : 'none';\n",
              "    })();\n",
              "  </script>\n",
              "</div>\n",
              "    </div>\n",
              "  </div>\n"
            ]
          },
          "metadata": {},
          "execution_count": 21
        }
      ]
    },
    {
      "cell_type": "markdown",
      "source": [
        "# **Data Preprocessing**"
      ],
      "metadata": {
        "id": "5FPAyc1ZVadd"
      }
    },
    {
      "cell_type": "code",
      "source": [
        "vgs_data = original_data.copy()"
      ],
      "metadata": {
        "execution": {
          "iopub.status.busy": "2023-12-14T15:05:02.014803Z",
          "iopub.execute_input": "2023-12-14T15:05:02.015728Z",
          "iopub.status.idle": "2023-12-14T15:05:02.023393Z",
          "shell.execute_reply.started": "2023-12-14T15:05:02.015671Z",
          "shell.execute_reply": "2023-12-14T15:05:02.021972Z"
        },
        "trusted": true,
        "id": "zAaHATL3YH34"
      },
      "execution_count": null,
      "outputs": []
    },
    {
      "cell_type": "markdown",
      "source": [
        "## **Dropping unwanted columns**"
      ],
      "metadata": {
        "id": "XyYTTAt21BnF"
      }
    },
    {
      "cell_type": "code",
      "source": [
        "#remove name and Sales columns otherwise it would be very easy , it'll just add them up\n",
        "columns_to_drop = [\"Name\",\"NA_Sales\",\"EU_Sales\",\"JP_Sales\",\"Other_Sales\"]\n",
        "vgs_data.drop(columns_to_drop,axis =1 ,inplace = True)"
      ],
      "metadata": {
        "id": "jOz1UYFix31v",
        "execution": {
          "iopub.status.busy": "2023-12-14T15:05:02.025046Z",
          "iopub.execute_input": "2023-12-14T15:05:02.025538Z",
          "iopub.status.idle": "2023-12-14T15:05:02.039053Z",
          "shell.execute_reply.started": "2023-12-14T15:05:02.025477Z",
          "shell.execute_reply": "2023-12-14T15:05:02.037755Z"
        },
        "trusted": true
      },
      "execution_count": null,
      "outputs": []
    },
    {
      "cell_type": "code",
      "source": [
        "vgs_data.head(5)"
      ],
      "metadata": {
        "id": "jAcl2YFhyz9X",
        "outputId": "5e1aa2b6-ef62-45b9-9966-83c0072f533e",
        "execution": {
          "iopub.status.busy": "2023-12-14T15:05:02.040738Z",
          "iopub.execute_input": "2023-12-14T15:05:02.041097Z",
          "iopub.status.idle": "2023-12-14T15:05:02.062059Z",
          "shell.execute_reply.started": "2023-12-14T15:05:02.041060Z",
          "shell.execute_reply": "2023-12-14T15:05:02.060900Z"
        },
        "trusted": true,
        "colab": {
          "base_uri": "https://localhost:8080/",
          "height": 206
        }
      },
      "execution_count": null,
      "outputs": [
        {
          "output_type": "execute_result",
          "data": {
            "text/plain": [
              "  Platform  Year_of_Release         Genre Publisher  Global_Sales  \\\n",
              "0      Wii           2006.0        Sports  Nintendo         82.53   \n",
              "1      NES           1985.0      Platform  Nintendo         40.24   \n",
              "2      Wii           2008.0        Racing  Nintendo         35.52   \n",
              "3      Wii           2009.0        Sports  Nintendo         32.77   \n",
              "4       GB           1996.0  Role-Playing  Nintendo         31.37   \n",
              "\n",
              "   Critic_Score  Critic_Count User_Score  User_Count Developer Rating  \n",
              "0          76.0          51.0          8       322.0  Nintendo      E  \n",
              "1           NaN           NaN        NaN         NaN       NaN    NaN  \n",
              "2          82.0          73.0        8.3       709.0  Nintendo      E  \n",
              "3          80.0          73.0          8       192.0  Nintendo      E  \n",
              "4           NaN           NaN        NaN         NaN       NaN    NaN  "
            ],
            "text/html": [
              "\n",
              "  <div id=\"df-5a610b62-ad49-4878-8475-d109ada2d8d8\" class=\"colab-df-container\">\n",
              "    <div>\n",
              "<style scoped>\n",
              "    .dataframe tbody tr th:only-of-type {\n",
              "        vertical-align: middle;\n",
              "    }\n",
              "\n",
              "    .dataframe tbody tr th {\n",
              "        vertical-align: top;\n",
              "    }\n",
              "\n",
              "    .dataframe thead th {\n",
              "        text-align: right;\n",
              "    }\n",
              "</style>\n",
              "<table border=\"1\" class=\"dataframe\">\n",
              "  <thead>\n",
              "    <tr style=\"text-align: right;\">\n",
              "      <th></th>\n",
              "      <th>Platform</th>\n",
              "      <th>Year_of_Release</th>\n",
              "      <th>Genre</th>\n",
              "      <th>Publisher</th>\n",
              "      <th>Global_Sales</th>\n",
              "      <th>Critic_Score</th>\n",
              "      <th>Critic_Count</th>\n",
              "      <th>User_Score</th>\n",
              "      <th>User_Count</th>\n",
              "      <th>Developer</th>\n",
              "      <th>Rating</th>\n",
              "    </tr>\n",
              "  </thead>\n",
              "  <tbody>\n",
              "    <tr>\n",
              "      <th>0</th>\n",
              "      <td>Wii</td>\n",
              "      <td>2006.0</td>\n",
              "      <td>Sports</td>\n",
              "      <td>Nintendo</td>\n",
              "      <td>82.53</td>\n",
              "      <td>76.0</td>\n",
              "      <td>51.0</td>\n",
              "      <td>8</td>\n",
              "      <td>322.0</td>\n",
              "      <td>Nintendo</td>\n",
              "      <td>E</td>\n",
              "    </tr>\n",
              "    <tr>\n",
              "      <th>1</th>\n",
              "      <td>NES</td>\n",
              "      <td>1985.0</td>\n",
              "      <td>Platform</td>\n",
              "      <td>Nintendo</td>\n",
              "      <td>40.24</td>\n",
              "      <td>NaN</td>\n",
              "      <td>NaN</td>\n",
              "      <td>NaN</td>\n",
              "      <td>NaN</td>\n",
              "      <td>NaN</td>\n",
              "      <td>NaN</td>\n",
              "    </tr>\n",
              "    <tr>\n",
              "      <th>2</th>\n",
              "      <td>Wii</td>\n",
              "      <td>2008.0</td>\n",
              "      <td>Racing</td>\n",
              "      <td>Nintendo</td>\n",
              "      <td>35.52</td>\n",
              "      <td>82.0</td>\n",
              "      <td>73.0</td>\n",
              "      <td>8.3</td>\n",
              "      <td>709.0</td>\n",
              "      <td>Nintendo</td>\n",
              "      <td>E</td>\n",
              "    </tr>\n",
              "    <tr>\n",
              "      <th>3</th>\n",
              "      <td>Wii</td>\n",
              "      <td>2009.0</td>\n",
              "      <td>Sports</td>\n",
              "      <td>Nintendo</td>\n",
              "      <td>32.77</td>\n",
              "      <td>80.0</td>\n",
              "      <td>73.0</td>\n",
              "      <td>8</td>\n",
              "      <td>192.0</td>\n",
              "      <td>Nintendo</td>\n",
              "      <td>E</td>\n",
              "    </tr>\n",
              "    <tr>\n",
              "      <th>4</th>\n",
              "      <td>GB</td>\n",
              "      <td>1996.0</td>\n",
              "      <td>Role-Playing</td>\n",
              "      <td>Nintendo</td>\n",
              "      <td>31.37</td>\n",
              "      <td>NaN</td>\n",
              "      <td>NaN</td>\n",
              "      <td>NaN</td>\n",
              "      <td>NaN</td>\n",
              "      <td>NaN</td>\n",
              "      <td>NaN</td>\n",
              "    </tr>\n",
              "  </tbody>\n",
              "</table>\n",
              "</div>\n",
              "    <div class=\"colab-df-buttons\">\n",
              "\n",
              "  <div class=\"colab-df-container\">\n",
              "    <button class=\"colab-df-convert\" onclick=\"convertToInteractive('df-5a610b62-ad49-4878-8475-d109ada2d8d8')\"\n",
              "            title=\"Convert this dataframe to an interactive table.\"\n",
              "            style=\"display:none;\">\n",
              "\n",
              "  <svg xmlns=\"http://www.w3.org/2000/svg\" height=\"24px\" viewBox=\"0 -960 960 960\">\n",
              "    <path d=\"M120-120v-720h720v720H120Zm60-500h600v-160H180v160Zm220 220h160v-160H400v160Zm0 220h160v-160H400v160ZM180-400h160v-160H180v160Zm440 0h160v-160H620v160ZM180-180h160v-160H180v160Zm440 0h160v-160H620v160Z\"/>\n",
              "  </svg>\n",
              "    </button>\n",
              "\n",
              "  <style>\n",
              "    .colab-df-container {\n",
              "      display:flex;\n",
              "      gap: 12px;\n",
              "    }\n",
              "\n",
              "    .colab-df-convert {\n",
              "      background-color: #E8F0FE;\n",
              "      border: none;\n",
              "      border-radius: 50%;\n",
              "      cursor: pointer;\n",
              "      display: none;\n",
              "      fill: #1967D2;\n",
              "      height: 32px;\n",
              "      padding: 0 0 0 0;\n",
              "      width: 32px;\n",
              "    }\n",
              "\n",
              "    .colab-df-convert:hover {\n",
              "      background-color: #E2EBFA;\n",
              "      box-shadow: 0px 1px 2px rgba(60, 64, 67, 0.3), 0px 1px 3px 1px rgba(60, 64, 67, 0.15);\n",
              "      fill: #174EA6;\n",
              "    }\n",
              "\n",
              "    .colab-df-buttons div {\n",
              "      margin-bottom: 4px;\n",
              "    }\n",
              "\n",
              "    [theme=dark] .colab-df-convert {\n",
              "      background-color: #3B4455;\n",
              "      fill: #D2E3FC;\n",
              "    }\n",
              "\n",
              "    [theme=dark] .colab-df-convert:hover {\n",
              "      background-color: #434B5C;\n",
              "      box-shadow: 0px 1px 3px 1px rgba(0, 0, 0, 0.15);\n",
              "      filter: drop-shadow(0px 1px 2px rgba(0, 0, 0, 0.3));\n",
              "      fill: #FFFFFF;\n",
              "    }\n",
              "  </style>\n",
              "\n",
              "    <script>\n",
              "      const buttonEl =\n",
              "        document.querySelector('#df-5a610b62-ad49-4878-8475-d109ada2d8d8 button.colab-df-convert');\n",
              "      buttonEl.style.display =\n",
              "        google.colab.kernel.accessAllowed ? 'block' : 'none';\n",
              "\n",
              "      async function convertToInteractive(key) {\n",
              "        const element = document.querySelector('#df-5a610b62-ad49-4878-8475-d109ada2d8d8');\n",
              "        const dataTable =\n",
              "          await google.colab.kernel.invokeFunction('convertToInteractive',\n",
              "                                                    [key], {});\n",
              "        if (!dataTable) return;\n",
              "\n",
              "        const docLinkHtml = 'Like what you see? Visit the ' +\n",
              "          '<a target=\"_blank\" href=https://colab.research.google.com/notebooks/data_table.ipynb>data table notebook</a>'\n",
              "          + ' to learn more about interactive tables.';\n",
              "        element.innerHTML = '';\n",
              "        dataTable['output_type'] = 'display_data';\n",
              "        await google.colab.output.renderOutput(dataTable, element);\n",
              "        const docLink = document.createElement('div');\n",
              "        docLink.innerHTML = docLinkHtml;\n",
              "        element.appendChild(docLink);\n",
              "      }\n",
              "    </script>\n",
              "  </div>\n",
              "\n",
              "\n",
              "<div id=\"df-d5639997-5171-4425-8f7d-14076ecffb93\">\n",
              "  <button class=\"colab-df-quickchart\" onclick=\"quickchart('df-d5639997-5171-4425-8f7d-14076ecffb93')\"\n",
              "            title=\"Suggest charts\"\n",
              "            style=\"display:none;\">\n",
              "\n",
              "<svg xmlns=\"http://www.w3.org/2000/svg\" height=\"24px\"viewBox=\"0 0 24 24\"\n",
              "     width=\"24px\">\n",
              "    <g>\n",
              "        <path d=\"M19 3H5c-1.1 0-2 .9-2 2v14c0 1.1.9 2 2 2h14c1.1 0 2-.9 2-2V5c0-1.1-.9-2-2-2zM9 17H7v-7h2v7zm4 0h-2V7h2v10zm4 0h-2v-4h2v4z\"/>\n",
              "    </g>\n",
              "</svg>\n",
              "  </button>\n",
              "\n",
              "<style>\n",
              "  .colab-df-quickchart {\n",
              "      --bg-color: #E8F0FE;\n",
              "      --fill-color: #1967D2;\n",
              "      --hover-bg-color: #E2EBFA;\n",
              "      --hover-fill-color: #174EA6;\n",
              "      --disabled-fill-color: #AAA;\n",
              "      --disabled-bg-color: #DDD;\n",
              "  }\n",
              "\n",
              "  [theme=dark] .colab-df-quickchart {\n",
              "      --bg-color: #3B4455;\n",
              "      --fill-color: #D2E3FC;\n",
              "      --hover-bg-color: #434B5C;\n",
              "      --hover-fill-color: #FFFFFF;\n",
              "      --disabled-bg-color: #3B4455;\n",
              "      --disabled-fill-color: #666;\n",
              "  }\n",
              "\n",
              "  .colab-df-quickchart {\n",
              "    background-color: var(--bg-color);\n",
              "    border: none;\n",
              "    border-radius: 50%;\n",
              "    cursor: pointer;\n",
              "    display: none;\n",
              "    fill: var(--fill-color);\n",
              "    height: 32px;\n",
              "    padding: 0;\n",
              "    width: 32px;\n",
              "  }\n",
              "\n",
              "  .colab-df-quickchart:hover {\n",
              "    background-color: var(--hover-bg-color);\n",
              "    box-shadow: 0 1px 2px rgba(60, 64, 67, 0.3), 0 1px 3px 1px rgba(60, 64, 67, 0.15);\n",
              "    fill: var(--button-hover-fill-color);\n",
              "  }\n",
              "\n",
              "  .colab-df-quickchart-complete:disabled,\n",
              "  .colab-df-quickchart-complete:disabled:hover {\n",
              "    background-color: var(--disabled-bg-color);\n",
              "    fill: var(--disabled-fill-color);\n",
              "    box-shadow: none;\n",
              "  }\n",
              "\n",
              "  .colab-df-spinner {\n",
              "    border: 2px solid var(--fill-color);\n",
              "    border-color: transparent;\n",
              "    border-bottom-color: var(--fill-color);\n",
              "    animation:\n",
              "      spin 1s steps(1) infinite;\n",
              "  }\n",
              "\n",
              "  @keyframes spin {\n",
              "    0% {\n",
              "      border-color: transparent;\n",
              "      border-bottom-color: var(--fill-color);\n",
              "      border-left-color: var(--fill-color);\n",
              "    }\n",
              "    20% {\n",
              "      border-color: transparent;\n",
              "      border-left-color: var(--fill-color);\n",
              "      border-top-color: var(--fill-color);\n",
              "    }\n",
              "    30% {\n",
              "      border-color: transparent;\n",
              "      border-left-color: var(--fill-color);\n",
              "      border-top-color: var(--fill-color);\n",
              "      border-right-color: var(--fill-color);\n",
              "    }\n",
              "    40% {\n",
              "      border-color: transparent;\n",
              "      border-right-color: var(--fill-color);\n",
              "      border-top-color: var(--fill-color);\n",
              "    }\n",
              "    60% {\n",
              "      border-color: transparent;\n",
              "      border-right-color: var(--fill-color);\n",
              "    }\n",
              "    80% {\n",
              "      border-color: transparent;\n",
              "      border-right-color: var(--fill-color);\n",
              "      border-bottom-color: var(--fill-color);\n",
              "    }\n",
              "    90% {\n",
              "      border-color: transparent;\n",
              "      border-bottom-color: var(--fill-color);\n",
              "    }\n",
              "  }\n",
              "</style>\n",
              "\n",
              "  <script>\n",
              "    async function quickchart(key) {\n",
              "      const quickchartButtonEl =\n",
              "        document.querySelector('#' + key + ' button');\n",
              "      quickchartButtonEl.disabled = true;  // To prevent multiple clicks.\n",
              "      quickchartButtonEl.classList.add('colab-df-spinner');\n",
              "      try {\n",
              "        const charts = await google.colab.kernel.invokeFunction(\n",
              "            'suggestCharts', [key], {});\n",
              "      } catch (error) {\n",
              "        console.error('Error during call to suggestCharts:', error);\n",
              "      }\n",
              "      quickchartButtonEl.classList.remove('colab-df-spinner');\n",
              "      quickchartButtonEl.classList.add('colab-df-quickchart-complete');\n",
              "    }\n",
              "    (() => {\n",
              "      let quickchartButtonEl =\n",
              "        document.querySelector('#df-d5639997-5171-4425-8f7d-14076ecffb93 button');\n",
              "      quickchartButtonEl.style.display =\n",
              "        google.colab.kernel.accessAllowed ? 'block' : 'none';\n",
              "    })();\n",
              "  </script>\n",
              "</div>\n",
              "    </div>\n",
              "  </div>\n"
            ]
          },
          "metadata": {},
          "execution_count": 22
        }
      ]
    },
    {
      "cell_type": "code",
      "source": [
        "#Checking for missing values\n",
        "vgs_data.isnull().sum()"
      ],
      "metadata": {
        "id": "YDRNiHHKzCoA",
        "outputId": "9462fac4-0745-46f6-93c3-312e95577c56",
        "execution": {
          "iopub.status.busy": "2023-12-14T15:05:02.063844Z",
          "iopub.execute_input": "2023-12-14T15:05:02.064733Z",
          "iopub.status.idle": "2023-12-14T15:05:02.088478Z",
          "shell.execute_reply.started": "2023-12-14T15:05:02.064688Z",
          "shell.execute_reply": "2023-12-14T15:05:02.087584Z"
        },
        "trusted": true,
        "colab": {
          "base_uri": "https://localhost:8080/"
        }
      },
      "execution_count": null,
      "outputs": [
        {
          "output_type": "execute_result",
          "data": {
            "text/plain": [
              "Platform              0\n",
              "Year_of_Release     269\n",
              "Genre                 2\n",
              "Publisher            54\n",
              "Global_Sales          0\n",
              "Critic_Score       8582\n",
              "Critic_Count       8582\n",
              "User_Score         6704\n",
              "User_Count         9129\n",
              "Developer          6623\n",
              "Rating             6769\n",
              "dtype: int64"
            ]
          },
          "metadata": {},
          "execution_count": 19
        }
      ]
    },
    {
      "cell_type": "code",
      "source": [
        "null_counts = vgs_data.isnull().sum()\n",
        "\n",
        "fig = go.Figure(data=[go.Bar(x=null_counts.index, y=null_counts, marker_color='skyblue')])\n",
        "\n",
        "fig.update_layout(title=\"Nombre de valeurs nulles par colonne\",\n",
        "                  xaxis_title=\"Colonne\",\n",
        "                  yaxis_title=\"Nombre de valeurs nulles\"\n",
        "                  )\n",
        "fig.show()"
      ],
      "metadata": {
        "colab": {
          "base_uri": "https://localhost:8080/",
          "height": 542
        },
        "id": "vgKDZKF5Uw7B",
        "outputId": "6f168618-2f20-4d44-f427-990b30a8cd82"
      },
      "execution_count": null,
      "outputs": [
        {
          "output_type": "display_data",
          "data": {
            "text/html": [
              "<html>\n",
              "<head><meta charset=\"utf-8\" /></head>\n",
              "<body>\n",
              "    <div>            <script src=\"https://cdnjs.cloudflare.com/ajax/libs/mathjax/2.7.5/MathJax.js?config=TeX-AMS-MML_SVG\"></script><script type=\"text/javascript\">if (window.MathJax && window.MathJax.Hub && window.MathJax.Hub.Config) {window.MathJax.Hub.Config({SVG: {font: \"STIX-Web\"}});}</script>                <script type=\"text/javascript\">window.PlotlyConfig = {MathJaxConfig: 'local'};</script>\n",
              "        <script charset=\"utf-8\" src=\"https://cdn.plot.ly/plotly-2.24.1.min.js\"></script>                <div id=\"4350fe8c-0307-488b-bace-eadb62ffe20d\" class=\"plotly-graph-div\" style=\"height:525px; width:100%;\"></div>            <script type=\"text/javascript\">                                    window.PLOTLYENV=window.PLOTLYENV || {};                                    if (document.getElementById(\"4350fe8c-0307-488b-bace-eadb62ffe20d\")) {                    Plotly.newPlot(                        \"4350fe8c-0307-488b-bace-eadb62ffe20d\",                        [{\"marker\":{\"color\":\"skyblue\"},\"x\":[\"Platform\",\"Year_of_Release\",\"Genre\",\"Publisher\",\"Global_Sales\",\"Critic_Score\",\"Critic_Count\",\"User_Score\",\"User_Count\",\"Developer\",\"Rating\"],\"y\":[0,269,2,54,0,8582,8582,6704,9129,6623,6769],\"type\":\"bar\"}],                        {\"template\":{\"data\":{\"histogram2dcontour\":[{\"type\":\"histogram2dcontour\",\"colorbar\":{\"outlinewidth\":0,\"ticks\":\"\"},\"colorscale\":[[0.0,\"#0d0887\"],[0.1111111111111111,\"#46039f\"],[0.2222222222222222,\"#7201a8\"],[0.3333333333333333,\"#9c179e\"],[0.4444444444444444,\"#bd3786\"],[0.5555555555555556,\"#d8576b\"],[0.6666666666666666,\"#ed7953\"],[0.7777777777777778,\"#fb9f3a\"],[0.8888888888888888,\"#fdca26\"],[1.0,\"#f0f921\"]]}],\"choropleth\":[{\"type\":\"choropleth\",\"colorbar\":{\"outlinewidth\":0,\"ticks\":\"\"}}],\"histogram2d\":[{\"type\":\"histogram2d\",\"colorbar\":{\"outlinewidth\":0,\"ticks\":\"\"},\"colorscale\":[[0.0,\"#0d0887\"],[0.1111111111111111,\"#46039f\"],[0.2222222222222222,\"#7201a8\"],[0.3333333333333333,\"#9c179e\"],[0.4444444444444444,\"#bd3786\"],[0.5555555555555556,\"#d8576b\"],[0.6666666666666666,\"#ed7953\"],[0.7777777777777778,\"#fb9f3a\"],[0.8888888888888888,\"#fdca26\"],[1.0,\"#f0f921\"]]}],\"heatmap\":[{\"type\":\"heatmap\",\"colorbar\":{\"outlinewidth\":0,\"ticks\":\"\"},\"colorscale\":[[0.0,\"#0d0887\"],[0.1111111111111111,\"#46039f\"],[0.2222222222222222,\"#7201a8\"],[0.3333333333333333,\"#9c179e\"],[0.4444444444444444,\"#bd3786\"],[0.5555555555555556,\"#d8576b\"],[0.6666666666666666,\"#ed7953\"],[0.7777777777777778,\"#fb9f3a\"],[0.8888888888888888,\"#fdca26\"],[1.0,\"#f0f921\"]]}],\"heatmapgl\":[{\"type\":\"heatmapgl\",\"colorbar\":{\"outlinewidth\":0,\"ticks\":\"\"},\"colorscale\":[[0.0,\"#0d0887\"],[0.1111111111111111,\"#46039f\"],[0.2222222222222222,\"#7201a8\"],[0.3333333333333333,\"#9c179e\"],[0.4444444444444444,\"#bd3786\"],[0.5555555555555556,\"#d8576b\"],[0.6666666666666666,\"#ed7953\"],[0.7777777777777778,\"#fb9f3a\"],[0.8888888888888888,\"#fdca26\"],[1.0,\"#f0f921\"]]}],\"contourcarpet\":[{\"type\":\"contourcarpet\",\"colorbar\":{\"outlinewidth\":0,\"ticks\":\"\"}}],\"contour\":[{\"type\":\"contour\",\"colorbar\":{\"outlinewidth\":0,\"ticks\":\"\"},\"colorscale\":[[0.0,\"#0d0887\"],[0.1111111111111111,\"#46039f\"],[0.2222222222222222,\"#7201a8\"],[0.3333333333333333,\"#9c179e\"],[0.4444444444444444,\"#bd3786\"],[0.5555555555555556,\"#d8576b\"],[0.6666666666666666,\"#ed7953\"],[0.7777777777777778,\"#fb9f3a\"],[0.8888888888888888,\"#fdca26\"],[1.0,\"#f0f921\"]]}],\"surface\":[{\"type\":\"surface\",\"colorbar\":{\"outlinewidth\":0,\"ticks\":\"\"},\"colorscale\":[[0.0,\"#0d0887\"],[0.1111111111111111,\"#46039f\"],[0.2222222222222222,\"#7201a8\"],[0.3333333333333333,\"#9c179e\"],[0.4444444444444444,\"#bd3786\"],[0.5555555555555556,\"#d8576b\"],[0.6666666666666666,\"#ed7953\"],[0.7777777777777778,\"#fb9f3a\"],[0.8888888888888888,\"#fdca26\"],[1.0,\"#f0f921\"]]}],\"mesh3d\":[{\"type\":\"mesh3d\",\"colorbar\":{\"outlinewidth\":0,\"ticks\":\"\"}}],\"scatter\":[{\"fillpattern\":{\"fillmode\":\"overlay\",\"size\":10,\"solidity\":0.2},\"type\":\"scatter\"}],\"parcoords\":[{\"type\":\"parcoords\",\"line\":{\"colorbar\":{\"outlinewidth\":0,\"ticks\":\"\"}}}],\"scatterpolargl\":[{\"type\":\"scatterpolargl\",\"marker\":{\"colorbar\":{\"outlinewidth\":0,\"ticks\":\"\"}}}],\"bar\":[{\"error_x\":{\"color\":\"#2a3f5f\"},\"error_y\":{\"color\":\"#2a3f5f\"},\"marker\":{\"line\":{\"color\":\"#E5ECF6\",\"width\":0.5},\"pattern\":{\"fillmode\":\"overlay\",\"size\":10,\"solidity\":0.2}},\"type\":\"bar\"}],\"scattergeo\":[{\"type\":\"scattergeo\",\"marker\":{\"colorbar\":{\"outlinewidth\":0,\"ticks\":\"\"}}}],\"scatterpolar\":[{\"type\":\"scatterpolar\",\"marker\":{\"colorbar\":{\"outlinewidth\":0,\"ticks\":\"\"}}}],\"histogram\":[{\"marker\":{\"pattern\":{\"fillmode\":\"overlay\",\"size\":10,\"solidity\":0.2}},\"type\":\"histogram\"}],\"scattergl\":[{\"type\":\"scattergl\",\"marker\":{\"colorbar\":{\"outlinewidth\":0,\"ticks\":\"\"}}}],\"scatter3d\":[{\"type\":\"scatter3d\",\"line\":{\"colorbar\":{\"outlinewidth\":0,\"ticks\":\"\"}},\"marker\":{\"colorbar\":{\"outlinewidth\":0,\"ticks\":\"\"}}}],\"scattermapbox\":[{\"type\":\"scattermapbox\",\"marker\":{\"colorbar\":{\"outlinewidth\":0,\"ticks\":\"\"}}}],\"scatterternary\":[{\"type\":\"scatterternary\",\"marker\":{\"colorbar\":{\"outlinewidth\":0,\"ticks\":\"\"}}}],\"scattercarpet\":[{\"type\":\"scattercarpet\",\"marker\":{\"colorbar\":{\"outlinewidth\":0,\"ticks\":\"\"}}}],\"carpet\":[{\"aaxis\":{\"endlinecolor\":\"#2a3f5f\",\"gridcolor\":\"white\",\"linecolor\":\"white\",\"minorgridcolor\":\"white\",\"startlinecolor\":\"#2a3f5f\"},\"baxis\":{\"endlinecolor\":\"#2a3f5f\",\"gridcolor\":\"white\",\"linecolor\":\"white\",\"minorgridcolor\":\"white\",\"startlinecolor\":\"#2a3f5f\"},\"type\":\"carpet\"}],\"table\":[{\"cells\":{\"fill\":{\"color\":\"#EBF0F8\"},\"line\":{\"color\":\"white\"}},\"header\":{\"fill\":{\"color\":\"#C8D4E3\"},\"line\":{\"color\":\"white\"}},\"type\":\"table\"}],\"barpolar\":[{\"marker\":{\"line\":{\"color\":\"#E5ECF6\",\"width\":0.5},\"pattern\":{\"fillmode\":\"overlay\",\"size\":10,\"solidity\":0.2}},\"type\":\"barpolar\"}],\"pie\":[{\"automargin\":true,\"type\":\"pie\"}]},\"layout\":{\"autotypenumbers\":\"strict\",\"colorway\":[\"#636efa\",\"#EF553B\",\"#00cc96\",\"#ab63fa\",\"#FFA15A\",\"#19d3f3\",\"#FF6692\",\"#B6E880\",\"#FF97FF\",\"#FECB52\"],\"font\":{\"color\":\"#2a3f5f\"},\"hovermode\":\"closest\",\"hoverlabel\":{\"align\":\"left\"},\"paper_bgcolor\":\"white\",\"plot_bgcolor\":\"#E5ECF6\",\"polar\":{\"bgcolor\":\"#E5ECF6\",\"angularaxis\":{\"gridcolor\":\"white\",\"linecolor\":\"white\",\"ticks\":\"\"},\"radialaxis\":{\"gridcolor\":\"white\",\"linecolor\":\"white\",\"ticks\":\"\"}},\"ternary\":{\"bgcolor\":\"#E5ECF6\",\"aaxis\":{\"gridcolor\":\"white\",\"linecolor\":\"white\",\"ticks\":\"\"},\"baxis\":{\"gridcolor\":\"white\",\"linecolor\":\"white\",\"ticks\":\"\"},\"caxis\":{\"gridcolor\":\"white\",\"linecolor\":\"white\",\"ticks\":\"\"}},\"coloraxis\":{\"colorbar\":{\"outlinewidth\":0,\"ticks\":\"\"}},\"colorscale\":{\"sequential\":[[0.0,\"#0d0887\"],[0.1111111111111111,\"#46039f\"],[0.2222222222222222,\"#7201a8\"],[0.3333333333333333,\"#9c179e\"],[0.4444444444444444,\"#bd3786\"],[0.5555555555555556,\"#d8576b\"],[0.6666666666666666,\"#ed7953\"],[0.7777777777777778,\"#fb9f3a\"],[0.8888888888888888,\"#fdca26\"],[1.0,\"#f0f921\"]],\"sequentialminus\":[[0.0,\"#0d0887\"],[0.1111111111111111,\"#46039f\"],[0.2222222222222222,\"#7201a8\"],[0.3333333333333333,\"#9c179e\"],[0.4444444444444444,\"#bd3786\"],[0.5555555555555556,\"#d8576b\"],[0.6666666666666666,\"#ed7953\"],[0.7777777777777778,\"#fb9f3a\"],[0.8888888888888888,\"#fdca26\"],[1.0,\"#f0f921\"]],\"diverging\":[[0,\"#8e0152\"],[0.1,\"#c51b7d\"],[0.2,\"#de77ae\"],[0.3,\"#f1b6da\"],[0.4,\"#fde0ef\"],[0.5,\"#f7f7f7\"],[0.6,\"#e6f5d0\"],[0.7,\"#b8e186\"],[0.8,\"#7fbc41\"],[0.9,\"#4d9221\"],[1,\"#276419\"]]},\"xaxis\":{\"gridcolor\":\"white\",\"linecolor\":\"white\",\"ticks\":\"\",\"title\":{\"standoff\":15},\"zerolinecolor\":\"white\",\"automargin\":true,\"zerolinewidth\":2},\"yaxis\":{\"gridcolor\":\"white\",\"linecolor\":\"white\",\"ticks\":\"\",\"title\":{\"standoff\":15},\"zerolinecolor\":\"white\",\"automargin\":true,\"zerolinewidth\":2},\"scene\":{\"xaxis\":{\"backgroundcolor\":\"#E5ECF6\",\"gridcolor\":\"white\",\"linecolor\":\"white\",\"showbackground\":true,\"ticks\":\"\",\"zerolinecolor\":\"white\",\"gridwidth\":2},\"yaxis\":{\"backgroundcolor\":\"#E5ECF6\",\"gridcolor\":\"white\",\"linecolor\":\"white\",\"showbackground\":true,\"ticks\":\"\",\"zerolinecolor\":\"white\",\"gridwidth\":2},\"zaxis\":{\"backgroundcolor\":\"#E5ECF6\",\"gridcolor\":\"white\",\"linecolor\":\"white\",\"showbackground\":true,\"ticks\":\"\",\"zerolinecolor\":\"white\",\"gridwidth\":2}},\"shapedefaults\":{\"line\":{\"color\":\"#2a3f5f\"}},\"annotationdefaults\":{\"arrowcolor\":\"#2a3f5f\",\"arrowhead\":0,\"arrowwidth\":1},\"geo\":{\"bgcolor\":\"white\",\"landcolor\":\"#E5ECF6\",\"subunitcolor\":\"white\",\"showland\":true,\"showlakes\":true,\"lakecolor\":\"white\"},\"title\":{\"x\":0.05},\"mapbox\":{\"style\":\"light\"}}},\"title\":{\"text\":\"Nombre de valeurs nulles par colonne\"},\"xaxis\":{\"title\":{\"text\":\"Colonne\"}},\"yaxis\":{\"title\":{\"text\":\"Nombre de valeurs nulles\"}}},                        {\"responsive\": true}                    ).then(function(){\n",
              "                            \n",
              "var gd = document.getElementById('4350fe8c-0307-488b-bace-eadb62ffe20d');\n",
              "var x = new MutationObserver(function (mutations, observer) {{\n",
              "        var display = window.getComputedStyle(gd).display;\n",
              "        if (!display || display === 'none') {{\n",
              "            console.log([gd, 'removed!']);\n",
              "            Plotly.purge(gd);\n",
              "            observer.disconnect();\n",
              "        }}\n",
              "}});\n",
              "\n",
              "// Listen for the removal of the full notebook cells\n",
              "var notebookContainer = gd.closest('#notebook-container');\n",
              "if (notebookContainer) {{\n",
              "    x.observe(notebookContainer, {childList: true});\n",
              "}}\n",
              "\n",
              "// Listen for the clearing of the current output cell\n",
              "var outputEl = gd.closest('.output');\n",
              "if (outputEl) {{\n",
              "    x.observe(outputEl, {childList: true});\n",
              "}}\n",
              "\n",
              "                        })                };                            </script>        </div>\n",
              "</body>\n",
              "</html>"
            ]
          },
          "metadata": {}
        }
      ]
    },
    {
      "cell_type": "markdown",
      "source": [
        "## **Feature Engineering**"
      ],
      "metadata": {
        "id": "xNvXLpnvYH38"
      }
    },
    {
      "cell_type": "code",
      "source": [
        "vgs_data.info()"
      ],
      "metadata": {
        "id": "xSAeCcweziBk",
        "outputId": "b979791c-e4c0-4846-ad62-6d252330f543",
        "execution": {
          "iopub.status.busy": "2023-12-14T15:05:02.090048Z",
          "iopub.execute_input": "2023-12-14T15:05:02.090830Z",
          "iopub.status.idle": "2023-12-14T15:05:02.115336Z",
          "shell.execute_reply.started": "2023-12-14T15:05:02.090798Z",
          "shell.execute_reply": "2023-12-14T15:05:02.113982Z"
        },
        "trusted": true,
        "colab": {
          "base_uri": "https://localhost:8080/"
        }
      },
      "execution_count": null,
      "outputs": [
        {
          "output_type": "stream",
          "name": "stdout",
          "text": [
            "<class 'pandas.core.frame.DataFrame'>\n",
            "RangeIndex: 16719 entries, 0 to 16718\n",
            "Data columns (total 11 columns):\n",
            " #   Column           Non-Null Count  Dtype  \n",
            "---  ------           --------------  -----  \n",
            " 0   Platform         16719 non-null  object \n",
            " 1   Year_of_Release  16450 non-null  float64\n",
            " 2   Genre            16717 non-null  object \n",
            " 3   Publisher        16665 non-null  object \n",
            " 4   Global_Sales     16719 non-null  float64\n",
            " 5   Critic_Score     8137 non-null   float64\n",
            " 6   Critic_Count     8137 non-null   float64\n",
            " 7   User_Score       10015 non-null  object \n",
            " 8   User_Count       7590 non-null   float64\n",
            " 9   Developer        10096 non-null  object \n",
            " 10  Rating           9950 non-null   object \n",
            "dtypes: float64(5), object(6)\n",
            "memory usage: 1.4+ MB\n"
          ]
        }
      ]
    },
    {
      "cell_type": "markdown",
      "source": [
        "### User_Score to numerical"
      ],
      "metadata": {
        "id": "WZ1qzwTrYH39"
      }
    },
    {
      "cell_type": "code",
      "source": [
        "vgs_data[\"User_Score\"] = pd.to_numeric(vgs_data[\"User_Score\"], errors='coerce')"
      ],
      "metadata": {
        "id": "TuTGi9yw4mYz",
        "execution": {
          "iopub.status.busy": "2023-12-14T15:05:02.122057Z",
          "iopub.execute_input": "2023-12-14T15:05:02.122555Z",
          "iopub.status.idle": "2023-12-14T15:05:02.138847Z",
          "shell.execute_reply.started": "2023-12-14T15:05:02.122510Z",
          "shell.execute_reply": "2023-12-14T15:05:02.137579Z"
        },
        "trusted": true
      },
      "execution_count": null,
      "outputs": []
    },
    {
      "cell_type": "code",
      "source": [
        "vgs_data.info()"
      ],
      "metadata": {
        "id": "oBQ5yJrc5nDR",
        "outputId": "06f0796b-88fe-4655-910d-2855a78aed9b",
        "execution": {
          "iopub.status.busy": "2023-12-14T15:05:02.140404Z",
          "iopub.execute_input": "2023-12-14T15:05:02.141208Z",
          "iopub.status.idle": "2023-12-14T15:05:02.168911Z",
          "shell.execute_reply.started": "2023-12-14T15:05:02.141165Z",
          "shell.execute_reply": "2023-12-14T15:05:02.167542Z"
        },
        "trusted": true,
        "colab": {
          "base_uri": "https://localhost:8080/"
        }
      },
      "execution_count": null,
      "outputs": [
        {
          "output_type": "stream",
          "name": "stdout",
          "text": [
            "<class 'pandas.core.frame.DataFrame'>\n",
            "RangeIndex: 16719 entries, 0 to 16718\n",
            "Data columns (total 11 columns):\n",
            " #   Column           Non-Null Count  Dtype  \n",
            "---  ------           --------------  -----  \n",
            " 0   Platform         16719 non-null  object \n",
            " 1   Year_of_Release  16450 non-null  float64\n",
            " 2   Genre            16717 non-null  object \n",
            " 3   Publisher        16665 non-null  object \n",
            " 4   Global_Sales     16719 non-null  float64\n",
            " 5   Critic_Score     8137 non-null   float64\n",
            " 6   Critic_Count     8137 non-null   float64\n",
            " 7   User_Score       7590 non-null   float64\n",
            " 8   User_Count       7590 non-null   float64\n",
            " 9   Developer        10096 non-null  object \n",
            " 10  Rating           9950 non-null   object \n",
            "dtypes: float64(6), object(5)\n",
            "memory usage: 1.4+ MB\n"
          ]
        }
      ]
    },
    {
      "cell_type": "markdown",
      "source": [
        "### **HANDLING Small MISSING VALUES**"
      ],
      "metadata": {
        "id": "fy2daqEf06OW"
      }
    },
    {
      "cell_type": "code",
      "source": [
        "#replacing year with its mean\n",
        "vgs_data[\"Year_of_Release\"]=vgs_data[\"Year_of_Release\"].fillna(vgs_data[\"Year_of_Release\"].mean())"
      ],
      "metadata": {
        "id": "1DdZmnNX0ryN",
        "execution": {
          "iopub.status.busy": "2023-12-14T15:05:02.170557Z",
          "iopub.execute_input": "2023-12-14T15:05:02.170923Z",
          "iopub.status.idle": "2023-12-14T15:05:02.178773Z",
          "shell.execute_reply.started": "2023-12-14T15:05:02.170890Z",
          "shell.execute_reply": "2023-12-14T15:05:02.177583Z"
        },
        "trusted": true
      },
      "execution_count": null,
      "outputs": []
    },
    {
      "cell_type": "code",
      "source": [
        "#dropping Na publisher\n",
        "vgs_data.dropna(subset=['Publisher'], inplace=True)\n"
      ],
      "metadata": {
        "id": "ThmbJ7vz1jnj",
        "execution": {
          "iopub.status.busy": "2023-12-14T15:05:02.180395Z",
          "iopub.execute_input": "2023-12-14T15:05:02.180806Z",
          "iopub.status.idle": "2023-12-14T15:05:02.194381Z",
          "shell.execute_reply.started": "2023-12-14T15:05:02.180760Z",
          "shell.execute_reply": "2023-12-14T15:05:02.193184Z"
        },
        "trusted": true
      },
      "execution_count": null,
      "outputs": []
    },
    {
      "cell_type": "code",
      "source": [
        "#dropping Na Genre\n",
        "vgs_data.dropna(subset=['Genre'], inplace=True)"
      ],
      "metadata": {
        "id": "kStkaTFT19X6",
        "execution": {
          "iopub.status.busy": "2023-12-14T15:05:02.196188Z",
          "iopub.execute_input": "2023-12-14T15:05:02.196630Z",
          "iopub.status.idle": "2023-12-14T15:05:02.209366Z",
          "shell.execute_reply.started": "2023-12-14T15:05:02.196596Z",
          "shell.execute_reply": "2023-12-14T15:05:02.208404Z"
        },
        "trusted": true
      },
      "execution_count": null,
      "outputs": []
    },
    {
      "cell_type": "markdown",
      "source": [
        "### **HANDLING BIG MISSING VALUES: For now replacing  numerical  values with median and object values with \"unknown\"**"
      ],
      "metadata": {
        "id": "vdkwzoWw4Yrz"
      }
    },
    {
      "cell_type": "code",
      "source": [
        "#replacing  with its medians\n",
        "vgs_data[\"Critic_Score\"]=vgs_data[\"Critic_Score\"].fillna(vgs_data[\"Critic_Score\"].median())\n",
        "vgs_data[\"Critic_Count\"]=vgs_data[\"Critic_Count\"].fillna(vgs_data[\"Critic_Count\"].median())\n",
        "vgs_data[\"User_Score\"]=vgs_data[\"User_Score\"].fillna(vgs_data[\"User_Score\"].median())\n",
        "vgs_data[\"User_Count\"]=vgs_data[\"User_Count\"].fillna(vgs_data[\"User_Count\"].median())\n"
      ],
      "metadata": {
        "id": "eZWmVctJ5vY5",
        "execution": {
          "iopub.status.busy": "2023-12-14T15:05:02.210619Z",
          "iopub.execute_input": "2023-12-14T15:05:02.210950Z",
          "iopub.status.idle": "2023-12-14T15:05:02.226348Z",
          "shell.execute_reply.started": "2023-12-14T15:05:02.210921Z",
          "shell.execute_reply": "2023-12-14T15:05:02.225014Z"
        },
        "trusted": true
      },
      "execution_count": null,
      "outputs": []
    },
    {
      "cell_type": "code",
      "source": [
        "#replacing missing Strings\n",
        "vgs_data[\"Developer\"]=vgs_data[\"Developer\"].fillna(\"Unknown\")\n",
        "vgs_data[\"Rating\"]=vgs_data[\"Rating\"].fillna(\"Unknown\")"
      ],
      "metadata": {
        "id": "hRiUr7FN4VRs",
        "execution": {
          "iopub.status.busy": "2023-12-14T15:05:02.228305Z",
          "iopub.execute_input": "2023-12-14T15:05:02.228802Z",
          "iopub.status.idle": "2023-12-14T15:05:02.242055Z",
          "shell.execute_reply.started": "2023-12-14T15:05:02.228756Z",
          "shell.execute_reply": "2023-12-14T15:05:02.241125Z"
        },
        "trusted": true
      },
      "execution_count": null,
      "outputs": []
    },
    {
      "cell_type": "code",
      "source": [
        "#Checking for missing values\n",
        "vgs_data.isnull().sum()"
      ],
      "metadata": {
        "id": "qJpSpbSm6yYq",
        "outputId": "8ccd3a71-48f8-47e7-ec6a-a0119b047cd6",
        "execution": {
          "iopub.status.busy": "2023-12-14T15:05:02.243459Z",
          "iopub.execute_input": "2023-12-14T15:05:02.243814Z",
          "iopub.status.idle": "2023-12-14T15:05:02.264766Z",
          "shell.execute_reply.started": "2023-12-14T15:05:02.243784Z",
          "shell.execute_reply": "2023-12-14T15:05:02.263380Z"
        },
        "trusted": true,
        "colab": {
          "base_uri": "https://localhost:8080/"
        }
      },
      "execution_count": null,
      "outputs": [
        {
          "output_type": "execute_result",
          "data": {
            "text/plain": [
              "Platform           0\n",
              "Year_of_Release    0\n",
              "Genre              0\n",
              "Publisher          0\n",
              "Global_Sales       0\n",
              "                  ..\n",
              "Critic_Count       0\n",
              "User_Score         0\n",
              "User_Count         0\n",
              "Developer          0\n",
              "Rating             0\n",
              "Length: 11, dtype: int64"
            ]
          },
          "metadata": {},
          "execution_count": 153
        }
      ]
    },
    {
      "cell_type": "markdown",
      "source": [
        "## **Object values Transfomation**\n",
        "\n",
        "\n",
        "\n"
      ],
      "metadata": {
        "id": "of9Jxtns67-V"
      }
    },
    {
      "cell_type": "code",
      "source": [
        "vgs_data.info()"
      ],
      "metadata": {
        "id": "JejEdhtv8ATu",
        "outputId": "0484bb52-dd0b-4438-c465-02145533a64f",
        "execution": {
          "iopub.status.busy": "2023-12-14T15:05:02.266115Z",
          "iopub.execute_input": "2023-12-14T15:05:02.267311Z",
          "iopub.status.idle": "2023-12-14T15:05:02.291315Z",
          "shell.execute_reply.started": "2023-12-14T15:05:02.267266Z",
          "shell.execute_reply": "2023-12-14T15:05:02.290180Z"
        },
        "trusted": true,
        "colab": {
          "base_uri": "https://localhost:8080/"
        }
      },
      "execution_count": null,
      "outputs": [
        {
          "output_type": "stream",
          "name": "stdout",
          "text": [
            "<class 'pandas.core.frame.DataFrame'>\n",
            "Int64Index: 16663 entries, 0 to 16718\n",
            "Data columns (total 11 columns):\n",
            " #   Column           Non-Null Count  Dtype  \n",
            "---  ------           --------------  -----  \n",
            " 0   Platform         16663 non-null  object \n",
            " 1   Year_of_Release  16663 non-null  float64\n",
            " 2   Genre            16663 non-null  object \n",
            " 3   Publisher        16663 non-null  object \n",
            " 4   Global_Sales     16663 non-null  float64\n",
            " 5   Critic_Score     16663 non-null  float64\n",
            " 6   Critic_Count     16663 non-null  float64\n",
            " 7   User_Score       16663 non-null  float64\n",
            " 8   User_Count       16663 non-null  float64\n",
            " 9   Developer        16663 non-null  object \n",
            " 10  Rating           16663 non-null  object \n",
            "dtypes: float64(6), object(5)\n",
            "memory usage: 1.5+ MB\n"
          ]
        }
      ]
    },
    {
      "cell_type": "code",
      "source": [
        "len(vgs_data[\"Platform\"].unique())"
      ],
      "metadata": {
        "id": "znMuXneP8DRx",
        "outputId": "86a7368a-0e30-4f47-bd92-fa05ab0582da",
        "execution": {
          "iopub.status.busy": "2023-12-14T15:05:02.293292Z",
          "iopub.execute_input": "2023-12-14T15:05:02.293777Z",
          "iopub.status.idle": "2023-12-14T15:05:02.304668Z",
          "shell.execute_reply.started": "2023-12-14T15:05:02.293731Z",
          "shell.execute_reply": "2023-12-14T15:05:02.303387Z"
        },
        "trusted": true,
        "colab": {
          "base_uri": "https://localhost:8080/"
        }
      },
      "execution_count": null,
      "outputs": [
        {
          "output_type": "execute_result",
          "data": {
            "text/plain": [
              "31"
            ]
          },
          "metadata": {},
          "execution_count": 155
        }
      ]
    },
    {
      "cell_type": "code",
      "source": [
        "len(vgs_data[\"Genre\"].unique())"
      ],
      "metadata": {
        "id": "PhKguOKx8hk3",
        "outputId": "88b5fcb9-d773-4ddc-ce7f-abce7ff353a1",
        "execution": {
          "iopub.status.busy": "2023-12-14T15:05:02.306199Z",
          "iopub.execute_input": "2023-12-14T15:05:02.307073Z",
          "iopub.status.idle": "2023-12-14T15:05:02.318270Z",
          "shell.execute_reply.started": "2023-12-14T15:05:02.307031Z",
          "shell.execute_reply": "2023-12-14T15:05:02.317194Z"
        },
        "trusted": true,
        "colab": {
          "base_uri": "https://localhost:8080/"
        }
      },
      "execution_count": null,
      "outputs": [
        {
          "output_type": "execute_result",
          "data": {
            "text/plain": [
              "12"
            ]
          },
          "metadata": {},
          "execution_count": 156
        }
      ]
    },
    {
      "cell_type": "code",
      "source": [
        "len(vgs_data[\"Publisher\"].unique()) #TOO MUCH"
      ],
      "metadata": {
        "id": "SEXIUpGn8l7H",
        "outputId": "bf26fa0f-ddc2-4bd7-e122-ec389c45bc0e",
        "execution": {
          "iopub.status.busy": "2023-12-14T15:05:02.320027Z",
          "iopub.execute_input": "2023-12-14T15:05:02.320943Z",
          "iopub.status.idle": "2023-12-14T15:05:02.331470Z",
          "shell.execute_reply.started": "2023-12-14T15:05:02.320725Z",
          "shell.execute_reply": "2023-12-14T15:05:02.330373Z"
        },
        "trusted": true,
        "colab": {
          "base_uri": "https://localhost:8080/"
        }
      },
      "execution_count": null,
      "outputs": [
        {
          "output_type": "execute_result",
          "data": {
            "text/plain": [
              "581"
            ]
          },
          "metadata": {},
          "execution_count": 157
        }
      ]
    },
    {
      "cell_type": "code",
      "source": [
        "len(vgs_data[\"Developer\"].unique()) #TOO MUCH"
      ],
      "metadata": {
        "id": "YEkPwqwN8rhm",
        "outputId": "4f35aa15-5b1f-4849-c256-eba6e039b505",
        "execution": {
          "iopub.status.busy": "2023-12-14T15:05:02.333046Z",
          "iopub.execute_input": "2023-12-14T15:05:02.333758Z",
          "iopub.status.idle": "2023-12-14T15:05:02.344114Z",
          "shell.execute_reply.started": "2023-12-14T15:05:02.333718Z",
          "shell.execute_reply": "2023-12-14T15:05:02.342731Z"
        },
        "trusted": true,
        "colab": {
          "base_uri": "https://localhost:8080/"
        }
      },
      "execution_count": null,
      "outputs": [
        {
          "output_type": "execute_result",
          "data": {
            "text/plain": [
              "1696"
            ]
          },
          "metadata": {},
          "execution_count": 158
        }
      ]
    },
    {
      "cell_type": "code",
      "source": [
        "len(vgs_data[\"Rating\"].unique())"
      ],
      "metadata": {
        "id": "XKJ-7AQH8xVP",
        "outputId": "1b57fe14-9e7e-43e3-de04-3501361ac55e",
        "execution": {
          "iopub.status.busy": "2023-12-14T15:05:02.345869Z",
          "iopub.execute_input": "2023-12-14T15:05:02.346574Z",
          "iopub.status.idle": "2023-12-14T15:05:02.356534Z",
          "shell.execute_reply.started": "2023-12-14T15:05:02.346521Z",
          "shell.execute_reply": "2023-12-14T15:05:02.355336Z"
        },
        "trusted": true,
        "colab": {
          "base_uri": "https://localhost:8080/"
        }
      },
      "execution_count": null,
      "outputs": [
        {
          "output_type": "execute_result",
          "data": {
            "text/plain": [
              "9"
            ]
          },
          "metadata": {},
          "execution_count": 159
        }
      ]
    },
    {
      "cell_type": "markdown",
      "source": [
        "### Distribution of unique values"
      ],
      "metadata": {
        "id": "oNYIxtD406Zv"
      }
    },
    {
      "cell_type": "code",
      "source": [
        "x=[\"Platform\",\"Genre\",\"Publisher\",\"Developer\",\"Rating\"]\n",
        "y=[len(vgs_data[\"Platform\"].unique()),len(vgs_data[\"Genre\"].unique()),len(vgs_data[\"Publisher\"].unique()),len(vgs_data[\"Developer\"].unique()),len(vgs_data[\"Rating\"].unique())]\n",
        "fig = go.Figure(data=[go.Bar(x=x, y=y)])\n",
        "\n",
        "fig.update_layout(title=\"Object unique values\",\n",
        "                  xaxis_title=\"Columns\",\n",
        "                  yaxis_title=\"Unique values\")\n",
        "fig.show()"
      ],
      "metadata": {
        "colab": {
          "base_uri": "https://localhost:8080/",
          "height": 542
        },
        "id": "GmolmnVczqK6",
        "outputId": "449a4c80-5e8b-4f44-a3de-52e53d22abc2"
      },
      "execution_count": null,
      "outputs": [
        {
          "output_type": "display_data",
          "data": {
            "text/html": [
              "<html>\n",
              "<head><meta charset=\"utf-8\" /></head>\n",
              "<body>\n",
              "    <div>            <script src=\"https://cdnjs.cloudflare.com/ajax/libs/mathjax/2.7.5/MathJax.js?config=TeX-AMS-MML_SVG\"></script><script type=\"text/javascript\">if (window.MathJax && window.MathJax.Hub && window.MathJax.Hub.Config) {window.MathJax.Hub.Config({SVG: {font: \"STIX-Web\"}});}</script>                <script type=\"text/javascript\">window.PlotlyConfig = {MathJaxConfig: 'local'};</script>\n",
              "        <script charset=\"utf-8\" src=\"https://cdn.plot.ly/plotly-2.24.1.min.js\"></script>                <div id=\"68014ed5-13d0-4ce1-a78c-25a38e3b6f12\" class=\"plotly-graph-div\" style=\"height:525px; width:100%;\"></div>            <script type=\"text/javascript\">                                    window.PLOTLYENV=window.PLOTLYENV || {};                                    if (document.getElementById(\"68014ed5-13d0-4ce1-a78c-25a38e3b6f12\")) {                    Plotly.newPlot(                        \"68014ed5-13d0-4ce1-a78c-25a38e3b6f12\",                        [{\"x\":[\"Platform\",\"Genre\",\"Publisher\",\"Developer\",\"Rating\"],\"y\":[31,13,582,1697,9],\"type\":\"bar\"}],                        {\"template\":{\"data\":{\"histogram2dcontour\":[{\"type\":\"histogram2dcontour\",\"colorbar\":{\"outlinewidth\":0,\"ticks\":\"\"},\"colorscale\":[[0.0,\"#0d0887\"],[0.1111111111111111,\"#46039f\"],[0.2222222222222222,\"#7201a8\"],[0.3333333333333333,\"#9c179e\"],[0.4444444444444444,\"#bd3786\"],[0.5555555555555556,\"#d8576b\"],[0.6666666666666666,\"#ed7953\"],[0.7777777777777778,\"#fb9f3a\"],[0.8888888888888888,\"#fdca26\"],[1.0,\"#f0f921\"]]}],\"choropleth\":[{\"type\":\"choropleth\",\"colorbar\":{\"outlinewidth\":0,\"ticks\":\"\"}}],\"histogram2d\":[{\"type\":\"histogram2d\",\"colorbar\":{\"outlinewidth\":0,\"ticks\":\"\"},\"colorscale\":[[0.0,\"#0d0887\"],[0.1111111111111111,\"#46039f\"],[0.2222222222222222,\"#7201a8\"],[0.3333333333333333,\"#9c179e\"],[0.4444444444444444,\"#bd3786\"],[0.5555555555555556,\"#d8576b\"],[0.6666666666666666,\"#ed7953\"],[0.7777777777777778,\"#fb9f3a\"],[0.8888888888888888,\"#fdca26\"],[1.0,\"#f0f921\"]]}],\"heatmap\":[{\"type\":\"heatmap\",\"colorbar\":{\"outlinewidth\":0,\"ticks\":\"\"},\"colorscale\":[[0.0,\"#0d0887\"],[0.1111111111111111,\"#46039f\"],[0.2222222222222222,\"#7201a8\"],[0.3333333333333333,\"#9c179e\"],[0.4444444444444444,\"#bd3786\"],[0.5555555555555556,\"#d8576b\"],[0.6666666666666666,\"#ed7953\"],[0.7777777777777778,\"#fb9f3a\"],[0.8888888888888888,\"#fdca26\"],[1.0,\"#f0f921\"]]}],\"heatmapgl\":[{\"type\":\"heatmapgl\",\"colorbar\":{\"outlinewidth\":0,\"ticks\":\"\"},\"colorscale\":[[0.0,\"#0d0887\"],[0.1111111111111111,\"#46039f\"],[0.2222222222222222,\"#7201a8\"],[0.3333333333333333,\"#9c179e\"],[0.4444444444444444,\"#bd3786\"],[0.5555555555555556,\"#d8576b\"],[0.6666666666666666,\"#ed7953\"],[0.7777777777777778,\"#fb9f3a\"],[0.8888888888888888,\"#fdca26\"],[1.0,\"#f0f921\"]]}],\"contourcarpet\":[{\"type\":\"contourcarpet\",\"colorbar\":{\"outlinewidth\":0,\"ticks\":\"\"}}],\"contour\":[{\"type\":\"contour\",\"colorbar\":{\"outlinewidth\":0,\"ticks\":\"\"},\"colorscale\":[[0.0,\"#0d0887\"],[0.1111111111111111,\"#46039f\"],[0.2222222222222222,\"#7201a8\"],[0.3333333333333333,\"#9c179e\"],[0.4444444444444444,\"#bd3786\"],[0.5555555555555556,\"#d8576b\"],[0.6666666666666666,\"#ed7953\"],[0.7777777777777778,\"#fb9f3a\"],[0.8888888888888888,\"#fdca26\"],[1.0,\"#f0f921\"]]}],\"surface\":[{\"type\":\"surface\",\"colorbar\":{\"outlinewidth\":0,\"ticks\":\"\"},\"colorscale\":[[0.0,\"#0d0887\"],[0.1111111111111111,\"#46039f\"],[0.2222222222222222,\"#7201a8\"],[0.3333333333333333,\"#9c179e\"],[0.4444444444444444,\"#bd3786\"],[0.5555555555555556,\"#d8576b\"],[0.6666666666666666,\"#ed7953\"],[0.7777777777777778,\"#fb9f3a\"],[0.8888888888888888,\"#fdca26\"],[1.0,\"#f0f921\"]]}],\"mesh3d\":[{\"type\":\"mesh3d\",\"colorbar\":{\"outlinewidth\":0,\"ticks\":\"\"}}],\"scatter\":[{\"fillpattern\":{\"fillmode\":\"overlay\",\"size\":10,\"solidity\":0.2},\"type\":\"scatter\"}],\"parcoords\":[{\"type\":\"parcoords\",\"line\":{\"colorbar\":{\"outlinewidth\":0,\"ticks\":\"\"}}}],\"scatterpolargl\":[{\"type\":\"scatterpolargl\",\"marker\":{\"colorbar\":{\"outlinewidth\":0,\"ticks\":\"\"}}}],\"bar\":[{\"error_x\":{\"color\":\"#2a3f5f\"},\"error_y\":{\"color\":\"#2a3f5f\"},\"marker\":{\"line\":{\"color\":\"#E5ECF6\",\"width\":0.5},\"pattern\":{\"fillmode\":\"overlay\",\"size\":10,\"solidity\":0.2}},\"type\":\"bar\"}],\"scattergeo\":[{\"type\":\"scattergeo\",\"marker\":{\"colorbar\":{\"outlinewidth\":0,\"ticks\":\"\"}}}],\"scatterpolar\":[{\"type\":\"scatterpolar\",\"marker\":{\"colorbar\":{\"outlinewidth\":0,\"ticks\":\"\"}}}],\"histogram\":[{\"marker\":{\"pattern\":{\"fillmode\":\"overlay\",\"size\":10,\"solidity\":0.2}},\"type\":\"histogram\"}],\"scattergl\":[{\"type\":\"scattergl\",\"marker\":{\"colorbar\":{\"outlinewidth\":0,\"ticks\":\"\"}}}],\"scatter3d\":[{\"type\":\"scatter3d\",\"line\":{\"colorbar\":{\"outlinewidth\":0,\"ticks\":\"\"}},\"marker\":{\"colorbar\":{\"outlinewidth\":0,\"ticks\":\"\"}}}],\"scattermapbox\":[{\"type\":\"scattermapbox\",\"marker\":{\"colorbar\":{\"outlinewidth\":0,\"ticks\":\"\"}}}],\"scatterternary\":[{\"type\":\"scatterternary\",\"marker\":{\"colorbar\":{\"outlinewidth\":0,\"ticks\":\"\"}}}],\"scattercarpet\":[{\"type\":\"scattercarpet\",\"marker\":{\"colorbar\":{\"outlinewidth\":0,\"ticks\":\"\"}}}],\"carpet\":[{\"aaxis\":{\"endlinecolor\":\"#2a3f5f\",\"gridcolor\":\"white\",\"linecolor\":\"white\",\"minorgridcolor\":\"white\",\"startlinecolor\":\"#2a3f5f\"},\"baxis\":{\"endlinecolor\":\"#2a3f5f\",\"gridcolor\":\"white\",\"linecolor\":\"white\",\"minorgridcolor\":\"white\",\"startlinecolor\":\"#2a3f5f\"},\"type\":\"carpet\"}],\"table\":[{\"cells\":{\"fill\":{\"color\":\"#EBF0F8\"},\"line\":{\"color\":\"white\"}},\"header\":{\"fill\":{\"color\":\"#C8D4E3\"},\"line\":{\"color\":\"white\"}},\"type\":\"table\"}],\"barpolar\":[{\"marker\":{\"line\":{\"color\":\"#E5ECF6\",\"width\":0.5},\"pattern\":{\"fillmode\":\"overlay\",\"size\":10,\"solidity\":0.2}},\"type\":\"barpolar\"}],\"pie\":[{\"automargin\":true,\"type\":\"pie\"}]},\"layout\":{\"autotypenumbers\":\"strict\",\"colorway\":[\"#636efa\",\"#EF553B\",\"#00cc96\",\"#ab63fa\",\"#FFA15A\",\"#19d3f3\",\"#FF6692\",\"#B6E880\",\"#FF97FF\",\"#FECB52\"],\"font\":{\"color\":\"#2a3f5f\"},\"hovermode\":\"closest\",\"hoverlabel\":{\"align\":\"left\"},\"paper_bgcolor\":\"white\",\"plot_bgcolor\":\"#E5ECF6\",\"polar\":{\"bgcolor\":\"#E5ECF6\",\"angularaxis\":{\"gridcolor\":\"white\",\"linecolor\":\"white\",\"ticks\":\"\"},\"radialaxis\":{\"gridcolor\":\"white\",\"linecolor\":\"white\",\"ticks\":\"\"}},\"ternary\":{\"bgcolor\":\"#E5ECF6\",\"aaxis\":{\"gridcolor\":\"white\",\"linecolor\":\"white\",\"ticks\":\"\"},\"baxis\":{\"gridcolor\":\"white\",\"linecolor\":\"white\",\"ticks\":\"\"},\"caxis\":{\"gridcolor\":\"white\",\"linecolor\":\"white\",\"ticks\":\"\"}},\"coloraxis\":{\"colorbar\":{\"outlinewidth\":0,\"ticks\":\"\"}},\"colorscale\":{\"sequential\":[[0.0,\"#0d0887\"],[0.1111111111111111,\"#46039f\"],[0.2222222222222222,\"#7201a8\"],[0.3333333333333333,\"#9c179e\"],[0.4444444444444444,\"#bd3786\"],[0.5555555555555556,\"#d8576b\"],[0.6666666666666666,\"#ed7953\"],[0.7777777777777778,\"#fb9f3a\"],[0.8888888888888888,\"#fdca26\"],[1.0,\"#f0f921\"]],\"sequentialminus\":[[0.0,\"#0d0887\"],[0.1111111111111111,\"#46039f\"],[0.2222222222222222,\"#7201a8\"],[0.3333333333333333,\"#9c179e\"],[0.4444444444444444,\"#bd3786\"],[0.5555555555555556,\"#d8576b\"],[0.6666666666666666,\"#ed7953\"],[0.7777777777777778,\"#fb9f3a\"],[0.8888888888888888,\"#fdca26\"],[1.0,\"#f0f921\"]],\"diverging\":[[0,\"#8e0152\"],[0.1,\"#c51b7d\"],[0.2,\"#de77ae\"],[0.3,\"#f1b6da\"],[0.4,\"#fde0ef\"],[0.5,\"#f7f7f7\"],[0.6,\"#e6f5d0\"],[0.7,\"#b8e186\"],[0.8,\"#7fbc41\"],[0.9,\"#4d9221\"],[1,\"#276419\"]]},\"xaxis\":{\"gridcolor\":\"white\",\"linecolor\":\"white\",\"ticks\":\"\",\"title\":{\"standoff\":15},\"zerolinecolor\":\"white\",\"automargin\":true,\"zerolinewidth\":2},\"yaxis\":{\"gridcolor\":\"white\",\"linecolor\":\"white\",\"ticks\":\"\",\"title\":{\"standoff\":15},\"zerolinecolor\":\"white\",\"automargin\":true,\"zerolinewidth\":2},\"scene\":{\"xaxis\":{\"backgroundcolor\":\"#E5ECF6\",\"gridcolor\":\"white\",\"linecolor\":\"white\",\"showbackground\":true,\"ticks\":\"\",\"zerolinecolor\":\"white\",\"gridwidth\":2},\"yaxis\":{\"backgroundcolor\":\"#E5ECF6\",\"gridcolor\":\"white\",\"linecolor\":\"white\",\"showbackground\":true,\"ticks\":\"\",\"zerolinecolor\":\"white\",\"gridwidth\":2},\"zaxis\":{\"backgroundcolor\":\"#E5ECF6\",\"gridcolor\":\"white\",\"linecolor\":\"white\",\"showbackground\":true,\"ticks\":\"\",\"zerolinecolor\":\"white\",\"gridwidth\":2}},\"shapedefaults\":{\"line\":{\"color\":\"#2a3f5f\"}},\"annotationdefaults\":{\"arrowcolor\":\"#2a3f5f\",\"arrowhead\":0,\"arrowwidth\":1},\"geo\":{\"bgcolor\":\"white\",\"landcolor\":\"#E5ECF6\",\"subunitcolor\":\"white\",\"showland\":true,\"showlakes\":true,\"lakecolor\":\"white\"},\"title\":{\"x\":0.05},\"mapbox\":{\"style\":\"light\"}}},\"title\":{\"text\":\"Object unique values\"},\"xaxis\":{\"title\":{\"text\":\"Columns\"}},\"yaxis\":{\"title\":{\"text\":\"Unique values\"}}},                        {\"responsive\": true}                    ).then(function(){\n",
              "                            \n",
              "var gd = document.getElementById('68014ed5-13d0-4ce1-a78c-25a38e3b6f12');\n",
              "var x = new MutationObserver(function (mutations, observer) {{\n",
              "        var display = window.getComputedStyle(gd).display;\n",
              "        if (!display || display === 'none') {{\n",
              "            console.log([gd, 'removed!']);\n",
              "            Plotly.purge(gd);\n",
              "            observer.disconnect();\n",
              "        }}\n",
              "}});\n",
              "\n",
              "// Listen for the removal of the full notebook cells\n",
              "var notebookContainer = gd.closest('#notebook-container');\n",
              "if (notebookContainer) {{\n",
              "    x.observe(notebookContainer, {childList: true});\n",
              "}}\n",
              "\n",
              "// Listen for the clearing of the current output cell\n",
              "var outputEl = gd.closest('.output');\n",
              "if (outputEl) {{\n",
              "    x.observe(outputEl, {childList: true});\n",
              "}}\n",
              "\n",
              "                        })                };                            </script>        </div>\n",
              "</body>\n",
              "</html>"
            ]
          },
          "metadata": {}
        }
      ]
    },
    {
      "cell_type": "markdown",
      "source": [
        "### **Transformation of  Big Object VALUES**"
      ],
      "metadata": {
        "id": "OnKvGTo682Ah"
      }
    },
    {
      "cell_type": "code",
      "source": [
        "pd.set_option('display.max_rows', 99999)\n",
        "pd.set_option('max_colwidth', 400)"
      ],
      "metadata": {
        "id": "XwZTvrxiBOjF",
        "execution": {
          "iopub.status.busy": "2023-12-14T15:05:02.357999Z",
          "iopub.execute_input": "2023-12-14T15:05:02.358376Z",
          "iopub.status.idle": "2023-12-14T15:05:02.363733Z",
          "shell.execute_reply.started": "2023-12-14T15:05:02.358343Z",
          "shell.execute_reply": "2023-12-14T15:05:02.362853Z"
        },
        "trusted": true
      },
      "execution_count": null,
      "outputs": []
    },
    {
      "cell_type": "markdown",
      "source": [
        "#### **Handling small Developers**"
      ],
      "metadata": {
        "id": "LrQEp8-L-qiB"
      }
    },
    {
      "cell_type": "code",
      "source": [
        "vgs_data[\"Developer\"].value_counts()"
      ],
      "metadata": {
        "id": "cmMA4QYG81eS",
        "execution": {
          "iopub.status.busy": "2023-12-14T15:05:02.365176Z",
          "iopub.execute_input": "2023-12-14T15:05:02.366194Z",
          "iopub.status.idle": "2023-12-14T15:05:02.417993Z",
          "shell.execute_reply.started": "2023-12-14T15:05:02.366160Z",
          "shell.execute_reply": "2023-12-14T15:05:02.416637Z"
        },
        "jupyter": {
          "outputs_hidden": true
        },
        "trusted": true
      },
      "execution_count": null,
      "outputs": []
    },
    {
      "cell_type": "code",
      "source": [
        "counts = vgs_data[\"Developer\"].value_counts()"
      ],
      "metadata": {
        "id": "EiYxD3nm-Vm9",
        "execution": {
          "iopub.status.busy": "2023-12-14T15:05:02.420043Z",
          "iopub.execute_input": "2023-12-14T15:05:02.420732Z",
          "iopub.status.idle": "2023-12-14T15:05:02.429898Z",
          "shell.execute_reply.started": "2023-12-14T15:05:02.420694Z",
          "shell.execute_reply": "2023-12-14T15:05:02.428832Z"
        },
        "trusted": true
      },
      "execution_count": null,
      "outputs": []
    },
    {
      "cell_type": "code",
      "source": [
        "filtered_counts = counts[counts.index != 'Unknown']\n",
        "\n",
        "fig = go.Figure(data=[go.Bar(x=filtered_counts.index, y=filtered_counts.values)])\n",
        "\n",
        "fig.update_layout(title=\"Nombre de jeux par développeur (sans Unknown)\",\n",
        "                  xaxis_title=\"Développeur\",\n",
        "                  yaxis_title=\"Nombre de jeux\")\n",
        "fig.show()"
      ],
      "metadata": {
        "colab": {
          "base_uri": "https://localhost:8080/",
          "height": 542
        },
        "id": "MTBRDnHbLYy5",
        "outputId": "ba40de85-ab7b-4875-d45c-7c7d48cd84dd"
      },
      "execution_count": null,
      "outputs": [
        {
          "output_type": "display_data",
          "data": {
            "text/html": [
              "<html>\n",
              "<head><meta charset=\"utf-8\" /></head>\n",
              "<body>\n",
              "    <div>            <script src=\"https://cdnjs.cloudflare.com/ajax/libs/mathjax/2.7.5/MathJax.js?config=TeX-AMS-MML_SVG\"></script><script type=\"text/javascript\">if (window.MathJax && window.MathJax.Hub && window.MathJax.Hub.Config) {window.MathJax.Hub.Config({SVG: {font: \"STIX-Web\"}});}</script>                <script type=\"text/javascript\">window.PlotlyConfig = {MathJaxConfig: 'local'};</script>\n",
              "        <script charset=\"utf-8\" src=\"https://cdn.plot.ly/plotly-2.24.1.min.js\"></script>                <div id=\"96f0e1dd-1791-401b-a47b-430843cb86fa\" class=\"plotly-graph-div\" style=\"height:525px; width:100%;\"></div>            <script type=\"text/javascript\">                                    window.PLOTLYENV=window.PLOTLYENV || {};                                    if (document.getElementById(\"96f0e1dd-1791-401b-a47b-430843cb86fa\")) {                    Plotly.newPlot(                        \"96f0e1dd-1791-401b-a47b-430843cb86fa\",                        [{\"x\":[\"Ubisoft\",\"EA Sports\",\"EA Canada\",\"Konami\",\"Capcom\",\"EA Tiburon\",\"Electronic Arts\",\"Ubisoft Montreal\",\"Visual Concepts\",\"Omega Force\",\"Traveller's Tales\",\"Vicarious Visions\",\"Activision\",\"TT Games\",\"Nintendo\",\"THQ\",\"Namco\",\"Codemasters\",\"Artificial Mind and Movement\",\"Midway\",\"Yuke's\",\"Harmonix Music Systems\",\"High Voltage Software\",\"Maxis\",\"Square Enix\",\"Eurocom Entertainment Software\",\"Arc System Works\",\"FUN Labs\",\"Neversoft Entertainment\",\"Treyarch\",\"From Software\",\"TOSE\",\"WayForward\",\"Sonic Team\",\"Sega\",\"Rebellion\",\"Griptonite Games\",\"Radical Entertainment\",\"Blitz Games\",\"Milestone S.r.l\",\"Rainbow Studios\",\"Climax Group\",\"Krome Studios\",\"Acclaim\",\"Exient Entertainment\",\"KCET\",\"Koei\",\"SCEA San Diego Studios\",\"Toys for Bob\",\"Gearbox Software\",\"Point of View\",\"Torus Games\",\"Digital Eclipse\",\"Avalanche Software\",\"Black Lantern Studios\",\"BioWare\",\"Amaze Entertainment\",\"Terminal Reality\",\"EA Bright Light\",\"505 Games\",\"Taito Corporation\",\"Ubisoft Shanghai\",\"EA Games\",\"Bandai Namco Games\",\"Heavy Iron Studios\",\"SNK Playmore\",\"PopCap\",\"Dimps Corporation\",\"Crystal Dynamics\",\"989 Sports\",\"Eutechnyx\",\"Kush Games\",\"EA DICE\",\"Criterion Games\",\"Virtuos\",\"Team 17\",\"Crave\",\"HB Studios Multimedia\",\"SCEE London Studio\",\"Creative Assembly\",\"Backbone Entertainment\",\"Magic Pockets\",\"EA Redwood Shores\",\"CyberConnect2\",\"Now Production\",\"LucasArts\",\"Nippon Ichi Software\",\"Double Helix Games\",\"Beenox\",\"Natsume\",\"Volition Inc.\",\"Blizzard Entertainment\",\"PlatinumGames\",\"Pandemic Studios\",\"Io Interactive\",\"Ubisoft Montpellier\",\"Altron\",\"Neko Entertainment\",\"Rockstar San Diego\",\"Techland\",\"Tecmo\",\"Sumo Digital\",\"Ubisoft Paris\",\"Zoo Games\",\"Destineer\",\"Argonaut Games\",\"Intelligent Systems\",\"n-Space\",\"Atlus\",\"Ubisoft Quebec\",\"Vicious Cycle\",\"Namco Bandai Games\",\"Team Ninja\",\"Mass Media\",\"City Interactive\",\"Blue Castle Games\",\"Firebrand Games\",\"SCE Japan Studio\",\"Infinity Ward\",\"Papaya Studios\",\"Edge of Reality\",\"Pipeworks Software, Inc.\",\"2K Sports\",\"3DO\",\"Black Box\",\"Spike\",\"Level 5\",\"Rare Ltd.\",\"Gust\",\"Monkey Bar Games\",\"Take-Two Interactive\",\"TT Fusion\",\"Page 44 Studios\",\"SCEA\",\"EA LA\",\"Behaviour Interactive\",\"Asobo Studio\",\"Obsidian Entertainment\",\"Raven Software\",\"Neverland\",\"SquareSoft\",\"Visceral Games\",\"Kojima Productions\",\"Data Design Interactive\",\"Hudson Soft\",\"7 Studios\",\"Paradigm Entertainment\",\"Hudson\",\"BudCat\",\"Game Arts\",\"Zoe Mode\",\"Z-Axis, Ltd.\",\"Telltale Games\",\"Relic\",\"Sports Interactive\",\"Grasshopper Manufacture\",\"Digital Illusions\",\"Kuju Entertainment\",\"49Games\",\"Farsight Studios\",\"Blue Tongue Entertainment\",\"Visual Impact\",\"Tantalus Interactive\",\"Ludia Inc.\",\"High Moon Studios\",\"Rockstar North\",\"The Sims Studio\",\"Warthog\",\"Firaxis Games\",\"Valve Software\",\"Bandai\",\"Cavia Inc.\",\"Racjin\",\"Next Level Games\",\"Full Fat\",\"Sand Grain Studios\",\"HAL Labs\",\"UFO Interactive\",\"Acquire\",\"Dreamcatcher\",\"Atomic Planet Entertainment\",\"DC Studios\",\"1st Playable Productions\",\"KCEJ\",\"Epic Games\",\"Konami Computer Entertainment Hawaii\",\"Stormfront Studios\",\"Genki\",\"Sting\",\"Haemimont\",\"Microsoft Game Studios\",\"Creat Studios\",\"Ubisoft Romania\",\"Powerhead Games\",\"Tri-Ace\",\"Left Field Productions\",\"Rocksteady Studios\",\"Shaba Games\",\"Bethesda Softworks\",\"Free Radical Design\",\"EA Black Box\",\"Pivotal Games\",\"Treasure\",\"Crytek\",\"Sensory Sweep\",\"Inti Creates\",\"Gaijin Entertainment\",\"Compile Heart\",\"Bugbear\",\"Media Vision\",\"Starbreeze\",\"Bizarre Creations\",\"Koei Tecmo Games\",\"Naughty Dog\",\"Insomniac Games\",\"Q Entertainment\",\"Spark Unlimited\",\"Tamsoft\",\"Etranges Libellules\",\"Monolith Productions\",\"Engine Software\",\"Deep Silver\",\"Shiny Entertainment\",\"Core Design Ltd.\",\"FreeStyleGames\",\"MumboJumbo\",\"EA Montreal\",\"Shin'en\",\"Atlus Co.\",\"Sidhe Interactive\",\"Webfoot Technologies\",\"Helixe\",\"Monster Games Inc.\",\"5TH Cell\",\"Game Republic\",\"Microids\",\"Frontier Developments\",\"Acclaim Studios Cheltenham\",\"Spike Chunsoft\",\"Pyro Studios\",\"Camelot Software Planning\",\"Robomodo\",\"Coresoft\",\"Falcom\",\"Disney Interactive Studios\",\"Indies Zero\",\"Day 1 Studios\",\"Matrix Software\",\"Collision Studios\",\"Atari\",\"Bethesda Game Studios\",\"Blitz Games Studios\",\"Mistic Software\",\"Art\",\"Human Soft\",\"Juice Games\",\"Sanzaru Games\",\"Nixxes Software\",\"Digital Extremes\",\"Image Epoch, Imageepoch\",\"Piranha Bytes\",\"Secret Level\",\"Climax Group, Climax Studios\",\"Cyanide\",\"Virtual Toys\",\"Sega AM2\",\"Rockstar Leeds\",\"Opus\",\"Gameloft\",\"InXile Entertainment\",\"Eden Studios\",\"SCEE\",\"Avalanche Studios\",\"Arika\",\"Oxygen Interactive\",\"Nordic Games Publishing\",\"Razorworks Studios\",\"Marvelous Inc.\",\"Starfish\",\"Saffire\",\"Big Ant Studios\",\"Clap Hanz\",\"Alfa System\",\"Exakt\",\"Xpec\",\"Monolith Soft\",\"Black Ops Entertainment\",\"Paradox Development\",\"MachineGames\",\"MTO\",\"Clover Studio\",\"Snowblind Studios\",\"Zipper Interactive\",\"Red Storm Entertainment\",\"Luxoflux, Inc.\",\"Majesco Games, Majesco\",\"id Software\",\"Airtight Games\",\"Reflections Interactive\",\"KCEO\",\"Koei, Omega Force\",\"Ganbarion\",\"Vigil Games\",\"Takara Tomy\",\"Red Fly Studio\",\"Cat Daddy Games\",\"Wow Entertainment\",\"Bluepoint Games\",\"System 3\",\"Sandlot\",\"Gas Powered Games\",\"Full-Fat\",\"K2 LLC\",\"DTP Entertainment\",\"Sony Bend\",\"Kalypso\",\"Legacy Interactive\",\"CD Projekt Red Studio\",\"Coyote Console\",\"Hypnotix\",\"Incinerator Games\",\"Bungie\",\"ImaginEngine\",\"Rockstar Toronto\",\"Storm City Games\",\"h.a.n.d. Inc.\",\"5pb\",\"Jack of All Games\",\"Arkane Studios\",\"Infinite Interactive\",\"Vanillaware\",\"Marvelous Entertainment\",\"Polyphony Digital\",\"Amusement Vision\",\"Aki Corp.\",\"Big Blue Bubble Inc.\",\"Torus Games, Little Orbit\",\"Cauldron Ltd.\",\"Sucker Punch\",\"Artoon\",\"Gorilla Systems\",\"HotGen\",\"EA Chicago\",\"Humongous Entertainment\",\"Irem\",\"Namco Bandai Games America, Namco Bandai Games\",\"Frogwares\",\"Silicon Knights\",\"Headstrong Games\",\"Digital Kids\",\"Codemasters Birmingham\",\"Remedy Entertainment\",\"Ensemble Studios\",\"Blue Byte\",\"Revolution Software\",\"Jaleco Entertainment\",\"Bits Studios\",\"Takara\",\"EA Salt Lake\",\"Project Aces\",\"Longtail Studios\",\"Prope\",\"Jupiter Corporation\",\"Skyworks Technologies\",\"Artech Studios\",\"Atari, Atari SA\",\"Handheld Games\",\"Success\",\"UBlart Montpellier\",\"NanaOn-Sha\",\"Blade Interactive\",\"DONTNOD Entertainment\",\"Bungie Software, Bungie\",\"GRIN\",\"Giants Software\",\"Slightly Mad Studios\",\"Saber Interactive\",\"Eighting\",\"2K Marin\",\"Propaganda Games\",\"UDS\",\"Titus Software\",\"Pacific Coast Power & Light\",\"Mercury Steam\",\"Red Tribe\",\"Frame Studios Interactive\",\"Destination Software\",\"Incognito Inc.\",\"Hydravision\",\"Rising Star Games\",\"Evolution Studios\",\"Surreal Software\",\"Nex Entertainment\",\"Wizarbox\",\"Blue Fang Games\",\"Rage Software\",\"Eidos Interactive\",\"EKO Software\",\"Lionhead Studios\",\"Kemco\",\"Pam Development\",\"4J Studios\",\"Endemol\",\"Little Orbit\",\"Sony Online Entertainment\",\"Studio Liverpool\",\"CokeM Interactive\",\"Novarama\",\"Attention To Detail\",\"Big Huge Games\",\"2K Games\",\"Guerrilla\",\"NetherRealm Studios\",\"Retro Studios\",\"Turn 10\",\"Kadokawa\",\"4A Games\",\"EA Sports, EA Vancouver\",\"Mastiff\",\"Razorback Developments\",\"Nd Cube\",\"Marvelous\",\"Various\",\"Keen Games\",\"iNiS\",\"ValuSoft\",\"Runecraft\",\"Supersonic Software\",\"Massive Entertainment\",\"D3Publisher\",\"KCE Studios\",\"Quantic Dream\",\"Ninja Theory\",\"Gusto Games\",\"Ubisoft Vancouver\",\"Respawn Entertainment\",\"Artefacts Studio\",\"Aspyr\",\"ArtePiazza\",\"Smilebit\",\"Blue Shift\",\"VIS Entertainment\",\"Tango Gameworks\",\"High Impact Games\",\"Starfish SD\",\"FuRyu\",\"Stainless Games\",\"Idea Factory\",\"Black Rock Studio\",\"Bec\",\"Ghost Games\",\"Lucky Chicken\",\"ChunSoft\",\"Paon Corporation\",\"Team Fusion\",\"Larian Studios\",\"ArenaNet\",\"Bullfrog Productions\",\"Crawfish Interactive\",\"Cing\",\"2K Czech\",\"Smart Bomb Interactive\",\"FrontLine Studios\",\"Triumph Studios\",\"Avanquest Software\",\"Paradox Development Studio\",\"Lightning Fish Games\",\"SCE Santa Monica\",\"Ready at Dawn\",\"Ryu ga Gotoku Studios\",\"Croteam\",\"Raylight Studios\",\"Midway Studios - Austin\",\"Hudson Entertainment\",\"Slant Six\",\"Lexis Numerique, Virtual Toys\",\"Venom Games\",\"Other Ocean Interactive\",\"Access Games\",\"Funcom\",\"Artdink\",\"SimBin\",\"Magellan Interactive\",\"Ignition Entertainment\",\"Nihilistic\",\"Pipe Dream Interactive\",\"KING Art\",\"Yager\",\"Magenta Software\",\"Inti\",\"Bam Entertainment\",\"Brain Toys\",\"Ubisoft Casablanca\",\"WXP\",\"FireFly Studios\",\"Namco Bandai Games America\",\"AI\",\"Smack Down Productions\",\"Polygon Magic\",\"Renegade Kid\",\"Disney Interactive\",\"IR Gurus\",\"Mad Doc Software\",\"Panic Button\",\"Spellbound\",\"Cave\",\"Zoe Mode, HB Studios Multimedia\",\"FeelPlus\",\"Examu\",\"Gaming Minds Studios\",\"Rovio Mobile, Rovio Entertainment\",\"Treyarch, Shaba Games\",\"Hitmaker\",\"Cranky Pants Games\",\"Empire Interactive\",\"Super X Studios\",\"Ivory Tower\",\"Pseudo Interactive\",\"Mobius Entertainment\",\"Beyond Reality\",\"Ion Storm\",\"Tantatus\",\"High Voltage Software, Backbone Entertainment\",\"LucasArts, Krome Studios\",\"SNK\",\"AWE Games\",\"Empire Oxford\",\"Eugen Systems\",\"Totally Games\",\"Ratbag\",\"Razorworks\",\"Teyon\",\"Eighting\\u002fRaizing\",\"Wideload Games Inc.\",\"Tri-Crescendo\",\"Hijinx Studios\",\"Brash Entertainment\",\"Game Machine Studios\",\"RedLynx\",\"Bohemia Interactive\",\"Idol Minds\",\"Shift\",\"343 Industries\",\"Million\",\"Psyonix\",\"Zombie Studios\",\"Daedalic Entertainment\",\"Cattle Call\",\"SuperVillain Studios\",\"Monumental Games\",\"Reality Pump\",\"DreamFactory\",\"Cooking Mama Limited\",\"Bigbig Studios\",\"Ubisoft Milan\",\"Genuine Games\",\"3d6 Games\",\"Splash Damage\",\"Neverland, Idea Factory\",\"Capcom Vancouver\",\"Jester Interactive\",\"Kaos Studios\",\"O-Games\",\"Hellbent Games\",\"Planet Moon Studios\",\"United Front Games\",\"Indie Built\",\"Kojima Productions, Moby Dick Studio\",\"Piranha Games\",\"Light Weight\",\"Acclaim Studios Austin\",\"Eidos Montreal\",\"GSC Game World\",\"Oddworld Inhabitants\",\"Conspiracy Entertainment\",\"Black Isle Studios\",\"Deibus Studios\",\"Ubisoft Reflections\",\"Irrational Games\",\"Wicked Witch Software\",\"Genius Sonority Inc.\",\"Midway Studios - San Diego\",\"Double Fine Productions\",\"Iron Galaxy Studios\",\"Trion Worlds\",\"RED Entertainment\",\"SCEI\",\"KCEA\",\"Ubisoft Toronto\",\"Nintendo, Nd Cube\",\"Petroglyph\",\"Adrenium\",\"CAProduction\",\"Impulse Games\",\"Ubisoft, Ubisoft Montreal\",\"Vingt-et-un Systems\",\"Nadeo\",\"Flight-Plan\",\"Taniko\",\"Broadsword Interactive\",\"Nintendo, Nintendo Software Technology\",\"Nikitova Games\",\"Ambrella\",\"N-Fusion Interactive Entertainment Corp.\",\"Savage Entertainment\",\"Lexis Numerique\",\"Infinity Ward, Sledgehammer Games\",\"Phoenix Games Studio\",\"Sonic Powered\",\"Darkworks\",\"Colossal Order\",\"Microvision\",\"Velez & Dubail\",\"Arcade Moon\",\"Ubisoft Paris, Ubisoft Montpellier\",\"Epic Games, People Can Fly\",\"Rockstar London\",\"Sega Studios San Francisco\",\"Crystal Dynamics, Nixxes Software\",\"Amuze\",\"Zerodiv\",\"Cyberlore Studios\",\"Two Tribes\",\"id Software, Raven Software\",\"Deep Silver Dambuster Studios\",\"Turtle Rock Studios\",\"Ubisoft Bulgaria\",\"Barnhouse Effect\",\"Her Interactive\",\"Big Sky Software\",\"Monte Cristo Multimedia\",\"Overworks\",\"Red Storm Entertainment, Ubisoft Montreal\",\"The Game Factory\",\"SEGA Racing Studio\",\"Paradox Interactive\",\"Terminal Reality, 4mm Games\",\"Pendulo Studios\",\"SkyRiver Studios\",\"Vivendi Games\",\"TimeGate Studios\",\"Ubisoft Reflections, Ivory Tower\",\"WideScreen Games\",\"iWin\",\"LSP\",\"Hangar 13\",\"NuFX\",\"Activision Value\",\"Cyanide, Cyanide Studios\",\"AQ Interactive\",\"Rockstar Studios\",\"Alpha Unit\",\"Jellyvision, Iron Galaxy Studios\",\"Jellyvision\",\"Swordfish Studios\",\"Ascaron Entertainment GmbH\",\"Easy Interactive\",\"Backbone Vancouver\",\"Angel Studios\",\"Gratuitous Games\",\"K2\",\"GungHo\",\"Climax Entertainment\",\"RFX Interactive\",\"EA Sports Big\",\"Spiders\",\"SCE Studio Cambridge\",\"WinkySoft\",\"3G Studios\",\"Kylotonn\",\"Melbourne House\",\"Mercury Steam, Alchemic Productions\",\"Experience Inc.\",\"M2\",\"Human Head Studios\",\"Creatures Inc.\",\"Psygnosis\",\"KnowWonder\",\"Gogii Games\",\"SouthPeak Games\",\"Graphic State\",\"Lost Toys\",\"Playrix Entertainment\",\"Media Molecule\",\"Danger Close\",\"Vicious Cycle, Little Orbit\",\"Coyote Developments\",\"Games Farm\",\"Santa Cruz Games\",\"Nitro Games\",\"Nordcurrent\",\"Yacht Club Games\",\"8ing\\u002fRaizing\",\"SCEJ\",\"Human Soft, Ivolgamus\",\"Gorilla Games\",\"Moss\",\"Cosmigo\",\"Hit Maker\",\"Virtucraft\",\"Illusion Softworks\",\"Anchor\",\"Pocketeers\",\"Kouyousha\",\"Stormregion\",\"Graffiti Entertainment\",\"Zed Two Limited\",\"Eden\",\"Game Freak\",\"Overkill Software\",\"Spicy Horse\",\"Outrage Games\",\"Tomy Corporation\",\"Valuewave Co.,Ltd.\",\"Isopod Labs\",\"Most Wanted Entertainment\",\"Kush Games, Visual Concepts\",\"WorkJam\",\"Inevitable Entertainment\",\"Black Ship Games\",\"Micro Cabin\",\"Dancing Dots\",\"Deadline Games\",\"Brownie Brown\",\"Trickstar Games\",\"Freedom Factory Studios\",\"VU Games\",\"Bullets\",\"2K Australia\",\"Loose Cannon Studios\",\"Sledgehammer Games\",\"City Interactive, Deck 13\",\"T&E Soft\",\"David A. Palmer Productions\",\"EA Canada, Nihilistic\",\"Aspect\",\"Coldwood Interactive\",\"Cerasus Media\",\"Deck 13\",\"Marvelous AQL\",\"Digital Mayhem\",\"Appaloosa Interactive\",\"TOYBOX\",\"Koolhaus Games\",\"Suzak\",\"Ascaron Entertainment GmbH, Ascaron Entertainment\",\"GenePool\",\"Pronto Games\",\"Ubisoft, Sensory Sweep\",\"Shift, Bandai Namco Games\",\"Namco Bandai Games, Monkey Bar Games\",\"Land Ho!\",\"DSI Games\",\"Idea Factory, Compile Heart\",\"Global A\",\"Mistwalker, Artoon\",\"MagicWand\",\"Bungie Software\",\"Icon Games\",\"Climax Studios\",\"Epicenter Studios\",\"Gearbox Software, 3D Realms\",\"Dusenberry Martin Racing\",\"CiRCLE\",\"Zono Inc.\",\"Milestone\",\"Fall Line Studio\",\"VSTEP\",\"Career Soft\",\"Koei\\u002fInis\",\"Amanita Design\",\"2XL Games\",\"Black Sea Studios\",\"PuzzleKings\",\"Scientifically Proven\",\"Software Creations\",\"Stealth Studios\",\"Oberon Media\",\"Seta Corporation\",\"BottleRocket Entertainment\",\"Game Sauce\",\"Guildford Studio\",\"Big John Games\",\"Buena Vista Games\",\"Atomic Motion\",\"Taito Corporation, 505 Games\",\"Iridon Interactive AB\",\"Blast! Entertainment Ltd\",\"Aqua Pacific, In2Games\",\"Naps Team\",\"Mentor Interactive\",\"Classic Media Distribution Limited\",\"Kodiak Interactive\",\"Hoplite Research\",\"Happy Happening\",\"Viva Media, Viva Media, LLC\",\"CCP\",\"The Behemoth\",\"Immersion Software & Graphics\",\"Gameinvest\",\"Tilted Mill\",\"Capcom, QLOC\",\"Impressions Games\",\"Foreign Media\",\"Bongfish\",\"King of the Jungle\",\"Clockwork Games\",\"Gunnar Games\",\"MicroProse, n-Space\",\"Studio Saizensen\",\"Ivolgamus\",\"Doki Denki\",\"XS Games\",\"Babylon Software\",\"Ironclad Games\",\"Otomate\",\"Mad Catz\",\"People Can Fly\",\"Introversion, Double Eleven\",\"1C, Ino-Co, 1C Company\",\"Best Way\",\"PopTop Software\",\"BeeWorks\",\"Targem Games, TopWare Interactive\",\"Big Fish Games\",\"Opera House\",\"Starsphere Interactive\",\"1C:Ino-Co\",\"Swingin' Ape\",\"1C: Maddox Games\",\"Global Star Software\",\"Direct Action Games\",\"Tommo\",\"Firehazard Studio\",\"Vanpool\",\"Slam Games\",\"Re-Logic\",\"5000ft\",\"S-Neo\",\"G-Artists\",\"Playstos Entertainment\",\"Klein Computer Entertainment\",\"Metanet Software Inc., SilverBirch Studios\",\"Interchannel\",\"Purple Hills\",\"Ubisoft Nagoya\",\"Tate Interactive\",\"THQ Australia\",\"Interplay\",\"Platinum Egg\",\"Axis Entertainment\",\"Planet Interactive\",\"NATSUME ATARI Inc.\",\"Liquid Entertainment\",\"Trine Games\",\"Egosoft\",\"Seven45 Studios\",\"TopWare Interactive\",\"Milestone, Milestone S.r.l\",\"Studio 33\",\"MileStone Inc.\",\"Westwood Studios\",\"The Fun Pimps Entertainment LLC\",\"Kando Games\",\"Epics\",\"Spike Chunsoft, Chime\",\"Gaijin Games\",\"Mix Max\",\"Fatshark AB\",\"B-Alive\",\"Neopica\",\"Tripwire Interactive\",\"Top Heavy Studios\",\"Noise Factory\",\"Curious Pictures\",\"Deep Fried Entertainment\",\"NaturalMotion\",\"Zig Zag\",\"Quicksilver Software\",\"Playlogic, The Game Factory\",\"Halfbrick Studios\",\"Neon Studios, Kaiko\",\"Orbital Media, Inc.\",\"Glyphic Entertainment\",\"Andamiro U.S.A. Corp.\",\"Asylum Entertainment\",\"UGA\",\"Eutechnyx, Deep Silver\",\"Tecmo, Ntreev Soft\",\"Fluid Studios\",\"Silicon Dreams\",\"Activision, Behaviour Interactive\",\"Digital Embryo\",\"OneNine Studios\",\"Twelve Games\",\"CI Games\",\"Backbone Emeryville\",\"Gravity-I\",\"Frima Studio\",\"Black Hole Games\",\"BattleBorne\",\"Arkedo Studio\",\"2K Play\",\"Blue Omega\",\"Kung Fu Factory\",\"Kunos Simulazioni\",\"Infogrames\",\"EM Studios\",\"Red Tribe, Brash Entertainment\",\"eGames\",\"Acclaim Studios Manchester\",\"Extra Mile Studios\",\"Prope, Kadokawa\",\"1C, 1C Company\",\"Disney Interactive Studios, Land Ho!\",\"Autumn Moon\",\"Spark Unlimited, comcept\",\"Whitebear\",\"Funatics Software, Funatics\",\"10tacle Studios, Fusionsphere Systems\",\"Game Life\",\"Frozenbyte, Inc.\",\"Presto Studios\",\"Phoenix Interactive Entertainment\",\"Beyond Games\",\"SCS Software\",\"Blue Tongue\",\"Kuusou Kagaku\",\"WBIE\",\"Machatin, Inc.\",\"Vivarium\",\"Q-Games\",\"SCEA Sports Studio\",\"Omega Force, Koei Tecmo Games\",\"Hothouse Creations\",\"THQ Digital Studio Phoenix\",\"Vanilla Ware\",\"Silicon Studio\",\"Cinegroupe\",\"Lab Rats Games\",\"EA Sports, EA Canada\",\"Delphine Software International\",\"Cunning Developments\",\"Nerve Software\",\"Pyramid\",\"Fuse Games Limited\",\"Scholastic, Inc.\",\"Creations\",\"CyberConnect2, Racjin\",\"Studio Gigante\",\"Phantagram\",\"Nobilis\",\"SunSoft\",\"EA Canada, EA Vancouver\",\"Sennari Interactive\",\"ITL\",\"Inland Productions\",\"Bandai Namco Games, Artdink\",\"Noise Inc.\",\"Victor Interactive Software\",\"Zen Studios\",\"Harmonix Music Systems, Demiurge Studios\",\"Knowledge Adventure Inc.\",\"Telegames\",\"Armature Studio\",\"Ritual Entertainment, Avalanche Software\",\"War Drum Studios\",\"Humagade\",\"Team 17, Two Tribes\",\"Computer Artworks\",\"Farsight Studios, Crave\",\"Midway Studios - Los Angeles\",\"JGI Entertainment\",\"Mucky Foot Productions\",\"Pitbull Syndicate\",\"Playground Games\",\"Blue Byte, Related Designs\",\"The Code Monkeys\",\"SuperMassive Games\",\"Ready at Dawn, SCE Santa Monica\",\"Factor 5\",\"EA Vancouver\",\"WB Games Montreal\",\"Cyan Worlds\",\"syn Sophia\",\"Dice, Danger Close\",\"Dreamworks Interactive\",\"Warner Bros. Interactive Entertainment, NetherRealm Studios\",\"Irrational Games, 2K Marin\",\"Spike, Namco Bandai Games\",\"Junction Point\",\"Team Bondi\",\"Fox Interactive\",\"SCE\\u002fWWS, Media Molecule\",\"Nintendo EAD Tokyo\",\"DMA Design\",\"Sega, Sonic Team\",\"Steel Monkeys\",\"Project Soul\",\"Pocket Studios\",\"Tetris Online, Inc\",\"Square Enix, Tri-Ace\",\"Guerilla Cambridge\",\"Capcom, Pipeworks Software, Inc.\",\"Evolution Games\",\"EA Seattle\",\"Digital Anvil\",\"Dimps Corporation, Namco Bandai Games\",\"SCi\",\"FASA Studio\",\"Mistwalker\",\"Buzz Monkey\",\"Team Ninja, Tecmo\",\"Red Storm Entertainment, Ubisoft Paris\",\"Blizzard North\",\"Mad Doc Software, Rockstar Vancouver\",\"Electronic Arts, Rebellion\",\"Locomotive Games\",\"Chris Sawyer\",\"ZeniMax Media\",\"Ubisoft Sofia\",\"SScholastic Media\",\"KCEK\",\"Sims\",\"GameMill Publishing, 1st Playable Productions\",\"Sanuk Games\",\"Nautilus\",\"Majesco Games\",\"Sony Interactive Entertainment\",\"Jet Black Games\",\"Wargaming.net\",\"Griffin International\",\"Mitchell\",\"Amble\",\"Circus Freak\",\"Simon & Schuster\",\"Activision, FreeStyleGames\",\"ZootFly\",\"Volatile Games\",\"Akella\",\"Banpresto\",\"Rocksteady Studios, Virtuos\",\"Tornado Studios\",\"Metro\",\"Mac Play, MacPlay\",\"Hasbro Interactive\",\"7Raven Studios\",\"Realtime Worlds\",\"Ubisoft Osaka\",\"Paprikari\",\"Snap Dragon Games\",\"Examu, Marvelous Inc.\",\"Gaslamp Games\",\"Fusionsphere Systems\",\"Flagship, HAL Labs\",\"Hello Games\",\"G.Rev\",\"SystemSoft\",\"Metro Graphics\",\"Max Five\",\"Naughty Dog, Sony Bend\",\"Mind Candy\",\"Flying Tiger Development\",\"Konami Software Shanghai\",\"Bright Future GmbH\",\"Hyper-Devbox\",\"Matrix Software, Marvelous Entertainment\",\"Avit-Niigata\",\"KUNST-STOFF\",\"Killaware\",\"Check Six Games\",\"F84 Games\",\"InterActive Vision Games\",\"PLAYGROUND, Playground Games\",\"Nival Interactive\",\"Alawar Entertainment, Inc, Alawar Entertainment\",\"Sabarasa Entertainment\",\"GREZZO\",\"Volition Inc., CD Projekt Red Studio, CD Projekt, CD Projekt Localisation Centre\",\"SolWorks\",\"InLight Entertainment\",\"Urban Games\",\"2D Boy\",\"Fusionsphere Systems, Animation Arts\",\"Gaia (Sony)\",\"Magic Pixel Games\",\"Ubisoft Sao Paulo\",\"Big Blue Box\",\"DreamCatcher Interactive\",\"Enlight Software\",\"Sanrio Digital\",\"Ravenscourt\",\"Ice-Pick Lodge\",\"BattleGoat Studios\",\"System Prisma\",\"PQube\",\"NoWay Studio\",\"HAL Labs, Creatures Inc.\",\"Atari, Slightly Mad Studios, Atari SA\",\"Stainless Steel Studios\",\"Rhino Studios\",\"Blue Planet Software\",\"M4 Limited\",\"Hoget\",\"Delta Factory\",\"Blueshift\",\"Reloaded Productions, Reloaded Games Inc.\",\"Alchemist, Inti Creates\",\"Avalon Style\",\"Blue 52\",\"Dovetail Games\",\"Nightlight Studios\",\"EnjoyUp Games\",\"Rare Ltd., BigPark\",\"Braingame\",\"Genius Sonority Inc., Disney Interactive Studios\",\"Tigon\",\"Deep Silver, Sproing Interactive Media, Sproing\",\"Tarsier Studios, Double Eleven\",\"Mikoishi\",\"THQ, Yuke's\",\"Nintendo, Spike Chunsoft\",\"Opus, Project Sora\",\"Farmind Ltd\",\"Y's K\",\"Midas Interactive Entertainment\",\"Valhalla Game Studios\",\"Liquid Dragon Studios\",\"Osiris Studios\",\"Treyarch, Infinity Ward\",\"Good-Feel\",\"Left Field Productions, Zoo Games\",\"Anino Entertainment\",\"SingleTrac\",\"Rebellion, Neversoft Entertainment\",\"Dimps Corporation, Dream Execution\",\"Headfirst Productions\",\"EA Japan Studio\",\"Spike Chunsoft Co. Ltd., Spike Chunsoft\",\"Amaze\",\"Silver Wish Games\",\"Runtime\",\"Gammick Entertainment\",\"DiP Interactive\",\"Level 5, Brownie Brown\",\"IronNos Co.,Ltd.\",\"DreamRift\",\"Snapdragon\",\"Brainbox Games\",\"Omega Force, Tecmo Koei Games\",\"MBA International\",\"505 Games, Sarbakan Inc.\",\"Southend Interactive\",\"neo Software\",\"Nitro+\",\"Humongous Entertainment, Mistic Software\",\"Mystic Software\",\"Design Factory\",\"Creative Patterns\",\"Rockstar Vienna\",\"Fresh 3D\",\"THQ, 1C, 1C Company\",\"Just For Fun\",\"Eidos Interactive, Tantalus Interactive\",\"Neon Studios\",\"Flagship\",\"Navarre Corp\",\"Buka Entertainment, Targem Games\",\"Ubisoft Porto Alegre\",\"SmartDog\",\"Digital Extremes, 2K Marin\",\"Next Level Games, Nintendo\",\"MASA Group\",\"One Man Band\",\"Carapace\",\"BigPark\",\"Barking Lizards\",\"CyberPlanet Interactive Public Co., Ltd., Maximum Family Games\",\"Studio Archcraft\",\"Barnstorm Games\",\"Zoonami Ltd.\",\"Tamsoft, D3Publisher\",\"Aquria\",\"Cave Barn\",\"Radius9\",\"ThatGameCompany\",\"The Coalition\",\"Iron Lore Entertainment\",\"Ninja Studio\",\"Slitherine\",\"Square Enix, Think and Feel\",\"Codo Games\",\"Red Wagon Games\",\"Io Interactive, Nixxes Software\",\"Cowboy Rodeo\",\"Cranberry Production\",\"Arzest\",\"LDW\",\"Imagineer\",\"Phoenix Entertainment\",\"Namco Bandai Games, Cellius\",\"EA DICE, Danger Close\",\"White Birds Productions\",\"Farsight Technologies\",\"Tranji\",\"Neversoft Entertainment, BudCat\",\"Vicious Cycle, Infinite Interactive\",\"Telegames, Inc.\",\"Sanuk Software Co., Ltd., Sanuk Games\",\"GameCo\",\"Secret Stash Games\",\"Virtual Play Inc.\",\"Yuke's, Yuke's Company of America\",\"Funbox Media\",\"Aspect, Takara Tomy\",\"Metia Interactive\",\"Flying Lab Software\",\"Retro Studios, Entertainment Analysis & Development Division\",\"Squashy Software\",\"Hokus Pokus\",\"Agetec\",\"PAWS\",\"Alphadream Corporation\",\"Deep Red\",\"Touchdown Entertainment\",\"Turbine Inc.\",\"SCEE, Zoe Mode\",\"Enigma Software Productions\",\"Nvizzio Creations\",\"Unigine Corp, Russia\",\"Flagship Studios\",\"ApolloSoft\",\"Ancient\",\"Zoo Digital Publishing\",\"UFO Interactive, CyberPlanet Interactive Public Co., Ltd.\",\"Infogrames Sheffield\",\"Naughty Dog, SCE\\u002fWWS\",\"Headup Games, Crenetic Studios\",\"Tose Software\",\"Pterodon\",\"Strangelite\",\"oeFun\",\"ChaYoWo Games\",\"Mana Comp. Soft.\",\"EA Phenomic\",\"Next Wave Team\",\"Triple Eh? Ltd\",\"TDK Mediactive\",\"Headgate\",\"dtp Young Entertainment AG\",\"Coffee Stain Studios\",\"Societe Pollene\",\"Boston Animation\",\"React Games\",\"Bigben Interactive, Red Wagon Games\",\"Papyrus\",\"Inferno Games\",\"Katauri Interactive\",\"High Moon Studios, Mercenary Technologies\",\"Infinite Dreams, Paragon 5\",\"Big Red Software\",\"Atomic Games\",\"Empty Clip Studios\",\"Blue Tea Games\",\"Boomzap\",\"Battlefront.com, 1C, 1C Company\",\"Logris Games\",\"Ino-Co\",\"Red 5 Software\",\"Elixir Studios\",\"The Odd Gentlemen\",\"Compulsion Games\",\"Camouflaj, LLC\",\"777 Studios\",\"Subterranean Games\",\"Interworks Unlimited, Inc.\",\"Black Bean Games\",\"DMA Design, Rockstar North\",\"Good Science Studio\",\"Spidersoft, Spiders\",\"1C, Various, 1C Company\",\"Tecmo, Graphic Research\",\"TML-Studios\",\"Phenomedia\",\"Small Rockets\",\"Voxler\",\"Will\",\"Hudson, NATSUME ATARI Inc.\",\"Headup Games\",\"Engine Software, Re-Logic\",\"PM Studios Inc., Pentavision Entertainment\",\"zSlide\",\"Tragnarion Studios\",\"Big Blue Bubble Inc., Breakthrough New Media\",\"Prograph\",\"Celeris\",\"NEC Interchannel\",\"Splash Damage, The Coalition\",\"Panther Software\",\"Number None Inc., Knockout Games\",\"Team6 Game Studios\",\"Targem Games\",\"Still Alive Studios\",\"Agenda\",\"Eagle Dynamics\",\"Confounding Factor\",\"Headlock\",\"Dimps Corporation, Sonic Team\",\"Super Empire\",\"Ruffian Games\",\"Volition Inc., Reactor Zero\",\"Eidos Montreal, Nixxes Software\",\"Sonnori\",\"Bit Town\",\"OfficeCreate\",\"Magnin & Associates\",\"Edmund McMillen, Florian Himsl\",\"Tiwak\",\"Zuxxez\",\"Opus Studio\",\"Gameinvest, Seed Studios, Lda\",\"LucasArts, BioWare\",\"Big Time Software\",\"SoftMax\",\"Magicpot\",\"Machineworks Northwest, WXP\",\"Certain Affinity\",\"Master Creating\",\"Rainbow S.p.A.\",\"Edge Entertainment, Anima Project\",\"FAKT Software\",\"SCEA, Zindagi Games\",\"Boxed Dream\",\"Lead Pursuit\",\"Punchline, Shirogumi\",\"The Digital Lounge, Dino Dini\",\"Beluga Computer\",\"Kat Games\",\"Strawdog Studios\",\"InterServ International\",\"Trendy Entertainment\",\"United Coders, Wizardry Engineering\",\"Melesta\",\"Alternative Software\",\"Mediascape, CUBETYPE\",\"JoWooD Entertainment AG\",\"Cryptic Studios\",\"Multimedia Intelligence Transfer\",\"Arrowhead Game Studios\",\"The Tangentlemen\",\"Mastertronic\",\"Sandlot Games\",\"EC Interactive Games\",\"Frontier Developments, Various\",\"Crea-Tech\",\"Team Soho\",\"Cyber Planet\",\"ZigZagIsland\",\"Office Create\",\"Gameness Art Software\",\"Dracue\",\"Mindware Studios\",\"EA Mythic\",\"Atomic Planet Entertainment, Mud Duck Productions\",\"Minds-Eye Productions\",\"SEK Ost\",\"Nintendo, Namco Bandai Games\",\"Plato\",\"Universomo\",\"EA Redwood Shores, EA Salt Lake\",\"Nintendo, Headstrong Games\",\"Pam Development, 2K Sports\",\"Microids, Dreamcatcher\",\"Virtual Air Guitar Company\",\"Big Blue Bubble Inc., Scholastic, Inc.\",\"Venan Entertainment, Cashmere Prod.\",\"Sunflowers Interactive\",\"Rocksteady Studios, Iron Galaxy Studios\",\"Independent Arts\",\"IR Gurus Interactive Ltd.\",\"Phosphor Games Studio, LLC\",\"Game Titan\",\"Vatra\",\"Sacnoth\",\"Attention Software\",\"Premium Agency\",\"Syscom\",\"GlyphX Games\",\"Ubisoft, Moss\",\"Nintendo, Camelot Software Planning\",\"Square Enix, TOSE\",\"Astroll\",\"Maximum Games\",\"Bluehole Studio\",\"LightBox Interactive\",\"Nintendo, Intelligent Systems\",\"Kronos Digital Entertainment\",\"Sunrise Interactive\",\"Game Brains\",\"Next Entertainment\",\"JV Games Inc.\",\"Kamui\",\"Transmission Games\",\"K2, Kurogane\",\"Tenyo\",\"Culture Brain\",\"Beenox, Other Ocean Interactive\",\"Escape\",\"ACOT\",\"Hot Lava Games\",\"Twisted Pixel Games\",\"Nfusion\",\"HandMade Game\",\"Zeroscale\",\"Just Add Monsters\",\"369 Interactive\",\"puzzle.tv\",\"Visual Sciences\",\"Animation Arts\",\"Quest\",\"Nippon Ichi Software, Hit Maker\",\"Tactical Development\",\"Artificial Studios, Immersion Software & Graphics\",\"Contraband Entertainment\",\"SME Dynamic Systems Limited\",\"SCE Japan Studio, comcept\",\"Microsoft Game Studios Japan\",\"Factor 5, SCE\\u002fWWS\",\"Jupiter Corporation, Jupiter Multimedia\",\"Cinemaware\",\"Harmonix Music Systems, Backbone Entertainment\",\"BIP Games\",\"Tecmo Koei Canada\",\"eV Interactive\",\"Kokolo Corporation\",\"Curly Monsters\",\"Eurocom Entertainment Software, Visceral Games\",\"Psikyo\",\"Tiertex Design Studios\",\"Ubisoft Barcelona, Ubisoft Reflections\",\"Warashi\",\"Ubisoft, Ludia Inc.\",\"Beep Industries\",\"I-Imagine\",\"New\",\"Mindscape Inc., Mindscape\",\"Screenlife Games, WXP\",\"Game Arts, Japan Art Media (JAM)\",\"Midway Studios - Newcastle\",\"DoubleTap Games\",\"Dorasu\",\"Epicenter Interactive\",\"Ubisoft, Powerhead Games\",\"Buzz Monkey, EA Montreal\",\"Buddiez, Inc.\",\"Lucas Learning\",\"Amaze Entertainment, Walt Disney Japan\",\"Sega, French-Bread\",\"Asmik Ace Entertainment, Inc\",\"Eighting, Takara Tomy\",\"Gearbox Software, WayForward\",\"Ludia\",\"Capcom, Klein Computer Entertainment\",\"Lancarse, Atlus\",\"Banpresto, SoftMax\",\"Omiya Soft, Jamsworks\",\"10tacle Studios\",\"Amaze Entertainment, Griptonite Games\",\"Fizz Factor\",\"Atari, Transmission Games, Atari SA\",\"Atlus, Dingo Inc.\",\"Blitz Games, Human Soft\",\"DMi Games\",\"Inti, Inti Creates\",\"Shade\",\"Ronin Entertainment\",\"Denyu-Sha\",\"Konami Computer Entertainment Nagoya\",\"Joindots\",\"Replay Studios, ML Enterprises\",\"Magix\",\"Wildfire Studios\",\"Eiconic Games\",\"Big Red Button Entertainment\",\"Sinister Games\",\"Human Entertainment\",\"Bitmap Brothers\",\"CodeFire\",\"Stalker Entertainment\",\"Game Republic, JapanStudio\",\"Mahou\",\"Sony Online Entertainment, Mind Control Software\",\"Ntreev Soft\",\"Carbine Studios\",\"THQ, Altron\",\"Netherock Ltd.\",\"Felistella\",\"Armature Studio, comcept\",\"Playbox Limited\",\"Performance Designed Products\",\"Blueside\",\"Sick Puppies\",\"Open Sesame\",\"Nicalis\",\"Crafts & Meister\",\"Uacari\",\"Red Zone Entertainment\",\"Monolith Soft, Banpresto\",\"Frogwares, Mistic Software\",\"Sandlot Games, Digital Embryo\",\"Neversoft Entertainment, Underground Development\",\"The Workshop\",\"Pax Softonica\",\"Warner Bros. Interactive Entertainment\",\"WildTangent\",\"Tenky\",\"Cohort Studios\",\"Buena Vista Interactive\",\"Compile Heart, GCREST\",\"Hyperspace Cowgirls\",\"Game Arts, Seta Corporation\",\"Aqua Plus\",\"Zombie\",\"Genki, Kojima Productions\",\"Le Cortex\",\"Vir2L Studios\",\"Related Designs\",\"Gust, Idea Factory\",\"Hypnos\",\"RED Entertainment, Spike Chunsoft\",\"Zener Works\",\"HexaDrive\",\"Agatsuma Entertainment\",\"EA Tiburon, n-Space\",\"Revistronic\",\"Foundation 9 Entertainment\",\"Crispy's\",\"Media Molecule, United Front Games\",\"Tecmo Koei Games\",\"Telenet\",\"Osaka Studio\",\"Kheops Studio\",\"Sanzaru Games, Sanzaru Games, Inc.\",\"Square Enix, h.a.n.d. Inc.\",\"Toka\",\"Digital Fiction\",\"Rockstar Vancouver\",\"Mid Carolina Media\",\"Gimagin Games\",\"THQ, Independent Arts\",\"Mekensleep\",\"SuperBot Entertainment\",\"Maximum Family Games\",\"Mobile 21\",\"Cygames\",\"ECI\",\"G1M2\",\"TimeGate Studios, Day 1 Studios\",\"iRock Interactive\",\"2K Shanghai\",\"SCEA, Think and Feel\",\"Tabot\",\"Indi\",\"SilverBirch Studios\",\"Digital Leisure Inc.\",\"Valcon Games\",\"Gulti\",\"Tectonic Studios\",\"EA Canada, Sensory Sweep\",\"Wide Games\",\"Amedio\",\"Toolbox Design\",\"Wicked Studios\",\"Vicarious Visions, Neversoft Entertainment\",\"Skip Ltd.\",\"Metropolis Software\",\"Skonec\",\"ZeptoLab\",\"2015\",\"Idol FX\",\"Goshow\",\"Leviathan Games\",\"Box Clever Interactive\",\"Attractive Games\",\"Sabertooth Games\",\"Ubisoft, FunHouse\",\"Enterbrain\",\"Prolific\",\"Ubisoft Shanghai\\u002fParis\",\"Interactive Brains\",\"Doublesix\",\"Synetic\",\"Jupiter Multimedia\",\"Vogster\",\"Yoostar Entertainment Group\",\"exozet\",\"Sega, Dimps Corporation\",\"Anchor Bay Entertainment\",\"Route 1 Games\",\"Pinegrow\",\"Ubisoft Barcelona\",\"Roxor Games\",\"Hyde\",\"Runic Games\",\"Tantalus Interactive, Tantatus, Nintendo\",\"StudioBlack Games\",\"SpiderMonk\",\"Koei Canada\",\"Sun-Tec\",\"Electronic Arts, EA Redwood Shores\",\"Sega AM3\",\"Awesome Play Ltd.\",\"Art Co., Ltd.\",\"Treyarch, Sledgehammer Games\",\"Jack of All Games, eV Interactive\",\"Prokion\",\"Activision, Traveller's Tales\",\"XPEC Entertainment Inc.\",\"Behavior Studios\",\"Bunkasha Publishing\",\"Dreamworks Games\",\"Vanguard\",\"Ornith\",\"GCP1\",\"Media Vision, Contrail\",\"Deep Silver, Keen Games\",\"Krome Studios, Screenlife Games\",\"Seamless Entertainment, Inc.\",\"Dimps Corporation, SCE Japan Studio\",\"Joindots, Mastertronic\",\"Arts Software\",\"Rockstar Toronto, Rockstar Leeds\",\"Monolith Soft, Namco Bandai Games\",\"RED Entertainment, Artdink\",\"Pentavision Entertainment\",\"Sega Toys\",\"Namco Bandai Games, Bandai Namco Games\",\"Big Blue Entertainment\",\"Void Productions\",\"Raster\",\"Santa Entertainment\",\"High Voltage Software, Ubisoft Paris\",\"Zindagi Games\",\"Big Head Games Ltd.\",\"Artificial Mind and Movement, EA Redwood Shores\",\"Amaze Entertainment, Vivendi Games\",\"Zoom\",\"Nuevo Retro Games\",\"Bionic Games\",\"Magic Rings\",\"Pixel Tales\",\"Deep Space\",\"Awesome Studios\",\"Mere Mortals\",\"RED Entertainment, Compile Heart\",\"BioWare, Demiurge Studios\",\"Hypnos Entertainment\",\"Sumo Digital, Playground Games\",\"Artificial Mind and Movement, Polygon Magic\",\"Aqua Pacific\",\"ProSoft\",\"Trilobyte\",\"Activision, Activision Blizzard\",\"SCE\\u002fWWS, SCE Japan Studio\",\"Mastertronic, V5 Play Studio\",\"Ambrella, The Pokemon Company\",\"Infinite Machine\",\"LDW, Big Fish Games\",\"Gevo Entertainment\",\"Metro3D\",\"Zushi Games Ltd\",\"Ubisoft Annecy\",\"Housemarque\",\"EA Canada, Exient Entertainment\",\"Omega Force, Koei Canada\",\"Entersphere, Inc.\",\"Merscom LLC\",\"B.B.Studio\",\"The Learning Company\",\"THQ, AWE Games\",\"SCEA, Sims\",\"Eighting, Genius Sonority Inc.\",\"id Software, Nerve Software\",\"Equinoxe\",\"Realism Ltd\",\"Dearsoft\",\"LucasArts, Red Fly Studio\",\"8Monkey Labs\",\"Crave, DTP Entertainment\",\"odenis studio\",\"Realmforge Studios\",\"Sega, Tom Create\",\"Sarbakan Inc.\",\"Pacific Century Cyber Works\",\"Interchannel-Holon\"],\"y\":[204,172,167,162,139,108,104,101,99,80,77,76,75,73,72,71,64,62,61,60,59,56,55,49,48,47,46,46,46,44,43,41,40,39,38,38,38,38,37,36,36,34,33,32,32,30,30,30,29,29,29,29,29,29,28,28,27,27,27,27,26,26,26,26,26,26,26,26,25,25,25,24,24,24,24,24,24,23,23,23,23,23,22,22,22,22,22,22,22,22,21,21,21,21,20,20,20,20,20,20,20,20,19,19,19,19,19,19,19,18,18,18,18,18,18,18,17,17,17,17,17,17,17,17,17,17,16,16,16,16,16,16,16,16,16,16,16,16,16,15,15,15,15,15,15,15,15,15,15,15,15,15,14,14,14,14,14,14,14,14,14,14,14,14,14,14,13,13,13,13,13,13,13,13,13,13,13,13,13,13,12,12,12,12,12,12,12,12,12,12,12,12,11,11,11,11,11,11,11,11,11,11,11,11,11,11,11,11,11,11,11,11,10,10,10,10,10,10,10,10,10,10,10,10,10,10,10,10,10,10,10,10,10,10,10,10,10,10,10,10,10,9,9,9,9,9,9,9,9,9,9,9,9,9,9,9,9,9,9,9,9,9,9,9,9,9,9,9,9,9,9,9,9,9,8,8,8,8,8,8,8,8,8,8,8,8,8,8,8,8,8,8,8,8,8,8,8,8,8,7,7,7,7,7,7,7,7,7,7,7,7,7,7,7,7,7,7,7,7,7,7,7,7,7,7,7,7,7,7,7,7,7,7,7,7,7,7,7,7,7,7,7,7,7,7,7,7,7,7,7,7,7,7,7,7,7,7,6,6,6,6,6,6,6,6,6,6,6,6,6,6,6,6,6,6,6,6,6,6,6,6,6,6,6,6,6,6,6,6,6,6,6,6,6,6,6,6,6,6,6,6,6,6,6,6,6,6,6,6,6,6,6,6,6,5,5,5,5,5,5,5,5,5,5,5,5,5,5,5,5,5,5,5,5,5,5,5,5,5,5,5,5,5,5,5,5,5,5,5,5,5,5,5,5,5,5,5,5,5,5,5,5,5,5,5,5,5,5,5,5,5,5,5,5,5,5,5,5,5,5,5,5,5,5,5,4,4,4,4,4,4,4,4,4,4,4,4,4,4,4,4,4,4,4,4,4,4,4,4,4,4,4,4,4,4,4,4,4,4,4,4,4,4,4,4,4,4,4,4,4,4,4,4,4,4,4,4,4,4,4,4,4,4,4,4,4,4,4,4,4,4,4,4,4,4,4,4,4,4,4,4,4,4,4,4,4,4,4,4,4,4,4,4,4,4,4,4,4,4,4,4,4,4,4,4,4,4,4,4,4,4,4,4,3,3,3,3,3,3,3,3,3,3,3,3,3,3,3,3,3,3,3,3,3,3,3,3,3,3,3,3,3,3,3,3,3,3,3,3,3,3,3,3,3,3,3,3,3,3,3,3,3,3,3,3,3,3,3,3,3,3,3,3,3,3,3,3,3,3,3,3,3,3,3,3,3,3,3,3,3,3,3,3,3,3,3,3,3,3,3,3,3,3,3,3,3,3,3,3,3,3,3,3,3,3,3,3,3,3,3,3,3,3,3,3,3,3,3,3,3,3,3,3,3,3,3,3,3,3,3,3,3,3,3,3,3,3,3,3,3,3,3,3,3,3,3,3,3,3,3,3,3,3,3,3,3,3,3,3,3,3,3,3,3,3,3,3,3,3,3,3,3,2,2,2,2,2,2,2,2,2,2,2,2,2,2,2,2,2,2,2,2,2,2,2,2,2,2,2,2,2,2,2,2,2,2,2,2,2,2,2,2,2,2,2,2,2,2,2,2,2,2,2,2,2,2,2,2,2,2,2,2,2,2,2,2,2,2,2,2,2,2,2,2,2,2,2,2,2,2,2,2,2,2,2,2,2,2,2,2,2,2,2,2,2,2,2,2,2,2,2,2,2,2,2,2,2,2,2,2,2,2,2,2,2,2,2,2,2,2,2,2,2,2,2,2,2,2,2,2,2,2,2,2,2,2,2,2,2,2,2,2,2,2,2,2,2,2,2,2,2,2,2,2,2,2,2,2,2,2,2,2,2,2,2,2,2,2,2,2,2,2,2,2,2,2,2,2,2,2,2,2,2,2,2,2,2,2,2,2,2,2,2,2,2,2,2,2,2,2,2,2,2,2,2,2,2,2,2,2,2,2,2,2,2,2,2,2,2,2,2,2,2,2,2,2,2,2,2,2,2,2,2,2,2,2,2,2,2,2,2,2,2,2,2,2,2,2,2,2,2,2,2,2,2,2,2,2,2,2,2,2,2,2,2,2,2,2,2,2,2,2,2,2,2,2,2,2,2,2,2,2,2,2,2,1,1,1,1,1,1,1,1,1,1,1,1,1,1,1,1,1,1,1,1,1,1,1,1,1,1,1,1,1,1,1,1,1,1,1,1,1,1,1,1,1,1,1,1,1,1,1,1,1,1,1,1,1,1,1,1,1,1,1,1,1,1,1,1,1,1,1,1,1,1,1,1,1,1,1,1,1,1,1,1,1,1,1,1,1,1,1,1,1,1,1,1,1,1,1,1,1,1,1,1,1,1,1,1,1,1,1,1,1,1,1,1,1,1,1,1,1,1,1,1,1,1,1,1,1,1,1,1,1,1,1,1,1,1,1,1,1,1,1,1,1,1,1,1,1,1,1,1,1,1,1,1,1,1,1,1,1,1,1,1,1,1,1,1,1,1,1,1,1,1,1,1,1,1,1,1,1,1,1,1,1,1,1,1,1,1,1,1,1,1,1,1,1,1,1,1,1,1,1,1,1,1,1,1,1,1,1,1,1,1,1,1,1,1,1,1,1,1,1,1,1,1,1,1,1,1,1,1,1,1,1,1,1,1,1,1,1,1,1,1,1,1,1,1,1,1,1,1,1,1,1,1,1,1,1,1,1,1,1,1,1,1,1,1,1,1,1,1,1,1,1,1,1,1,1,1,1,1,1,1,1,1,1,1,1,1,1,1,1,1,1,1,1,1,1,1,1,1,1,1,1,1,1,1,1,1,1,1,1,1,1,1,1,1,1,1,1,1,1,1,1,1,1,1,1,1,1,1,1,1,1,1,1,1,1,1,1,1,1,1,1,1,1,1,1,1,1,1,1,1,1,1,1,1,1,1,1,1,1,1,1,1,1,1,1,1,1,1,1,1,1,1,1,1,1,1,1,1,1,1,1,1,1,1,1,1,1,1,1,1,1,1,1,1,1,1,1,1,1,1,1,1,1,1,1,1,1,1,1,1,1,1,1,1,1,1,1,1,1,1,1,1,1,1,1,1,1,1,1,1,1,1,1,1,1,1,1,1,1,1,1,1,1,1,1,1,1,1,1,1,1,1,1,1,1,1,1,1,1,1,1,1,1,1,1,1,1,1,1,1,1,1,1,1,1,1,1,1,1,1,1,1,1,1,1,1,1,1,1,1,1,1,1,1,1,1,1,1,1,1,1,1,1,1,1,1,1,1,1,1,1,1,1,1,1,1,1,1,1,1,1,1,1,1,1,1,1,1,1,1,1,1,1,1,1,1,1,1,1,1,1,1,1,1,1,1,1,1,1,1,1,1,1,1,1,1,1,1,1,1,1,1,1,1,1,1,1,1,1,1,1,1,1,1,1,1,1,1,1,1,1,1,1,1,1,1,1,1,1,1,1,1,1,1,1,1,1,1,1,1,1,1,1,1,1,1,1,1,1,1,1,1,1,1,1,1,1,1,1,1,1,1,1,1,1,1,1,1,1,1,1,1,1,1,1,1,1,1,1,1,1,1,1,1,1,1,1,1,1,1],\"type\":\"bar\"}],                        {\"template\":{\"data\":{\"histogram2dcontour\":[{\"type\":\"histogram2dcontour\",\"colorbar\":{\"outlinewidth\":0,\"ticks\":\"\"},\"colorscale\":[[0.0,\"#0d0887\"],[0.1111111111111111,\"#46039f\"],[0.2222222222222222,\"#7201a8\"],[0.3333333333333333,\"#9c179e\"],[0.4444444444444444,\"#bd3786\"],[0.5555555555555556,\"#d8576b\"],[0.6666666666666666,\"#ed7953\"],[0.7777777777777778,\"#fb9f3a\"],[0.8888888888888888,\"#fdca26\"],[1.0,\"#f0f921\"]]}],\"choropleth\":[{\"type\":\"choropleth\",\"colorbar\":{\"outlinewidth\":0,\"ticks\":\"\"}}],\"histogram2d\":[{\"type\":\"histogram2d\",\"colorbar\":{\"outlinewidth\":0,\"ticks\":\"\"},\"colorscale\":[[0.0,\"#0d0887\"],[0.1111111111111111,\"#46039f\"],[0.2222222222222222,\"#7201a8\"],[0.3333333333333333,\"#9c179e\"],[0.4444444444444444,\"#bd3786\"],[0.5555555555555556,\"#d8576b\"],[0.6666666666666666,\"#ed7953\"],[0.7777777777777778,\"#fb9f3a\"],[0.8888888888888888,\"#fdca26\"],[1.0,\"#f0f921\"]]}],\"heatmap\":[{\"type\":\"heatmap\",\"colorbar\":{\"outlinewidth\":0,\"ticks\":\"\"},\"colorscale\":[[0.0,\"#0d0887\"],[0.1111111111111111,\"#46039f\"],[0.2222222222222222,\"#7201a8\"],[0.3333333333333333,\"#9c179e\"],[0.4444444444444444,\"#bd3786\"],[0.5555555555555556,\"#d8576b\"],[0.6666666666666666,\"#ed7953\"],[0.7777777777777778,\"#fb9f3a\"],[0.8888888888888888,\"#fdca26\"],[1.0,\"#f0f921\"]]}],\"heatmapgl\":[{\"type\":\"heatmapgl\",\"colorbar\":{\"outlinewidth\":0,\"ticks\":\"\"},\"colorscale\":[[0.0,\"#0d0887\"],[0.1111111111111111,\"#46039f\"],[0.2222222222222222,\"#7201a8\"],[0.3333333333333333,\"#9c179e\"],[0.4444444444444444,\"#bd3786\"],[0.5555555555555556,\"#d8576b\"],[0.6666666666666666,\"#ed7953\"],[0.7777777777777778,\"#fb9f3a\"],[0.8888888888888888,\"#fdca26\"],[1.0,\"#f0f921\"]]}],\"contourcarpet\":[{\"type\":\"contourcarpet\",\"colorbar\":{\"outlinewidth\":0,\"ticks\":\"\"}}],\"contour\":[{\"type\":\"contour\",\"colorbar\":{\"outlinewidth\":0,\"ticks\":\"\"},\"colorscale\":[[0.0,\"#0d0887\"],[0.1111111111111111,\"#46039f\"],[0.2222222222222222,\"#7201a8\"],[0.3333333333333333,\"#9c179e\"],[0.4444444444444444,\"#bd3786\"],[0.5555555555555556,\"#d8576b\"],[0.6666666666666666,\"#ed7953\"],[0.7777777777777778,\"#fb9f3a\"],[0.8888888888888888,\"#fdca26\"],[1.0,\"#f0f921\"]]}],\"surface\":[{\"type\":\"surface\",\"colorbar\":{\"outlinewidth\":0,\"ticks\":\"\"},\"colorscale\":[[0.0,\"#0d0887\"],[0.1111111111111111,\"#46039f\"],[0.2222222222222222,\"#7201a8\"],[0.3333333333333333,\"#9c179e\"],[0.4444444444444444,\"#bd3786\"],[0.5555555555555556,\"#d8576b\"],[0.6666666666666666,\"#ed7953\"],[0.7777777777777778,\"#fb9f3a\"],[0.8888888888888888,\"#fdca26\"],[1.0,\"#f0f921\"]]}],\"mesh3d\":[{\"type\":\"mesh3d\",\"colorbar\":{\"outlinewidth\":0,\"ticks\":\"\"}}],\"scatter\":[{\"fillpattern\":{\"fillmode\":\"overlay\",\"size\":10,\"solidity\":0.2},\"type\":\"scatter\"}],\"parcoords\":[{\"type\":\"parcoords\",\"line\":{\"colorbar\":{\"outlinewidth\":0,\"ticks\":\"\"}}}],\"scatterpolargl\":[{\"type\":\"scatterpolargl\",\"marker\":{\"colorbar\":{\"outlinewidth\":0,\"ticks\":\"\"}}}],\"bar\":[{\"error_x\":{\"color\":\"#2a3f5f\"},\"error_y\":{\"color\":\"#2a3f5f\"},\"marker\":{\"line\":{\"color\":\"#E5ECF6\",\"width\":0.5},\"pattern\":{\"fillmode\":\"overlay\",\"size\":10,\"solidity\":0.2}},\"type\":\"bar\"}],\"scattergeo\":[{\"type\":\"scattergeo\",\"marker\":{\"colorbar\":{\"outlinewidth\":0,\"ticks\":\"\"}}}],\"scatterpolar\":[{\"type\":\"scatterpolar\",\"marker\":{\"colorbar\":{\"outlinewidth\":0,\"ticks\":\"\"}}}],\"histogram\":[{\"marker\":{\"pattern\":{\"fillmode\":\"overlay\",\"size\":10,\"solidity\":0.2}},\"type\":\"histogram\"}],\"scattergl\":[{\"type\":\"scattergl\",\"marker\":{\"colorbar\":{\"outlinewidth\":0,\"ticks\":\"\"}}}],\"scatter3d\":[{\"type\":\"scatter3d\",\"line\":{\"colorbar\":{\"outlinewidth\":0,\"ticks\":\"\"}},\"marker\":{\"colorbar\":{\"outlinewidth\":0,\"ticks\":\"\"}}}],\"scattermapbox\":[{\"type\":\"scattermapbox\",\"marker\":{\"colorbar\":{\"outlinewidth\":0,\"ticks\":\"\"}}}],\"scatterternary\":[{\"type\":\"scatterternary\",\"marker\":{\"colorbar\":{\"outlinewidth\":0,\"ticks\":\"\"}}}],\"scattercarpet\":[{\"type\":\"scattercarpet\",\"marker\":{\"colorbar\":{\"outlinewidth\":0,\"ticks\":\"\"}}}],\"carpet\":[{\"aaxis\":{\"endlinecolor\":\"#2a3f5f\",\"gridcolor\":\"white\",\"linecolor\":\"white\",\"minorgridcolor\":\"white\",\"startlinecolor\":\"#2a3f5f\"},\"baxis\":{\"endlinecolor\":\"#2a3f5f\",\"gridcolor\":\"white\",\"linecolor\":\"white\",\"minorgridcolor\":\"white\",\"startlinecolor\":\"#2a3f5f\"},\"type\":\"carpet\"}],\"table\":[{\"cells\":{\"fill\":{\"color\":\"#EBF0F8\"},\"line\":{\"color\":\"white\"}},\"header\":{\"fill\":{\"color\":\"#C8D4E3\"},\"line\":{\"color\":\"white\"}},\"type\":\"table\"}],\"barpolar\":[{\"marker\":{\"line\":{\"color\":\"#E5ECF6\",\"width\":0.5},\"pattern\":{\"fillmode\":\"overlay\",\"size\":10,\"solidity\":0.2}},\"type\":\"barpolar\"}],\"pie\":[{\"automargin\":true,\"type\":\"pie\"}]},\"layout\":{\"autotypenumbers\":\"strict\",\"colorway\":[\"#636efa\",\"#EF553B\",\"#00cc96\",\"#ab63fa\",\"#FFA15A\",\"#19d3f3\",\"#FF6692\",\"#B6E880\",\"#FF97FF\",\"#FECB52\"],\"font\":{\"color\":\"#2a3f5f\"},\"hovermode\":\"closest\",\"hoverlabel\":{\"align\":\"left\"},\"paper_bgcolor\":\"white\",\"plot_bgcolor\":\"#E5ECF6\",\"polar\":{\"bgcolor\":\"#E5ECF6\",\"angularaxis\":{\"gridcolor\":\"white\",\"linecolor\":\"white\",\"ticks\":\"\"},\"radialaxis\":{\"gridcolor\":\"white\",\"linecolor\":\"white\",\"ticks\":\"\"}},\"ternary\":{\"bgcolor\":\"#E5ECF6\",\"aaxis\":{\"gridcolor\":\"white\",\"linecolor\":\"white\",\"ticks\":\"\"},\"baxis\":{\"gridcolor\":\"white\",\"linecolor\":\"white\",\"ticks\":\"\"},\"caxis\":{\"gridcolor\":\"white\",\"linecolor\":\"white\",\"ticks\":\"\"}},\"coloraxis\":{\"colorbar\":{\"outlinewidth\":0,\"ticks\":\"\"}},\"colorscale\":{\"sequential\":[[0.0,\"#0d0887\"],[0.1111111111111111,\"#46039f\"],[0.2222222222222222,\"#7201a8\"],[0.3333333333333333,\"#9c179e\"],[0.4444444444444444,\"#bd3786\"],[0.5555555555555556,\"#d8576b\"],[0.6666666666666666,\"#ed7953\"],[0.7777777777777778,\"#fb9f3a\"],[0.8888888888888888,\"#fdca26\"],[1.0,\"#f0f921\"]],\"sequentialminus\":[[0.0,\"#0d0887\"],[0.1111111111111111,\"#46039f\"],[0.2222222222222222,\"#7201a8\"],[0.3333333333333333,\"#9c179e\"],[0.4444444444444444,\"#bd3786\"],[0.5555555555555556,\"#d8576b\"],[0.6666666666666666,\"#ed7953\"],[0.7777777777777778,\"#fb9f3a\"],[0.8888888888888888,\"#fdca26\"],[1.0,\"#f0f921\"]],\"diverging\":[[0,\"#8e0152\"],[0.1,\"#c51b7d\"],[0.2,\"#de77ae\"],[0.3,\"#f1b6da\"],[0.4,\"#fde0ef\"],[0.5,\"#f7f7f7\"],[0.6,\"#e6f5d0\"],[0.7,\"#b8e186\"],[0.8,\"#7fbc41\"],[0.9,\"#4d9221\"],[1,\"#276419\"]]},\"xaxis\":{\"gridcolor\":\"white\",\"linecolor\":\"white\",\"ticks\":\"\",\"title\":{\"standoff\":15},\"zerolinecolor\":\"white\",\"automargin\":true,\"zerolinewidth\":2},\"yaxis\":{\"gridcolor\":\"white\",\"linecolor\":\"white\",\"ticks\":\"\",\"title\":{\"standoff\":15},\"zerolinecolor\":\"white\",\"automargin\":true,\"zerolinewidth\":2},\"scene\":{\"xaxis\":{\"backgroundcolor\":\"#E5ECF6\",\"gridcolor\":\"white\",\"linecolor\":\"white\",\"showbackground\":true,\"ticks\":\"\",\"zerolinecolor\":\"white\",\"gridwidth\":2},\"yaxis\":{\"backgroundcolor\":\"#E5ECF6\",\"gridcolor\":\"white\",\"linecolor\":\"white\",\"showbackground\":true,\"ticks\":\"\",\"zerolinecolor\":\"white\",\"gridwidth\":2},\"zaxis\":{\"backgroundcolor\":\"#E5ECF6\",\"gridcolor\":\"white\",\"linecolor\":\"white\",\"showbackground\":true,\"ticks\":\"\",\"zerolinecolor\":\"white\",\"gridwidth\":2}},\"shapedefaults\":{\"line\":{\"color\":\"#2a3f5f\"}},\"annotationdefaults\":{\"arrowcolor\":\"#2a3f5f\",\"arrowhead\":0,\"arrowwidth\":1},\"geo\":{\"bgcolor\":\"white\",\"landcolor\":\"#E5ECF6\",\"subunitcolor\":\"white\",\"showland\":true,\"showlakes\":true,\"lakecolor\":\"white\"},\"title\":{\"x\":0.05},\"mapbox\":{\"style\":\"light\"}}},\"title\":{\"text\":\"Nombre de jeux par d\\u00e9veloppeur (sans Unknown)\"},\"xaxis\":{\"title\":{\"text\":\"D\\u00e9veloppeur\"}},\"yaxis\":{\"title\":{\"text\":\"Nombre de jeux\"}}},                        {\"responsive\": true}                    ).then(function(){\n",
              "                            \n",
              "var gd = document.getElementById('96f0e1dd-1791-401b-a47b-430843cb86fa');\n",
              "var x = new MutationObserver(function (mutations, observer) {{\n",
              "        var display = window.getComputedStyle(gd).display;\n",
              "        if (!display || display === 'none') {{\n",
              "            console.log([gd, 'removed!']);\n",
              "            Plotly.purge(gd);\n",
              "            observer.disconnect();\n",
              "        }}\n",
              "}});\n",
              "\n",
              "// Listen for the removal of the full notebook cells\n",
              "var notebookContainer = gd.closest('#notebook-container');\n",
              "if (notebookContainer) {{\n",
              "    x.observe(notebookContainer, {childList: true});\n",
              "}}\n",
              "\n",
              "// Listen for the clearing of the current output cell\n",
              "var outputEl = gd.closest('.output');\n",
              "if (outputEl) {{\n",
              "    x.observe(outputEl, {childList: true});\n",
              "}}\n",
              "\n",
              "                        })                };                            </script>        </div>\n",
              "</body>\n",
              "</html>"
            ]
          },
          "metadata": {}
        }
      ]
    },
    {
      "cell_type": "code",
      "source": [
        "vgs_data[\"Developer\"]=vgs_data[\"Developer\"].apply(lambda x: \"Small Developer\" if counts[x] <10 else x )"
      ],
      "metadata": {
        "id": "pOewA41n98uw",
        "execution": {
          "iopub.status.busy": "2023-12-14T15:05:02.431645Z",
          "iopub.execute_input": "2023-12-14T15:05:02.431980Z",
          "iopub.status.idle": "2023-12-14T15:05:02.537894Z",
          "shell.execute_reply.started": "2023-12-14T15:05:02.431951Z",
          "shell.execute_reply": "2023-12-14T15:05:02.536704Z"
        },
        "trusted": true
      },
      "execution_count": null,
      "outputs": []
    },
    {
      "cell_type": "code",
      "source": [
        "len(vgs_data[\"Developer\"].unique())"
      ],
      "metadata": {
        "id": "qO9tiTgLBkS2",
        "outputId": "29b7291e-72eb-4888-f95c-25d546c9dbcf",
        "execution": {
          "iopub.status.busy": "2023-12-14T15:05:02.548279Z",
          "iopub.execute_input": "2023-12-14T15:05:02.548732Z",
          "iopub.status.idle": "2023-12-14T15:05:02.558430Z",
          "shell.execute_reply.started": "2023-12-14T15:05:02.548694Z",
          "shell.execute_reply": "2023-12-14T15:05:02.557086Z"
        },
        "trusted": true,
        "colab": {
          "base_uri": "https://localhost:8080/"
        }
      },
      "execution_count": null,
      "outputs": [
        {
          "output_type": "execute_result",
          "data": {
            "text/plain": [
              "243"
            ]
          },
          "metadata": {},
          "execution_count": 165
        }
      ]
    },
    {
      "cell_type": "markdown",
      "source": [
        "#### Handling small Publishers"
      ],
      "metadata": {
        "id": "UHY6VFYo-uAw"
      }
    },
    {
      "cell_type": "code",
      "source": [
        "vgs_data[\"Publisher\"].value_counts()"
      ],
      "metadata": {
        "id": "cuoJn99y-mAT",
        "execution": {
          "iopub.status.busy": "2023-12-14T15:05:02.560070Z",
          "iopub.execute_input": "2023-12-14T15:05:02.560787Z",
          "iopub.status.idle": "2023-12-14T15:05:02.583444Z",
          "shell.execute_reply.started": "2023-12-14T15:05:02.560742Z",
          "shell.execute_reply": "2023-12-14T15:05:02.582210Z"
        },
        "collapsed": true,
        "jupyter": {
          "outputs_hidden": true
        },
        "trusted": true
      },
      "execution_count": null,
      "outputs": []
    },
    {
      "cell_type": "code",
      "source": [
        "counts = vgs_data[\"Publisher\"].value_counts()"
      ],
      "metadata": {
        "id": "Ch3pUdodBR4Y",
        "execution": {
          "iopub.status.busy": "2023-12-14T15:05:02.585047Z",
          "iopub.execute_input": "2023-12-14T15:05:02.585474Z",
          "iopub.status.idle": "2023-12-14T15:05:02.595799Z",
          "shell.execute_reply.started": "2023-12-14T15:05:02.585431Z",
          "shell.execute_reply": "2023-12-14T15:05:02.594668Z"
        },
        "trusted": true
      },
      "execution_count": null,
      "outputs": []
    },
    {
      "cell_type": "code",
      "source": [
        "fig = go.Figure(data=[go.Bar(x=counts.index, y=counts.values)])\n",
        "\n",
        "fig.update_layout(title=\"Nombre de jeux par publisher\",\n",
        "                  xaxis_title=\"Publisher\",\n",
        "                  yaxis_title=\"Nombre de jeux\")\n",
        "\n",
        "fig.show()"
      ],
      "metadata": {
        "colab": {
          "base_uri": "https://localhost:8080/",
          "height": 542
        },
        "id": "MppFhFbHTAnF",
        "outputId": "f9b00ebe-a5f7-4261-bdf1-73b4df4b98b6"
      },
      "execution_count": null,
      "outputs": [
        {
          "output_type": "display_data",
          "data": {
            "text/html": [
              "<html>\n",
              "<head><meta charset=\"utf-8\" /></head>\n",
              "<body>\n",
              "    <div>            <script src=\"https://cdnjs.cloudflare.com/ajax/libs/mathjax/2.7.5/MathJax.js?config=TeX-AMS-MML_SVG\"></script><script type=\"text/javascript\">if (window.MathJax && window.MathJax.Hub && window.MathJax.Hub.Config) {window.MathJax.Hub.Config({SVG: {font: \"STIX-Web\"}});}</script>                <script type=\"text/javascript\">window.PlotlyConfig = {MathJaxConfig: 'local'};</script>\n",
              "        <script charset=\"utf-8\" src=\"https://cdn.plot.ly/plotly-2.24.1.min.js\"></script>                <div id=\"a9a0df21-da94-465e-8cbb-4dd9f84c819e\" class=\"plotly-graph-div\" style=\"height:525px; width:100%;\"></div>            <script type=\"text/javascript\">                                    window.PLOTLYENV=window.PLOTLYENV || {};                                    if (document.getElementById(\"a9a0df21-da94-465e-8cbb-4dd9f84c819e\")) {                    Plotly.newPlot(                        \"a9a0df21-da94-465e-8cbb-4dd9f84c819e\",                        [{\"x\":[\"Electronic Arts\",\"Activision\",\"Namco Bandai Games\",\"Ubisoft\",\"Konami Digital Entertainment\",\"THQ\",\"Nintendo\",\"Sony Computer Entertainment\",\"Sega\",\"Take-Two Interactive\",\"Capcom\",\"Atari\",\"Tecmo Koei\",\"Warner Bros. Interactive Entertainment\",\"Square Enix\",\"Disney Interactive Studios\",\"Unknown\",\"Midway Games\",\"Eidos Interactive\",\"505 Games\",\"Microsoft Game Studios\",\"Acclaim Entertainment\",\"D3Publisher\",\"Vivendi Games\",\"Codemasters\",\"Idea Factory\",\"Deep Silver\",\"Nippon Ichi Software\",\"Zoo Digital Publishing\",\"Majesco Entertainment\",\"LucasArts\",\"Rising Star Games\",\"Hudson Soft\",\"Bethesda Softworks\",\"Banpresto\",\"Crave Entertainment\",\"Atlus\",\"Infogrames\",\"5pb\",\"Virgin Interactive\",\"Focus Home Interactive\",\"Ignition Entertainment\",\"Marvelous Interactive\",\"Empire Interactive\",\"SquareSoft\",\"Kadokawa Shoten\",\"GT Interactive\",\"PQube\",\"Destineer\",\"DTP Entertainment\",\"Alchemist\",\"MTV Games\",\"Global Star\",\"Takara Tomy\",\"SouthPeak Games\",\"Nordic Games\",\"Spike\",\"TDK Mediactive\",\"3DO\",\"BAM! Entertainment\",\"Black Bean Games\",\"Zoo Games\",\"Game Factory\",\"Psygnosis\",\"Mindscape\",\"Interplay\",\"Enix Corporation\",\"Kalypso Media\",\"Prototype\",\"Activision Value\",\"FuRyu\",\"Arc System Works\",\"Telltale Games\",\"Level 5\",\"Little Orbit\",\"Avanquest\",\"Midas Interactive Entertainment\",\"Jaleco\",\"Universal Interactive\",\"Paradox Interactive\",\"Aqua Plus\",\"SNK\",\"Oxygen Interactive\",\"JoWood Productions\",\"Broccoli\",\"Compile Heart\",\"Kemco\",\"ASCII Entertainment\",\"Storm City Games\",\"Taito\",\"Titus\",\"City Interactive\",\"Success\",\"Zushi Games\",\"SNK Playmore\",\"ChunSoft\",\"Tomy Corporation\",\"Natsume\",\"O-Games\",\"Rocket Company\",\"Koch Media\",\"DreamCatcher Interactive\",\"SCi\",\"UFO Interactive\",\"Kadokawa Games\",\"Takara\",\"Imagineer\",\"Mastiff\",\"GSP\",\"Falcom Corporation\",\"Hasbro Interactive\",\"PopCap Games\",\"From Software\",\"Ghostlight\",\"Sony Computer Entertainment Europe\",\"Milestone S.r.l.\",\"Enterbrain\",\"Ocean\",\"Rondomedia\",\"Quinrose\",\"CyberFront\",\"Conspiracy Entertainment\",\"Playlogic Game Factory\",\"System 3 Arcade Software\",\"989 Studios\",\"Ubisoft Annecy\",\"Play It\",\"Mastertronic\",\"GungHo\",\"Nobilis\",\"Acquire\",\"Human Entertainment\",\"Gust\",\"Bigben Interactive\",\"XS Games\",\"Metro 3D\",\"Mattel Interactive\",\"Marvelous Entertainment\",\"Irem Software Engineering\",\"Destination Software, Inc\",\"Microids\",\"Yeti\",\"Hudson Entertainment\",\"GameMill Entertainment\",\"Sammy Corporation\",\"Sunsoft\",\"Scholastic Inc.\",\"Brash Entertainment\",\"Starfish\",\"Xplosiv\",\"Cave\",\"Ackkstudios\",\"ArtDink\",\"Victor Interactive\",\"Gremlin Interactive Ltd\",\"Gathering of Developers\",\"Foreign Media Games\",\"Popcorn Arcade\",\"NewKidCo\",\"ASCII Media Works\",\"Sting\",\"NEC Interchannel\",\"Telegames\",\"JVC\",\"Aspyr\",\"Sony Online Entertainment\",\"Aksys Games\",\"Evolved Games\",\"Avanquest Software\",\"Asgard\",\"Agetec\",\"Genki\",\"RTL\",\"Fox Interactive\",\"MTO\",\"Reef Entertainment\",\"LEGO Media\",\"Neko Entertainment\",\"Nippon Columbia\",\"Tru Blu Entertainment\",\"Valcon Games\",\"Astragon\",\"Parker Bros.\",\"BMG Interactive Entertainment\",\"Epoch\",\"Nihon Falcom Corporation\",\"Rage Software\",\"Idea Factory International\",\"Hackberry\",\"Big Ben Interactive\",\"Gotham Games\",\"CDV Software Entertainment\",\"Mumbo Jumbo\",\"dramatic create\",\"Seta Corporation\",\"Comfort\",\"Asylum Entertainment\",\"Swing! Entertainment\",\"Graffiti\",\"Kaga Create\",\"Alternative Software\",\"Paon\",\"Benesse\",\"Blast! Entertainment Ltd\",\"Avalon Interactive\",\"Compile\",\"Russel\",\"Screenlife\",\"Square\",\"NCSoft\",\"Microprose\",\"The Adventure Company\",\"bitComposer Games\",\"Nordcurrent\",\"Time Warner Interactive\",\"Media Works\",\"Tommo\",\"Happinet\",\"TDK Core\",\"ESP\",\"IE Institute\",\"Xseed Games\",\"Wanadoo\",\"Shogakukan\",\"Coleco\",\"Mojang\",\"Funbox Media\",\"AQ Interactive\",\"Crystal Dynamics\",\"FuRyu Corporation\",\"20th Century Fox Video Games\",\"Home Entertainment Suppliers\",\"DSI Games\",\"Mentor Interactive\",\"Pinnacle\",\"Hip Interactive\",\"Milestone S.r.l\",\"Excalibur Publishing\",\"System Soft\",\"Touchstone\",\"Yacht Club Games\",\"Laguna\",\"Culture Brain\",\"Interchannel\",\"Trion Worlds\",\"U.S. Gold\",\"Daito\",\"Funsta\",\"Slitherine Software\",\"PlayV\",\"Focus Multimedia\",\"Global A Entertainment\",\"Pioneer LDC\",\"TGL\",\"LSP Games\",\"Mercury Games\",\"RedOctane\",\"Encore\",\"ValuSoft\",\"Sunrise Interactive\",\"Imagic\",\"Knowledge Adventure\",\"Phenomedia\",\"Gamecock\",\"TopWare Interactive\",\"Video System\",\"KID\",\"Creative Core\",\"DHM Interactive\",\"Daedalic\",\"Maxis\",\"1C Company\",\"Ascaron Entertainment GmbH\",\"Arika\",\"Princess Soft\",\"Tradewest\",\"MC2 Entertainment\",\"Aerosoft\",\"Iceberg Interactive\",\"Experience Inc.\",\"Telstar\",\"Daedalic Entertainment\",\"Valve Software\",\"10TACLE Studios\",\"Asmik Ace Entertainment\",\"Red Storm Entertainment\",\"Licensed 4U\",\"Micro Cabin\",\"Insomniac Games\",\"ASC Games\",\"Accolade\",\"7G\\u002f\\u002fAMES\",\"Myelin Media\",\"Minato Station\",\"Slightly Mad Studios\",\"Xicat Interactive\",\"O3 Entertainment\",\"GN Software\",\"Tivola\",\"Yuke's\",\"Data Design Interactive\",\"Indie Games\",\"Aruze Corp\",\"NovaLogic\",\"P2 Games\",\"Jester Interactive\",\"Hect\",\"Jack of All Games\",\"Mad Catz\",\"Angel Studios\",\"Media Rings\",\"NEC\",\"Tigervision\",\"Vir2L Studios\",\"Agatsuma Entertainment\",\"Essential Games\",\"Jorudan\",\"Sony Computer Entertainment America\",\"Rebellion Developments\",\"NCS\",\"Mud Duck Productions\",\"Revolution Software\",\"Athena\",\"Edia\",\"Liquid Games\",\"Media Factory\",\"G.Rev\",\"Nitroplus\",\"Harmonix Music Systems\",\"Sold Out\",\"Flight-Plan\",\"Rebellion\",\"Sweets\",\"Vic Tokai\",\"Devolver Digital\",\"responDESIGN\",\"Introversion Software\",\"imageepoch Inc.\",\"Groove Games\",\"Pack-In-Video\",\"Red Orb\",\"Flashpoint Games\",\"Cloud Imperium Games Corporation\",\"Elf\",\"Sonnet\",\"Virtual Play Games\",\"Zenrin\",\"BPS\",\"Arena Entertainment\",\"Office Create\",\"Dusenberry Martin Racing\",\"Misawa\",\"MLB.com\",\"Gearbox Software\",\"Electronic Arts Victor\",\"Big Fish Games\",\"Mamba Games\",\"Coconuts Japan\",\"Magix\",\"Data Age\",\"Lexicon Entertainment\",\"Hamster Corporation\",\"Crimson Cow\",\"Asmik Corp\",\"Alawar Entertainment\",\"Moss\",\"Gainax Network Systems\",\"Dorart\",\"Nippon Telenet\",\"Yamasa Entertainment\",\"Alvion\",\"Game Life\",\"Datam Polystar\",\"Core Design Ltd.\",\"HuneX\",\"Easy Interactive\",\"Performance Designed Products\",\"Data East\",\"CTO SpA\",\"Square Enix \",\"Views\",\"Funcom\",\"Blue Byte\",\"Tripwire Interactive\",\"NetRevo\",\"CCP\",\"HMH Interactive\",\"Syscom\",\"Stainless Games\",\"System 3\",\"Gamebridge\",\"Gakken\",\"Vatical Entertainment\",\"Fuji\",\"Epic Games\",\"Saurus\",\"UIG Entertainment\",\"New World Computing\",\"Ongakukan\",\"Commseed\",\"Masque Publishing\",\"Her Interactive\",\"Visco\",\"Technos Japan Corporation\",\"Karin Entertainment\",\"Games Workshop\",\"Quintet\",\"Berkeley\",\"Kando Games\",\"Extreme Entertainment Group\",\"Imageworks\",\"Interchannel-Holon\",\"Ivolgamus\",\"Codemasters Online\",\"Phoenix Games\",\"Ascaron Entertainment\",\"Marvelous Games\",\"Takuyo\",\"Maximum Family Games\",\"2D Boy\",\"Mirai Shounen\",\"Fields\",\"Kids Station\",\"fonfun\",\"Interworks Unlimited, Inc.\",\"Headup Games\",\"Graphsim Entertainment\",\"King Records\",\"Mycom\",\"id Software\",\"Nexon\",\"BushiRoad\",\"GOA\",\"Genterprise\",\"Number None\",\"Tryfirst\",\"Media Entertainment\",\"Michaelsoft\",\"Lighthouse Interactive\",\"RED Entertainment\",\"Strategy First\",\"Warashi\",\"Sunflowers\",\"Giga\",\"Just Flight\",\"Inti Creates\",\"Kamui\",\"Otomate\",\"ASK\",\"Paon Corporation\",\"Paradox Development\",\"Cygames\",\"Plenty\",\"49Games\",\"Piacci\",\"Naxat Soft\",\"Revolution (Japan)\",\"KSS\",\"Giza10\",\"Palcom\",\"EON Digital Entertainment\",\"Boost On\",\"Gaga\",\"Kokopeli Digital Studios\",\"New\",\"Societa\",\"Quelle\",\"Illusion Softworks\",\"Quest\",\"Aques\",\"White Park Bay Software\",\"Game Arts\",\"EA Games\",\"Men-A-Vision\",\"General Entertainment\",\"Imadio\",\"Square EA\",\"Sony Music Entertainment\",\"Mystique\",\"SCS Software\",\"Legacy Interactive\",\"Havas Interactive\",\"mixi, Inc\",\"DreamWorks Interactive\",\"TalonSoft\",\"Crytek\",\"FunSoft\",\"SPS\",\"T&E Soft\",\"NDA Productions\",\"Gameloft\",\"Simon & Schuster Interactive\",\"PopTop Software\",\"Panther Software\",\"Adeline Software\",\"Universal Gamex\",\"Wizard Video Games\",\"Starpath Corp.\",\"989 Sports\",\"CokeM Interactive\",\"CBS Electronics\",\"Wargaming.net\",\"Playmates\",\"Magical Company\",\"Nichibutsu\",\"TYO\",\"Pacific Century Cyber Works\",\"Axela\",\"Tetris Online\",\"Activision Blizzard\",\"Ultravision\",\"Xing Entertainment\",\"American Softworks\",\"Pack In Soft\",\"Detn8 Games\",\"Bomb\",\"Answer Software\",\"Sears\",\"On Demand\",\"CPG Products\",\"Merscom LLC\",\"SSI\",\"TOHO\",\"PM Studios\",\"Bohemia Interactive\",\"Fortyfive\",\"iWin\",\"Ecole\",\"Yumedia\",\"HAL Laboratory\",\"Grand Prix Games\",\"DigiCube\",\"WayForward Technologies\",\"Marvel Entertainment\",\"Ertain\",\"UEP Systems\",\"Phantagram\",\"The Learning Company\",\"TechnoSoft\",\"Vap\",\"Navarre Corp\",\"Pow\",\"MediaQuest\",\"Team17 Software\",\"Max Five\",\"Pony Canyon\",\"Riverhillsoft\",\"Summitsoft\",\"Playmore\",\"Kool Kizz\",\"Monte Christo Multimedia\",\"Imax\",\"Altron\",\"inXile Entertainment\",\"Aria\",\"Black Label Games\",\"GameTek\",\"Westwood Studios\",\"Type-Moon\",\"Enjoy Gaming ltd.\",\"Interplay Productions\",\"Image Epoch\",\"Phantom EFX\",\"Griffin International\",\"Culture Publishers\",\"Hearty Robin\",\"Nippon Amuse\",\"Origin Systems\",\"Seventh Chord\",\"Abylight\",\"Mitsui\",\"Milestone\",\"Glams\",\"Hello Games\",\"Locus\",\"Warp\",\"Valve\",\"ITT Family Games\",\"Elite\",\"Evolution Games\",\"Red Flagship\"],\"y\":[1356,985,939,933,834,715,706,687,638,422,386,367,348,235,234,218,201,198,198,191,191,184,184,164,150,133,121,106,104,92,90,87,81,76,73,71,67,62,62,62,61,61,56,53,52,50,45,45,45,44,43,41,39,38,37,37,37,36,36,35,34,33,32,32,31,30,30,29,29,29,28,27,27,27,26,26,24,23,23,23,23,22,22,22,22,21,21,20,19,19,19,19,19,18,18,18,18,18,17,17,17,17,17,16,16,16,16,16,16,16,16,15,15,15,15,15,15,14,14,14,14,14,14,14,14,14,14,13,13,13,13,13,13,13,12,12,12,12,12,12,11,11,11,11,11,10,10,10,10,10,10,10,9,9,9,9,9,9,9,9,9,8,8,8,8,8,8,8,8,8,8,8,8,8,8,7,7,7,7,7,7,7,7,7,7,7,7,7,7,7,7,6,6,6,6,6,6,6,6,6,6,6,6,6,6,6,6,6,6,6,6,5,5,5,5,5,5,5,5,5,5,5,5,5,5,5,5,5,5,5,5,5,5,5,5,5,5,4,4,4,4,4,4,4,4,4,4,4,4,4,4,4,4,4,4,4,4,4,4,4,4,4,4,4,4,4,4,3,3,3,3,3,3,3,3,3,3,3,3,3,3,3,3,3,3,3,3,3,3,3,3,3,3,3,3,3,3,3,3,3,3,3,3,3,3,3,3,3,3,3,3,3,3,3,3,3,3,3,3,3,3,2,2,2,2,2,2,2,2,2,2,2,2,2,2,2,2,2,2,2,2,2,2,2,2,2,2,2,2,2,2,2,2,2,2,2,2,2,2,2,2,2,2,2,2,2,2,2,2,2,2,2,2,2,2,2,2,2,2,2,2,2,2,2,2,2,2,2,2,2,2,2,2,1,1,1,1,1,1,1,1,1,1,1,1,1,1,1,1,1,1,1,1,1,1,1,1,1,1,1,1,1,1,1,1,1,1,1,1,1,1,1,1,1,1,1,1,1,1,1,1,1,1,1,1,1,1,1,1,1,1,1,1,1,1,1,1,1,1,1,1,1,1,1,1,1,1,1,1,1,1,1,1,1,1,1,1,1,1,1,1,1,1,1,1,1,1,1,1,1,1,1,1,1,1,1,1,1,1,1,1,1,1,1,1,1,1,1,1,1,1,1,1,1,1,1,1,1,1,1,1,1,1,1,1,1,1,1,1,1,1,1,1,1,1,1,1,1,1,1,1,1,1,1,1,1,1,1,1,1,1,1,1,1,1,1,1,1,1,1,1,1,1,1,1,1,1,1,1,1,1,1,1,1,1,1,1,1,1,1,1],\"type\":\"bar\"}],                        {\"template\":{\"data\":{\"histogram2dcontour\":[{\"type\":\"histogram2dcontour\",\"colorbar\":{\"outlinewidth\":0,\"ticks\":\"\"},\"colorscale\":[[0.0,\"#0d0887\"],[0.1111111111111111,\"#46039f\"],[0.2222222222222222,\"#7201a8\"],[0.3333333333333333,\"#9c179e\"],[0.4444444444444444,\"#bd3786\"],[0.5555555555555556,\"#d8576b\"],[0.6666666666666666,\"#ed7953\"],[0.7777777777777778,\"#fb9f3a\"],[0.8888888888888888,\"#fdca26\"],[1.0,\"#f0f921\"]]}],\"choropleth\":[{\"type\":\"choropleth\",\"colorbar\":{\"outlinewidth\":0,\"ticks\":\"\"}}],\"histogram2d\":[{\"type\":\"histogram2d\",\"colorbar\":{\"outlinewidth\":0,\"ticks\":\"\"},\"colorscale\":[[0.0,\"#0d0887\"],[0.1111111111111111,\"#46039f\"],[0.2222222222222222,\"#7201a8\"],[0.3333333333333333,\"#9c179e\"],[0.4444444444444444,\"#bd3786\"],[0.5555555555555556,\"#d8576b\"],[0.6666666666666666,\"#ed7953\"],[0.7777777777777778,\"#fb9f3a\"],[0.8888888888888888,\"#fdca26\"],[1.0,\"#f0f921\"]]}],\"heatmap\":[{\"type\":\"heatmap\",\"colorbar\":{\"outlinewidth\":0,\"ticks\":\"\"},\"colorscale\":[[0.0,\"#0d0887\"],[0.1111111111111111,\"#46039f\"],[0.2222222222222222,\"#7201a8\"],[0.3333333333333333,\"#9c179e\"],[0.4444444444444444,\"#bd3786\"],[0.5555555555555556,\"#d8576b\"],[0.6666666666666666,\"#ed7953\"],[0.7777777777777778,\"#fb9f3a\"],[0.8888888888888888,\"#fdca26\"],[1.0,\"#f0f921\"]]}],\"heatmapgl\":[{\"type\":\"heatmapgl\",\"colorbar\":{\"outlinewidth\":0,\"ticks\":\"\"},\"colorscale\":[[0.0,\"#0d0887\"],[0.1111111111111111,\"#46039f\"],[0.2222222222222222,\"#7201a8\"],[0.3333333333333333,\"#9c179e\"],[0.4444444444444444,\"#bd3786\"],[0.5555555555555556,\"#d8576b\"],[0.6666666666666666,\"#ed7953\"],[0.7777777777777778,\"#fb9f3a\"],[0.8888888888888888,\"#fdca26\"],[1.0,\"#f0f921\"]]}],\"contourcarpet\":[{\"type\":\"contourcarpet\",\"colorbar\":{\"outlinewidth\":0,\"ticks\":\"\"}}],\"contour\":[{\"type\":\"contour\",\"colorbar\":{\"outlinewidth\":0,\"ticks\":\"\"},\"colorscale\":[[0.0,\"#0d0887\"],[0.1111111111111111,\"#46039f\"],[0.2222222222222222,\"#7201a8\"],[0.3333333333333333,\"#9c179e\"],[0.4444444444444444,\"#bd3786\"],[0.5555555555555556,\"#d8576b\"],[0.6666666666666666,\"#ed7953\"],[0.7777777777777778,\"#fb9f3a\"],[0.8888888888888888,\"#fdca26\"],[1.0,\"#f0f921\"]]}],\"surface\":[{\"type\":\"surface\",\"colorbar\":{\"outlinewidth\":0,\"ticks\":\"\"},\"colorscale\":[[0.0,\"#0d0887\"],[0.1111111111111111,\"#46039f\"],[0.2222222222222222,\"#7201a8\"],[0.3333333333333333,\"#9c179e\"],[0.4444444444444444,\"#bd3786\"],[0.5555555555555556,\"#d8576b\"],[0.6666666666666666,\"#ed7953\"],[0.7777777777777778,\"#fb9f3a\"],[0.8888888888888888,\"#fdca26\"],[1.0,\"#f0f921\"]]}],\"mesh3d\":[{\"type\":\"mesh3d\",\"colorbar\":{\"outlinewidth\":0,\"ticks\":\"\"}}],\"scatter\":[{\"fillpattern\":{\"fillmode\":\"overlay\",\"size\":10,\"solidity\":0.2},\"type\":\"scatter\"}],\"parcoords\":[{\"type\":\"parcoords\",\"line\":{\"colorbar\":{\"outlinewidth\":0,\"ticks\":\"\"}}}],\"scatterpolargl\":[{\"type\":\"scatterpolargl\",\"marker\":{\"colorbar\":{\"outlinewidth\":0,\"ticks\":\"\"}}}],\"bar\":[{\"error_x\":{\"color\":\"#2a3f5f\"},\"error_y\":{\"color\":\"#2a3f5f\"},\"marker\":{\"line\":{\"color\":\"#E5ECF6\",\"width\":0.5},\"pattern\":{\"fillmode\":\"overlay\",\"size\":10,\"solidity\":0.2}},\"type\":\"bar\"}],\"scattergeo\":[{\"type\":\"scattergeo\",\"marker\":{\"colorbar\":{\"outlinewidth\":0,\"ticks\":\"\"}}}],\"scatterpolar\":[{\"type\":\"scatterpolar\",\"marker\":{\"colorbar\":{\"outlinewidth\":0,\"ticks\":\"\"}}}],\"histogram\":[{\"marker\":{\"pattern\":{\"fillmode\":\"overlay\",\"size\":10,\"solidity\":0.2}},\"type\":\"histogram\"}],\"scattergl\":[{\"type\":\"scattergl\",\"marker\":{\"colorbar\":{\"outlinewidth\":0,\"ticks\":\"\"}}}],\"scatter3d\":[{\"type\":\"scatter3d\",\"line\":{\"colorbar\":{\"outlinewidth\":0,\"ticks\":\"\"}},\"marker\":{\"colorbar\":{\"outlinewidth\":0,\"ticks\":\"\"}}}],\"scattermapbox\":[{\"type\":\"scattermapbox\",\"marker\":{\"colorbar\":{\"outlinewidth\":0,\"ticks\":\"\"}}}],\"scatterternary\":[{\"type\":\"scatterternary\",\"marker\":{\"colorbar\":{\"outlinewidth\":0,\"ticks\":\"\"}}}],\"scattercarpet\":[{\"type\":\"scattercarpet\",\"marker\":{\"colorbar\":{\"outlinewidth\":0,\"ticks\":\"\"}}}],\"carpet\":[{\"aaxis\":{\"endlinecolor\":\"#2a3f5f\",\"gridcolor\":\"white\",\"linecolor\":\"white\",\"minorgridcolor\":\"white\",\"startlinecolor\":\"#2a3f5f\"},\"baxis\":{\"endlinecolor\":\"#2a3f5f\",\"gridcolor\":\"white\",\"linecolor\":\"white\",\"minorgridcolor\":\"white\",\"startlinecolor\":\"#2a3f5f\"},\"type\":\"carpet\"}],\"table\":[{\"cells\":{\"fill\":{\"color\":\"#EBF0F8\"},\"line\":{\"color\":\"white\"}},\"header\":{\"fill\":{\"color\":\"#C8D4E3\"},\"line\":{\"color\":\"white\"}},\"type\":\"table\"}],\"barpolar\":[{\"marker\":{\"line\":{\"color\":\"#E5ECF6\",\"width\":0.5},\"pattern\":{\"fillmode\":\"overlay\",\"size\":10,\"solidity\":0.2}},\"type\":\"barpolar\"}],\"pie\":[{\"automargin\":true,\"type\":\"pie\"}]},\"layout\":{\"autotypenumbers\":\"strict\",\"colorway\":[\"#636efa\",\"#EF553B\",\"#00cc96\",\"#ab63fa\",\"#FFA15A\",\"#19d3f3\",\"#FF6692\",\"#B6E880\",\"#FF97FF\",\"#FECB52\"],\"font\":{\"color\":\"#2a3f5f\"},\"hovermode\":\"closest\",\"hoverlabel\":{\"align\":\"left\"},\"paper_bgcolor\":\"white\",\"plot_bgcolor\":\"#E5ECF6\",\"polar\":{\"bgcolor\":\"#E5ECF6\",\"angularaxis\":{\"gridcolor\":\"white\",\"linecolor\":\"white\",\"ticks\":\"\"},\"radialaxis\":{\"gridcolor\":\"white\",\"linecolor\":\"white\",\"ticks\":\"\"}},\"ternary\":{\"bgcolor\":\"#E5ECF6\",\"aaxis\":{\"gridcolor\":\"white\",\"linecolor\":\"white\",\"ticks\":\"\"},\"baxis\":{\"gridcolor\":\"white\",\"linecolor\":\"white\",\"ticks\":\"\"},\"caxis\":{\"gridcolor\":\"white\",\"linecolor\":\"white\",\"ticks\":\"\"}},\"coloraxis\":{\"colorbar\":{\"outlinewidth\":0,\"ticks\":\"\"}},\"colorscale\":{\"sequential\":[[0.0,\"#0d0887\"],[0.1111111111111111,\"#46039f\"],[0.2222222222222222,\"#7201a8\"],[0.3333333333333333,\"#9c179e\"],[0.4444444444444444,\"#bd3786\"],[0.5555555555555556,\"#d8576b\"],[0.6666666666666666,\"#ed7953\"],[0.7777777777777778,\"#fb9f3a\"],[0.8888888888888888,\"#fdca26\"],[1.0,\"#f0f921\"]],\"sequentialminus\":[[0.0,\"#0d0887\"],[0.1111111111111111,\"#46039f\"],[0.2222222222222222,\"#7201a8\"],[0.3333333333333333,\"#9c179e\"],[0.4444444444444444,\"#bd3786\"],[0.5555555555555556,\"#d8576b\"],[0.6666666666666666,\"#ed7953\"],[0.7777777777777778,\"#fb9f3a\"],[0.8888888888888888,\"#fdca26\"],[1.0,\"#f0f921\"]],\"diverging\":[[0,\"#8e0152\"],[0.1,\"#c51b7d\"],[0.2,\"#de77ae\"],[0.3,\"#f1b6da\"],[0.4,\"#fde0ef\"],[0.5,\"#f7f7f7\"],[0.6,\"#e6f5d0\"],[0.7,\"#b8e186\"],[0.8,\"#7fbc41\"],[0.9,\"#4d9221\"],[1,\"#276419\"]]},\"xaxis\":{\"gridcolor\":\"white\",\"linecolor\":\"white\",\"ticks\":\"\",\"title\":{\"standoff\":15},\"zerolinecolor\":\"white\",\"automargin\":true,\"zerolinewidth\":2},\"yaxis\":{\"gridcolor\":\"white\",\"linecolor\":\"white\",\"ticks\":\"\",\"title\":{\"standoff\":15},\"zerolinecolor\":\"white\",\"automargin\":true,\"zerolinewidth\":2},\"scene\":{\"xaxis\":{\"backgroundcolor\":\"#E5ECF6\",\"gridcolor\":\"white\",\"linecolor\":\"white\",\"showbackground\":true,\"ticks\":\"\",\"zerolinecolor\":\"white\",\"gridwidth\":2},\"yaxis\":{\"backgroundcolor\":\"#E5ECF6\",\"gridcolor\":\"white\",\"linecolor\":\"white\",\"showbackground\":true,\"ticks\":\"\",\"zerolinecolor\":\"white\",\"gridwidth\":2},\"zaxis\":{\"backgroundcolor\":\"#E5ECF6\",\"gridcolor\":\"white\",\"linecolor\":\"white\",\"showbackground\":true,\"ticks\":\"\",\"zerolinecolor\":\"white\",\"gridwidth\":2}},\"shapedefaults\":{\"line\":{\"color\":\"#2a3f5f\"}},\"annotationdefaults\":{\"arrowcolor\":\"#2a3f5f\",\"arrowhead\":0,\"arrowwidth\":1},\"geo\":{\"bgcolor\":\"white\",\"landcolor\":\"#E5ECF6\",\"subunitcolor\":\"white\",\"showland\":true,\"showlakes\":true,\"lakecolor\":\"white\"},\"title\":{\"x\":0.05},\"mapbox\":{\"style\":\"light\"}}},\"title\":{\"text\":\"Nombre de jeux par publisher\"},\"xaxis\":{\"title\":{\"text\":\"Publisher\"}},\"yaxis\":{\"title\":{\"text\":\"Nombre de jeux\"}}},                        {\"responsive\": true}                    ).then(function(){\n",
              "                            \n",
              "var gd = document.getElementById('a9a0df21-da94-465e-8cbb-4dd9f84c819e');\n",
              "var x = new MutationObserver(function (mutations, observer) {{\n",
              "        var display = window.getComputedStyle(gd).display;\n",
              "        if (!display || display === 'none') {{\n",
              "            console.log([gd, 'removed!']);\n",
              "            Plotly.purge(gd);\n",
              "            observer.disconnect();\n",
              "        }}\n",
              "}});\n",
              "\n",
              "// Listen for the removal of the full notebook cells\n",
              "var notebookContainer = gd.closest('#notebook-container');\n",
              "if (notebookContainer) {{\n",
              "    x.observe(notebookContainer, {childList: true});\n",
              "}}\n",
              "\n",
              "// Listen for the clearing of the current output cell\n",
              "var outputEl = gd.closest('.output');\n",
              "if (outputEl) {{\n",
              "    x.observe(outputEl, {childList: true});\n",
              "}}\n",
              "\n",
              "                        })                };                            </script>        </div>\n",
              "</body>\n",
              "</html>"
            ]
          },
          "metadata": {}
        }
      ]
    },
    {
      "cell_type": "code",
      "source": [
        "vgs_data[\"Publisher\"]=vgs_data[\"Publisher\"].apply(lambda x: \"Small Publisher\" if counts[x] <50 else x )"
      ],
      "metadata": {
        "id": "ZwrFGC55BS9p",
        "execution": {
          "iopub.status.busy": "2023-12-14T15:05:02.597295Z",
          "iopub.execute_input": "2023-12-14T15:05:02.597750Z",
          "iopub.status.idle": "2023-12-14T15:05:02.703920Z",
          "shell.execute_reply.started": "2023-12-14T15:05:02.597706Z",
          "shell.execute_reply": "2023-12-14T15:05:02.702827Z"
        },
        "trusted": true
      },
      "execution_count": null,
      "outputs": []
    },
    {
      "cell_type": "code",
      "source": [
        "len(vgs_data[\"Publisher\"].unique())"
      ],
      "metadata": {
        "id": "gd7zMBZfBiwq",
        "outputId": "9b3158e5-adb6-400b-9c0b-7861456372f5",
        "execution": {
          "iopub.status.busy": "2023-12-14T15:05:02.705444Z",
          "iopub.execute_input": "2023-12-14T15:05:02.705921Z",
          "iopub.status.idle": "2023-12-14T15:05:02.715141Z",
          "shell.execute_reply.started": "2023-12-14T15:05:02.705880Z",
          "shell.execute_reply": "2023-12-14T15:05:02.713949Z"
        },
        "trusted": true,
        "colab": {
          "base_uri": "https://localhost:8080/"
        }
      },
      "execution_count": null,
      "outputs": [
        {
          "output_type": "execute_result",
          "data": {
            "text/plain": [
              "47"
            ]
          },
          "metadata": {},
          "execution_count": 170
        }
      ]
    },
    {
      "cell_type": "code",
      "source": [
        "pd.set_option('display.max_rows', 10)\n",
        "pd.set_option('max_colwidth', 400)"
      ],
      "metadata": {
        "execution": {
          "iopub.status.busy": "2023-12-14T15:05:02.716852Z",
          "iopub.execute_input": "2023-12-14T15:05:02.717439Z",
          "iopub.status.idle": "2023-12-14T15:05:02.724890Z",
          "shell.execute_reply.started": "2023-12-14T15:05:02.717398Z",
          "shell.execute_reply": "2023-12-14T15:05:02.723938Z"
        },
        "trusted": true,
        "id": "SsfpOamoYH4W"
      },
      "execution_count": null,
      "outputs": []
    },
    {
      "cell_type": "markdown",
      "source": [
        "### **Target column**"
      ],
      "metadata": {
        "id": "2wj_BVJF_0Ec"
      }
    },
    {
      "cell_type": "code",
      "source": [
        "#Target column\n",
        "vgs_data['Hit'] = vgs_data['Global_Sales']\n",
        "vgs_data.drop('Global_Sales', axis=1, inplace=True)"
      ],
      "metadata": {
        "id": "sq-kOraW63xs",
        "execution": {
          "iopub.status.busy": "2023-12-14T15:05:02.726287Z",
          "iopub.execute_input": "2023-12-14T15:05:02.726695Z",
          "iopub.status.idle": "2023-12-14T15:05:02.742019Z",
          "shell.execute_reply.started": "2023-12-14T15:05:02.726662Z",
          "shell.execute_reply": "2023-12-14T15:05:02.740920Z"
        },
        "trusted": true
      },
      "execution_count": null,
      "outputs": []
    },
    {
      "cell_type": "code",
      "source": [
        "vgs_data.head(5)"
      ],
      "metadata": {
        "id": "qD2LtimI7MFv",
        "outputId": "434e3abd-0a00-4e43-9b6e-72f2417516ba",
        "execution": {
          "iopub.status.busy": "2023-12-14T15:05:02.743659Z",
          "iopub.execute_input": "2023-12-14T15:05:02.744047Z",
          "iopub.status.idle": "2023-12-14T15:05:02.766935Z",
          "shell.execute_reply.started": "2023-12-14T15:05:02.744013Z",
          "shell.execute_reply": "2023-12-14T15:05:02.765657Z"
        },
        "trusted": true,
        "colab": {
          "base_uri": "https://localhost:8080/",
          "height": 206
        }
      },
      "execution_count": null,
      "outputs": [
        {
          "output_type": "execute_result",
          "data": {
            "text/plain": [
              "  Platform  Year_of_Release         Genre Publisher  Critic_Score  \\\n",
              "0      Wii           2006.0        Sports  Nintendo          76.0   \n",
              "1      NES           1985.0      Platform  Nintendo          71.0   \n",
              "2      Wii           2008.0        Racing  Nintendo          82.0   \n",
              "3      Wii           2009.0        Sports  Nintendo          80.0   \n",
              "4       GB           1996.0  Role-Playing  Nintendo          71.0   \n",
              "\n",
              "   Critic_Count  User_Score  User_Count Developer   Rating    Hit  \n",
              "0          51.0         8.0       322.0  Nintendo        E  82.53  \n",
              "1          21.0         7.5        24.0   Unknown  Unknown  40.24  \n",
              "2          73.0         8.3       709.0  Nintendo        E  35.52  \n",
              "3          73.0         8.0       192.0  Nintendo        E  32.77  \n",
              "4          21.0         7.5        24.0   Unknown  Unknown  31.37  "
            ],
            "text/html": [
              "\n",
              "  <div id=\"df-8d579e02-5b49-4dde-bb4e-27125ca454e7\" class=\"colab-df-container\">\n",
              "    <div>\n",
              "<style scoped>\n",
              "    .dataframe tbody tr th:only-of-type {\n",
              "        vertical-align: middle;\n",
              "    }\n",
              "\n",
              "    .dataframe tbody tr th {\n",
              "        vertical-align: top;\n",
              "    }\n",
              "\n",
              "    .dataframe thead th {\n",
              "        text-align: right;\n",
              "    }\n",
              "</style>\n",
              "<table border=\"1\" class=\"dataframe\">\n",
              "  <thead>\n",
              "    <tr style=\"text-align: right;\">\n",
              "      <th></th>\n",
              "      <th>Platform</th>\n",
              "      <th>Year_of_Release</th>\n",
              "      <th>Genre</th>\n",
              "      <th>Publisher</th>\n",
              "      <th>Critic_Score</th>\n",
              "      <th>Critic_Count</th>\n",
              "      <th>User_Score</th>\n",
              "      <th>User_Count</th>\n",
              "      <th>Developer</th>\n",
              "      <th>Rating</th>\n",
              "      <th>Hit</th>\n",
              "    </tr>\n",
              "  </thead>\n",
              "  <tbody>\n",
              "    <tr>\n",
              "      <th>0</th>\n",
              "      <td>Wii</td>\n",
              "      <td>2006.0</td>\n",
              "      <td>Sports</td>\n",
              "      <td>Nintendo</td>\n",
              "      <td>76.0</td>\n",
              "      <td>51.0</td>\n",
              "      <td>8.0</td>\n",
              "      <td>322.0</td>\n",
              "      <td>Nintendo</td>\n",
              "      <td>E</td>\n",
              "      <td>82.53</td>\n",
              "    </tr>\n",
              "    <tr>\n",
              "      <th>1</th>\n",
              "      <td>NES</td>\n",
              "      <td>1985.0</td>\n",
              "      <td>Platform</td>\n",
              "      <td>Nintendo</td>\n",
              "      <td>71.0</td>\n",
              "      <td>21.0</td>\n",
              "      <td>7.5</td>\n",
              "      <td>24.0</td>\n",
              "      <td>Unknown</td>\n",
              "      <td>Unknown</td>\n",
              "      <td>40.24</td>\n",
              "    </tr>\n",
              "    <tr>\n",
              "      <th>2</th>\n",
              "      <td>Wii</td>\n",
              "      <td>2008.0</td>\n",
              "      <td>Racing</td>\n",
              "      <td>Nintendo</td>\n",
              "      <td>82.0</td>\n",
              "      <td>73.0</td>\n",
              "      <td>8.3</td>\n",
              "      <td>709.0</td>\n",
              "      <td>Nintendo</td>\n",
              "      <td>E</td>\n",
              "      <td>35.52</td>\n",
              "    </tr>\n",
              "    <tr>\n",
              "      <th>3</th>\n",
              "      <td>Wii</td>\n",
              "      <td>2009.0</td>\n",
              "      <td>Sports</td>\n",
              "      <td>Nintendo</td>\n",
              "      <td>80.0</td>\n",
              "      <td>73.0</td>\n",
              "      <td>8.0</td>\n",
              "      <td>192.0</td>\n",
              "      <td>Nintendo</td>\n",
              "      <td>E</td>\n",
              "      <td>32.77</td>\n",
              "    </tr>\n",
              "    <tr>\n",
              "      <th>4</th>\n",
              "      <td>GB</td>\n",
              "      <td>1996.0</td>\n",
              "      <td>Role-Playing</td>\n",
              "      <td>Nintendo</td>\n",
              "      <td>71.0</td>\n",
              "      <td>21.0</td>\n",
              "      <td>7.5</td>\n",
              "      <td>24.0</td>\n",
              "      <td>Unknown</td>\n",
              "      <td>Unknown</td>\n",
              "      <td>31.37</td>\n",
              "    </tr>\n",
              "  </tbody>\n",
              "</table>\n",
              "</div>\n",
              "    <div class=\"colab-df-buttons\">\n",
              "\n",
              "  <div class=\"colab-df-container\">\n",
              "    <button class=\"colab-df-convert\" onclick=\"convertToInteractive('df-8d579e02-5b49-4dde-bb4e-27125ca454e7')\"\n",
              "            title=\"Convert this dataframe to an interactive table.\"\n",
              "            style=\"display:none;\">\n",
              "\n",
              "  <svg xmlns=\"http://www.w3.org/2000/svg\" height=\"24px\" viewBox=\"0 -960 960 960\">\n",
              "    <path d=\"M120-120v-720h720v720H120Zm60-500h600v-160H180v160Zm220 220h160v-160H400v160Zm0 220h160v-160H400v160ZM180-400h160v-160H180v160Zm440 0h160v-160H620v160ZM180-180h160v-160H180v160Zm440 0h160v-160H620v160Z\"/>\n",
              "  </svg>\n",
              "    </button>\n",
              "\n",
              "  <style>\n",
              "    .colab-df-container {\n",
              "      display:flex;\n",
              "      gap: 12px;\n",
              "    }\n",
              "\n",
              "    .colab-df-convert {\n",
              "      background-color: #E8F0FE;\n",
              "      border: none;\n",
              "      border-radius: 50%;\n",
              "      cursor: pointer;\n",
              "      display: none;\n",
              "      fill: #1967D2;\n",
              "      height: 32px;\n",
              "      padding: 0 0 0 0;\n",
              "      width: 32px;\n",
              "    }\n",
              "\n",
              "    .colab-df-convert:hover {\n",
              "      background-color: #E2EBFA;\n",
              "      box-shadow: 0px 1px 2px rgba(60, 64, 67, 0.3), 0px 1px 3px 1px rgba(60, 64, 67, 0.15);\n",
              "      fill: #174EA6;\n",
              "    }\n",
              "\n",
              "    .colab-df-buttons div {\n",
              "      margin-bottom: 4px;\n",
              "    }\n",
              "\n",
              "    [theme=dark] .colab-df-convert {\n",
              "      background-color: #3B4455;\n",
              "      fill: #D2E3FC;\n",
              "    }\n",
              "\n",
              "    [theme=dark] .colab-df-convert:hover {\n",
              "      background-color: #434B5C;\n",
              "      box-shadow: 0px 1px 3px 1px rgba(0, 0, 0, 0.15);\n",
              "      filter: drop-shadow(0px 1px 2px rgba(0, 0, 0, 0.3));\n",
              "      fill: #FFFFFF;\n",
              "    }\n",
              "  </style>\n",
              "\n",
              "    <script>\n",
              "      const buttonEl =\n",
              "        document.querySelector('#df-8d579e02-5b49-4dde-bb4e-27125ca454e7 button.colab-df-convert');\n",
              "      buttonEl.style.display =\n",
              "        google.colab.kernel.accessAllowed ? 'block' : 'none';\n",
              "\n",
              "      async function convertToInteractive(key) {\n",
              "        const element = document.querySelector('#df-8d579e02-5b49-4dde-bb4e-27125ca454e7');\n",
              "        const dataTable =\n",
              "          await google.colab.kernel.invokeFunction('convertToInteractive',\n",
              "                                                    [key], {});\n",
              "        if (!dataTable) return;\n",
              "\n",
              "        const docLinkHtml = 'Like what you see? Visit the ' +\n",
              "          '<a target=\"_blank\" href=https://colab.research.google.com/notebooks/data_table.ipynb>data table notebook</a>'\n",
              "          + ' to learn more about interactive tables.';\n",
              "        element.innerHTML = '';\n",
              "        dataTable['output_type'] = 'display_data';\n",
              "        await google.colab.output.renderOutput(dataTable, element);\n",
              "        const docLink = document.createElement('div');\n",
              "        docLink.innerHTML = docLinkHtml;\n",
              "        element.appendChild(docLink);\n",
              "      }\n",
              "    </script>\n",
              "  </div>\n",
              "\n",
              "\n",
              "<div id=\"df-3bfc2b77-9a37-4167-8e04-515e229821a3\">\n",
              "  <button class=\"colab-df-quickchart\" onclick=\"quickchart('df-3bfc2b77-9a37-4167-8e04-515e229821a3')\"\n",
              "            title=\"Suggest charts\"\n",
              "            style=\"display:none;\">\n",
              "\n",
              "<svg xmlns=\"http://www.w3.org/2000/svg\" height=\"24px\"viewBox=\"0 0 24 24\"\n",
              "     width=\"24px\">\n",
              "    <g>\n",
              "        <path d=\"M19 3H5c-1.1 0-2 .9-2 2v14c0 1.1.9 2 2 2h14c1.1 0 2-.9 2-2V5c0-1.1-.9-2-2-2zM9 17H7v-7h2v7zm4 0h-2V7h2v10zm4 0h-2v-4h2v4z\"/>\n",
              "    </g>\n",
              "</svg>\n",
              "  </button>\n",
              "\n",
              "<style>\n",
              "  .colab-df-quickchart {\n",
              "      --bg-color: #E8F0FE;\n",
              "      --fill-color: #1967D2;\n",
              "      --hover-bg-color: #E2EBFA;\n",
              "      --hover-fill-color: #174EA6;\n",
              "      --disabled-fill-color: #AAA;\n",
              "      --disabled-bg-color: #DDD;\n",
              "  }\n",
              "\n",
              "  [theme=dark] .colab-df-quickchart {\n",
              "      --bg-color: #3B4455;\n",
              "      --fill-color: #D2E3FC;\n",
              "      --hover-bg-color: #434B5C;\n",
              "      --hover-fill-color: #FFFFFF;\n",
              "      --disabled-bg-color: #3B4455;\n",
              "      --disabled-fill-color: #666;\n",
              "  }\n",
              "\n",
              "  .colab-df-quickchart {\n",
              "    background-color: var(--bg-color);\n",
              "    border: none;\n",
              "    border-radius: 50%;\n",
              "    cursor: pointer;\n",
              "    display: none;\n",
              "    fill: var(--fill-color);\n",
              "    height: 32px;\n",
              "    padding: 0;\n",
              "    width: 32px;\n",
              "  }\n",
              "\n",
              "  .colab-df-quickchart:hover {\n",
              "    background-color: var(--hover-bg-color);\n",
              "    box-shadow: 0 1px 2px rgba(60, 64, 67, 0.3), 0 1px 3px 1px rgba(60, 64, 67, 0.15);\n",
              "    fill: var(--button-hover-fill-color);\n",
              "  }\n",
              "\n",
              "  .colab-df-quickchart-complete:disabled,\n",
              "  .colab-df-quickchart-complete:disabled:hover {\n",
              "    background-color: var(--disabled-bg-color);\n",
              "    fill: var(--disabled-fill-color);\n",
              "    box-shadow: none;\n",
              "  }\n",
              "\n",
              "  .colab-df-spinner {\n",
              "    border: 2px solid var(--fill-color);\n",
              "    border-color: transparent;\n",
              "    border-bottom-color: var(--fill-color);\n",
              "    animation:\n",
              "      spin 1s steps(1) infinite;\n",
              "  }\n",
              "\n",
              "  @keyframes spin {\n",
              "    0% {\n",
              "      border-color: transparent;\n",
              "      border-bottom-color: var(--fill-color);\n",
              "      border-left-color: var(--fill-color);\n",
              "    }\n",
              "    20% {\n",
              "      border-color: transparent;\n",
              "      border-left-color: var(--fill-color);\n",
              "      border-top-color: var(--fill-color);\n",
              "    }\n",
              "    30% {\n",
              "      border-color: transparent;\n",
              "      border-left-color: var(--fill-color);\n",
              "      border-top-color: var(--fill-color);\n",
              "      border-right-color: var(--fill-color);\n",
              "    }\n",
              "    40% {\n",
              "      border-color: transparent;\n",
              "      border-right-color: var(--fill-color);\n",
              "      border-top-color: var(--fill-color);\n",
              "    }\n",
              "    60% {\n",
              "      border-color: transparent;\n",
              "      border-right-color: var(--fill-color);\n",
              "    }\n",
              "    80% {\n",
              "      border-color: transparent;\n",
              "      border-right-color: var(--fill-color);\n",
              "      border-bottom-color: var(--fill-color);\n",
              "    }\n",
              "    90% {\n",
              "      border-color: transparent;\n",
              "      border-bottom-color: var(--fill-color);\n",
              "    }\n",
              "  }\n",
              "</style>\n",
              "\n",
              "  <script>\n",
              "    async function quickchart(key) {\n",
              "      const quickchartButtonEl =\n",
              "        document.querySelector('#' + key + ' button');\n",
              "      quickchartButtonEl.disabled = true;  // To prevent multiple clicks.\n",
              "      quickchartButtonEl.classList.add('colab-df-spinner');\n",
              "      try {\n",
              "        const charts = await google.colab.kernel.invokeFunction(\n",
              "            'suggestCharts', [key], {});\n",
              "      } catch (error) {\n",
              "        console.error('Error during call to suggestCharts:', error);\n",
              "      }\n",
              "      quickchartButtonEl.classList.remove('colab-df-spinner');\n",
              "      quickchartButtonEl.classList.add('colab-df-quickchart-complete');\n",
              "    }\n",
              "    (() => {\n",
              "      let quickchartButtonEl =\n",
              "        document.querySelector('#df-3bfc2b77-9a37-4167-8e04-515e229821a3 button');\n",
              "      quickchartButtonEl.style.display =\n",
              "        google.colab.kernel.accessAllowed ? 'block' : 'none';\n",
              "    })();\n",
              "  </script>\n",
              "</div>\n",
              "    </div>\n",
              "  </div>\n"
            ]
          },
          "metadata": {},
          "execution_count": 173
        }
      ]
    },
    {
      "cell_type": "markdown",
      "source": [
        "**> 1 is marked as Hit**"
      ],
      "metadata": {
        "id": "W3PFhBlM7R8K"
      }
    },
    {
      "cell_type": "code",
      "source": [
        "def hit(sales):\n",
        "    if sales >= 1:\n",
        "        return 1\n",
        "    else:\n",
        "        return 0\n",
        "\n",
        "vgs_data['Hit'] = vgs_data['Hit'].apply(lambda x: hit(x))"
      ],
      "metadata": {
        "id": "M3-okXsm7PmG",
        "execution": {
          "iopub.status.busy": "2023-12-14T15:05:02.768516Z",
          "iopub.execute_input": "2023-12-14T15:05:02.769573Z",
          "iopub.status.idle": "2023-12-14T15:05:02.796183Z",
          "shell.execute_reply.started": "2023-12-14T15:05:02.769528Z",
          "shell.execute_reply": "2023-12-14T15:05:02.794959Z"
        },
        "trusted": true
      },
      "execution_count": null,
      "outputs": []
    },
    {
      "cell_type": "code",
      "source": [
        "vgs_data.head(5)"
      ],
      "metadata": {
        "id": "7P5Nn2-V7dLB",
        "outputId": "2e1d06e8-0211-4ba1-d9d5-c07e11e5835c",
        "execution": {
          "iopub.status.busy": "2023-12-14T15:05:02.797882Z",
          "iopub.execute_input": "2023-12-14T15:05:02.798349Z",
          "iopub.status.idle": "2023-12-14T15:05:02.820590Z",
          "shell.execute_reply.started": "2023-12-14T15:05:02.798307Z",
          "shell.execute_reply": "2023-12-14T15:05:02.819402Z"
        },
        "trusted": true,
        "colab": {
          "base_uri": "https://localhost:8080/",
          "height": 206
        }
      },
      "execution_count": null,
      "outputs": [
        {
          "output_type": "execute_result",
          "data": {
            "text/plain": [
              "  Platform  Year_of_Release         Genre Publisher  Critic_Score  \\\n",
              "0      Wii           2006.0        Sports  Nintendo          76.0   \n",
              "1      NES           1985.0      Platform  Nintendo          71.0   \n",
              "2      Wii           2008.0        Racing  Nintendo          82.0   \n",
              "3      Wii           2009.0        Sports  Nintendo          80.0   \n",
              "4       GB           1996.0  Role-Playing  Nintendo          71.0   \n",
              "\n",
              "   Critic_Count  User_Score  User_Count Developer   Rating  Hit  \n",
              "0          51.0         8.0       322.0  Nintendo        E    1  \n",
              "1          21.0         7.5        24.0   Unknown  Unknown    1  \n",
              "2          73.0         8.3       709.0  Nintendo        E    1  \n",
              "3          73.0         8.0       192.0  Nintendo        E    1  \n",
              "4          21.0         7.5        24.0   Unknown  Unknown    1  "
            ],
            "text/html": [
              "\n",
              "  <div id=\"df-cb57a94a-04da-46aa-8cb3-35a5795aa851\" class=\"colab-df-container\">\n",
              "    <div>\n",
              "<style scoped>\n",
              "    .dataframe tbody tr th:only-of-type {\n",
              "        vertical-align: middle;\n",
              "    }\n",
              "\n",
              "    .dataframe tbody tr th {\n",
              "        vertical-align: top;\n",
              "    }\n",
              "\n",
              "    .dataframe thead th {\n",
              "        text-align: right;\n",
              "    }\n",
              "</style>\n",
              "<table border=\"1\" class=\"dataframe\">\n",
              "  <thead>\n",
              "    <tr style=\"text-align: right;\">\n",
              "      <th></th>\n",
              "      <th>Platform</th>\n",
              "      <th>Year_of_Release</th>\n",
              "      <th>Genre</th>\n",
              "      <th>Publisher</th>\n",
              "      <th>Critic_Score</th>\n",
              "      <th>Critic_Count</th>\n",
              "      <th>User_Score</th>\n",
              "      <th>User_Count</th>\n",
              "      <th>Developer</th>\n",
              "      <th>Rating</th>\n",
              "      <th>Hit</th>\n",
              "    </tr>\n",
              "  </thead>\n",
              "  <tbody>\n",
              "    <tr>\n",
              "      <th>0</th>\n",
              "      <td>Wii</td>\n",
              "      <td>2006.0</td>\n",
              "      <td>Sports</td>\n",
              "      <td>Nintendo</td>\n",
              "      <td>76.0</td>\n",
              "      <td>51.0</td>\n",
              "      <td>8.0</td>\n",
              "      <td>322.0</td>\n",
              "      <td>Nintendo</td>\n",
              "      <td>E</td>\n",
              "      <td>1</td>\n",
              "    </tr>\n",
              "    <tr>\n",
              "      <th>1</th>\n",
              "      <td>NES</td>\n",
              "      <td>1985.0</td>\n",
              "      <td>Platform</td>\n",
              "      <td>Nintendo</td>\n",
              "      <td>71.0</td>\n",
              "      <td>21.0</td>\n",
              "      <td>7.5</td>\n",
              "      <td>24.0</td>\n",
              "      <td>Unknown</td>\n",
              "      <td>Unknown</td>\n",
              "      <td>1</td>\n",
              "    </tr>\n",
              "    <tr>\n",
              "      <th>2</th>\n",
              "      <td>Wii</td>\n",
              "      <td>2008.0</td>\n",
              "      <td>Racing</td>\n",
              "      <td>Nintendo</td>\n",
              "      <td>82.0</td>\n",
              "      <td>73.0</td>\n",
              "      <td>8.3</td>\n",
              "      <td>709.0</td>\n",
              "      <td>Nintendo</td>\n",
              "      <td>E</td>\n",
              "      <td>1</td>\n",
              "    </tr>\n",
              "    <tr>\n",
              "      <th>3</th>\n",
              "      <td>Wii</td>\n",
              "      <td>2009.0</td>\n",
              "      <td>Sports</td>\n",
              "      <td>Nintendo</td>\n",
              "      <td>80.0</td>\n",
              "      <td>73.0</td>\n",
              "      <td>8.0</td>\n",
              "      <td>192.0</td>\n",
              "      <td>Nintendo</td>\n",
              "      <td>E</td>\n",
              "      <td>1</td>\n",
              "    </tr>\n",
              "    <tr>\n",
              "      <th>4</th>\n",
              "      <td>GB</td>\n",
              "      <td>1996.0</td>\n",
              "      <td>Role-Playing</td>\n",
              "      <td>Nintendo</td>\n",
              "      <td>71.0</td>\n",
              "      <td>21.0</td>\n",
              "      <td>7.5</td>\n",
              "      <td>24.0</td>\n",
              "      <td>Unknown</td>\n",
              "      <td>Unknown</td>\n",
              "      <td>1</td>\n",
              "    </tr>\n",
              "  </tbody>\n",
              "</table>\n",
              "</div>\n",
              "    <div class=\"colab-df-buttons\">\n",
              "\n",
              "  <div class=\"colab-df-container\">\n",
              "    <button class=\"colab-df-convert\" onclick=\"convertToInteractive('df-cb57a94a-04da-46aa-8cb3-35a5795aa851')\"\n",
              "            title=\"Convert this dataframe to an interactive table.\"\n",
              "            style=\"display:none;\">\n",
              "\n",
              "  <svg xmlns=\"http://www.w3.org/2000/svg\" height=\"24px\" viewBox=\"0 -960 960 960\">\n",
              "    <path d=\"M120-120v-720h720v720H120Zm60-500h600v-160H180v160Zm220 220h160v-160H400v160Zm0 220h160v-160H400v160ZM180-400h160v-160H180v160Zm440 0h160v-160H620v160ZM180-180h160v-160H180v160Zm440 0h160v-160H620v160Z\"/>\n",
              "  </svg>\n",
              "    </button>\n",
              "\n",
              "  <style>\n",
              "    .colab-df-container {\n",
              "      display:flex;\n",
              "      gap: 12px;\n",
              "    }\n",
              "\n",
              "    .colab-df-convert {\n",
              "      background-color: #E8F0FE;\n",
              "      border: none;\n",
              "      border-radius: 50%;\n",
              "      cursor: pointer;\n",
              "      display: none;\n",
              "      fill: #1967D2;\n",
              "      height: 32px;\n",
              "      padding: 0 0 0 0;\n",
              "      width: 32px;\n",
              "    }\n",
              "\n",
              "    .colab-df-convert:hover {\n",
              "      background-color: #E2EBFA;\n",
              "      box-shadow: 0px 1px 2px rgba(60, 64, 67, 0.3), 0px 1px 3px 1px rgba(60, 64, 67, 0.15);\n",
              "      fill: #174EA6;\n",
              "    }\n",
              "\n",
              "    .colab-df-buttons div {\n",
              "      margin-bottom: 4px;\n",
              "    }\n",
              "\n",
              "    [theme=dark] .colab-df-convert {\n",
              "      background-color: #3B4455;\n",
              "      fill: #D2E3FC;\n",
              "    }\n",
              "\n",
              "    [theme=dark] .colab-df-convert:hover {\n",
              "      background-color: #434B5C;\n",
              "      box-shadow: 0px 1px 3px 1px rgba(0, 0, 0, 0.15);\n",
              "      filter: drop-shadow(0px 1px 2px rgba(0, 0, 0, 0.3));\n",
              "      fill: #FFFFFF;\n",
              "    }\n",
              "  </style>\n",
              "\n",
              "    <script>\n",
              "      const buttonEl =\n",
              "        document.querySelector('#df-cb57a94a-04da-46aa-8cb3-35a5795aa851 button.colab-df-convert');\n",
              "      buttonEl.style.display =\n",
              "        google.colab.kernel.accessAllowed ? 'block' : 'none';\n",
              "\n",
              "      async function convertToInteractive(key) {\n",
              "        const element = document.querySelector('#df-cb57a94a-04da-46aa-8cb3-35a5795aa851');\n",
              "        const dataTable =\n",
              "          await google.colab.kernel.invokeFunction('convertToInteractive',\n",
              "                                                    [key], {});\n",
              "        if (!dataTable) return;\n",
              "\n",
              "        const docLinkHtml = 'Like what you see? Visit the ' +\n",
              "          '<a target=\"_blank\" href=https://colab.research.google.com/notebooks/data_table.ipynb>data table notebook</a>'\n",
              "          + ' to learn more about interactive tables.';\n",
              "        element.innerHTML = '';\n",
              "        dataTable['output_type'] = 'display_data';\n",
              "        await google.colab.output.renderOutput(dataTable, element);\n",
              "        const docLink = document.createElement('div');\n",
              "        docLink.innerHTML = docLinkHtml;\n",
              "        element.appendChild(docLink);\n",
              "      }\n",
              "    </script>\n",
              "  </div>\n",
              "\n",
              "\n",
              "<div id=\"df-592b1410-1b2a-4353-86d2-1c0bd4bffc87\">\n",
              "  <button class=\"colab-df-quickchart\" onclick=\"quickchart('df-592b1410-1b2a-4353-86d2-1c0bd4bffc87')\"\n",
              "            title=\"Suggest charts\"\n",
              "            style=\"display:none;\">\n",
              "\n",
              "<svg xmlns=\"http://www.w3.org/2000/svg\" height=\"24px\"viewBox=\"0 0 24 24\"\n",
              "     width=\"24px\">\n",
              "    <g>\n",
              "        <path d=\"M19 3H5c-1.1 0-2 .9-2 2v14c0 1.1.9 2 2 2h14c1.1 0 2-.9 2-2V5c0-1.1-.9-2-2-2zM9 17H7v-7h2v7zm4 0h-2V7h2v10zm4 0h-2v-4h2v4z\"/>\n",
              "    </g>\n",
              "</svg>\n",
              "  </button>\n",
              "\n",
              "<style>\n",
              "  .colab-df-quickchart {\n",
              "      --bg-color: #E8F0FE;\n",
              "      --fill-color: #1967D2;\n",
              "      --hover-bg-color: #E2EBFA;\n",
              "      --hover-fill-color: #174EA6;\n",
              "      --disabled-fill-color: #AAA;\n",
              "      --disabled-bg-color: #DDD;\n",
              "  }\n",
              "\n",
              "  [theme=dark] .colab-df-quickchart {\n",
              "      --bg-color: #3B4455;\n",
              "      --fill-color: #D2E3FC;\n",
              "      --hover-bg-color: #434B5C;\n",
              "      --hover-fill-color: #FFFFFF;\n",
              "      --disabled-bg-color: #3B4455;\n",
              "      --disabled-fill-color: #666;\n",
              "  }\n",
              "\n",
              "  .colab-df-quickchart {\n",
              "    background-color: var(--bg-color);\n",
              "    border: none;\n",
              "    border-radius: 50%;\n",
              "    cursor: pointer;\n",
              "    display: none;\n",
              "    fill: var(--fill-color);\n",
              "    height: 32px;\n",
              "    padding: 0;\n",
              "    width: 32px;\n",
              "  }\n",
              "\n",
              "  .colab-df-quickchart:hover {\n",
              "    background-color: var(--hover-bg-color);\n",
              "    box-shadow: 0 1px 2px rgba(60, 64, 67, 0.3), 0 1px 3px 1px rgba(60, 64, 67, 0.15);\n",
              "    fill: var(--button-hover-fill-color);\n",
              "  }\n",
              "\n",
              "  .colab-df-quickchart-complete:disabled,\n",
              "  .colab-df-quickchart-complete:disabled:hover {\n",
              "    background-color: var(--disabled-bg-color);\n",
              "    fill: var(--disabled-fill-color);\n",
              "    box-shadow: none;\n",
              "  }\n",
              "\n",
              "  .colab-df-spinner {\n",
              "    border: 2px solid var(--fill-color);\n",
              "    border-color: transparent;\n",
              "    border-bottom-color: var(--fill-color);\n",
              "    animation:\n",
              "      spin 1s steps(1) infinite;\n",
              "  }\n",
              "\n",
              "  @keyframes spin {\n",
              "    0% {\n",
              "      border-color: transparent;\n",
              "      border-bottom-color: var(--fill-color);\n",
              "      border-left-color: var(--fill-color);\n",
              "    }\n",
              "    20% {\n",
              "      border-color: transparent;\n",
              "      border-left-color: var(--fill-color);\n",
              "      border-top-color: var(--fill-color);\n",
              "    }\n",
              "    30% {\n",
              "      border-color: transparent;\n",
              "      border-left-color: var(--fill-color);\n",
              "      border-top-color: var(--fill-color);\n",
              "      border-right-color: var(--fill-color);\n",
              "    }\n",
              "    40% {\n",
              "      border-color: transparent;\n",
              "      border-right-color: var(--fill-color);\n",
              "      border-top-color: var(--fill-color);\n",
              "    }\n",
              "    60% {\n",
              "      border-color: transparent;\n",
              "      border-right-color: var(--fill-color);\n",
              "    }\n",
              "    80% {\n",
              "      border-color: transparent;\n",
              "      border-right-color: var(--fill-color);\n",
              "      border-bottom-color: var(--fill-color);\n",
              "    }\n",
              "    90% {\n",
              "      border-color: transparent;\n",
              "      border-bottom-color: var(--fill-color);\n",
              "    }\n",
              "  }\n",
              "</style>\n",
              "\n",
              "  <script>\n",
              "    async function quickchart(key) {\n",
              "      const quickchartButtonEl =\n",
              "        document.querySelector('#' + key + ' button');\n",
              "      quickchartButtonEl.disabled = true;  // To prevent multiple clicks.\n",
              "      quickchartButtonEl.classList.add('colab-df-spinner');\n",
              "      try {\n",
              "        const charts = await google.colab.kernel.invokeFunction(\n",
              "            'suggestCharts', [key], {});\n",
              "      } catch (error) {\n",
              "        console.error('Error during call to suggestCharts:', error);\n",
              "      }\n",
              "      quickchartButtonEl.classList.remove('colab-df-spinner');\n",
              "      quickchartButtonEl.classList.add('colab-df-quickchart-complete');\n",
              "    }\n",
              "    (() => {\n",
              "      let quickchartButtonEl =\n",
              "        document.querySelector('#df-592b1410-1b2a-4353-86d2-1c0bd4bffc87 button');\n",
              "      quickchartButtonEl.style.display =\n",
              "        google.colab.kernel.accessAllowed ? 'block' : 'none';\n",
              "    })();\n",
              "  </script>\n",
              "</div>\n",
              "    </div>\n",
              "  </div>\n"
            ]
          },
          "metadata": {},
          "execution_count": 175
        }
      ]
    },
    {
      "cell_type": "markdown",
      "source": [
        "### **ONE HOT ENCODING**"
      ],
      "metadata": {
        "id": "JUputmZSCFkx"
      }
    },
    {
      "cell_type": "code",
      "source": [
        "ohe = pd.get_dummies(data=vgs_data, columns=['Platform', 'Genre','Publisher','Developer','Rating'])"
      ],
      "metadata": {
        "id": "XqfVCj2CCIIM",
        "execution": {
          "iopub.status.busy": "2023-12-14T15:05:02.822195Z",
          "iopub.execute_input": "2023-12-14T15:05:02.822851Z",
          "iopub.status.idle": "2023-12-14T15:05:02.889164Z",
          "shell.execute_reply.started": "2023-12-14T15:05:02.822802Z",
          "shell.execute_reply": "2023-12-14T15:05:02.888058Z"
        },
        "trusted": true
      },
      "execution_count": null,
      "outputs": []
    },
    {
      "cell_type": "code",
      "source": [
        "ohe"
      ],
      "metadata": {
        "id": "XiGMI7BgC_Nt",
        "outputId": "71e1e487-70bb-41c7-82af-15082cb91155",
        "execution": {
          "iopub.status.busy": "2023-12-14T15:05:02.890868Z",
          "iopub.execute_input": "2023-12-14T15:05:02.891291Z",
          "iopub.status.idle": "2023-12-14T15:05:02.932576Z",
          "shell.execute_reply.started": "2023-12-14T15:05:02.891250Z",
          "shell.execute_reply": "2023-12-14T15:05:02.931564Z"
        },
        "trusted": true,
        "colab": {
          "base_uri": "https://localhost:8080/",
          "height": 461
        }
      },
      "execution_count": null,
      "outputs": [
        {
          "output_type": "execute_result",
          "data": {
            "text/plain": [
              "       Year_of_Release  Critic_Score  Critic_Count  User_Score  User_Count  \\\n",
              "0               2006.0          76.0          51.0         8.0       322.0   \n",
              "1               1985.0          71.0          21.0         7.5        24.0   \n",
              "2               2008.0          82.0          73.0         8.3       709.0   \n",
              "3               2009.0          80.0          73.0         8.0       192.0   \n",
              "4               1996.0          71.0          21.0         7.5        24.0   \n",
              "...                ...           ...           ...         ...         ...   \n",
              "16714           2016.0          71.0          21.0         7.5        24.0   \n",
              "16715           2006.0          71.0          21.0         7.5        24.0   \n",
              "16716           2016.0          71.0          21.0         7.5        24.0   \n",
              "16717           2003.0          71.0          21.0         7.5        24.0   \n",
              "16718           2016.0          71.0          21.0         7.5        24.0   \n",
              "\n",
              "       Hit  Platform_2600  Platform_3DO  Platform_3DS  Platform_DC  ...  \\\n",
              "0        1              0             0             0            0  ...   \n",
              "1        1              0             0             0            0  ...   \n",
              "2        1              0             0             0            0  ...   \n",
              "3        1              0             0             0            0  ...   \n",
              "4        1              0             0             0            0  ...   \n",
              "...    ...            ...           ...           ...          ...  ...   \n",
              "16714    0              0             0             0            0  ...   \n",
              "16715    0              0             0             0            0  ...   \n",
              "16716    0              0             0             0            0  ...   \n",
              "16717    0              0             0             0            0  ...   \n",
              "16718    0              0             0             0            0  ...   \n",
              "\n",
              "       Developer_n-Space  Rating_AO  Rating_E  Rating_E10+  Rating_EC  \\\n",
              "0                      0          0         1            0          0   \n",
              "1                      0          0         0            0          0   \n",
              "2                      0          0         1            0          0   \n",
              "3                      0          0         1            0          0   \n",
              "4                      0          0         0            0          0   \n",
              "...                  ...        ...       ...          ...        ...   \n",
              "16714                  0          0         0            0          0   \n",
              "16715                  0          0         0            0          0   \n",
              "16716                  0          0         0            0          0   \n",
              "16717                  0          0         0            0          0   \n",
              "16718                  0          0         0            0          0   \n",
              "\n",
              "       Rating_K-A  Rating_M  Rating_RP  Rating_T  Rating_Unknown  \n",
              "0               0         0          0         0               0  \n",
              "1               0         0          0         0               1  \n",
              "2               0         0          0         0               0  \n",
              "3               0         0          0         0               0  \n",
              "4               0         0          0         0               1  \n",
              "...           ...       ...        ...       ...             ...  \n",
              "16714           0         0          0         0               1  \n",
              "16715           0         0          0         0               1  \n",
              "16716           0         0          0         0               1  \n",
              "16717           0         0          0         0               1  \n",
              "16718           0         0          0         0               1  \n",
              "\n",
              "[16663 rows x 348 columns]"
            ],
            "text/html": [
              "\n",
              "  <div id=\"df-1031bc91-7ccc-4031-ab27-2f85c3dff6db\" class=\"colab-df-container\">\n",
              "    <div>\n",
              "<style scoped>\n",
              "    .dataframe tbody tr th:only-of-type {\n",
              "        vertical-align: middle;\n",
              "    }\n",
              "\n",
              "    .dataframe tbody tr th {\n",
              "        vertical-align: top;\n",
              "    }\n",
              "\n",
              "    .dataframe thead th {\n",
              "        text-align: right;\n",
              "    }\n",
              "</style>\n",
              "<table border=\"1\" class=\"dataframe\">\n",
              "  <thead>\n",
              "    <tr style=\"text-align: right;\">\n",
              "      <th></th>\n",
              "      <th>Year_of_Release</th>\n",
              "      <th>Critic_Score</th>\n",
              "      <th>Critic_Count</th>\n",
              "      <th>User_Score</th>\n",
              "      <th>User_Count</th>\n",
              "      <th>Hit</th>\n",
              "      <th>Platform_2600</th>\n",
              "      <th>Platform_3DO</th>\n",
              "      <th>Platform_3DS</th>\n",
              "      <th>Platform_DC</th>\n",
              "      <th>...</th>\n",
              "      <th>Developer_n-Space</th>\n",
              "      <th>Rating_AO</th>\n",
              "      <th>Rating_E</th>\n",
              "      <th>Rating_E10+</th>\n",
              "      <th>Rating_EC</th>\n",
              "      <th>Rating_K-A</th>\n",
              "      <th>Rating_M</th>\n",
              "      <th>Rating_RP</th>\n",
              "      <th>Rating_T</th>\n",
              "      <th>Rating_Unknown</th>\n",
              "    </tr>\n",
              "  </thead>\n",
              "  <tbody>\n",
              "    <tr>\n",
              "      <th>0</th>\n",
              "      <td>2006.0</td>\n",
              "      <td>76.0</td>\n",
              "      <td>51.0</td>\n",
              "      <td>8.0</td>\n",
              "      <td>322.0</td>\n",
              "      <td>1</td>\n",
              "      <td>0</td>\n",
              "      <td>0</td>\n",
              "      <td>0</td>\n",
              "      <td>0</td>\n",
              "      <td>...</td>\n",
              "      <td>0</td>\n",
              "      <td>0</td>\n",
              "      <td>1</td>\n",
              "      <td>0</td>\n",
              "      <td>0</td>\n",
              "      <td>0</td>\n",
              "      <td>0</td>\n",
              "      <td>0</td>\n",
              "      <td>0</td>\n",
              "      <td>0</td>\n",
              "    </tr>\n",
              "    <tr>\n",
              "      <th>1</th>\n",
              "      <td>1985.0</td>\n",
              "      <td>71.0</td>\n",
              "      <td>21.0</td>\n",
              "      <td>7.5</td>\n",
              "      <td>24.0</td>\n",
              "      <td>1</td>\n",
              "      <td>0</td>\n",
              "      <td>0</td>\n",
              "      <td>0</td>\n",
              "      <td>0</td>\n",
              "      <td>...</td>\n",
              "      <td>0</td>\n",
              "      <td>0</td>\n",
              "      <td>0</td>\n",
              "      <td>0</td>\n",
              "      <td>0</td>\n",
              "      <td>0</td>\n",
              "      <td>0</td>\n",
              "      <td>0</td>\n",
              "      <td>0</td>\n",
              "      <td>1</td>\n",
              "    </tr>\n",
              "    <tr>\n",
              "      <th>2</th>\n",
              "      <td>2008.0</td>\n",
              "      <td>82.0</td>\n",
              "      <td>73.0</td>\n",
              "      <td>8.3</td>\n",
              "      <td>709.0</td>\n",
              "      <td>1</td>\n",
              "      <td>0</td>\n",
              "      <td>0</td>\n",
              "      <td>0</td>\n",
              "      <td>0</td>\n",
              "      <td>...</td>\n",
              "      <td>0</td>\n",
              "      <td>0</td>\n",
              "      <td>1</td>\n",
              "      <td>0</td>\n",
              "      <td>0</td>\n",
              "      <td>0</td>\n",
              "      <td>0</td>\n",
              "      <td>0</td>\n",
              "      <td>0</td>\n",
              "      <td>0</td>\n",
              "    </tr>\n",
              "    <tr>\n",
              "      <th>3</th>\n",
              "      <td>2009.0</td>\n",
              "      <td>80.0</td>\n",
              "      <td>73.0</td>\n",
              "      <td>8.0</td>\n",
              "      <td>192.0</td>\n",
              "      <td>1</td>\n",
              "      <td>0</td>\n",
              "      <td>0</td>\n",
              "      <td>0</td>\n",
              "      <td>0</td>\n",
              "      <td>...</td>\n",
              "      <td>0</td>\n",
              "      <td>0</td>\n",
              "      <td>1</td>\n",
              "      <td>0</td>\n",
              "      <td>0</td>\n",
              "      <td>0</td>\n",
              "      <td>0</td>\n",
              "      <td>0</td>\n",
              "      <td>0</td>\n",
              "      <td>0</td>\n",
              "    </tr>\n",
              "    <tr>\n",
              "      <th>4</th>\n",
              "      <td>1996.0</td>\n",
              "      <td>71.0</td>\n",
              "      <td>21.0</td>\n",
              "      <td>7.5</td>\n",
              "      <td>24.0</td>\n",
              "      <td>1</td>\n",
              "      <td>0</td>\n",
              "      <td>0</td>\n",
              "      <td>0</td>\n",
              "      <td>0</td>\n",
              "      <td>...</td>\n",
              "      <td>0</td>\n",
              "      <td>0</td>\n",
              "      <td>0</td>\n",
              "      <td>0</td>\n",
              "      <td>0</td>\n",
              "      <td>0</td>\n",
              "      <td>0</td>\n",
              "      <td>0</td>\n",
              "      <td>0</td>\n",
              "      <td>1</td>\n",
              "    </tr>\n",
              "    <tr>\n",
              "      <th>...</th>\n",
              "      <td>...</td>\n",
              "      <td>...</td>\n",
              "      <td>...</td>\n",
              "      <td>...</td>\n",
              "      <td>...</td>\n",
              "      <td>...</td>\n",
              "      <td>...</td>\n",
              "      <td>...</td>\n",
              "      <td>...</td>\n",
              "      <td>...</td>\n",
              "      <td>...</td>\n",
              "      <td>...</td>\n",
              "      <td>...</td>\n",
              "      <td>...</td>\n",
              "      <td>...</td>\n",
              "      <td>...</td>\n",
              "      <td>...</td>\n",
              "      <td>...</td>\n",
              "      <td>...</td>\n",
              "      <td>...</td>\n",
              "      <td>...</td>\n",
              "    </tr>\n",
              "    <tr>\n",
              "      <th>16714</th>\n",
              "      <td>2016.0</td>\n",
              "      <td>71.0</td>\n",
              "      <td>21.0</td>\n",
              "      <td>7.5</td>\n",
              "      <td>24.0</td>\n",
              "      <td>0</td>\n",
              "      <td>0</td>\n",
              "      <td>0</td>\n",
              "      <td>0</td>\n",
              "      <td>0</td>\n",
              "      <td>...</td>\n",
              "      <td>0</td>\n",
              "      <td>0</td>\n",
              "      <td>0</td>\n",
              "      <td>0</td>\n",
              "      <td>0</td>\n",
              "      <td>0</td>\n",
              "      <td>0</td>\n",
              "      <td>0</td>\n",
              "      <td>0</td>\n",
              "      <td>1</td>\n",
              "    </tr>\n",
              "    <tr>\n",
              "      <th>16715</th>\n",
              "      <td>2006.0</td>\n",
              "      <td>71.0</td>\n",
              "      <td>21.0</td>\n",
              "      <td>7.5</td>\n",
              "      <td>24.0</td>\n",
              "      <td>0</td>\n",
              "      <td>0</td>\n",
              "      <td>0</td>\n",
              "      <td>0</td>\n",
              "      <td>0</td>\n",
              "      <td>...</td>\n",
              "      <td>0</td>\n",
              "      <td>0</td>\n",
              "      <td>0</td>\n",
              "      <td>0</td>\n",
              "      <td>0</td>\n",
              "      <td>0</td>\n",
              "      <td>0</td>\n",
              "      <td>0</td>\n",
              "      <td>0</td>\n",
              "      <td>1</td>\n",
              "    </tr>\n",
              "    <tr>\n",
              "      <th>16716</th>\n",
              "      <td>2016.0</td>\n",
              "      <td>71.0</td>\n",
              "      <td>21.0</td>\n",
              "      <td>7.5</td>\n",
              "      <td>24.0</td>\n",
              "      <td>0</td>\n",
              "      <td>0</td>\n",
              "      <td>0</td>\n",
              "      <td>0</td>\n",
              "      <td>0</td>\n",
              "      <td>...</td>\n",
              "      <td>0</td>\n",
              "      <td>0</td>\n",
              "      <td>0</td>\n",
              "      <td>0</td>\n",
              "      <td>0</td>\n",
              "      <td>0</td>\n",
              "      <td>0</td>\n",
              "      <td>0</td>\n",
              "      <td>0</td>\n",
              "      <td>1</td>\n",
              "    </tr>\n",
              "    <tr>\n",
              "      <th>16717</th>\n",
              "      <td>2003.0</td>\n",
              "      <td>71.0</td>\n",
              "      <td>21.0</td>\n",
              "      <td>7.5</td>\n",
              "      <td>24.0</td>\n",
              "      <td>0</td>\n",
              "      <td>0</td>\n",
              "      <td>0</td>\n",
              "      <td>0</td>\n",
              "      <td>0</td>\n",
              "      <td>...</td>\n",
              "      <td>0</td>\n",
              "      <td>0</td>\n",
              "      <td>0</td>\n",
              "      <td>0</td>\n",
              "      <td>0</td>\n",
              "      <td>0</td>\n",
              "      <td>0</td>\n",
              "      <td>0</td>\n",
              "      <td>0</td>\n",
              "      <td>1</td>\n",
              "    </tr>\n",
              "    <tr>\n",
              "      <th>16718</th>\n",
              "      <td>2016.0</td>\n",
              "      <td>71.0</td>\n",
              "      <td>21.0</td>\n",
              "      <td>7.5</td>\n",
              "      <td>24.0</td>\n",
              "      <td>0</td>\n",
              "      <td>0</td>\n",
              "      <td>0</td>\n",
              "      <td>0</td>\n",
              "      <td>0</td>\n",
              "      <td>...</td>\n",
              "      <td>0</td>\n",
              "      <td>0</td>\n",
              "      <td>0</td>\n",
              "      <td>0</td>\n",
              "      <td>0</td>\n",
              "      <td>0</td>\n",
              "      <td>0</td>\n",
              "      <td>0</td>\n",
              "      <td>0</td>\n",
              "      <td>1</td>\n",
              "    </tr>\n",
              "  </tbody>\n",
              "</table>\n",
              "<p>16663 rows × 348 columns</p>\n",
              "</div>\n",
              "    <div class=\"colab-df-buttons\">\n",
              "\n",
              "  <div class=\"colab-df-container\">\n",
              "    <button class=\"colab-df-convert\" onclick=\"convertToInteractive('df-1031bc91-7ccc-4031-ab27-2f85c3dff6db')\"\n",
              "            title=\"Convert this dataframe to an interactive table.\"\n",
              "            style=\"display:none;\">\n",
              "\n",
              "  <svg xmlns=\"http://www.w3.org/2000/svg\" height=\"24px\" viewBox=\"0 -960 960 960\">\n",
              "    <path d=\"M120-120v-720h720v720H120Zm60-500h600v-160H180v160Zm220 220h160v-160H400v160Zm0 220h160v-160H400v160ZM180-400h160v-160H180v160Zm440 0h160v-160H620v160ZM180-180h160v-160H180v160Zm440 0h160v-160H620v160Z\"/>\n",
              "  </svg>\n",
              "    </button>\n",
              "\n",
              "  <style>\n",
              "    .colab-df-container {\n",
              "      display:flex;\n",
              "      gap: 12px;\n",
              "    }\n",
              "\n",
              "    .colab-df-convert {\n",
              "      background-color: #E8F0FE;\n",
              "      border: none;\n",
              "      border-radius: 50%;\n",
              "      cursor: pointer;\n",
              "      display: none;\n",
              "      fill: #1967D2;\n",
              "      height: 32px;\n",
              "      padding: 0 0 0 0;\n",
              "      width: 32px;\n",
              "    }\n",
              "\n",
              "    .colab-df-convert:hover {\n",
              "      background-color: #E2EBFA;\n",
              "      box-shadow: 0px 1px 2px rgba(60, 64, 67, 0.3), 0px 1px 3px 1px rgba(60, 64, 67, 0.15);\n",
              "      fill: #174EA6;\n",
              "    }\n",
              "\n",
              "    .colab-df-buttons div {\n",
              "      margin-bottom: 4px;\n",
              "    }\n",
              "\n",
              "    [theme=dark] .colab-df-convert {\n",
              "      background-color: #3B4455;\n",
              "      fill: #D2E3FC;\n",
              "    }\n",
              "\n",
              "    [theme=dark] .colab-df-convert:hover {\n",
              "      background-color: #434B5C;\n",
              "      box-shadow: 0px 1px 3px 1px rgba(0, 0, 0, 0.15);\n",
              "      filter: drop-shadow(0px 1px 2px rgba(0, 0, 0, 0.3));\n",
              "      fill: #FFFFFF;\n",
              "    }\n",
              "  </style>\n",
              "\n",
              "    <script>\n",
              "      const buttonEl =\n",
              "        document.querySelector('#df-1031bc91-7ccc-4031-ab27-2f85c3dff6db button.colab-df-convert');\n",
              "      buttonEl.style.display =\n",
              "        google.colab.kernel.accessAllowed ? 'block' : 'none';\n",
              "\n",
              "      async function convertToInteractive(key) {\n",
              "        const element = document.querySelector('#df-1031bc91-7ccc-4031-ab27-2f85c3dff6db');\n",
              "        const dataTable =\n",
              "          await google.colab.kernel.invokeFunction('convertToInteractive',\n",
              "                                                    [key], {});\n",
              "        if (!dataTable) return;\n",
              "\n",
              "        const docLinkHtml = 'Like what you see? Visit the ' +\n",
              "          '<a target=\"_blank\" href=https://colab.research.google.com/notebooks/data_table.ipynb>data table notebook</a>'\n",
              "          + ' to learn more about interactive tables.';\n",
              "        element.innerHTML = '';\n",
              "        dataTable['output_type'] = 'display_data';\n",
              "        await google.colab.output.renderOutput(dataTable, element);\n",
              "        const docLink = document.createElement('div');\n",
              "        docLink.innerHTML = docLinkHtml;\n",
              "        element.appendChild(docLink);\n",
              "      }\n",
              "    </script>\n",
              "  </div>\n",
              "\n",
              "\n",
              "<div id=\"df-0a4a7db2-d660-4e81-9401-8b5fdbef6193\">\n",
              "  <button class=\"colab-df-quickchart\" onclick=\"quickchart('df-0a4a7db2-d660-4e81-9401-8b5fdbef6193')\"\n",
              "            title=\"Suggest charts\"\n",
              "            style=\"display:none;\">\n",
              "\n",
              "<svg xmlns=\"http://www.w3.org/2000/svg\" height=\"24px\"viewBox=\"0 0 24 24\"\n",
              "     width=\"24px\">\n",
              "    <g>\n",
              "        <path d=\"M19 3H5c-1.1 0-2 .9-2 2v14c0 1.1.9 2 2 2h14c1.1 0 2-.9 2-2V5c0-1.1-.9-2-2-2zM9 17H7v-7h2v7zm4 0h-2V7h2v10zm4 0h-2v-4h2v4z\"/>\n",
              "    </g>\n",
              "</svg>\n",
              "  </button>\n",
              "\n",
              "<style>\n",
              "  .colab-df-quickchart {\n",
              "      --bg-color: #E8F0FE;\n",
              "      --fill-color: #1967D2;\n",
              "      --hover-bg-color: #E2EBFA;\n",
              "      --hover-fill-color: #174EA6;\n",
              "      --disabled-fill-color: #AAA;\n",
              "      --disabled-bg-color: #DDD;\n",
              "  }\n",
              "\n",
              "  [theme=dark] .colab-df-quickchart {\n",
              "      --bg-color: #3B4455;\n",
              "      --fill-color: #D2E3FC;\n",
              "      --hover-bg-color: #434B5C;\n",
              "      --hover-fill-color: #FFFFFF;\n",
              "      --disabled-bg-color: #3B4455;\n",
              "      --disabled-fill-color: #666;\n",
              "  }\n",
              "\n",
              "  .colab-df-quickchart {\n",
              "    background-color: var(--bg-color);\n",
              "    border: none;\n",
              "    border-radius: 50%;\n",
              "    cursor: pointer;\n",
              "    display: none;\n",
              "    fill: var(--fill-color);\n",
              "    height: 32px;\n",
              "    padding: 0;\n",
              "    width: 32px;\n",
              "  }\n",
              "\n",
              "  .colab-df-quickchart:hover {\n",
              "    background-color: var(--hover-bg-color);\n",
              "    box-shadow: 0 1px 2px rgba(60, 64, 67, 0.3), 0 1px 3px 1px rgba(60, 64, 67, 0.15);\n",
              "    fill: var(--button-hover-fill-color);\n",
              "  }\n",
              "\n",
              "  .colab-df-quickchart-complete:disabled,\n",
              "  .colab-df-quickchart-complete:disabled:hover {\n",
              "    background-color: var(--disabled-bg-color);\n",
              "    fill: var(--disabled-fill-color);\n",
              "    box-shadow: none;\n",
              "  }\n",
              "\n",
              "  .colab-df-spinner {\n",
              "    border: 2px solid var(--fill-color);\n",
              "    border-color: transparent;\n",
              "    border-bottom-color: var(--fill-color);\n",
              "    animation:\n",
              "      spin 1s steps(1) infinite;\n",
              "  }\n",
              "\n",
              "  @keyframes spin {\n",
              "    0% {\n",
              "      border-color: transparent;\n",
              "      border-bottom-color: var(--fill-color);\n",
              "      border-left-color: var(--fill-color);\n",
              "    }\n",
              "    20% {\n",
              "      border-color: transparent;\n",
              "      border-left-color: var(--fill-color);\n",
              "      border-top-color: var(--fill-color);\n",
              "    }\n",
              "    30% {\n",
              "      border-color: transparent;\n",
              "      border-left-color: var(--fill-color);\n",
              "      border-top-color: var(--fill-color);\n",
              "      border-right-color: var(--fill-color);\n",
              "    }\n",
              "    40% {\n",
              "      border-color: transparent;\n",
              "      border-right-color: var(--fill-color);\n",
              "      border-top-color: var(--fill-color);\n",
              "    }\n",
              "    60% {\n",
              "      border-color: transparent;\n",
              "      border-right-color: var(--fill-color);\n",
              "    }\n",
              "    80% {\n",
              "      border-color: transparent;\n",
              "      border-right-color: var(--fill-color);\n",
              "      border-bottom-color: var(--fill-color);\n",
              "    }\n",
              "    90% {\n",
              "      border-color: transparent;\n",
              "      border-bottom-color: var(--fill-color);\n",
              "    }\n",
              "  }\n",
              "</style>\n",
              "\n",
              "  <script>\n",
              "    async function quickchart(key) {\n",
              "      const quickchartButtonEl =\n",
              "        document.querySelector('#' + key + ' button');\n",
              "      quickchartButtonEl.disabled = true;  // To prevent multiple clicks.\n",
              "      quickchartButtonEl.classList.add('colab-df-spinner');\n",
              "      try {\n",
              "        const charts = await google.colab.kernel.invokeFunction(\n",
              "            'suggestCharts', [key], {});\n",
              "      } catch (error) {\n",
              "        console.error('Error during call to suggestCharts:', error);\n",
              "      }\n",
              "      quickchartButtonEl.classList.remove('colab-df-spinner');\n",
              "      quickchartButtonEl.classList.add('colab-df-quickchart-complete');\n",
              "    }\n",
              "    (() => {\n",
              "      let quickchartButtonEl =\n",
              "        document.querySelector('#df-0a4a7db2-d660-4e81-9401-8b5fdbef6193 button');\n",
              "      quickchartButtonEl.style.display =\n",
              "        google.colab.kernel.accessAllowed ? 'block' : 'none';\n",
              "    })();\n",
              "  </script>\n",
              "</div>\n",
              "    </div>\n",
              "  </div>\n"
            ]
          },
          "metadata": {},
          "execution_count": 177
        }
      ]
    },
    {
      "cell_type": "markdown",
      "source": [
        "# **MACHINE LEARNING**"
      ],
      "metadata": {
        "id": "wh7AoXRq7guj"
      }
    },
    {
      "cell_type": "code",
      "source": [
        "data = ohe.copy()"
      ],
      "metadata": {
        "id": "UCHWVx-x7luU",
        "execution": {
          "iopub.status.busy": "2023-12-14T15:05:02.933900Z",
          "iopub.execute_input": "2023-12-14T15:05:02.934212Z",
          "iopub.status.idle": "2023-12-14T15:05:02.945200Z",
          "shell.execute_reply.started": "2023-12-14T15:05:02.934184Z",
          "shell.execute_reply": "2023-12-14T15:05:02.944284Z"
        },
        "trusted": true
      },
      "execution_count": null,
      "outputs": []
    },
    {
      "cell_type": "markdown",
      "source": [
        "## viewing Correlations with the target column"
      ],
      "metadata": {
        "id": "ASbbpYYbYH4Y"
      }
    },
    {
      "cell_type": "code",
      "source": [
        "corrMatrix = data.corrwith(data[\"Hit\"]).abs()"
      ],
      "metadata": {
        "id": "yeCkGEVfHFT2",
        "execution": {
          "iopub.status.busy": "2023-12-14T15:05:02.946380Z",
          "iopub.execute_input": "2023-12-14T15:05:02.946856Z",
          "iopub.status.idle": "2023-12-14T15:05:03.133194Z",
          "shell.execute_reply.started": "2023-12-14T15:05:02.946815Z",
          "shell.execute_reply": "2023-12-14T15:05:03.132034Z"
        },
        "trusted": true
      },
      "execution_count": null,
      "outputs": []
    },
    {
      "cell_type": "code",
      "source": [
        "corrMatrix"
      ],
      "metadata": {
        "id": "MUiWL9XPGzSH",
        "outputId": "f60dfc01-46ab-4815-e312-9709b243bfd7",
        "execution": {
          "iopub.status.busy": "2023-12-14T15:05:03.134654Z",
          "iopub.execute_input": "2023-12-14T15:05:03.135009Z",
          "iopub.status.idle": "2023-12-14T15:05:03.145624Z",
          "shell.execute_reply.started": "2023-12-14T15:05:03.134977Z",
          "shell.execute_reply": "2023-12-14T15:05:03.144529Z"
        },
        "trusted": true,
        "colab": {
          "base_uri": "https://localhost:8080/"
        }
      },
      "execution_count": null,
      "outputs": [
        {
          "output_type": "execute_result",
          "data": {
            "text/plain": [
              "Year_of_Release    0.113824\n",
              "Critic_Score       0.246015\n",
              "Critic_Count       0.312965\n",
              "User_Score         0.073054\n",
              "User_Count         0.216928\n",
              "                     ...   \n",
              "Rating_K-A         0.022054\n",
              "Rating_M           0.099069\n",
              "Rating_RP          0.005057\n",
              "Rating_T           0.008593\n",
              "Rating_Unknown     0.072152\n",
              "Length: 348, dtype: float64"
            ]
          },
          "metadata": {},
          "execution_count": 180
        }
      ]
    },
    {
      "cell_type": "code",
      "source": [
        "# Sort the correlations in descending order\n",
        "corrMatrix = corrMatrix.sort_values(ascending=False)"
      ],
      "metadata": {
        "id": "4AxROJ8vH1cT",
        "execution": {
          "iopub.status.busy": "2023-12-14T15:05:03.146998Z",
          "iopub.execute_input": "2023-12-14T15:05:03.147426Z",
          "iopub.status.idle": "2023-12-14T15:05:03.153288Z",
          "shell.execute_reply.started": "2023-12-14T15:05:03.147397Z",
          "shell.execute_reply": "2023-12-14T15:05:03.152449Z"
        },
        "trusted": true
      },
      "execution_count": null,
      "outputs": []
    },
    {
      "cell_type": "code",
      "source": [
        "corrMatrix"
      ],
      "metadata": {
        "id": "B7TUNNWwH4sD",
        "outputId": "0483bcc6-b3ed-49f5-e3d3-e317173d181d",
        "execution": {
          "iopub.status.busy": "2023-12-14T15:05:03.154516Z",
          "iopub.execute_input": "2023-12-14T15:05:03.155472Z",
          "iopub.status.idle": "2023-12-14T15:05:03.171143Z",
          "shell.execute_reply.started": "2023-12-14T15:05:03.155437Z",
          "shell.execute_reply": "2023-12-14T15:05:03.170318Z"
        },
        "trusted": true,
        "colab": {
          "base_uri": "https://localhost:8080/"
        }
      },
      "execution_count": null,
      "outputs": [
        {
          "output_type": "execute_result",
          "data": {
            "text/plain": [
              "Hit                                   1.000000\n",
              "Critic_Count                          0.312965\n",
              "Critic_Score                          0.246015\n",
              "Publisher_Nintendo                    0.226817\n",
              "User_Count                            0.216928\n",
              "                                        ...   \n",
              "Developer_SCE Japan Studio            0.000649\n",
              "Developer_Pipeworks Software, Inc.    0.000649\n",
              "Developer_Papaya Studios              0.000649\n",
              "Developer_Crystal Dynamics            0.000511\n",
              "Developer_Raven Software              0.000061\n",
              "Length: 348, dtype: float64"
            ]
          },
          "metadata": {},
          "execution_count": 182
        }
      ]
    },
    {
      "cell_type": "markdown",
      "source": [
        "## Filtering Columns that have > 0.001 correlation"
      ],
      "metadata": {
        "id": "S5_5f2LjYH4Z"
      }
    },
    {
      "cell_type": "code",
      "source": [
        "selected_columns = []\n",
        "for col in data.columns:\n",
        "    try:\n",
        "        correlation = corrMatrix[col]\n",
        "        if abs(correlation) > 0.001:\n",
        "            selected_columns.append(col)\n",
        "    except KeyError:\n",
        "        print(f\"KeyError: Check if 'Hit' column exists in corrMatrix for column {col}\")\n",
        "    except Exception as e:\n",
        "        print(f\"Error occurred for column {col}: {str(e)}\")\n",
        "\n",
        "df_selected = data[selected_columns]"
      ],
      "metadata": {
        "id": "rOp0fZa56S_g",
        "execution": {
          "iopub.status.busy": "2023-12-14T15:05:03.172334Z",
          "iopub.execute_input": "2023-12-14T15:05:03.172890Z",
          "iopub.status.idle": "2023-12-14T15:05:03.188769Z",
          "shell.execute_reply.started": "2023-12-14T15:05:03.172858Z",
          "shell.execute_reply": "2023-12-14T15:05:03.187421Z"
        },
        "trusted": true
      },
      "execution_count": null,
      "outputs": []
    },
    {
      "cell_type": "code",
      "source": [
        "df_selected"
      ],
      "metadata": {
        "id": "ynrqxz338Uf0",
        "outputId": "4a702a4f-9989-4777-e27f-0600e967a1ca",
        "execution": {
          "iopub.status.busy": "2023-12-14T15:05:03.190010Z",
          "iopub.execute_input": "2023-12-14T15:05:03.191200Z",
          "iopub.status.idle": "2023-12-14T15:05:03.233589Z",
          "shell.execute_reply.started": "2023-12-14T15:05:03.191165Z",
          "shell.execute_reply": "2023-12-14T15:05:03.232499Z"
        },
        "trusted": true,
        "colab": {
          "base_uri": "https://localhost:8080/",
          "height": 461
        }
      },
      "execution_count": null,
      "outputs": [
        {
          "output_type": "execute_result",
          "data": {
            "text/plain": [
              "       Year_of_Release  Critic_Score  Critic_Count  User_Score  User_Count  \\\n",
              "0               2006.0          76.0          51.0         8.0       322.0   \n",
              "1               1985.0          71.0          21.0         7.5        24.0   \n",
              "2               2008.0          82.0          73.0         8.3       709.0   \n",
              "3               2009.0          80.0          73.0         8.0       192.0   \n",
              "4               1996.0          71.0          21.0         7.5        24.0   \n",
              "...                ...           ...           ...         ...         ...   \n",
              "16714           2016.0          71.0          21.0         7.5        24.0   \n",
              "16715           2006.0          71.0          21.0         7.5        24.0   \n",
              "16716           2016.0          71.0          21.0         7.5        24.0   \n",
              "16717           2003.0          71.0          21.0         7.5        24.0   \n",
              "16718           2016.0          71.0          21.0         7.5        24.0   \n",
              "\n",
              "       Hit  Platform_2600  Platform_3DO  Platform_3DS  Platform_DC  ...  \\\n",
              "0        1              0             0             0            0  ...   \n",
              "1        1              0             0             0            0  ...   \n",
              "2        1              0             0             0            0  ...   \n",
              "3        1              0             0             0            0  ...   \n",
              "4        1              0             0             0            0  ...   \n",
              "...    ...            ...           ...           ...          ...  ...   \n",
              "16714    0              0             0             0            0  ...   \n",
              "16715    0              0             0             0            0  ...   \n",
              "16716    0              0             0             0            0  ...   \n",
              "16717    0              0             0             0            0  ...   \n",
              "16718    0              0             0             0            0  ...   \n",
              "\n",
              "       Developer_n-Space  Rating_AO  Rating_E  Rating_E10+  Rating_EC  \\\n",
              "0                      0          0         1            0          0   \n",
              "1                      0          0         0            0          0   \n",
              "2                      0          0         1            0          0   \n",
              "3                      0          0         1            0          0   \n",
              "4                      0          0         0            0          0   \n",
              "...                  ...        ...       ...          ...        ...   \n",
              "16714                  0          0         0            0          0   \n",
              "16715                  0          0         0            0          0   \n",
              "16716                  0          0         0            0          0   \n",
              "16717                  0          0         0            0          0   \n",
              "16718                  0          0         0            0          0   \n",
              "\n",
              "       Rating_K-A  Rating_M  Rating_RP  Rating_T  Rating_Unknown  \n",
              "0               0         0          0         0               0  \n",
              "1               0         0          0         0               1  \n",
              "2               0         0          0         0               0  \n",
              "3               0         0          0         0               0  \n",
              "4               0         0          0         0               1  \n",
              "...           ...       ...        ...       ...             ...  \n",
              "16714           0         0          0         0               1  \n",
              "16715           0         0          0         0               1  \n",
              "16716           0         0          0         0               1  \n",
              "16717           0         0          0         0               1  \n",
              "16718           0         0          0         0               1  \n",
              "\n",
              "[16663 rows x 338 columns]"
            ],
            "text/html": [
              "\n",
              "  <div id=\"df-eabf6d52-8389-40a7-888d-736e010b9e78\" class=\"colab-df-container\">\n",
              "    <div>\n",
              "<style scoped>\n",
              "    .dataframe tbody tr th:only-of-type {\n",
              "        vertical-align: middle;\n",
              "    }\n",
              "\n",
              "    .dataframe tbody tr th {\n",
              "        vertical-align: top;\n",
              "    }\n",
              "\n",
              "    .dataframe thead th {\n",
              "        text-align: right;\n",
              "    }\n",
              "</style>\n",
              "<table border=\"1\" class=\"dataframe\">\n",
              "  <thead>\n",
              "    <tr style=\"text-align: right;\">\n",
              "      <th></th>\n",
              "      <th>Year_of_Release</th>\n",
              "      <th>Critic_Score</th>\n",
              "      <th>Critic_Count</th>\n",
              "      <th>User_Score</th>\n",
              "      <th>User_Count</th>\n",
              "      <th>Hit</th>\n",
              "      <th>Platform_2600</th>\n",
              "      <th>Platform_3DO</th>\n",
              "      <th>Platform_3DS</th>\n",
              "      <th>Platform_DC</th>\n",
              "      <th>...</th>\n",
              "      <th>Developer_n-Space</th>\n",
              "      <th>Rating_AO</th>\n",
              "      <th>Rating_E</th>\n",
              "      <th>Rating_E10+</th>\n",
              "      <th>Rating_EC</th>\n",
              "      <th>Rating_K-A</th>\n",
              "      <th>Rating_M</th>\n",
              "      <th>Rating_RP</th>\n",
              "      <th>Rating_T</th>\n",
              "      <th>Rating_Unknown</th>\n",
              "    </tr>\n",
              "  </thead>\n",
              "  <tbody>\n",
              "    <tr>\n",
              "      <th>0</th>\n",
              "      <td>2006.0</td>\n",
              "      <td>76.0</td>\n",
              "      <td>51.0</td>\n",
              "      <td>8.0</td>\n",
              "      <td>322.0</td>\n",
              "      <td>1</td>\n",
              "      <td>0</td>\n",
              "      <td>0</td>\n",
              "      <td>0</td>\n",
              "      <td>0</td>\n",
              "      <td>...</td>\n",
              "      <td>0</td>\n",
              "      <td>0</td>\n",
              "      <td>1</td>\n",
              "      <td>0</td>\n",
              "      <td>0</td>\n",
              "      <td>0</td>\n",
              "      <td>0</td>\n",
              "      <td>0</td>\n",
              "      <td>0</td>\n",
              "      <td>0</td>\n",
              "    </tr>\n",
              "    <tr>\n",
              "      <th>1</th>\n",
              "      <td>1985.0</td>\n",
              "      <td>71.0</td>\n",
              "      <td>21.0</td>\n",
              "      <td>7.5</td>\n",
              "      <td>24.0</td>\n",
              "      <td>1</td>\n",
              "      <td>0</td>\n",
              "      <td>0</td>\n",
              "      <td>0</td>\n",
              "      <td>0</td>\n",
              "      <td>...</td>\n",
              "      <td>0</td>\n",
              "      <td>0</td>\n",
              "      <td>0</td>\n",
              "      <td>0</td>\n",
              "      <td>0</td>\n",
              "      <td>0</td>\n",
              "      <td>0</td>\n",
              "      <td>0</td>\n",
              "      <td>0</td>\n",
              "      <td>1</td>\n",
              "    </tr>\n",
              "    <tr>\n",
              "      <th>2</th>\n",
              "      <td>2008.0</td>\n",
              "      <td>82.0</td>\n",
              "      <td>73.0</td>\n",
              "      <td>8.3</td>\n",
              "      <td>709.0</td>\n",
              "      <td>1</td>\n",
              "      <td>0</td>\n",
              "      <td>0</td>\n",
              "      <td>0</td>\n",
              "      <td>0</td>\n",
              "      <td>...</td>\n",
              "      <td>0</td>\n",
              "      <td>0</td>\n",
              "      <td>1</td>\n",
              "      <td>0</td>\n",
              "      <td>0</td>\n",
              "      <td>0</td>\n",
              "      <td>0</td>\n",
              "      <td>0</td>\n",
              "      <td>0</td>\n",
              "      <td>0</td>\n",
              "    </tr>\n",
              "    <tr>\n",
              "      <th>3</th>\n",
              "      <td>2009.0</td>\n",
              "      <td>80.0</td>\n",
              "      <td>73.0</td>\n",
              "      <td>8.0</td>\n",
              "      <td>192.0</td>\n",
              "      <td>1</td>\n",
              "      <td>0</td>\n",
              "      <td>0</td>\n",
              "      <td>0</td>\n",
              "      <td>0</td>\n",
              "      <td>...</td>\n",
              "      <td>0</td>\n",
              "      <td>0</td>\n",
              "      <td>1</td>\n",
              "      <td>0</td>\n",
              "      <td>0</td>\n",
              "      <td>0</td>\n",
              "      <td>0</td>\n",
              "      <td>0</td>\n",
              "      <td>0</td>\n",
              "      <td>0</td>\n",
              "    </tr>\n",
              "    <tr>\n",
              "      <th>4</th>\n",
              "      <td>1996.0</td>\n",
              "      <td>71.0</td>\n",
              "      <td>21.0</td>\n",
              "      <td>7.5</td>\n",
              "      <td>24.0</td>\n",
              "      <td>1</td>\n",
              "      <td>0</td>\n",
              "      <td>0</td>\n",
              "      <td>0</td>\n",
              "      <td>0</td>\n",
              "      <td>...</td>\n",
              "      <td>0</td>\n",
              "      <td>0</td>\n",
              "      <td>0</td>\n",
              "      <td>0</td>\n",
              "      <td>0</td>\n",
              "      <td>0</td>\n",
              "      <td>0</td>\n",
              "      <td>0</td>\n",
              "      <td>0</td>\n",
              "      <td>1</td>\n",
              "    </tr>\n",
              "    <tr>\n",
              "      <th>...</th>\n",
              "      <td>...</td>\n",
              "      <td>...</td>\n",
              "      <td>...</td>\n",
              "      <td>...</td>\n",
              "      <td>...</td>\n",
              "      <td>...</td>\n",
              "      <td>...</td>\n",
              "      <td>...</td>\n",
              "      <td>...</td>\n",
              "      <td>...</td>\n",
              "      <td>...</td>\n",
              "      <td>...</td>\n",
              "      <td>...</td>\n",
              "      <td>...</td>\n",
              "      <td>...</td>\n",
              "      <td>...</td>\n",
              "      <td>...</td>\n",
              "      <td>...</td>\n",
              "      <td>...</td>\n",
              "      <td>...</td>\n",
              "      <td>...</td>\n",
              "    </tr>\n",
              "    <tr>\n",
              "      <th>16714</th>\n",
              "      <td>2016.0</td>\n",
              "      <td>71.0</td>\n",
              "      <td>21.0</td>\n",
              "      <td>7.5</td>\n",
              "      <td>24.0</td>\n",
              "      <td>0</td>\n",
              "      <td>0</td>\n",
              "      <td>0</td>\n",
              "      <td>0</td>\n",
              "      <td>0</td>\n",
              "      <td>...</td>\n",
              "      <td>0</td>\n",
              "      <td>0</td>\n",
              "      <td>0</td>\n",
              "      <td>0</td>\n",
              "      <td>0</td>\n",
              "      <td>0</td>\n",
              "      <td>0</td>\n",
              "      <td>0</td>\n",
              "      <td>0</td>\n",
              "      <td>1</td>\n",
              "    </tr>\n",
              "    <tr>\n",
              "      <th>16715</th>\n",
              "      <td>2006.0</td>\n",
              "      <td>71.0</td>\n",
              "      <td>21.0</td>\n",
              "      <td>7.5</td>\n",
              "      <td>24.0</td>\n",
              "      <td>0</td>\n",
              "      <td>0</td>\n",
              "      <td>0</td>\n",
              "      <td>0</td>\n",
              "      <td>0</td>\n",
              "      <td>...</td>\n",
              "      <td>0</td>\n",
              "      <td>0</td>\n",
              "      <td>0</td>\n",
              "      <td>0</td>\n",
              "      <td>0</td>\n",
              "      <td>0</td>\n",
              "      <td>0</td>\n",
              "      <td>0</td>\n",
              "      <td>0</td>\n",
              "      <td>1</td>\n",
              "    </tr>\n",
              "    <tr>\n",
              "      <th>16716</th>\n",
              "      <td>2016.0</td>\n",
              "      <td>71.0</td>\n",
              "      <td>21.0</td>\n",
              "      <td>7.5</td>\n",
              "      <td>24.0</td>\n",
              "      <td>0</td>\n",
              "      <td>0</td>\n",
              "      <td>0</td>\n",
              "      <td>0</td>\n",
              "      <td>0</td>\n",
              "      <td>...</td>\n",
              "      <td>0</td>\n",
              "      <td>0</td>\n",
              "      <td>0</td>\n",
              "      <td>0</td>\n",
              "      <td>0</td>\n",
              "      <td>0</td>\n",
              "      <td>0</td>\n",
              "      <td>0</td>\n",
              "      <td>0</td>\n",
              "      <td>1</td>\n",
              "    </tr>\n",
              "    <tr>\n",
              "      <th>16717</th>\n",
              "      <td>2003.0</td>\n",
              "      <td>71.0</td>\n",
              "      <td>21.0</td>\n",
              "      <td>7.5</td>\n",
              "      <td>24.0</td>\n",
              "      <td>0</td>\n",
              "      <td>0</td>\n",
              "      <td>0</td>\n",
              "      <td>0</td>\n",
              "      <td>0</td>\n",
              "      <td>...</td>\n",
              "      <td>0</td>\n",
              "      <td>0</td>\n",
              "      <td>0</td>\n",
              "      <td>0</td>\n",
              "      <td>0</td>\n",
              "      <td>0</td>\n",
              "      <td>0</td>\n",
              "      <td>0</td>\n",
              "      <td>0</td>\n",
              "      <td>1</td>\n",
              "    </tr>\n",
              "    <tr>\n",
              "      <th>16718</th>\n",
              "      <td>2016.0</td>\n",
              "      <td>71.0</td>\n",
              "      <td>21.0</td>\n",
              "      <td>7.5</td>\n",
              "      <td>24.0</td>\n",
              "      <td>0</td>\n",
              "      <td>0</td>\n",
              "      <td>0</td>\n",
              "      <td>0</td>\n",
              "      <td>0</td>\n",
              "      <td>...</td>\n",
              "      <td>0</td>\n",
              "      <td>0</td>\n",
              "      <td>0</td>\n",
              "      <td>0</td>\n",
              "      <td>0</td>\n",
              "      <td>0</td>\n",
              "      <td>0</td>\n",
              "      <td>0</td>\n",
              "      <td>0</td>\n",
              "      <td>1</td>\n",
              "    </tr>\n",
              "  </tbody>\n",
              "</table>\n",
              "<p>16663 rows × 338 columns</p>\n",
              "</div>\n",
              "    <div class=\"colab-df-buttons\">\n",
              "\n",
              "  <div class=\"colab-df-container\">\n",
              "    <button class=\"colab-df-convert\" onclick=\"convertToInteractive('df-eabf6d52-8389-40a7-888d-736e010b9e78')\"\n",
              "            title=\"Convert this dataframe to an interactive table.\"\n",
              "            style=\"display:none;\">\n",
              "\n",
              "  <svg xmlns=\"http://www.w3.org/2000/svg\" height=\"24px\" viewBox=\"0 -960 960 960\">\n",
              "    <path d=\"M120-120v-720h720v720H120Zm60-500h600v-160H180v160Zm220 220h160v-160H400v160Zm0 220h160v-160H400v160ZM180-400h160v-160H180v160Zm440 0h160v-160H620v160ZM180-180h160v-160H180v160Zm440 0h160v-160H620v160Z\"/>\n",
              "  </svg>\n",
              "    </button>\n",
              "\n",
              "  <style>\n",
              "    .colab-df-container {\n",
              "      display:flex;\n",
              "      gap: 12px;\n",
              "    }\n",
              "\n",
              "    .colab-df-convert {\n",
              "      background-color: #E8F0FE;\n",
              "      border: none;\n",
              "      border-radius: 50%;\n",
              "      cursor: pointer;\n",
              "      display: none;\n",
              "      fill: #1967D2;\n",
              "      height: 32px;\n",
              "      padding: 0 0 0 0;\n",
              "      width: 32px;\n",
              "    }\n",
              "\n",
              "    .colab-df-convert:hover {\n",
              "      background-color: #E2EBFA;\n",
              "      box-shadow: 0px 1px 2px rgba(60, 64, 67, 0.3), 0px 1px 3px 1px rgba(60, 64, 67, 0.15);\n",
              "      fill: #174EA6;\n",
              "    }\n",
              "\n",
              "    .colab-df-buttons div {\n",
              "      margin-bottom: 4px;\n",
              "    }\n",
              "\n",
              "    [theme=dark] .colab-df-convert {\n",
              "      background-color: #3B4455;\n",
              "      fill: #D2E3FC;\n",
              "    }\n",
              "\n",
              "    [theme=dark] .colab-df-convert:hover {\n",
              "      background-color: #434B5C;\n",
              "      box-shadow: 0px 1px 3px 1px rgba(0, 0, 0, 0.15);\n",
              "      filter: drop-shadow(0px 1px 2px rgba(0, 0, 0, 0.3));\n",
              "      fill: #FFFFFF;\n",
              "    }\n",
              "  </style>\n",
              "\n",
              "    <script>\n",
              "      const buttonEl =\n",
              "        document.querySelector('#df-eabf6d52-8389-40a7-888d-736e010b9e78 button.colab-df-convert');\n",
              "      buttonEl.style.display =\n",
              "        google.colab.kernel.accessAllowed ? 'block' : 'none';\n",
              "\n",
              "      async function convertToInteractive(key) {\n",
              "        const element = document.querySelector('#df-eabf6d52-8389-40a7-888d-736e010b9e78');\n",
              "        const dataTable =\n",
              "          await google.colab.kernel.invokeFunction('convertToInteractive',\n",
              "                                                    [key], {});\n",
              "        if (!dataTable) return;\n",
              "\n",
              "        const docLinkHtml = 'Like what you see? Visit the ' +\n",
              "          '<a target=\"_blank\" href=https://colab.research.google.com/notebooks/data_table.ipynb>data table notebook</a>'\n",
              "          + ' to learn more about interactive tables.';\n",
              "        element.innerHTML = '';\n",
              "        dataTable['output_type'] = 'display_data';\n",
              "        await google.colab.output.renderOutput(dataTable, element);\n",
              "        const docLink = document.createElement('div');\n",
              "        docLink.innerHTML = docLinkHtml;\n",
              "        element.appendChild(docLink);\n",
              "      }\n",
              "    </script>\n",
              "  </div>\n",
              "\n",
              "\n",
              "<div id=\"df-bd831393-3a28-45d6-bfe4-14e7dd98a88c\">\n",
              "  <button class=\"colab-df-quickchart\" onclick=\"quickchart('df-bd831393-3a28-45d6-bfe4-14e7dd98a88c')\"\n",
              "            title=\"Suggest charts\"\n",
              "            style=\"display:none;\">\n",
              "\n",
              "<svg xmlns=\"http://www.w3.org/2000/svg\" height=\"24px\"viewBox=\"0 0 24 24\"\n",
              "     width=\"24px\">\n",
              "    <g>\n",
              "        <path d=\"M19 3H5c-1.1 0-2 .9-2 2v14c0 1.1.9 2 2 2h14c1.1 0 2-.9 2-2V5c0-1.1-.9-2-2-2zM9 17H7v-7h2v7zm4 0h-2V7h2v10zm4 0h-2v-4h2v4z\"/>\n",
              "    </g>\n",
              "</svg>\n",
              "  </button>\n",
              "\n",
              "<style>\n",
              "  .colab-df-quickchart {\n",
              "      --bg-color: #E8F0FE;\n",
              "      --fill-color: #1967D2;\n",
              "      --hover-bg-color: #E2EBFA;\n",
              "      --hover-fill-color: #174EA6;\n",
              "      --disabled-fill-color: #AAA;\n",
              "      --disabled-bg-color: #DDD;\n",
              "  }\n",
              "\n",
              "  [theme=dark] .colab-df-quickchart {\n",
              "      --bg-color: #3B4455;\n",
              "      --fill-color: #D2E3FC;\n",
              "      --hover-bg-color: #434B5C;\n",
              "      --hover-fill-color: #FFFFFF;\n",
              "      --disabled-bg-color: #3B4455;\n",
              "      --disabled-fill-color: #666;\n",
              "  }\n",
              "\n",
              "  .colab-df-quickchart {\n",
              "    background-color: var(--bg-color);\n",
              "    border: none;\n",
              "    border-radius: 50%;\n",
              "    cursor: pointer;\n",
              "    display: none;\n",
              "    fill: var(--fill-color);\n",
              "    height: 32px;\n",
              "    padding: 0;\n",
              "    width: 32px;\n",
              "  }\n",
              "\n",
              "  .colab-df-quickchart:hover {\n",
              "    background-color: var(--hover-bg-color);\n",
              "    box-shadow: 0 1px 2px rgba(60, 64, 67, 0.3), 0 1px 3px 1px rgba(60, 64, 67, 0.15);\n",
              "    fill: var(--button-hover-fill-color);\n",
              "  }\n",
              "\n",
              "  .colab-df-quickchart-complete:disabled,\n",
              "  .colab-df-quickchart-complete:disabled:hover {\n",
              "    background-color: var(--disabled-bg-color);\n",
              "    fill: var(--disabled-fill-color);\n",
              "    box-shadow: none;\n",
              "  }\n",
              "\n",
              "  .colab-df-spinner {\n",
              "    border: 2px solid var(--fill-color);\n",
              "    border-color: transparent;\n",
              "    border-bottom-color: var(--fill-color);\n",
              "    animation:\n",
              "      spin 1s steps(1) infinite;\n",
              "  }\n",
              "\n",
              "  @keyframes spin {\n",
              "    0% {\n",
              "      border-color: transparent;\n",
              "      border-bottom-color: var(--fill-color);\n",
              "      border-left-color: var(--fill-color);\n",
              "    }\n",
              "    20% {\n",
              "      border-color: transparent;\n",
              "      border-left-color: var(--fill-color);\n",
              "      border-top-color: var(--fill-color);\n",
              "    }\n",
              "    30% {\n",
              "      border-color: transparent;\n",
              "      border-left-color: var(--fill-color);\n",
              "      border-top-color: var(--fill-color);\n",
              "      border-right-color: var(--fill-color);\n",
              "    }\n",
              "    40% {\n",
              "      border-color: transparent;\n",
              "      border-right-color: var(--fill-color);\n",
              "      border-top-color: var(--fill-color);\n",
              "    }\n",
              "    60% {\n",
              "      border-color: transparent;\n",
              "      border-right-color: var(--fill-color);\n",
              "    }\n",
              "    80% {\n",
              "      border-color: transparent;\n",
              "      border-right-color: var(--fill-color);\n",
              "      border-bottom-color: var(--fill-color);\n",
              "    }\n",
              "    90% {\n",
              "      border-color: transparent;\n",
              "      border-bottom-color: var(--fill-color);\n",
              "    }\n",
              "  }\n",
              "</style>\n",
              "\n",
              "  <script>\n",
              "    async function quickchart(key) {\n",
              "      const quickchartButtonEl =\n",
              "        document.querySelector('#' + key + ' button');\n",
              "      quickchartButtonEl.disabled = true;  // To prevent multiple clicks.\n",
              "      quickchartButtonEl.classList.add('colab-df-spinner');\n",
              "      try {\n",
              "        const charts = await google.colab.kernel.invokeFunction(\n",
              "            'suggestCharts', [key], {});\n",
              "      } catch (error) {\n",
              "        console.error('Error during call to suggestCharts:', error);\n",
              "      }\n",
              "      quickchartButtonEl.classList.remove('colab-df-spinner');\n",
              "      quickchartButtonEl.classList.add('colab-df-quickchart-complete');\n",
              "    }\n",
              "    (() => {\n",
              "      let quickchartButtonEl =\n",
              "        document.querySelector('#df-bd831393-3a28-45d6-bfe4-14e7dd98a88c button');\n",
              "      quickchartButtonEl.style.display =\n",
              "        google.colab.kernel.accessAllowed ? 'block' : 'none';\n",
              "    })();\n",
              "  </script>\n",
              "</div>\n",
              "    </div>\n",
              "  </div>\n"
            ]
          },
          "metadata": {},
          "execution_count": 102
        }
      ]
    },
    {
      "cell_type": "markdown",
      "source": [
        "## Splitting to Train / Test"
      ],
      "metadata": {
        "id": "8fyGxgBuYH4a"
      }
    },
    {
      "cell_type": "code",
      "source": [
        "y= df_selected[\"Hit\"]\n",
        "x= df_selected.drop(\"Hit\",axis=1)"
      ],
      "metadata": {
        "id": "_38mYBUe947Y",
        "execution": {
          "iopub.status.busy": "2023-12-14T15:05:03.234781Z",
          "iopub.execute_input": "2023-12-14T15:05:03.235097Z",
          "iopub.status.idle": "2023-12-14T15:05:03.243707Z",
          "shell.execute_reply.started": "2023-12-14T15:05:03.235070Z",
          "shell.execute_reply": "2023-12-14T15:05:03.242443Z"
        },
        "trusted": true
      },
      "execution_count": null,
      "outputs": []
    },
    {
      "cell_type": "markdown",
      "source": [
        "**70% training / 30% test**"
      ],
      "metadata": {
        "id": "MP8S6xX-YH4a"
      }
    },
    {
      "cell_type": "code",
      "source": [
        "Xtrain, Xtest, ytrain, ytest = train_test_split(x, y, test_size=0.3, random_state=0)\n"
      ],
      "metadata": {
        "id": "CMoM2uuG3_bP",
        "execution": {
          "iopub.status.busy": "2023-12-14T15:05:03.244881Z",
          "iopub.execute_input": "2023-12-14T15:05:03.245196Z",
          "iopub.status.idle": "2023-12-14T15:05:03.265241Z",
          "shell.execute_reply.started": "2023-12-14T15:05:03.245168Z",
          "shell.execute_reply": "2023-12-14T15:05:03.264152Z"
        },
        "trusted": true
      },
      "execution_count": null,
      "outputs": []
    },
    {
      "cell_type": "code",
      "source": [
        "Model_CrossValidation_Scores = dict()\n"
      ],
      "metadata": {
        "id": "3dF-0Rzf4W6b",
        "execution": {
          "iopub.status.busy": "2023-12-14T15:05:03.266619Z",
          "iopub.execute_input": "2023-12-14T15:05:03.266983Z",
          "iopub.status.idle": "2023-12-14T15:05:03.271673Z",
          "shell.execute_reply.started": "2023-12-14T15:05:03.266954Z",
          "shell.execute_reply": "2023-12-14T15:05:03.270428Z"
        },
        "trusted": true
      },
      "execution_count": null,
      "outputs": []
    },
    {
      "cell_type": "markdown",
      "source": [
        "## Random Forest Classifier"
      ],
      "metadata": {
        "id": "2Ub5HBUEYH4b"
      }
    },
    {
      "cell_type": "markdown",
      "source": [
        "### optimising hyper parameters"
      ],
      "metadata": {
        "id": "R6BFouOHYH4b"
      }
    },
    {
      "cell_type": "code",
      "source": [
        "n_features = x.shape[1]\n",
        "sqrt = int (math.sqrt(n_features)) #la racine\n",
        "log = int (math.log(n_features) ) # le log\n",
        "criterions=[\"gini\", \"entropy\", \"log_loss\"] #critère\n",
        "n_estimators = [1,10,100,200] #nombre d'arbres\n",
        "max_features = [log,sqrt,2*log,2*sqrt] # le nombre de features dans chaque arbre"
      ],
      "metadata": {
        "execution": {
          "iopub.status.busy": "2023-12-14T15:05:03.273340Z",
          "iopub.execute_input": "2023-12-14T15:05:03.273672Z",
          "iopub.status.idle": "2023-12-14T15:05:03.283369Z",
          "shell.execute_reply.started": "2023-12-14T15:05:03.273644Z",
          "shell.execute_reply": "2023-12-14T15:05:03.282243Z"
        },
        "trusted": true,
        "id": "9ZRAys6nYH4b"
      },
      "execution_count": null,
      "outputs": []
    },
    {
      "cell_type": "code",
      "source": [
        "max_features"
      ],
      "metadata": {
        "execution": {
          "iopub.status.busy": "2023-12-14T15:05:03.284876Z",
          "iopub.execute_input": "2023-12-14T15:05:03.285184Z",
          "iopub.status.idle": "2023-12-14T15:05:03.296692Z",
          "shell.execute_reply.started": "2023-12-14T15:05:03.285157Z",
          "shell.execute_reply": "2023-12-14T15:05:03.295606Z"
        },
        "trusted": true,
        "id": "idoymTZfYH4b",
        "outputId": "0f02ea94-d67d-483f-b1a9-eb1ece70fe7a",
        "colab": {
          "base_uri": "https://localhost:8080/"
        }
      },
      "execution_count": null,
      "outputs": [
        {
          "output_type": "execute_result",
          "data": {
            "text/plain": [
              "[5, 18, 10, 36]"
            ]
          },
          "metadata": {},
          "execution_count": 107
        }
      ]
    },
    {
      "cell_type": "code",
      "source": [
        "def best_parameters_RFC (model,Xtrain,Ytrain,criterions,n_estimators,max_features):\n",
        "  kfold = KFold(n_splits=5, shuffle=True, random_state=42)\n",
        "  best_so_far = 0\n",
        "\n",
        "  best_n_estimator=None\n",
        "  best_max_features = None\n",
        "  best_criterion=None\n",
        "\n",
        "  for n in n_estimators:\n",
        "    for f in max_features:\n",
        "      for c in criterions:\n",
        "          scores = cross_val_score(model(n,f,c), Xtrain, ytrain, cv=kfold,scoring='accuracy',n_jobs=-1)\n",
        "          print(\"Scores de validation croisée pour n,f,c:\",n,f,c,\"est: \", scores)\n",
        "          average_score=scores.mean()\n",
        "          print(\"average Score de validation croisée pour n,f,c:\",n,f,c,\"est: \", average_score)\n",
        "          if (average_score > best_so_far):\n",
        "            best_so_far=average_score\n",
        "            best_n_estimator=n\n",
        "            best_max_features = f\n",
        "            best_criterion=c\n",
        "  return best_n_estimator,best_max_features,best_criterion"
      ],
      "metadata": {
        "execution": {
          "iopub.status.busy": "2023-12-14T15:05:03.298093Z",
          "iopub.execute_input": "2023-12-14T15:05:03.298432Z",
          "iopub.status.idle": "2023-12-14T15:05:03.308262Z",
          "shell.execute_reply.started": "2023-12-14T15:05:03.298401Z",
          "shell.execute_reply": "2023-12-14T15:05:03.306944Z"
        },
        "trusted": true,
        "id": "p6PiPitGYH4c"
      },
      "execution_count": null,
      "outputs": []
    },
    {
      "cell_type": "code",
      "source": [
        "rfc_without_parameters = lambda n,f,c: RandomForestClassifier(n_estimators=n,max_features=f,criterion=c,random_state=0).fit(Xtrain, ytrain)"
      ],
      "metadata": {
        "id": "KQ2x3laV4b1l",
        "execution": {
          "iopub.status.busy": "2023-12-14T15:05:03.309844Z",
          "iopub.execute_input": "2023-12-14T15:05:03.310296Z",
          "iopub.status.idle": "2023-12-14T15:05:03.320632Z",
          "shell.execute_reply.started": "2023-12-14T15:05:03.310265Z",
          "shell.execute_reply": "2023-12-14T15:05:03.319419Z"
        },
        "trusted": true
      },
      "execution_count": null,
      "outputs": []
    },
    {
      "cell_type": "code",
      "source": [
        "best_n_estimator,best_max_features,best_criterion = best_parameters_RFC(rfc_without_parameters,Xtrain,ytrain,criterions,n_estimators,max_features)"
      ],
      "metadata": {
        "execution": {
          "iopub.status.busy": "2023-12-14T15:05:03.322175Z",
          "iopub.execute_input": "2023-12-14T15:05:03.323088Z",
          "iopub.status.idle": "2023-12-14T15:11:21.318594Z",
          "shell.execute_reply.started": "2023-12-14T15:05:03.323055Z",
          "shell.execute_reply": "2023-12-14T15:11:21.317273Z"
        },
        "trusted": true,
        "id": "7Rw3xHknYH4c",
        "outputId": "a21b0928-5b9e-436e-e5ed-a938141eb5cd",
        "colab": {
          "base_uri": "https://localhost:8080/"
        }
      },
      "execution_count": null,
      "outputs": [
        {
          "output_type": "stream",
          "name": "stdout",
          "text": [
            "Scores de validation croisée pour n,f,c: 1 5 gini est:  [0.86540934 0.85597943 0.85426489 0.86369481 0.8567753 ]\n",
            "average Score de validation croisée pour n,f,c: 1 5 gini est:  0.8592247557051154\n",
            "Scores de validation croisée pour n,f,c: 1 5 entropy est:  [0.84869267 0.84783541 0.85812259 0.86155165 0.86363636]\n",
            "average Score de validation croisée pour n,f,c: 1 5 entropy est:  0.8559677356505475\n",
            "Scores de validation croisée pour n,f,c: 1 5 log_loss est:  [0.84869267 0.84783541 0.85812259 0.86155165 0.86363636]\n",
            "average Score de validation croisée pour n,f,c: 1 5 log_loss est:  0.8559677356505475\n",
            "Scores de validation croisée pour n,f,c: 1 18 gini est:  [0.84997857 0.85555079 0.85469353 0.86026575 0.86149228]\n",
            "average Score de validation croisée pour n,f,c: 1 18 gini est:  0.8563961845076127\n",
            "Scores de validation croisée pour n,f,c: 1 18 entropy est:  [0.85469353 0.85426489 0.86112302 0.86798114 0.8542024 ]\n",
            "average Score de validation croisée pour n,f,c: 1 18 entropy est:  0.8584529963481675\n",
            "Scores de validation croisée pour n,f,c: 1 18 log_loss est:  [0.85469353 0.85426489 0.86112302 0.86798114 0.8542024 ]\n",
            "average Score de validation croisée pour n,f,c: 1 18 log_loss est:  0.8584529963481675\n",
            "Scores de validation croisée pour n,f,c: 1 10 gini est:  [0.86583798 0.86326618 0.86155165 0.86155165 0.85463122]\n",
            "average Score de validation croisée pour n,f,c: 1 10 gini est:  0.8613677352094161\n",
            "Scores de validation croisée pour n,f,c: 1 10 entropy est:  [0.86369481 0.852979   0.85897985 0.85126447 0.8567753 ]\n",
            "average Score de validation croisée pour n,f,c: 1 10 entropy est:  0.8567386862666242\n",
            "Scores de validation croisée pour n,f,c: 1 10 log_loss est:  [0.86369481 0.852979   0.85897985 0.85126447 0.8567753 ]\n",
            "average Score de validation croisée pour n,f,c: 1 10 log_loss est:  0.8567386862666242\n",
            "Scores de validation croisée pour n,f,c: 1 36 gini est:  [0.85469353 0.84954994 0.86926704 0.86669524 0.86234991]\n",
            "average Score de validation croisée pour n,f,c: 1 36 gini est:  0.8605111315828751\n",
            "Scores de validation croisée pour n,f,c: 1 36 entropy est:  [0.8516931  0.85383626 0.86369481 0.86755251 0.86020583]\n",
            "average Score de validation croisée pour n,f,c: 1 36 entropy est:  0.8593965028574285\n",
            "Scores de validation croisée pour n,f,c: 1 36 log_loss est:  [0.8516931  0.85383626 0.86369481 0.86755251 0.86020583]\n",
            "average Score de validation croisée pour n,f,c: 1 36 log_loss est:  0.8593965028574285\n",
            "Scores de validation croisée pour n,f,c: 10 5 gini est:  [0.89541363 0.88855551 0.894985   0.90184312 0.90523156]\n",
            "average Score de validation croisée pour n,f,c: 10 5 gini est:  0.8972057635285806\n",
            "Scores de validation croisée pour n,f,c: 10 5 entropy est:  [0.89284183 0.89284183 0.90184312 0.89798543 0.91037736]\n",
            "average Score de validation croisée pour n,f,c: 10 5 entropy est:  0.8991779149042856\n",
            "Scores de validation croisée pour n,f,c: 10 5 log_loss est:  [0.89284183 0.89284183 0.90184312 0.89798543 0.91037736]\n",
            "average Score de validation croisée pour n,f,c: 10 5 log_loss est:  0.8991779149042856\n",
            "Scores de validation croisée pour n,f,c: 10 18 gini est:  [0.89455637 0.8924132  0.90012859 0.90527218 0.90651801]\n",
            "average Score de validation croisée pour n,f,c: 10 18 gini est:  0.8997776697822795\n",
            "Scores de validation croisée pour n,f,c: 10 18 entropy est:  [0.89069867 0.89455637 0.90055722 0.90141449 0.91080617]\n",
            "average Score de validation croisée pour n,f,c: 10 18 entropy est:  0.8996065843270431\n",
            "Scores de validation croisée pour n,f,c: 10 18 log_loss est:  [0.89069867 0.89455637 0.90055722 0.90141449 0.91080617]\n",
            "average Score de validation croisée pour n,f,c: 10 18 log_loss est:  0.8996065843270431\n",
            "Scores de validation croisée pour n,f,c: 10 10 gini est:  [0.8962709  0.89327047 0.89798543 0.90312902 0.90823328]\n",
            "average Score de validation croisée pour n,f,c: 10 10 gini est:  0.8997778168260744\n",
            "Scores de validation croisée pour n,f,c: 10 10 entropy est:  [0.8962709  0.894985   0.90012859 0.89541363 0.90780446]\n",
            "average Score de validation croisée pour n,f,c: 10 10 entropy est:  0.8989205147415079\n",
            "Scores de validation croisée pour n,f,c: 10 10 log_loss est:  [0.8962709  0.894985   0.90012859 0.89541363 0.90780446]\n",
            "average Score de validation croisée pour n,f,c: 10 10 log_loss est:  0.8989205147415079\n",
            "Scores de validation croisée pour n,f,c: 10 36 gini est:  [0.89669953 0.89069867 0.90312902 0.90184312 0.90694683]\n",
            "average Score de validation croisée pour n,f,c: 10 36 gini est:  0.8998634330755901\n",
            "Scores de validation croisée pour n,f,c: 10 36 entropy est:  [0.89927132 0.8911273  0.89969996 0.89455637 0.90523156]\n",
            "average Score de validation croisée pour n,f,c: 10 36 entropy est:  0.8979773023198364\n",
            "Scores de validation croisée pour n,f,c: 10 36 log_loss est:  [0.89927132 0.8911273  0.89969996 0.89455637 0.90523156]\n",
            "average Score de validation croisée pour n,f,c: 10 36 log_loss est:  0.8979773023198364\n",
            "Scores de validation croisée pour n,f,c: 100 5 gini est:  [0.89755679 0.90098586 0.90355765 0.90184312 0.91123499]\n",
            "average Score de validation croisée pour n,f,c: 100 5 gini est:  0.9030356823824623\n",
            "Scores de validation croisée pour n,f,c: 100 5 entropy est:  [0.89841406 0.89969996 0.90398628 0.90270039 0.91166381]\n",
            "average Score de validation croisée pour n,f,c: 100 5 entropy est:  0.9032928987404963\n",
            "Scores de validation croisée pour n,f,c: 100 5 log_loss est:  [0.89841406 0.89969996 0.90398628 0.90270039 0.91166381]\n",
            "average Score de validation croisée pour n,f,c: 100 5 log_loss est:  0.9032928987404963\n",
            "Scores de validation croisée pour n,f,c: 100 18 gini est:  [0.90270039 0.90355765 0.90441492 0.90527218 0.91209262]\n",
            "average Score de validation croisée pour n,f,c: 100 18 gini est:  0.9056075518752127\n",
            "Scores de validation croisée pour n,f,c: 100 18 entropy est:  [0.89927132 0.89927132 0.90784398 0.90527218 0.91295026]\n",
            "average Score de validation croisée pour n,f,c: 100 18 entropy est:  0.904921813138216\n",
            "Scores de validation croisée pour n,f,c: 100 18 log_loss est:  [0.89927132 0.89927132 0.90784398 0.90527218 0.91295026]\n",
            "average Score de validation croisée pour n,f,c: 100 18 log_loss est:  0.904921813138216\n",
            "Scores de validation croisée pour n,f,c: 100 10 gini est:  [0.89798543 0.90184312 0.90012859 0.90441492 0.91423671]\n",
            "average Score de validation croisée pour n,f,c: 100 10 gini est:  0.9037217519679974\n",
            "Scores de validation croisée pour n,f,c: 100 10 entropy est:  [0.89884269 0.89798543 0.90312902 0.90398628 0.91166381]\n",
            "average Score de validation croisée pour n,f,c: 100 10 entropy est:  0.9031214456757729\n",
            "Scores de validation croisée pour n,f,c: 100 10 log_loss est:  [0.89884269 0.89798543 0.90312902 0.90398628 0.91166381]\n",
            "average Score de validation croisée pour n,f,c: 100 10 log_loss est:  0.9031214456757729\n",
            "Scores de validation croisée pour n,f,c: 100 36 gini est:  [0.90141449 0.90184312 0.90827261 0.90698671 0.91209262]\n",
            "average Score de validation croisée pour n,f,c: 100 36 gini est:  0.9061219110693834\n",
            "Scores de validation croisée pour n,f,c: 100 36 entropy est:  [0.90484355 0.90098586 0.90912988 0.90784398 0.90951973]\n",
            "average Score de validation croisée pour n,f,c: 100 36 entropy est:  0.9064645966331382\n",
            "Scores de validation croisée pour n,f,c: 100 36 log_loss est:  [0.90484355 0.90098586 0.90912988 0.90784398 0.90951973]\n",
            "average Score de validation croisée pour n,f,c: 100 36 log_loss est:  0.9064645966331382\n",
            "Scores de validation croisée pour n,f,c: 200 5 gini est:  [0.89584226 0.89927132 0.90527218 0.89969996 0.91123499]\n",
            "average Score de validation croisée pour n,f,c: 200 5 gini est:  0.9022641435912065\n",
            "Scores de validation croisée pour n,f,c: 200 5 entropy est:  [0.89712816 0.89969996 0.90698671 0.90141449 0.91209262]\n",
            "average Score de validation croisée pour n,f,c: 200 5 entropy est:  0.9034643885661685\n",
            "Scores de validation croisée pour n,f,c: 200 5 log_loss est:  [0.89712816 0.89969996 0.90698671 0.90141449 0.91209262]\n",
            "average Score de validation croisée pour n,f,c: 200 5 log_loss est:  0.9034643885661685\n",
            "Scores de validation croisée pour n,f,c: 200 18 gini est:  [0.90184312 0.90398628 0.90570081 0.90527218 0.91380789]\n",
            "average Score de validation croisée pour n,f,c: 200 18 gini est:  0.9061220581131781\n",
            "Scores de validation croisée pour n,f,c: 200 18 entropy est:  [0.89969996 0.90098586 0.90698671 0.90741535 0.91380789]\n",
            "average Score de validation croisée pour n,f,c: 200 18 entropy est:  0.905779151983731\n",
            "Scores de validation croisée pour n,f,c: 200 18 log_loss est:  [0.89969996 0.90098586 0.90698671 0.90741535 0.91380789]\n",
            "average Score de validation croisée pour n,f,c: 200 18 log_loss est:  0.905779151983731\n",
            "Scores de validation croisée pour n,f,c: 200 10 gini est:  [0.89927132 0.90141449 0.90441492 0.90484355 0.91252144]\n",
            "average Score de validation croisée pour n,f,c: 200 10 gini est:  0.9044931437154584\n",
            "Scores de validation croisée pour n,f,c: 200 10 entropy est:  [0.89927132 0.89884269 0.90441492 0.90570081 0.91123499]\n",
            "average Score de validation croisée pour n,f,c: 200 10 entropy est:  0.9038929477060801\n",
            "Scores de validation croisée pour n,f,c: 200 10 log_loss est:  [0.89927132 0.89884269 0.90441492 0.90570081 0.91123499]\n",
            "average Score de validation croisée pour n,f,c: 200 10 log_loss est:  0.9038929477060801\n",
            "Scores de validation croisée pour n,f,c: 200 36 gini est:  [0.90270039 0.90312902 0.90912988 0.90698671 0.91123499]\n",
            "average Score de validation croisée pour n,f,c: 200 36 gini est:  0.9066361967416565\n",
            "Scores de validation croisée pour n,f,c: 200 36 entropy est:  [0.90655808 0.90270039 0.91084441 0.90741535 0.91080617]\n",
            "average Score de validation croisée pour n,f,c: 200 36 entropy est:  0.9076648783690491\n",
            "Scores de validation croisée pour n,f,c: 200 36 log_loss est:  [0.90655808 0.90270039 0.91084441 0.90741535 0.91080617]\n",
            "average Score de validation croisée pour n,f,c: 200 36 log_loss est:  0.9076648783690491\n"
          ]
        }
      ]
    },
    {
      "cell_type": "markdown",
      "source": [
        "optimising hyper-parameters for Random Forest"
      ],
      "metadata": {
        "id": "Dck5c1JJYH4c"
      }
    },
    {
      "cell_type": "code",
      "source": [
        "best_n_estimator,best_max_features,best_criterion"
      ],
      "metadata": {
        "execution": {
          "iopub.status.busy": "2023-12-14T15:11:21.321611Z",
          "iopub.execute_input": "2023-12-14T15:11:21.322667Z",
          "iopub.status.idle": "2023-12-14T15:11:21.329851Z",
          "shell.execute_reply.started": "2023-12-14T15:11:21.322628Z",
          "shell.execute_reply": "2023-12-14T15:11:21.328566Z"
        },
        "trusted": true,
        "id": "rVWDKEY1YH4d",
        "outputId": "7c8296bb-9c28-460d-f169-7cb38f9ed4e5",
        "colab": {
          "base_uri": "https://localhost:8080/"
        }
      },
      "execution_count": null,
      "outputs": [
        {
          "output_type": "execute_result",
          "data": {
            "text/plain": [
              "(200, 36, 'entropy')"
            ]
          },
          "metadata": {},
          "execution_count": 111
        }
      ]
    },
    {
      "cell_type": "markdown",
      "source": [
        "### validating RFC"
      ],
      "metadata": {
        "id": "sSQ66PJ9YH4d"
      }
    },
    {
      "cell_type": "code",
      "source": [
        "rfc = rfc_without_parameters(best_n_estimator,best_max_features,best_criterion)"
      ],
      "metadata": {
        "execution": {
          "iopub.status.busy": "2023-12-14T15:11:21.331059Z",
          "iopub.execute_input": "2023-12-14T15:11:21.331603Z",
          "iopub.status.idle": "2023-12-14T15:11:29.396817Z",
          "shell.execute_reply.started": "2023-12-14T15:11:21.331570Z",
          "shell.execute_reply": "2023-12-14T15:11:29.395617Z"
        },
        "trusted": true,
        "id": "kvyCsxn0YH4d"
      },
      "execution_count": null,
      "outputs": []
    },
    {
      "cell_type": "code",
      "source": [
        "#5 plis\n",
        "kfold = KFold(n_splits=5, shuffle=True, random_state=42)\n",
        "scores = cross_val_score(rfc, Xtrain, ytrain, cv=kfold, scoring='accuracy',n_jobs=-1)\n",
        "\n",
        "print(\"Scores de validation croisée :\", scores)\n",
        "print(\"Score moyen de validation croisée :\", scores.mean())\n"
      ],
      "metadata": {
        "id": "1YE38dpyyppQ",
        "outputId": "48193589-16d0-4c3e-f47f-ce44cfaefd27",
        "execution": {
          "iopub.status.busy": "2023-12-14T15:11:29.398552Z",
          "iopub.execute_input": "2023-12-14T15:11:29.399587Z",
          "iopub.status.idle": "2023-12-14T15:11:46.132411Z",
          "shell.execute_reply.started": "2023-12-14T15:11:29.399535Z",
          "shell.execute_reply": "2023-12-14T15:11:46.131054Z"
        },
        "trusted": true,
        "colab": {
          "base_uri": "https://localhost:8080/"
        }
      },
      "execution_count": null,
      "outputs": [
        {
          "output_type": "stream",
          "name": "stdout",
          "text": [
            "Scores de validation croisée : [0.90655808 0.90270039 0.91084441 0.90741535 0.91080617]\n",
            "Score moyen de validation croisée : 0.9076648783690491\n"
          ]
        }
      ]
    },
    {
      "cell_type": "code",
      "source": [
        "Model_CrossValidation_Scores[\"RFC\"] = scores.mean()"
      ],
      "metadata": {
        "execution": {
          "iopub.status.busy": "2023-12-14T15:11:46.133854Z",
          "iopub.execute_input": "2023-12-14T15:11:46.134204Z",
          "iopub.status.idle": "2023-12-14T15:11:46.139393Z",
          "shell.execute_reply.started": "2023-12-14T15:11:46.134173Z",
          "shell.execute_reply": "2023-12-14T15:11:46.138559Z"
        },
        "trusted": true,
        "id": "ZEQs6BFpYH4d"
      },
      "execution_count": null,
      "outputs": []
    },
    {
      "cell_type": "markdown",
      "source": [
        "## Logistic Regression"
      ],
      "metadata": {
        "id": "kAXYLGxCYH4d"
      }
    },
    {
      "cell_type": "markdown",
      "source": [
        "### trying with standard scaller"
      ],
      "metadata": {
        "id": "oFPRsliGYH4e"
      }
    },
    {
      "cell_type": "code",
      "source": [
        "scaler = StandardScaler()\n",
        "scaler.fit(Xtrain)\n",
        "scaled_Xtrain=scaler.transform(Xtrain)"
      ],
      "metadata": {
        "execution": {
          "iopub.status.busy": "2023-12-14T15:11:46.140842Z",
          "iopub.execute_input": "2023-12-14T15:11:46.141436Z",
          "iopub.status.idle": "2023-12-14T15:11:46.356043Z",
          "shell.execute_reply.started": "2023-12-14T15:11:46.141392Z",
          "shell.execute_reply": "2023-12-14T15:11:46.354979Z"
        },
        "trusted": true,
        "id": "KzD78396YH4e"
      },
      "execution_count": null,
      "outputs": []
    },
    {
      "cell_type": "code",
      "source": [
        "log_reg_scalled = LogisticRegression(random_state=0,max_iter=10000).fit(scaled_Xtrain, ytrain)"
      ],
      "metadata": {
        "execution": {
          "iopub.status.busy": "2023-12-14T15:11:46.357653Z",
          "iopub.execute_input": "2023-12-14T15:11:46.358268Z",
          "iopub.status.idle": "2023-12-14T15:11:46.804441Z",
          "shell.execute_reply.started": "2023-12-14T15:11:46.358235Z",
          "shell.execute_reply": "2023-12-14T15:11:46.802889Z"
        },
        "trusted": true,
        "id": "vfb7mkcbYH4e"
      },
      "execution_count": null,
      "outputs": []
    },
    {
      "cell_type": "code",
      "source": [
        "#5 plis\n",
        "kfold = KFold(n_splits=5, shuffle=True, random_state=42)\n",
        "scores = cross_val_score(log_reg_scalled, scaled_Xtrain, ytrain, cv=kfold, scoring='accuracy',n_jobs=-1)\n",
        "\n",
        "print(\"Scores de validation croisée :\", scores)\n",
        "print(\"Score moyen de validation croisée :\", scores.mean())"
      ],
      "metadata": {
        "execution": {
          "iopub.status.busy": "2023-12-14T15:11:46.806819Z",
          "iopub.execute_input": "2023-12-14T15:11:46.807765Z",
          "iopub.status.idle": "2023-12-14T15:11:48.411927Z",
          "shell.execute_reply.started": "2023-12-14T15:11:46.807704Z",
          "shell.execute_reply": "2023-12-14T15:11:48.411069Z"
        },
        "trusted": true,
        "id": "7PiqrejkYH4e",
        "outputId": "da2be8bb-b081-4550-abf7-17e0a303fadb",
        "colab": {
          "base_uri": "https://localhost:8080/"
        }
      },
      "execution_count": null,
      "outputs": [
        {
          "output_type": "stream",
          "name": "stdout",
          "text": [
            "Scores de validation croisée : [0.90184312 0.89327047 0.90270039 0.90270039 0.90909091]\n",
            "Score moyen de validation croisée : 0.9019210536570158\n"
          ]
        }
      ]
    },
    {
      "cell_type": "markdown",
      "source": [
        "### without scaling"
      ],
      "metadata": {
        "id": "XgaIX7ILYH4e"
      }
    },
    {
      "cell_type": "code",
      "source": [
        "log_reg = LogisticRegression(random_state=0,max_iter=10000).fit(Xtrain, ytrain)"
      ],
      "metadata": {
        "id": "tE18q1Gb5Ci2",
        "execution": {
          "iopub.status.busy": "2023-12-14T15:11:48.413275Z",
          "iopub.execute_input": "2023-12-14T15:11:48.413966Z",
          "iopub.status.idle": "2023-12-14T15:12:08.776528Z",
          "shell.execute_reply.started": "2023-12-14T15:11:48.413932Z",
          "shell.execute_reply": "2023-12-14T15:12:08.774942Z"
        },
        "trusted": true
      },
      "execution_count": null,
      "outputs": []
    },
    {
      "cell_type": "markdown",
      "source": [
        "### validating log_reg"
      ],
      "metadata": {
        "id": "SqxrdYfQYH4e"
      }
    },
    {
      "cell_type": "code",
      "source": [
        "#5 plis\n",
        "kfold = KFold(n_splits=5, shuffle=True, random_state=42)\n",
        "scores = cross_val_score(log_reg, Xtrain, ytrain, cv=kfold, scoring='accuracy',n_jobs=-1)\n",
        "\n",
        "print(\"Scores de validation croisée :\", scores)\n",
        "print(\"Score moyen de validation croisée :\", scores.mean())"
      ],
      "metadata": {
        "id": "9_TPFV-Bwc1m",
        "outputId": "e30b0a11-5c56-43c0-8698-9b0072d288ec",
        "execution": {
          "iopub.status.busy": "2023-12-14T15:12:08.778875Z",
          "iopub.execute_input": "2023-12-14T15:12:08.779789Z",
          "iopub.status.idle": "2023-12-14T15:12:41.730367Z",
          "shell.execute_reply.started": "2023-12-14T15:12:08.779727Z",
          "shell.execute_reply": "2023-12-14T15:12:41.729537Z"
        },
        "trusted": true,
        "colab": {
          "base_uri": "https://localhost:8080/"
        }
      },
      "execution_count": null,
      "outputs": [
        {
          "output_type": "stream",
          "name": "stdout",
          "text": [
            "Scores de validation croisée : [0.90055722 0.89284183 0.90270039 0.89798543 0.91252144]\n",
            "Score moyen de validation croisée : 0.901321262018073\n"
          ]
        }
      ]
    },
    {
      "cell_type": "code",
      "source": [
        "Model_CrossValidation_Scores[\"LRC\"] = scores.mean()"
      ],
      "metadata": {
        "execution": {
          "iopub.status.busy": "2023-12-14T15:12:41.731996Z",
          "iopub.execute_input": "2023-12-14T15:12:41.732446Z",
          "iopub.status.idle": "2023-12-14T15:12:41.738945Z",
          "shell.execute_reply.started": "2023-12-14T15:12:41.732402Z",
          "shell.execute_reply": "2023-12-14T15:12:41.737894Z"
        },
        "trusted": true,
        "id": "c3h4cDilYH4f"
      },
      "execution_count": null,
      "outputs": []
    },
    {
      "cell_type": "markdown",
      "source": [
        "## K nearest Neighbos"
      ],
      "metadata": {
        "id": "gRXIagq_bRZo"
      }
    },
    {
      "cell_type": "markdown",
      "source": [
        "### Finding the best k"
      ],
      "metadata": {
        "id": "Sj9Nidl3YH4f"
      }
    },
    {
      "cell_type": "code",
      "source": [
        "def find_best_k (model,Xtrain,Ytrain,k_values):\n",
        "  kfold = KFold(n_splits=5, shuffle=True, random_state=42)\n",
        "  best_so_far = 0\n",
        "  best_k=-1\n",
        "  for k in k_values:\n",
        "    if k < len(Ytrain):\n",
        "      scores = cross_val_score(model(k), Xtrain, ytrain, cv=kfold,scoring='accuracy',n_jobs=-1)\n",
        "      print(\"Scores de validation croisée pour k=:\",k,\"est: \", scores)\n",
        "      average_score=scores.mean()\n",
        "      print(\"average Score de validation croisée pour k=:\",k,\"est: \", average_score)\n",
        "      if (average_score > best_so_far):\n",
        "        best_so_far=average_score\n",
        "        best_k = k\n",
        "  return best_k\n"
      ],
      "metadata": {
        "id": "LzsxVdxrPYzG",
        "execution": {
          "iopub.status.busy": "2023-12-14T15:12:41.741126Z",
          "iopub.execute_input": "2023-12-14T15:12:41.741991Z",
          "iopub.status.idle": "2023-12-14T15:12:41.753223Z",
          "shell.execute_reply.started": "2023-12-14T15:12:41.741938Z",
          "shell.execute_reply": "2023-12-14T15:12:41.751904Z"
        },
        "trusted": true
      },
      "execution_count": null,
      "outputs": []
    },
    {
      "cell_type": "markdown",
      "source": [
        "**getting a range for K**"
      ],
      "metadata": {
        "id": "vIIXqOtdYH4g"
      }
    },
    {
      "cell_type": "code",
      "source": [
        "import math\n",
        "def sampled_range(mini, maxi, num):\n",
        "  if not num:\n",
        "    return []\n",
        "  lmini = math.log(mini)\n",
        "  lmaxi = math.log(maxi)\n",
        "  ldelta = (lmaxi - lmini) / (num - 1)\n",
        "  out = [x for x in set([int(math.exp(lmini + i * ldelta)) for i in range(num)])]\n",
        "  out.sort()\n",
        "  return out"
      ],
      "metadata": {
        "id": "w3Wx7cj0Q-2r",
        "execution": {
          "iopub.status.busy": "2023-12-14T15:12:41.755687Z",
          "iopub.execute_input": "2023-12-14T15:12:41.756638Z",
          "iopub.status.idle": "2023-12-14T15:12:41.766968Z",
          "shell.execute_reply.started": "2023-12-14T15:12:41.756580Z",
          "shell.execute_reply": "2023-12-14T15:12:41.766041Z"
        },
        "trusted": true
      },
      "execution_count": null,
      "outputs": []
    },
    {
      "cell_type": "code",
      "source": [
        "k_values = sampled_range(1, 1000, 10)"
      ],
      "metadata": {
        "execution": {
          "iopub.status.busy": "2023-12-14T15:12:41.768554Z",
          "iopub.execute_input": "2023-12-14T15:12:41.769563Z",
          "iopub.status.idle": "2023-12-14T15:12:41.777737Z",
          "shell.execute_reply.started": "2023-12-14T15:12:41.769520Z",
          "shell.execute_reply": "2023-12-14T15:12:41.776775Z"
        },
        "trusted": true,
        "id": "gQMDbe-XYH4i"
      },
      "execution_count": null,
      "outputs": []
    },
    {
      "cell_type": "markdown",
      "source": [
        "**Cross Validation to find the best K**"
      ],
      "metadata": {
        "id": "8SedCEE9YH4i"
      }
    },
    {
      "cell_type": "code",
      "source": [
        "missing_k_model = lambda x: KNeighborsClassifier(n_neighbors=x)\n",
        "best_k=find_best_k(missing_k_model,Xtrain,ytrain,k_values)"
      ],
      "metadata": {
        "id": "NQJifiFBPWu0",
        "outputId": "a2d54e02-a9cb-4f4d-cea2-35797f71df17",
        "execution": {
          "iopub.status.busy": "2023-12-14T15:12:41.779373Z",
          "iopub.execute_input": "2023-12-14T15:12:41.780191Z",
          "iopub.status.idle": "2023-12-14T15:13:08.181719Z",
          "shell.execute_reply.started": "2023-12-14T15:12:41.780155Z",
          "shell.execute_reply": "2023-12-14T15:13:08.180581Z"
        },
        "trusted": true,
        "colab": {
          "base_uri": "https://localhost:8080/"
        }
      },
      "execution_count": null,
      "outputs": [
        {
          "output_type": "stream",
          "name": "stdout",
          "text": [
            "Scores de validation croisée pour k=: 1 est:  [0.84954994 0.84054865 0.85083583 0.85469353 0.8464837 ]\n",
            "average Score de validation croisée pour k=: 1 est:  0.8484223303647642\n",
            "Scores de validation croisée pour k=: 2 est:  [0.87869696 0.8714102  0.88084012 0.88855551 0.88722127]\n",
            "average Score de validation croisée pour k=: 2 est:  0.8813448110818085\n",
            "Scores de validation croisée pour k=: 4 est:  [0.88084012 0.87355336 0.88169739 0.88941277 0.89150943]\n",
            "average Score de validation croisée pour k=: 4 est:  0.8834026154679779\n",
            "Scores de validation croisée pour k=: 9 est:  [0.88255465 0.87569653 0.88641234 0.88812688 0.88722127]\n",
            "average Score de validation croisée pour k=: 9 est:  0.8840023335850231\n",
            "Scores de validation croisée pour k=: 21 est:  [0.88469781 0.87869696 0.88512645 0.88898414 0.88893654]\n",
            "average Score de validation croisée pour k=: 21 est:  0.8852883786142446\n",
            "Scores de validation croisée pour k=: 46 est:  [0.87741106 0.88169739 0.88084012 0.88641234 0.89365352]\n",
            "average Score de validation croisée pour k=: 46 est:  0.8840028849992537\n",
            "Scores de validation croisée pour k=: 99 est:  [0.8752679  0.87355336 0.87869696 0.88384055 0.88250429]\n",
            "average Score de validation croisée pour k=: 99 est:  0.8787726107405198\n",
            "Scores de validation croisée pour k=: 215 est:  [0.8726961  0.8752679  0.8752679  0.87998285 0.8906518 ]\n",
            "average Score de validation croisée pour k=: 215 est:  0.8787733091985451\n",
            "Scores de validation croisée pour k=: 464 est:  [0.86712387 0.8714102  0.87183883 0.87955422 0.88893654]\n",
            "average Score de validation croisée pour k=: 464 est:  0.8757727335220886\n",
            "Scores de validation croisée pour k=: 999 est:  [0.86626661 0.86840977 0.86883841 0.87998285 0.8880789 ]\n",
            "average Score de validation croisée pour k=: 999 est:  0.8743153089500411\n"
          ]
        }
      ]
    },
    {
      "cell_type": "code",
      "source": [
        "best_k"
      ],
      "metadata": {
        "execution": {
          "iopub.status.busy": "2023-12-14T15:13:08.183263Z",
          "iopub.execute_input": "2023-12-14T15:13:08.184414Z",
          "iopub.status.idle": "2023-12-14T15:13:08.192353Z",
          "shell.execute_reply.started": "2023-12-14T15:13:08.184371Z",
          "shell.execute_reply": "2023-12-14T15:13:08.190841Z"
        },
        "trusted": true,
        "id": "6EvRHdswYH4j",
        "outputId": "4aac4090-c2dc-4c4c-c71d-24d26f011ffe",
        "colab": {
          "base_uri": "https://localhost:8080/"
        }
      },
      "execution_count": null,
      "outputs": [
        {
          "output_type": "execute_result",
          "data": {
            "text/plain": [
              "21"
            ]
          },
          "metadata": {},
          "execution_count": 125
        }
      ]
    },
    {
      "cell_type": "code",
      "source": [
        "knn_classifier = missing_k_model(best_k).fit(Xtrain, ytrain)"
      ],
      "metadata": {
        "execution": {
          "iopub.status.busy": "2023-12-14T15:13:08.194162Z",
          "iopub.execute_input": "2023-12-14T15:13:08.194956Z",
          "iopub.status.idle": "2023-12-14T15:13:08.242551Z",
          "shell.execute_reply.started": "2023-12-14T15:13:08.194919Z",
          "shell.execute_reply": "2023-12-14T15:13:08.241254Z"
        },
        "trusted": true,
        "id": "aic35amPYH4j"
      },
      "execution_count": null,
      "outputs": []
    },
    {
      "cell_type": "markdown",
      "source": [
        "### Validating Knn with best K"
      ],
      "metadata": {
        "id": "_zdh48wDYH4j"
      }
    },
    {
      "cell_type": "code",
      "source": [
        "kfold = KFold(n_splits=5, shuffle=True, random_state=42)\n",
        "scores = cross_val_score(knn_classifier, Xtrain, ytrain, cv=kfold, scoring='accuracy',n_jobs=-1)\n",
        "\n",
        "print(\"Scores de validation croisée :\", scores)\n",
        "print(\"Score moyen de validation croisée :\", scores.mean())"
      ],
      "metadata": {
        "id": "MRAMszcGRrI-",
        "outputId": "8903215f-0d9b-4a3d-e9f9-08426613427b",
        "execution": {
          "iopub.status.busy": "2023-12-14T15:13:08.244067Z",
          "iopub.execute_input": "2023-12-14T15:13:08.244421Z",
          "iopub.status.idle": "2023-12-14T15:13:10.542239Z",
          "shell.execute_reply.started": "2023-12-14T15:13:08.244389Z",
          "shell.execute_reply": "2023-12-14T15:13:10.541158Z"
        },
        "trusted": true,
        "colab": {
          "base_uri": "https://localhost:8080/"
        }
      },
      "execution_count": null,
      "outputs": [
        {
          "output_type": "stream",
          "name": "stdout",
          "text": [
            "Scores de validation croisée : [0.88469781 0.87869696 0.88512645 0.88898414 0.88893654]\n",
            "Score moyen de validation croisée : 0.8852883786142446\n"
          ]
        }
      ]
    },
    {
      "cell_type": "code",
      "source": [
        "Model_CrossValidation_Scores[\"KNN\"] = scores.mean()"
      ],
      "metadata": {
        "execution": {
          "iopub.status.busy": "2023-12-14T15:13:10.543532Z",
          "iopub.execute_input": "2023-12-14T15:13:10.544015Z",
          "iopub.status.idle": "2023-12-14T15:13:10.549039Z",
          "shell.execute_reply.started": "2023-12-14T15:13:10.543986Z",
          "shell.execute_reply": "2023-12-14T15:13:10.547951Z"
        },
        "trusted": true,
        "id": "kuTFBAv8YH4j"
      },
      "execution_count": null,
      "outputs": []
    },
    {
      "cell_type": "code",
      "source": [
        "Model_CrossValidation_Scores"
      ],
      "metadata": {
        "execution": {
          "iopub.status.busy": "2023-12-14T15:13:10.550817Z",
          "iopub.execute_input": "2023-12-14T15:13:10.551241Z",
          "iopub.status.idle": "2023-12-14T15:13:10.562444Z",
          "shell.execute_reply.started": "2023-12-14T15:13:10.551203Z",
          "shell.execute_reply": "2023-12-14T15:13:10.561203Z"
        },
        "trusted": true,
        "id": "p1h-NTR2YH4k",
        "outputId": "1d8a9776-318b-4302-b0ae-2717e0cd1023",
        "colab": {
          "base_uri": "https://localhost:8080/"
        }
      },
      "execution_count": null,
      "outputs": [
        {
          "output_type": "execute_result",
          "data": {
            "text/plain": [
              "{'RFC': 0.9076648783690491,\n",
              " 'LRC': 0.901321262018073,\n",
              " 'KNN': 0.8852883786142446}"
            ]
          },
          "metadata": {},
          "execution_count": 129
        }
      ]
    },
    {
      "cell_type": "markdown",
      "source": [
        "## SVM"
      ],
      "metadata": {
        "id": "jCSpMh7GYH4k"
      }
    },
    {
      "cell_type": "markdown",
      "source": [
        "reference : https://scikit-learn.org/stable/auto_examples/svm/plot_rbf_parameters.html"
      ],
      "metadata": {
        "id": "D1KQPsi2T-nc"
      }
    },
    {
      "cell_type": "markdown",
      "source": [
        "### Finding the Best kernel, C and Gamma"
      ],
      "metadata": {
        "id": "xwNPtcgaYH4k"
      }
    },
    {
      "cell_type": "code",
      "source": [
        "def find_best_C_Gamma (model,Xtrain,Ytrain,kernels,C_values,Gamma_values):\n",
        "  kfold = KFold(n_splits=5, shuffle=True, random_state=42)\n",
        "  best_so_far = 0\n",
        "  best_C=None\n",
        "  best_Gamma = None\n",
        "  best_kernel = None\n",
        "  for k in kernels:\n",
        "      if (k ==\"rbf\"):\n",
        "          for C in C_values:\n",
        "            for gamma in Gamma_values:\n",
        "              scores = cross_val_score(model(k,C,gamma), Xtrain, ytrain, cv=kfold,scoring='accuracy',n_jobs=-1)\n",
        "              print(\"Scores de validation croisée pour kernel,C,Gamma=:\",k,gamma,C,\"est: \", scores)\n",
        "              average_score=scores.mean()\n",
        "              print(\"average Score de validation croisée pour kernel,C,Gamma=:\",k,gamma,C,\"est: \", average_score)\n",
        "              if (average_score > best_so_far):\n",
        "                best_so_far=average_score\n",
        "                best_C = C\n",
        "                best_Gamma = gamma\n",
        "                best_kernel = k\n",
        "      else:\n",
        "        for C in C_values:\n",
        "          gamma = \"scale\"\n",
        "          scores = cross_val_score(model(k,C,gamma), Xtrain, ytrain, cv=kfold,scoring='accuracy',n_jobs=-1)\n",
        "          print(\"Scores de validation croisée pour kernel,C=:\",k,C,\"est: \", scores)\n",
        "          average_score=scores.mean()\n",
        "          print(\"average Score de validation croisée pour kernel,C=:\",k,C,\"est: \", average_score)\n",
        "          if (average_score > best_so_far):\n",
        "            best_so_far=average_score\n",
        "            best_C = C\n",
        "            best_Gamma = gamma\n",
        "            best_kernel = k\n",
        "  return best_kernel,best_C,best_Gamma"
      ],
      "metadata": {
        "id": "4pjyKEgaW0cf",
        "execution": {
          "iopub.status.busy": "2023-12-14T15:13:10.564090Z",
          "iopub.execute_input": "2023-12-14T15:13:10.565326Z",
          "iopub.status.idle": "2023-12-14T15:13:10.578277Z",
          "shell.execute_reply.started": "2023-12-14T15:13:10.565282Z",
          "shell.execute_reply": "2023-12-14T15:13:10.576954Z"
        },
        "trusted": true
      },
      "execution_count": null,
      "outputs": []
    },
    {
      "cell_type": "code",
      "source": [
        "C_range=[0.001, 0.01, 0.1, 1, 10, 100]\n",
        "gamma_range=[0.0001, 0.001, 0.01, 0.1]\n",
        "kernels= [\"linear\", \"rbf\"]\n",
        "\n",
        "SVM_missing_kernel_c_and_gamma = lambda k,c,gamma: SVC(kernel=k,C=c,gamma=gamma)\n",
        "\n",
        "best_kernel,best_C,best_Gamma = find_best_C_Gamma(SVM_missing_kernel_c_and_gamma,Xtrain,ytrain,kernels,C_range,gamma_range)"
      ],
      "metadata": {
        "id": "kWsh7CxlTV-a",
        "outputId": "ebb0d0a3-13ae-49b0-9658-1c052d150e6f",
        "execution": {
          "iopub.status.busy": "2023-12-14T15:13:10.580445Z",
          "iopub.execute_input": "2023-12-14T15:13:10.581267Z",
          "iopub.status.idle": "2023-12-14T15:41:01.051181Z",
          "shell.execute_reply.started": "2023-12-14T15:13:10.581223Z",
          "shell.execute_reply": "2023-12-14T15:41:01.050155Z"
        },
        "trusted": true,
        "colab": {
          "base_uri": "https://localhost:8080/"
        }
      },
      "execution_count": null,
      "outputs": [
        {
          "output_type": "stream",
          "name": "stdout",
          "text": [
            "Scores de validation croisée pour kernel,C=: linear 0.001 est:  [0.86840977 0.87098157 0.87183883 0.88126875 0.89150943]\n",
            "average Score de validation croisée pour kernel,C=: linear 0.001 est:  0.876801672476122\n",
            "Scores de validation croisée pour kernel,C=: linear 0.01 est:  [0.87312473 0.87655379 0.87826832 0.88512645 0.89622642]\n",
            "average Score de validation croisée pour kernel,C=: linear 0.01 est:  0.8818599422559018\n",
            "Scores de validation croisée pour kernel,C=: linear 0.1 est:  [0.90098586 0.89755679 0.90355765 0.90227175 0.90951973]\n",
            "average Score de validation croisée pour kernel,C=: linear 0.1 est:  0.9027783557415823\n",
            "Scores de validation croisée pour kernel,C=: linear 1 est:  [0.89027004 0.87998285 0.89455637 0.88812688 0.89708405]\n",
            "average Score de validation croisée pour kernel,C=: linear 1 est:  0.8900040363521668\n",
            "Scores de validation croisée pour kernel,C=: linear 10 est:  [0.87912559 0.86026575 0.88255465 0.87355336 0.87692967]\n",
            "average Score de validation croisée pour kernel,C=: linear 10 est:  0.8744858062300984\n",
            "Scores de validation croisée pour kernel,C=: linear 100 est:  [0.87612516 0.86369481 0.88384055 0.8726961  0.86663808]\n",
            "average Score de validation croisée pour kernel,C=: linear 100 est:  0.872598940255371\n",
            "Scores de validation croisée pour kernel,C,Gamma=: rbf 0.0001 0.001 est:  [0.86626661 0.86840977 0.86883841 0.87998285 0.8880789 ]\n",
            "average Score de validation croisée pour kernel,C,Gamma=: rbf 0.0001 0.001 est:  0.8743153089500411\n",
            "Scores de validation croisée pour kernel,C,Gamma=: rbf 0.001 0.001 est:  [0.86626661 0.86840977 0.86883841 0.87998285 0.8880789 ]\n",
            "average Score de validation croisée pour kernel,C,Gamma=: rbf 0.001 0.001 est:  0.8743153089500411\n",
            "Scores de validation croisée pour kernel,C,Gamma=: rbf 0.01 0.001 est:  [0.86626661 0.86840977 0.86883841 0.87998285 0.8880789 ]\n",
            "average Score de validation croisée pour kernel,C,Gamma=: rbf 0.01 0.001 est:  0.8743153089500411\n",
            "Scores de validation croisée pour kernel,C,Gamma=: rbf 0.1 0.001 est:  [0.86626661 0.86840977 0.86883841 0.87998285 0.8880789 ]\n",
            "average Score de validation croisée pour kernel,C,Gamma=: rbf 0.1 0.001 est:  0.8743153089500411\n",
            "Scores de validation croisée pour kernel,C,Gamma=: rbf 0.0001 0.01 est:  [0.86626661 0.86840977 0.86883841 0.87998285 0.8880789 ]\n",
            "average Score de validation croisée pour kernel,C,Gamma=: rbf 0.0001 0.01 est:  0.8743153089500411\n",
            "Scores de validation croisée pour kernel,C,Gamma=: rbf 0.001 0.01 est:  [0.86626661 0.86840977 0.86883841 0.87998285 0.8880789 ]\n",
            "average Score de validation croisée pour kernel,C,Gamma=: rbf 0.001 0.01 est:  0.8743153089500411\n",
            "Scores de validation croisée pour kernel,C,Gamma=: rbf 0.01 0.01 est:  [0.86626661 0.86840977 0.86883841 0.87998285 0.8880789 ]\n",
            "average Score de validation croisée pour kernel,C,Gamma=: rbf 0.01 0.01 est:  0.8743153089500411\n",
            "Scores de validation croisée pour kernel,C,Gamma=: rbf 0.1 0.01 est:  [0.86626661 0.86840977 0.86883841 0.87998285 0.8880789 ]\n",
            "average Score de validation croisée pour kernel,C,Gamma=: rbf 0.1 0.01 est:  0.8743153089500411\n",
            "Scores de validation croisée pour kernel,C,Gamma=: rbf 0.0001 0.1 est:  [0.87055294 0.87226747 0.87355336 0.87912559 0.88979417]\n",
            "average Score de validation croisée pour kernel,C,Gamma=: rbf 0.0001 0.1 est:  0.8770587050294123\n",
            "Scores de validation croisée pour kernel,C,Gamma=: rbf 0.001 0.1 est:  [0.86626661 0.86840977 0.86926704 0.87998285 0.88893654]\n",
            "average Score de validation croisée pour kernel,C,Gamma=: rbf 0.001 0.1 est:  0.8745725620690239\n",
            "Scores de validation croisée pour kernel,C,Gamma=: rbf 0.01 0.1 est:  [0.86626661 0.86840977 0.86883841 0.87998285 0.8880789 ]\n",
            "average Score de validation croisée pour kernel,C,Gamma=: rbf 0.01 0.1 est:  0.8743153089500411\n",
            "Scores de validation croisée pour kernel,C,Gamma=: rbf 0.1 0.1 est:  [0.86755251 0.8701243  0.86883841 0.88169739 0.88893654]\n",
            "average Score de validation croisée pour kernel,C,Gamma=: rbf 0.1 0.1 est:  0.8754298273926414\n",
            "Scores de validation croisée pour kernel,C,Gamma=: rbf 0.0001 1 est:  [0.87998285 0.87698243 0.87698243 0.88641234 0.89536878]\n",
            "average Score de validation croisée pour kernel,C,Gamma=: rbf 0.0001 1 est:  0.8831457667194309\n",
            "Scores de validation croisée pour kernel,C,Gamma=: rbf 0.001 1 est:  [0.88212602 0.87998285 0.87826832 0.88984141 0.89365352]\n",
            "average Score de validation croisée pour kernel,C,Gamma=: rbf 0.001 1 est:  0.8847744237905097\n",
            "Scores de validation croisée pour kernel,C,Gamma=: rbf 0.01 1 est:  [0.87912559 0.8726961  0.88255465 0.88598371 0.88979417]\n",
            "average Score de validation croisée pour kernel,C,Gamma=: rbf 0.01 1 est:  0.8820308439063949\n",
            "Scores de validation croisée pour kernel,C,Gamma=: rbf 0.1 1 est:  [0.8701243  0.87312473 0.87783969 0.88084012 0.89236707]\n",
            "average Score de validation croisée pour kernel,C,Gamma=: rbf 0.1 1 est:  0.8788591827747018\n",
            "Scores de validation croisée pour kernel,C,Gamma=: rbf 0.0001 10 est:  [0.88212602 0.88298328 0.87955422 0.88898414 0.8932247 ]\n",
            "average Score de validation croisée pour kernel,C,Gamma=: rbf 0.0001 10 est:  0.8853744727560933\n",
            "Scores de validation croisée pour kernel,C,Gamma=: rbf 0.001 10 est:  [0.8911273  0.88512645 0.88169739 0.89755679 0.89408233]\n",
            "average Score de validation croisée pour kernel,C,Gamma=: rbf 0.001 10 est:  0.8899180524931642\n",
            "Scores de validation croisée pour kernel,C,Gamma=: rbf 0.01 10 est:  [0.87955422 0.86712387 0.88255465 0.88684098 0.88507719]\n",
            "average Score de validation croisée pour kernel,C,Gamma=: rbf 0.01 10 est:  0.8802301823563623\n",
            "Scores de validation croisée pour kernel,C,Gamma=: rbf 0.1 10 est:  [0.86626661 0.87483926 0.88041149 0.88084012 0.8880789 ]\n",
            "average Score de validation croisée pour kernel,C,Gamma=: rbf 0.1 10 est:  0.8780872763739588\n",
            "Scores de validation croisée pour kernel,C,Gamma=: rbf 0.0001 100 est:  [0.8911273  0.89069867 0.88384055 0.89712816 0.8957976 ]\n",
            "average Score de validation croisée pour kernel,C,Gamma=: rbf 0.0001 100 est:  0.8917184567165561\n",
            "Scores de validation croisée pour kernel,C,Gamma=: rbf 0.001 100 est:  [0.89455637 0.88426918 0.89712816 0.89927132 0.89150943]\n",
            "average Score de validation croisée pour kernel,C,Gamma=: rbf 0.001 100 est:  0.8933468932219428\n",
            "Scores de validation croisée pour kernel,C,Gamma=: rbf 0.01 100 est:  [0.8752679  0.86112302 0.87741106 0.87955422 0.87221269]\n",
            "average Score de validation croisée pour kernel,C,Gamma=: rbf 0.01 100 est:  0.8731137773418747\n",
            "Scores de validation croisée pour kernel,C,Gamma=: rbf 0.1 100 est:  [0.85769396 0.86926704 0.87098157 0.86969567 0.88250429]\n",
            "average Score de validation croisée pour kernel,C,Gamma=: rbf 0.1 100 est:  0.8700285044396198\n"
          ]
        }
      ]
    },
    {
      "cell_type": "code",
      "source": [
        "best_kernel,best_C,best_Gamma"
      ],
      "metadata": {
        "execution": {
          "iopub.status.busy": "2023-12-14T15:41:01.052928Z",
          "iopub.execute_input": "2023-12-14T15:41:01.053291Z",
          "iopub.status.idle": "2023-12-14T15:41:01.059895Z",
          "shell.execute_reply.started": "2023-12-14T15:41:01.053260Z",
          "shell.execute_reply": "2023-12-14T15:41:01.058805Z"
        },
        "trusted": true,
        "id": "StHB-Ra1YH4k",
        "outputId": "95bfba11-682e-4f07-8acc-4c8274f920a0",
        "colab": {
          "base_uri": "https://localhost:8080/"
        }
      },
      "execution_count": null,
      "outputs": [
        {
          "output_type": "execute_result",
          "data": {
            "text/plain": [
              "('linear', 0.1, 'scale')"
            ]
          },
          "metadata": {},
          "execution_count": 132
        }
      ]
    },
    {
      "cell_type": "markdown",
      "source": [
        "best parameters : (\"linear\", 0.1, 'scale')"
      ],
      "metadata": {
        "id": "LkeJiWCyYH4l"
      }
    },
    {
      "cell_type": "code",
      "source": [
        "best_kernel,best_C,best_Gamma=(\"linear\", 0.1, 'scale')"
      ],
      "metadata": {
        "execution": {
          "iopub.status.busy": "2023-12-14T16:26:10.023870Z",
          "iopub.execute_input": "2023-12-14T16:26:10.024327Z",
          "iopub.status.idle": "2023-12-14T16:26:10.029759Z",
          "shell.execute_reply.started": "2023-12-14T16:26:10.024292Z",
          "shell.execute_reply": "2023-12-14T16:26:10.028736Z"
        },
        "trusted": true,
        "id": "_oftHI8uYH4l"
      },
      "execution_count": null,
      "outputs": []
    },
    {
      "cell_type": "code",
      "source": [
        "SVM_classifier = SVM_missing_kernel_c_and_gamma(best_kernel,best_C,best_Gamma).fit (Xtrain,ytrain)"
      ],
      "metadata": {
        "execution": {
          "iopub.status.busy": "2023-12-14T16:26:12.903365Z",
          "iopub.execute_input": "2023-12-14T16:26:12.903808Z",
          "iopub.status.idle": "2023-12-14T16:26:46.945111Z",
          "shell.execute_reply.started": "2023-12-14T16:26:12.903771Z",
          "shell.execute_reply": "2023-12-14T16:26:46.944229Z"
        },
        "trusted": true,
        "id": "f1IEVv13YH4l"
      },
      "execution_count": null,
      "outputs": []
    },
    {
      "cell_type": "markdown",
      "source": [
        "### Validating SVM"
      ],
      "metadata": {
        "id": "3Vli4XkpYH4l"
      }
    },
    {
      "cell_type": "code",
      "source": [
        "kfold = KFold(n_splits=5, shuffle=True, random_state=42)\n",
        "scores = cross_val_score(SVM_classifier, Xtrain, ytrain, cv=kfold, scoring='accuracy',n_jobs=-1,verbose=2)\n",
        "\n",
        "print(\"Scores de validation croisée :\", scores)\n",
        "print(\"Score moyen de validation croisée :\", scores.mean())"
      ],
      "metadata": {
        "execution": {
          "iopub.status.busy": "2023-12-14T16:56:44.570987Z",
          "iopub.execute_input": "2023-12-14T16:56:44.571439Z",
          "iopub.status.idle": "2023-12-14T16:59:32.549472Z",
          "shell.execute_reply.started": "2023-12-14T16:56:44.571404Z",
          "shell.execute_reply": "2023-12-14T16:59:32.548253Z"
        },
        "trusted": true,
        "id": "KvZ106TVYH4l",
        "outputId": "38824c91-e7d8-4bc6-9e72-464b2c0d64f6",
        "colab": {
          "base_uri": "https://localhost:8080/"
        }
      },
      "execution_count": null,
      "outputs": [
        {
          "output_type": "stream",
          "name": "stderr",
          "text": [
            "[Parallel(n_jobs=-1)]: Using backend LokyBackend with 2 concurrent workers.\n"
          ]
        },
        {
          "output_type": "stream",
          "name": "stdout",
          "text": [
            "Scores de validation croisée : [0.90098586 0.89755679 0.90355765 0.90227175 0.90951973]\n",
            "Score moyen de validation croisée : 0.9027783557415823\n"
          ]
        },
        {
          "output_type": "stream",
          "name": "stderr",
          "text": [
            "[Parallel(n_jobs=-1)]: Done   5 out of   5 | elapsed:  5.2min finished\n"
          ]
        }
      ]
    },
    {
      "cell_type": "code",
      "source": [
        "Model_CrossValidation_Scores[\"SVM\"] = scores.mean()"
      ],
      "metadata": {
        "execution": {
          "iopub.status.busy": "2023-12-14T17:06:34.335221Z",
          "iopub.execute_input": "2023-12-14T17:06:34.335752Z",
          "iopub.status.idle": "2023-12-14T17:06:34.341893Z",
          "shell.execute_reply.started": "2023-12-14T17:06:34.335712Z",
          "shell.execute_reply": "2023-12-14T17:06:34.340901Z"
        },
        "trusted": true,
        "id": "fMAdfmiDYH4l"
      },
      "execution_count": null,
      "outputs": []
    },
    {
      "cell_type": "code",
      "source": [
        "Model_CrossValidation_Scores"
      ],
      "metadata": {
        "execution": {
          "iopub.status.busy": "2023-12-14T17:06:38.783377Z",
          "iopub.execute_input": "2023-12-14T17:06:38.783809Z",
          "iopub.status.idle": "2023-12-14T17:06:38.791339Z",
          "shell.execute_reply.started": "2023-12-14T17:06:38.783773Z",
          "shell.execute_reply": "2023-12-14T17:06:38.790240Z"
        },
        "trusted": true,
        "id": "BlKGFiCJYH4l",
        "outputId": "5bd9d7c2-c51a-4c55-a903-7f9dbe507f0f",
        "colab": {
          "base_uri": "https://localhost:8080/"
        }
      },
      "execution_count": null,
      "outputs": [
        {
          "output_type": "execute_result",
          "data": {
            "text/plain": [
              "{'RFC': 0.9076648783690491,\n",
              " 'LRC': 0.901321262018073,\n",
              " 'KNN': 0.8852883786142446,\n",
              " 'SVM': 0.9027783557415823}"
            ]
          },
          "metadata": {},
          "execution_count": 137
        }
      ]
    },
    {
      "cell_type": "markdown",
      "source": [
        "# Results: Taking the best classifier and testing it on Test"
      ],
      "metadata": {
        "id": "Ffqpej2sYH4m"
      }
    },
    {
      "cell_type": "markdown",
      "source": [
        "## Ranking feature performance"
      ],
      "metadata": {
        "id": "l4w8P3ICYH4m"
      }
    },
    {
      "cell_type": "code",
      "source": [
        "#sorting the indices of the features based on their importance in descending order\n",
        "sorted_indices = np.argsort(rfc.feature_importances_)[::-1]\n",
        "\n",
        "#ranking of the top 10 features\n",
        "print('Ranking of the top 10 features:')\n",
        "\n",
        "for rank in range(10):\n",
        "    feature_index = sorted_indices[rank]\n",
        "    feature_name = df_selected.columns[feature_index]\n",
        "    feature_importance = rfc.feature_importances_[feature_index]\n",
        "    print(f'{rank+1}. Feature {feature_index} {feature_name} ({feature_importance})')"
      ],
      "metadata": {
        "execution": {
          "iopub.status.busy": "2023-12-14T17:07:59.413943Z",
          "iopub.execute_input": "2023-12-14T17:07:59.414367Z",
          "iopub.status.idle": "2023-12-14T17:07:59.669456Z",
          "shell.execute_reply.started": "2023-12-14T17:07:59.414332Z",
          "shell.execute_reply": "2023-12-14T17:07:59.668351Z"
        },
        "trusted": true,
        "id": "bHDJ5TQHYH4m",
        "outputId": "c9c5cb7e-3d8a-40be-8482-05928d71af00",
        "colab": {
          "base_uri": "https://localhost:8080/"
        }
      },
      "execution_count": null,
      "outputs": [
        {
          "output_type": "stream",
          "name": "stdout",
          "text": [
            "Ranking of the top 10 features:\n",
            "1. Feature 0 Year_of_Release (0.13579157976974013)\n",
            "2. Feature 4 User_Count (0.11267440107326987)\n",
            "3. Feature 1 Critic_Score (0.08839105403162598)\n",
            "4. Feature 2 Critic_Count (0.07919479482016975)\n",
            "5. Feature 3 User_Score (0.05377389731039293)\n",
            "6. Feature 78 Publisher_Namco Bandai Games (0.03323644015847033)\n",
            "7. Feature 18 Platform_NG (0.01663577908603426)\n",
            "8. Feature 82 Publisher_Sega (0.016109387194387415)\n",
            "9. Feature 36 Platform_XOne (0.013672472263433854)\n",
            "10. Feature 63 Publisher_Eidos Interactive (0.012972234285175315)\n"
          ]
        }
      ]
    },
    {
      "cell_type": "markdown",
      "source": [
        "## Accuracy on test"
      ],
      "metadata": {
        "id": "ic9nnWPYYn9n"
      }
    },
    {
      "cell_type": "code",
      "source": [
        "y_pred = rfc.predict(Xtest)\n",
        "accuracy = accuracy_score(ytest, y_pred)\n",
        "print(\"RFC_Accuracy:\", accuracy)"
      ],
      "metadata": {
        "execution": {
          "iopub.status.busy": "2023-12-14T17:08:03.585726Z",
          "iopub.execute_input": "2023-12-14T17:08:03.586149Z",
          "iopub.status.idle": "2023-12-14T17:08:03.846975Z",
          "shell.execute_reply.started": "2023-12-14T17:08:03.586116Z",
          "shell.execute_reply": "2023-12-14T17:08:03.845786Z"
        },
        "trusted": true,
        "id": "73OsfGyIYH4m",
        "outputId": "974687c8-44c6-44f2-b146-3aa5b631af03",
        "colab": {
          "base_uri": "https://localhost:8080/"
        }
      },
      "execution_count": null,
      "outputs": [
        {
          "output_type": "stream",
          "name": "stdout",
          "text": [
            "RFC_Accuracy: 0.9129825965193039\n"
          ]
        }
      ]
    },
    {
      "cell_type": "markdown",
      "source": [
        "# Interesting Results from Test : best 10 games of becoming hits through the years 2009-2016"
      ],
      "metadata": {
        "id": "9F-0mPduYH4m"
      }
    },
    {
      "cell_type": "code",
      "source": [
        "Test_tops= Xtest.copy()"
      ],
      "metadata": {
        "execution": {
          "iopub.status.busy": "2023-12-14T17:08:09.224877Z",
          "iopub.execute_input": "2023-12-14T17:08:09.225281Z",
          "iopub.status.idle": "2023-12-14T17:08:09.231181Z",
          "shell.execute_reply.started": "2023-12-14T17:08:09.225249Z",
          "shell.execute_reply": "2023-12-14T17:08:09.229936Z"
        },
        "trusted": true,
        "id": "2dLTBhhNYH4n"
      },
      "execution_count": null,
      "outputs": []
    },
    {
      "cell_type": "code",
      "source": [
        "preds = rfc.predict_proba(Test_tops) #predicting the probability"
      ],
      "metadata": {
        "execution": {
          "iopub.status.busy": "2023-12-14T17:08:11.203807Z",
          "iopub.execute_input": "2023-12-14T17:08:11.204285Z",
          "iopub.status.idle": "2023-12-14T17:08:11.538223Z",
          "shell.execute_reply.started": "2023-12-14T17:08:11.204242Z",
          "shell.execute_reply": "2023-12-14T17:08:11.537093Z"
        },
        "trusted": true,
        "id": "dyL4RbtyYH4n"
      },
      "execution_count": null,
      "outputs": []
    },
    {
      "cell_type": "code",
      "source": [
        "Test_tops [\"hit_probability\"] = preds[:,1]"
      ],
      "metadata": {
        "execution": {
          "iopub.status.busy": "2023-12-14T17:08:13.250634Z",
          "iopub.execute_input": "2023-12-14T17:08:13.251220Z",
          "iopub.status.idle": "2023-12-14T17:08:13.255836Z",
          "shell.execute_reply.started": "2023-12-14T17:08:13.251188Z",
          "shell.execute_reply": "2023-12-14T17:08:13.254992Z"
        },
        "trusted": true,
        "id": "dOVoEJdOYH4n"
      },
      "execution_count": null,
      "outputs": []
    },
    {
      "cell_type": "code",
      "source": [
        "original_top=original_data.copy()"
      ],
      "metadata": {
        "execution": {
          "iopub.status.busy": "2023-12-14T17:08:15.193460Z",
          "iopub.execute_input": "2023-12-14T17:08:15.193901Z",
          "iopub.status.idle": "2023-12-14T17:08:15.201674Z",
          "shell.execute_reply.started": "2023-12-14T17:08:15.193868Z",
          "shell.execute_reply": "2023-12-14T17:08:15.200438Z"
        },
        "trusted": true,
        "id": "9sat72iQYH4n"
      },
      "execution_count": null,
      "outputs": []
    },
    {
      "cell_type": "code",
      "source": [
        "original_top[\"hit_probability\"] = Test_tops [\"hit_probability\"]\n",
        "original_top.sort_values(['hit_probability'], ascending=[False], inplace=True)#sort by decreasing hit probability"
      ],
      "metadata": {
        "execution": {
          "iopub.status.busy": "2023-12-14T17:08:17.837736Z",
          "iopub.execute_input": "2023-12-14T17:08:17.838583Z",
          "iopub.status.idle": "2023-12-14T17:08:17.853295Z",
          "shell.execute_reply.started": "2023-12-14T17:08:17.838540Z",
          "shell.execute_reply": "2023-12-14T17:08:17.852120Z"
        },
        "trusted": true,
        "id": "cgtcMXd4YH4n"
      },
      "execution_count": null,
      "outputs": []
    },
    {
      "cell_type": "code",
      "source": [
        "#show top 10 for each year\n",
        "for year in range (2009,2017):\n",
        "    print (\"Year: \",year)\n",
        "    best_10_year = original_top[original_top['Year_of_Release'] == year].copy()\n",
        "    best_10_year = best_10_year[['Name',\"Platform\", 'hit_probability']]\n",
        "    print (best_10_year.head(10).reset_index(drop=True) ,\"\\n\")"
      ],
      "metadata": {
        "execution": {
          "iopub.status.busy": "2023-12-14T17:08:19.508242Z",
          "iopub.execute_input": "2023-12-14T17:08:19.508679Z",
          "iopub.status.idle": "2023-12-14T17:08:19.565780Z",
          "shell.execute_reply.started": "2023-12-14T17:08:19.508643Z",
          "shell.execute_reply": "2023-12-14T17:08:19.564370Z"
        },
        "trusted": true,
        "id": "pWxO8A0OYH4n",
        "outputId": "03d483e2-f41f-4d72-dea4-c4e7984391e1",
        "colab": {
          "base_uri": "https://localhost:8080/"
        }
      },
      "execution_count": null,
      "outputs": [
        {
          "output_type": "stream",
          "name": "stdout",
          "text": [
            "Year:  2009\n",
            "                               Name Platform  hit_probability\n",
            "0         New Super Mario Bros. Wii      Wii            0.975\n",
            "1        Uncharted 2: Among Thieves      PS3            0.975\n",
            "2               Assassin's Creed II      PS3            0.965\n",
            "3                      Halo 3: ODST     X360            0.950\n",
            "4             Batman: Arkham Asylum     X360            0.950\n",
            "5               Assassin's Creed II     X360            0.935\n",
            "6                    FIFA Soccer 10      PS3            0.890\n",
            "7                 Street Fighter IV      PS3            0.800\n",
            "8                 Street Fighter IV     X360            0.790\n",
            "9  Grand Theft Auto: Chinatown Wars       DS            0.745 \n",
            "\n",
            "Year:  2010\n",
            "                           Name Platform  hit_probability\n",
            "0    Battlefield: Bad Company 2     X360         0.975000\n",
            "1                God of War III      PS3         0.970000\n",
            "2           Red Dead Redemption      PS3         0.950000\n",
            "3                FIFA Soccer 11     X360         0.805000\n",
            "4                Disney Tangled      Wii         0.750833\n",
            "5          Xenoblade Chronicles      Wii         0.700000\n",
            "6  World of Warcraft: Cataclysm       PC         0.640000\n",
            "7              ModNation Racers      PS3         0.630000\n",
            "8                       Skate 3     X360         0.535000\n",
            "9                   Crackdown 2     X360         0.535000 \n",
            "\n",
            "Year:  2011\n",
            "                             Name Platform  hit_probability\n",
            "0                      L.A. Noire     X360            0.845\n",
            "1                      Dark Souls      PS3            0.830\n",
            "2  Call of Duty: Modern Warfare 3      PS3            0.815\n",
            "3             Batman: Arkham City      PS3            0.805\n",
            "4                      Dark Souls     X360            0.725\n",
            "5                  Star Fox 64 3D      3DS            0.725\n",
            "6                        Crysis 2      PS3            0.665\n",
            "7            Final Fantasy XIII-2      PS3            0.645\n",
            "8         Uncharted: Golden Abyss      PSV            0.640\n",
            "9            Fight Night Champion     X360            0.640 \n",
            "\n",
            "Year:  2012\n",
            "                              Name Platform  hit_probability\n",
            "0                    Borderlands 2     X360            0.895\n",
            "1                    Borderlands 2      PS3            0.830\n",
            "2             Assassin's Creed III     X360            0.830\n",
            "3  Pokemon Black 2/Pokemon White 2       DS            0.829\n",
            "4                   FIFA Soccer 13     X360            0.720\n",
            "5                    Darksiders II     X360            0.675\n",
            "6                    Mario Party 9      Wii            0.665\n",
            "7                     Gravity Rush      PSV            0.650\n",
            "8                          Journey      PS3            0.650\n",
            "9    Kingdoms of Amalur: Reckoning     X360            0.605 \n",
            "\n",
            "Year:  2013\n",
            "                                Name Platform  hit_probability\n",
            "0               Super Mario 3D World     WiiU         0.965000\n",
            "1                 Grand Theft Auto V      PS3         0.910000\n",
            "2  Final Fantasy XIV: A Realm Reborn      PS3         0.840000\n",
            "3                            FIFA 14      PS3         0.834167\n",
            "4                           Pikmin 3     WiiU         0.830000\n",
            "5              God of War: Ascension      PS3         0.825000\n",
            "6                  BioShock Infinite     X360         0.730000\n",
            "7                Pokemon X/Pokemon Y      3DS         0.717296\n",
            "8                           NBA 2K14      PS4         0.630000\n",
            "9                      Battlefield 4      PS3         0.620000 \n",
            "\n",
            "Year:  2014\n",
            "                             Name Platform  hit_probability\n",
            "0                      Watch Dogs      PS4         0.900000\n",
            "1              Grand Theft Auto V      PS4         0.895000\n",
            "2                Sunset Overdrive     XOne         0.880000\n",
            "3            inFAMOUS: Second Son      PS4         0.855000\n",
            "4                         Destiny      PS4         0.790000\n",
            "5                       DriveClub      PS4         0.760000\n",
            "6                   Dark Souls II      PS3         0.755000\n",
            "7  Captain Toad: Treasure Tracker     WiiU         0.720000\n",
            "8                         FIFA 15     XOne         0.716667\n",
            "9       Monster Hunter 4 Ultimate      3DS         0.710000 \n",
            "\n",
            "Year:  2015\n",
            "                                    Name Platform  hit_probability\n",
            "0                      Super Mario Maker     WiiU            0.935\n",
            "1                      Halo 5: Guardians     XOne            0.910\n",
            "2                        Mortal Kombat X      PS4            0.850\n",
            "3             Assassin's Creed Syndicate      PS4            0.825\n",
            "4  The Legend of Zelda: Majora's Mask 3D      3DS            0.825\n",
            "5                               Splatoon     WiiU            0.770\n",
            "6         Gears of War: Ultimate Edition     XOne            0.755\n",
            "7                          Madden NFL 16     XOne            0.695\n",
            "8                  Batman: Arkham Knight     XOne            0.610\n",
            "9                             Until Dawn      PS4            0.555 \n",
            "\n",
            "Year:  2016\n",
            "                             Name Platform  hit_probability\n",
            "0                  Dark Souls III      PS4           0.7550\n",
            "1       Tom Clancy's The Division      PS4           0.7350\n",
            "2  Call of Duty: Infinite Warfare      PS4           0.6900\n",
            "3                         FIFA 17      PS4           0.6875\n",
            "4                    Dishonored 2      PS4           0.5850\n",
            "5                        WWE 2K17      PS4           0.5850\n",
            "6                       Overwatch       PC           0.5400\n",
            "7  Call of Duty: Infinite Warfare     XOne           0.5100\n",
            "8                          ReCore     XOne           0.4850\n",
            "9                 EA Sports UFC 2      PS4           0.4450 \n",
            "\n"
          ]
        }
      ]
    }
  ]
}