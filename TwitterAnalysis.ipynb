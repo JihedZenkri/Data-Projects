{
  "cells": [
    {
      "cell_type": "markdown",
      "metadata": {
        "id": "d1iDOKQZNWsS"
      },
      "source": [
        "# Analyse de données Twitter\n",
        "\n",
        "Le jeu de données a été construit en 2021 en utilisant les librairies Twint et\n",
        "Tweepy. Twint permet d'effectuer une recherche sur Twitter avec des\n",
        "mots-clés et d’autres paramètres (nombre de like/retweet\n",
        "minimum - ici 15 pour les deux valeurs -, intervalle de date pour la recherche, etc…) et de\n",
        "récupérer les tweets contenant les mots-clés recherchés (ici \"Macron\", \"LREM\", \"gouvernement\", \"La république en marche\") au format csv ou json. Tout cela sans passer par l’A.P.I Twitter et donc sans être\n",
        "limité en termes de nombre de requêtes. Attention, depuis le rachat de Twitter par Elon Musk, de tels scraping sont devenus beaucoup plus compliqués."
      ]
    },
    {
      "cell_type": "code",
      "execution_count": null,
      "metadata": {
        "id": "IVeEKp5CNWsV"
      },
      "outputs": [],
      "source": [
        "import pandas as pd\n",
        "import json\n",
        "import numpy as np\n",
        "import re\n",
        "import ast\n",
        "import dask.dataframe as ddf\n",
        "import dask.multiprocessing\n",
        "import networkx as nx\n",
        "import matplotlib.pyplot as plt"
      ]
    },
    {
      "cell_type": "markdown",
      "metadata": {
        "id": "nE-ncHidNWsW"
      },
      "source": [
        "## Import des données"
      ]
    },
    {
      "cell_type": "markdown",
      "metadata": {
        "id": "xYdCte5gNWsX"
      },
      "source": [
        "### Extraction des tweets dans un dataframe tweets_df\n",
        "\n",
        "Le jeu de données comporte 12 fichiers par an pour les années 2016 à 2020. Commencez pour assembler ces fichiers en multithread avec Dask et convertissez l'ensemble des tweets en dataframe Pandas."
      ]
    },
    {
      "cell_type": "code",
      "execution_count": null,
      "metadata": {
        "id": "lXl2aolJNWsX",
        "outputId": "dda29d77-a407-4925-85e9-a66bd606541e"
      },
      "outputs": [
        {
          "name": "stdout",
          "output_type": "stream",
          "text": [
            "                   id     conversation_id               created_at  \\\n",
            "0  693583236950265858  693583236950265858  2016-01-31 00:55:04 CET   \n",
            "1  693545673539637249  693545673539637249  2016-01-30 22:25:48 CET   \n",
            "2  693470580142637057  693470580142637057  2016-01-30 17:27:25 CET   \n",
            "3  693469503716462592  693469503716462592  2016-01-30 17:23:08 CET   \n",
            "4  693446559980216320  693446559980216320  2016-01-30 15:51:58 CET   \n",
            "\n",
            "         date      time  timezone    user_id      username  \\\n",
            "0  2016-01-31  00:55:04       100   16870324         sympl   \n",
            "1  2016-01-30  22:25:48       100  342011546     ripisylve   \n",
            "2  2016-01-30  17:27:25       100  112485961   kh_bbcleeds   \n",
            "3  2016-01-30  17:23:08       100   65068197  officialbwfc   \n",
            "4  2016-01-30  15:51:58       100  267310445    dfasquelle   \n",
            "\n",
            "                 name place  ... geo source user_rt_id user_rt retweet_id  \\\n",
            "0  Hold ☀n, Pain Ends   NaN  ... NaN    NaN        NaN     NaN        NaN   \n",
            "1                   🐘   NaN  ... NaN    NaN        NaN     NaN        NaN   \n",
            "2    Katherine Hannah   NaN  ... NaN    NaN        NaN     NaN        NaN   \n",
            "3    Bolton Wanderers   NaN  ... NaN    NaN        NaN     NaN        NaN   \n",
            "4    Daniel Fasquelle   NaN  ... NaN    NaN        NaN     NaN        NaN   \n",
            "\n",
            "   reply_to  retweet_date  translate trans_src trans_dest  \n",
            "0        []           NaN        NaN       NaN        NaN  \n",
            "1        []           NaN        NaN       NaN        NaN  \n",
            "2        []           NaN        NaN       NaN        NaN  \n",
            "3        []           NaN        NaN       NaN        NaN  \n",
            "4        []           NaN        NaN       NaN        NaN  \n",
            "\n",
            "[5 rows x 36 columns]\n"
          ]
        }
      ],
      "source": [
        "dask.config.set(scheduler='processes', num_workers=8)\n",
        "\n",
        "dtypes = {'place': 'object'} # Il y a une erreur sans cette ligne\n",
        "\n",
        "df = ddf.read_csv('./tweets/*/*.csv', dtype=dtypes)\n",
        "\n",
        "tweets_df = df.compute()\n",
        "\n",
        "print(tweets_df.head())"
      ]
    },
    {
      "cell_type": "markdown",
      "metadata": {
        "id": "r3y8NZAdNWsZ"
      },
      "source": [
        "### Extraction des informations utilisateurs depuis les tweets minés dans un dataframe que vous appelerez user_df\n",
        "\n",
        "N'oubliez pas de retirer les duplicats ! (Un même utilisateur peut évidemment être l'auteur de plusieurs tweets...)"
      ]
    },
    {
      "cell_type": "code",
      "execution_count": null,
      "metadata": {
        "pycharm": {
          "name": "#%%\n"
        },
        "id": "_K_rY5x8NWsZ",
        "outputId": "04e19525-e56d-4ba6-d6d1-443eb12f3b8d"
      },
      "outputs": [
        {
          "name": "stdout",
          "output_type": "stream",
          "text": [
            "     user_id      username                name\n",
            "0   16870324         sympl  Hold ☀n, Pain Ends\n",
            "1  342011546     ripisylve                   🐘\n",
            "2  112485961   kh_bbcleeds    Katherine Hannah\n",
            "3   65068197  officialbwfc    Bolton Wanderers\n",
            "4  267310445    dfasquelle    Daniel Fasquelle\n"
          ]
        }
      ],
      "source": [
        "user_columns = ['user_id', 'username', 'name']\n",
        "user_data = tweets_df[user_columns]\n",
        "\n",
        "# Supprimer les duplicats\n",
        "user_df = user_data.drop_duplicates(subset='user_id')\n",
        "\n",
        "print(user_df.head())\n"
      ]
    },
    {
      "cell_type": "markdown",
      "metadata": {
        "id": "NO4m912JNWsZ"
      },
      "source": [
        "### Extraction des mentions depuis les tweets dans un dataframe mentions_df"
      ]
    },
    {
      "cell_type": "code",
      "execution_count": null,
      "metadata": {
        "id": "YFOnjLu9NWsa",
        "outputId": "0fe57100-6c15-45f7-f923-447f65d52a0c"
      },
      "outputs": [
        {
          "name": "stdout",
          "output_type": "stream",
          "text": [
            "                                               tweet           mentions\n",
            "0  Le gouvernement italien compte s'asseoir sur l...  [lamanifpourtous]\n",
            "1  La déclaration d'Emmanuel Macron au sujet des ...                 []\n",
            "2  Crowd at Macron today 17,336 with 6,630 Leeds ...         [WYSdaily]\n",
            "3  17,336 in attendance at Macron Stadium for thi...                 []\n",
            "4  Ouvrez les yeux,  monsieur Cazeneuve, le gouve...                 []\n"
          ]
        }
      ],
      "source": [
        "mentions = tweets_df['tweet'].str.findall(r'@(\\w+)')\n",
        "\n",
        "mentions_df = pd.DataFrame({'tweet': tweets_df['tweet'], 'mentions': mentions})\n",
        "\n",
        "print(mentions_df.head())"
      ]
    },
    {
      "cell_type": "markdown",
      "metadata": {
        "id": "kpwHmzT5NWsa"
      },
      "source": [
        "### Extraction des Hashtags dans un dataframe hashtags_df"
      ]
    },
    {
      "cell_type": "code",
      "execution_count": null,
      "metadata": {
        "id": "72mcFTIgNWsb",
        "outputId": "b1414ab9-4bb6-4a73-ee82-9e9ee8f5e7b1"
      },
      "outputs": [
        {
          "name": "stdout",
          "output_type": "stream",
          "text": [
            "                                               tweet                  hashtags\n",
            "0  Le gouvernement italien compte s'asseoir sur l...                        []\n",
            "1  La déclaration d'Emmanuel Macron au sujet des ...                   [taxis]\n",
            "2  Crowd at Macron today 17,336 with 6,630 Leeds ...              [bwfc, lufc]\n",
            "3  17,336 in attendance at Macron Stadium for thi...  [EmiratesFACup, BOLvLEE]\n",
            "4  Ouvrez les yeux,  monsieur Cazeneuve, le gouve...                        []\n"
          ]
        }
      ],
      "source": [
        "hashtags = tweets_df['tweet'].apply(lambda x: re.findall(r'#(\\w+)', x))\n",
        "\n",
        "hashtags_df = pd.DataFrame({'tweet': tweets_df['tweet'], 'hashtags': hashtags})\n",
        "\n",
        "print(hashtags_df.head())\n"
      ]
    },
    {
      "cell_type": "markdown",
      "metadata": {
        "id": "YjouXdUpNWsb"
      },
      "source": [
        "### Extraction des tweets étant des réponses dans un dataframe reply_to_df"
      ]
    },
    {
      "cell_type": "code",
      "execution_count": null,
      "metadata": {
        "id": "EHx5F7GGNWsb",
        "outputId": "ff5081b6-6230-4627-842f-fdde211325de"
      },
      "outputs": [
        {
          "name": "stdout",
          "output_type": "stream",
          "text": [
            "                   id     conversation_id               created_at  \\\n",
            "0  693583236950265858  693583236950265858  2016-01-31 00:55:04 CET   \n",
            "1  693545673539637249  693545673539637249  2016-01-30 22:25:48 CET   \n",
            "2  693470580142637057  693470580142637057  2016-01-30 17:27:25 CET   \n",
            "3  693469503716462592  693469503716462592  2016-01-30 17:23:08 CET   \n",
            "4  693446559980216320  693446559980216320  2016-01-30 15:51:58 CET   \n",
            "\n",
            "         date      time  timezone    user_id      username  \\\n",
            "0  2016-01-31  00:55:04       100   16870324         sympl   \n",
            "1  2016-01-30  22:25:48       100  342011546     ripisylve   \n",
            "2  2016-01-30  17:27:25       100  112485961   kh_bbcleeds   \n",
            "3  2016-01-30  17:23:08       100   65068197  officialbwfc   \n",
            "4  2016-01-30  15:51:58       100  267310445    dfasquelle   \n",
            "\n",
            "                 name place  ... source user_rt_id user_rt retweet_id  \\\n",
            "0  Hold ☀n, Pain Ends   NaN  ...    NaN        NaN     NaN        NaN   \n",
            "1                   🐘   NaN  ...    NaN        NaN     NaN        NaN   \n",
            "2    Katherine Hannah   NaN  ...    NaN        NaN     NaN        NaN   \n",
            "3    Bolton Wanderers   NaN  ...    NaN        NaN     NaN        NaN   \n",
            "4    Daniel Fasquelle   NaN  ...    NaN        NaN     NaN        NaN   \n",
            "\n",
            "  reply_to  retweet_date  translate  trans_src trans_dest  \\\n",
            "0       []           NaN        NaN        NaN        NaN   \n",
            "1       []           NaN        NaN        NaN        NaN   \n",
            "2       []           NaN        NaN        NaN        NaN   \n",
            "3       []           NaN        NaN        NaN        NaN   \n",
            "4       []           NaN        NaN        NaN        NaN   \n",
            "\n",
            "                       links  \n",
            "0  [https://t.co/Cm85kIG640]  \n",
            "1  [https://t.co/O5MEInKRfF]  \n",
            "2  [https://t.co/Xpkq6Yu0Io]  \n",
            "3                         []  \n",
            "4  [https://t.co/SjxLwuHMhb]  \n",
            "\n",
            "[5 rows x 37 columns]\n"
          ]
        }
      ],
      "source": [
        "reply_tweets = tweets_df[tweets_df['reply_to'].notnull()]\n",
        "\n",
        "reply_to_df = pd.DataFrame(reply_tweets)\n",
        "\n",
        "print(reply_to_df.head())"
      ]
    },
    {
      "cell_type": "markdown",
      "metadata": {
        "id": "iRgTMOHcNWsc"
      },
      "source": [
        "### Extraction des liens des tweets dans un dataframe tweets_df"
      ]
    },
    {
      "cell_type": "code",
      "execution_count": null,
      "metadata": {
        "id": "wRe19fbYNWsc",
        "outputId": "7b7f0f07-0ae3-4f2f-d936-ff6fab489b21"
      },
      "outputs": [
        {
          "name": "stdout",
          "output_type": "stream",
          "text": [
            "                                               tweet  \\\n",
            "0  Le gouvernement italien compte s'asseoir sur l...   \n",
            "1  La déclaration d'Emmanuel Macron au sujet des ...   \n",
            "2  Crowd at Macron today 17,336 with 6,630 Leeds ...   \n",
            "3  17,336 in attendance at Macron Stadium for thi...   \n",
            "4  Ouvrez les yeux,  monsieur Cazeneuve, le gouve...   \n",
            "\n",
            "                       links  \n",
            "0  [https://t.co/Cm85kIG640]  \n",
            "1  [https://t.co/O5MEInKRfF]  \n",
            "2  [https://t.co/Xpkq6Yu0Io]  \n",
            "3                         []  \n",
            "4  [https://t.co/SjxLwuHMhb]  \n"
          ]
        }
      ],
      "source": [
        "tweets_df['links'] = tweets_df['tweet'].apply(lambda x: re.findall(r'(https?://\\S+)', x))\n",
        "\n",
        "print(tweets_df[['tweet', 'links']].head())\n"
      ]
    },
    {
      "cell_type": "markdown",
      "metadata": {
        "id": "YA7YUpXNNWsc"
      },
      "source": [
        "### Extraction des liens des tweets dans un dataframe link_df"
      ]
    },
    {
      "cell_type": "code",
      "execution_count": null,
      "metadata": {
        "id": "UjWXrFwiNWsc"
      },
      "outputs": [],
      "source": [
        "#link"
      ]
    },
    {
      "cell_type": "markdown",
      "metadata": {
        "id": "yq3FLvNTNWsd"
      },
      "source": [
        "### Écriture sur disque\n",
        "\n",
        "Persistez maintenant les données sur disque en utilisant les formats csv, puis parquet, comparez la taille des fichiers obtenus. Comment expliquez-vous les différences ? Pour parquet, expliquez vos décisions quant aux buckets et au partitionnement. Veillez à bien utiliser toutes les ressources de votre machine."
      ]
    },
    {
      "cell_type": "code",
      "execution_count": null,
      "metadata": {
        "id": "fL9HxL0FNWsd"
      },
      "outputs": [],
      "source": [
        "tweets_df.to_csv('tweets.csv', index=False)\n",
        "mentions_df.to_csv('mentions.csv', index=False)\n",
        "hashtags_df.to_csv('hashtags.csv', index=False)\n",
        "reply_to_df.to_csv('reply_to.csv', index=False)\n",
        "link_df.to_csv('link.csv', index=False)\n",
        "\n",
        "tweets_df.to_parquet('tweets.parquet', engine='pyarrow')\n",
        "mentions_df.to_parquet('mentions.parquet', engine='pyarrow')\n",
        "hashtags_df.to_parquet('hashtags.parquet', engine='pyarrow')\n",
        "reply_to_df.to_parquet('reply_to.parquet', engine='pyarrow')\n",
        "link_df.to_parquet('link.parquet', engine='pyarrow')\n",
        "\n",
        "# Parquet utilise moins de place grâce au stockage par colonnes (csv stocke de manière séquentielle), les valeurs similaires sont regroupées\n",
        "# Parquet utilise des techniques de compression et peut utiliser des types de données, qui permettent un meilleur stockage en terme d'espace"
      ]
    },
    {
      "cell_type": "markdown",
      "metadata": {
        "id": "PTvfXc_INWsd"
      },
      "source": [
        "### Exploration des données avec SparkSQL\n",
        "\n",
        "\n",
        "Faites parler vos données à l'aide d'une dizaine de requêtes, soyez créatifs. Exemples de requêtes :\n",
        "- Quels sont les utilisateurs possédant le plus de retweets en moyenne\n",
        "- Quels utilisateurs posséde le plus grand nombre de like en moyenne sur l'ensemble de ses tweets utilisant un hashtag \"LREM\"\n",
        "\n",
        "Essayez également d'émuler une requête CTE récursive (e.g., les utilisateurs utilisant le hashtagf LREM mais ne suivant Macron à aucun degré de distance). Vous pouvez par exemple vous inspirer de https://medium.com/globant/how-to-implement-recursive-queries-in-spark-3d26f7ed3bc9.\n",
        "\n",
        "Utilisez EXPLAIN pour analyser :\n",
        "- parsed logical plan\n",
        "- analyzed logical plan\n",
        "- optimized logical plan\n",
        "- physical plan\n",
        "Expliquez en quoi ces plans différent de ceux obtenus avec SGBD relationnel. Commentez les opérations de shuffle."
      ]
    },
    {
      "cell_type": "code",
      "execution_count": null,
      "metadata": {
        "id": "QQ3ZwMBnNWsd"
      },
      "outputs": [],
      "source": []
    },
    {
      "cell_type": "markdown",
      "metadata": {
        "id": "wmW0zMRcNWse"
      },
      "source": [
        "### Utilisez matpolib pour visualisez des statistiques intéressantes\n",
        "\n",
        "Soyez créatifs..."
      ]
    },
    {
      "cell_type": "markdown",
      "metadata": {
        "id": "YKvoGm6gNWse"
      },
      "source": [
        "### Visualisation de sous graphe et analyse de données avec NetworkX\n",
        "\n",
        "La librairie NetworkX permet de manipuler des graphes. Voici un exemple simple de création et visualisation de graphe :"
      ]
    },
    {
      "cell_type": "code",
      "execution_count": null,
      "metadata": {
        "id": "0RVDoM4KNWse"
      },
      "outputs": [],
      "source": [
        "from pyspark.sql import SparkSession\n",
        "\n",
        "# Code to check that pyspark works as expected\n",
        "spark = SparkSession.builder \\\n",
        "    .appName(\"PySpark Example\") \\\n",
        "    .getOrCreate()\n",
        "data = [(\"Alice\", 25), (\"Bob\", 30), (\"Charlie\", 35), (\"Dave\", 40)]\n",
        "df = spark.createDataFrame(data, [\"name\", \"age\"])\n",
        "df.show()\n",
        "df_filtered = df.filter(df.age > 30)\n",
        "df_filtered.show()"
      ]
    },
    {
      "cell_type": "code",
      "execution_count": null,
      "metadata": {
        "id": "MxmTnjo-NWse",
        "outputId": "e463f6ec-a535-4a36-dcb9-38f8bed5bd7c"
      },
      "outputs": [
        {
          "name": "stdout",
          "output_type": "stream",
          "text": [
            "Nodes: ['Alice', 'Bob', 'Charlie', 'Dave']\n",
            "Edges: [('Alice', 'Bob'), ('Bob', 'Charlie'), ('Charlie', 'Dave')]\n"
          ]
        },
        {
          "data": {
            "image/png": "[encoded data removed]",
            "text/plain": [
              "<Figure size 640x480 with 1 Axes>"
            ]
          },
          "metadata": {},
          "output_type": "display_data"
        }
      ],
      "source": [
        "import networkx as nx\n",
        "import matplotlib.pyplot as plt\n",
        "\n",
        "# Code to check that NetworkX works as expected\n",
        "G = nx.Graph()\n",
        "\n",
        "G.add_node(\"Alice\")\n",
        "G.add_node(\"Bob\")\n",
        "G.add_node(\"Charlie\")\n",
        "G.add_node(\"Dave\")\n",
        "\n",
        "G.add_edge(\"Alice\", \"Bob\")\n",
        "G.add_edge(\"Bob\", \"Charlie\")\n",
        "G.add_edge(\"Charlie\", \"Dave\")\n",
        "\n",
        "print(\"Nodes:\", G.nodes)\n",
        "print(\"Edges:\", G.edges)\n",
        "\n",
        "nx.draw(G, with_labels=True)\n",
        "plt.show()"
      ]
    },
    {
      "cell_type": "markdown",
      "metadata": {
        "id": "p_yB-nXDNWsf"
      },
      "source": [
        "Importez et visualisez quelques sous graphes intéressants. Par exemple, visualisez le sous graphe des utilisateurs ayant \"zemmour\" dans leur nom. Selon la référence (Eric ou Michael) vous devriez pouvoir constater deux régions assez différentes."
      ]
    },
    {
      "cell_type": "code",
      "execution_count": null,
      "metadata": {
        "id": "i0to6IayNWsf"
      },
      "outputs": [],
      "source": []
    },
    {
      "cell_type": "markdown",
      "metadata": {
        "id": "n6vIaBytNWsf"
      },
      "source": [
        "## Analysez maintenant vos données au moyen des algorithmes de la librairie\n",
        "\n",
        "Vous pouvez par exemple utiliser Pagerank, Louvain, strongly connected components, etc."
      ]
    },
    {
      "cell_type": "code",
      "execution_count": null,
      "metadata": {
        "id": "qu0uB9wqNWsf"
      },
      "outputs": [],
      "source": []
    },
    {
      "cell_type": "markdown",
      "metadata": {
        "id": "6z14BhS2NWsf"
      },
      "source": [
        "Pour les M2 ayant suivi Bases de données spécialisées, importez les données dans neo4j avec le plugging GDS et comparez."
      ]
    }
  ],
  "metadata": {
    "kernelspec": {
      "display_name": "Python 3 (ipykernel)",
      "language": "python",
      "name": "python3"
    },
    "language_info": {
      "codemirror_mode": {
        "name": "ipython",
        "version": 3
      },
      "file_extension": ".py",
      "mimetype": "text/x-python",
      "name": "python",
      "nbconvert_exporter": "python",
      "pygments_lexer": "ipython3",
      "version": "3.10.6"
    },
    "colab": {
      "provenance": []
    }
  },
  "nbformat": 4,
  "nbformat_minor": 0
}